{
 "cells": [
  {
   "cell_type": "markdown",
   "id": "fe88e1c1",
   "metadata": {},
   "source": [
    "# 最初と最後を固定するSA"
   ]
  },
  {
   "cell_type": "markdown",
   "id": "5b9a260d",
   "metadata": {},
   "source": [
    "### パッケージ"
   ]
  },
  {
   "cell_type": "code",
   "execution_count": 1,
   "id": "bf539a6a",
   "metadata": {},
   "outputs": [],
   "source": [
    "ex_num = \"002\""
   ]
  },
  {
   "cell_type": "code",
   "execution_count": 2,
   "id": "b32508c5",
   "metadata": {},
   "outputs": [],
   "source": [
    "import os\n",
    "# 環境によって変更\n",
    "os.chdir('/home/jovyan/work/notebook')\n",
    "\n",
    "# path = \"../../output\"\n",
    "path = \"../model\""
   ]
  },
  {
   "cell_type": "code",
   "execution_count": 3,
   "id": "6806febe",
   "metadata": {},
   "outputs": [],
   "source": [
    "import numpy as np\n",
    "import pandas as pd\n",
    "import os\n",
    "import time\n",
    "import csv\n",
    "\n",
    "from tqdm.notebook import tqdm\n",
    "\n",
    "import random\n",
    "from typing import List, Callable\n",
    "import itertools, math\n",
    "from typing import List, Tuple\n",
    "\n",
    "from utils import PerplexityCalculator"
   ]
  },
  {
   "cell_type": "markdown",
   "id": "8ea9236c",
   "metadata": {},
   "source": [
    "### データ読み込み"
   ]
  },
  {
   "cell_type": "code",
   "execution_count": 4,
   "id": "6f960148",
   "metadata": {},
   "outputs": [],
   "source": [
    "df = pd.read_csv(\"../input/sample_submission.csv\")"
   ]
  },
  {
   "cell_type": "code",
   "execution_count": 5,
   "id": "ec832545",
   "metadata": {},
   "outputs": [],
   "source": [
    "sub_df = df.copy()\n",
    "sub_df[\"best_value\"] = 0"
   ]
  },
  {
   "cell_type": "code",
   "execution_count": null,
   "id": "3d9e3929",
   "metadata": {},
   "outputs": [],
   "source": [
    "df"
   ]
  },
  {
   "cell_type": "markdown",
   "id": "2b855d16",
   "metadata": {},
   "source": [
    "### 関数"
   ]
  },
  {
   "cell_type": "code",
   "execution_count": 7,
   "id": "c0af6476",
   "metadata": {},
   "outputs": [],
   "source": [
    "def simulated_annealing(\n",
    "    scorer,\n",
    "    pattern_df,\n",
    "    max_iterations: int = 1000,\n",
    "    BATCH_SIZE: int = 32,\n",
    "    initial_temperature: float = 100.0,\n",
    "    cooling_rate: float = 0.99\n",
    ") -> Tuple[List[str], float]:\n",
    "    \"\"\"\n",
    "    焼きなまし法で最適な順序を探索する。\n",
    "\n",
    "    Args:\n",
    "        scorer: 評価関数を提供するオブジェクト。\n",
    "        pattern_df: パターンのデータフレーム。\n",
    "        max_iterations (int): 最大反復回数。\n",
    "        BATCH_SIZE (int): バッチサイズ。\n",
    "        initial_temperature (float): 初期温度。\n",
    "        cooling_rate (float): 冷却率。\n",
    "\n",
    "    Returns:\n",
    "        solution_df: 最適な順序のデータフレーム。\n",
    "    \"\"\"\n",
    "    \n",
    "    solution_df = pattern_df.copy()\n",
    "    solution_df[\"score\"] = solution_df[\"score\"].astype(float)\n",
    "    \n",
    "    words_len = len(solution_df.iloc[0][\"text\"].split())\n",
    "    pattern_len = len(solution_df)\n",
    "    \n",
    "    temperature = initial_temperature\n",
    "    \n",
    "    perms = []\n",
    "\n",
    "    for iteration in tqdm(range(max_iterations)):\n",
    "        # 1行ずつ処理する\n",
    "        for idx in range(pattern_len):\n",
    "            current_sequence = solution_df.iloc[idx][\"text\"].split()\n",
    "            \n",
    "            neighbor_sequence = current_sequence[:]\n",
    "            # 最初と最後の単語を固定し、ランダムに交換する\n",
    "            i, j = random.sample(range(1, words_len - 1), 2)\n",
    "            neighbor_sequence[i], neighbor_sequence[j] = neighbor_sequence[j], neighbor_sequence[i]\n",
    "            \n",
    "            perms.append(\" \".join(neighbor_sequence))\n",
    "        \n",
    "        # 評価値をまとめて計算\n",
    "        neighbor_values = scorer.get_perplexity(perms, batch_size=min(pattern_len, BATCH_SIZE))\n",
    "\n",
    "        print(f\"neighbor_values = {neighbor_values}\")\n",
    "        # 焼きなましによる評価値更新\n",
    "        for idx in range(pattern_len):\n",
    "            perm = perms[idx]\n",
    "            neighbor_value = neighbor_values[idx]\n",
    "            current_value = solution_df.iloc[idx][\"score\"]\n",
    "            # print(f\"current_value = {current_value}, neighbor_value = {neighbor_value}\")\n",
    "            \n",
    "            # 確率的に次の状態を受け入れるかを決定\n",
    "            delta = neighbor_value - current_value\n",
    "            acceptance_probability = math.exp(-delta / temperature) if delta > 0 else 1.0\n",
    "\n",
    "            # ベスト解を更新\n",
    "            if (random.random() < acceptance_probability) or (neighbor_value < current_value):\n",
    "                current_sequence = perm.split(\" \")\n",
    "                current_value = neighbor_value\n",
    "                \n",
    "                solution_df.loc[solution_df.index[idx], \"text\"] = perm\n",
    "                solution_df.loc[solution_df.index[idx], \"score\"] = current_value\n",
    "                start_word = solution_df.iloc[idx][\"start\"]\n",
    "                end_word = solution_df.iloc[idx][\"end\"]\n",
    "                print(f\"start_word = {start_word}, end_word = {end_word}, New best = {current_value} with '{current_sequence}'\")\n",
    "\n",
    "        # バッチリセット\n",
    "        perms = []\n",
    "\n",
    "        # 温度を更新\n",
    "        temperature *= cooling_rate\n",
    "                    \n",
    "        # 温度が非常に低くなったら終了\n",
    "        if temperature < 1e-5:\n",
    "            break\n",
    "\n",
    "        # iteration1000回ごとに現在の温度を表示\n",
    "        if iteration % 1000 == 0:\n",
    "            print(f\"Iteration {iteration}, Temperature = {temperature}\")\n",
    "            \n",
    "    return solution_df\n",
    "     "
   ]
  },
  {
   "cell_type": "code",
   "execution_count": 8,
   "id": "22fbd618",
   "metadata": {},
   "outputs": [],
   "source": [
    "def search_optimal_permutation(id: int, scorer, max_iterations: int = 1000, BATCH_SIZE=64):\n",
    "    \n",
    "    df = pd.read_csv(\"../input/sample_submission.csv\")\n",
    "    \n",
    "    # 文字列を単語に分割\n",
    "    words = df.loc[id,\"text\"].split()\n",
    "    \n",
    "    # データをタプルのリストとして準備\n",
    "    pattern_data = []\n",
    "    \n",
    "    words_len = len(words)\n",
    "    for i in range(0, words_len):\n",
    "        for j in range(0, words_len):\n",
    "            if i == j:\n",
    "                continue\n",
    "            new_words = words.copy()\n",
    "            new_words[i], new_words[0] = new_words[0], new_words[i]\n",
    "            \n",
    "            if j == 0:\n",
    "                new_words[i], new_words[words_len-1] = new_words[words_len-1], new_words[i]\n",
    "            else:\n",
    "                new_words[j], new_words[words_len-1] = new_words[words_len-1], new_words[j]\n",
    "                \n",
    "            # new_wordsのs番目からt番目までの要素をランダムな順番にする\n",
    "            new_words[1:words_len-1] = random.sample(new_words[1:words_len-1], len(new_words[1:words_len-1]))\n",
    "    \n",
    "            # データを追加\n",
    "            pattern_data.append((new_words[0], new_words[words_len-1], \" \".join(new_words), 10000))\n",
    "            \n",
    "    pattern_df = pd.DataFrame(pattern_data, columns=[\"start\", \"end\", \"text\", \"score\"])        \n",
    "\n",
    "    start = time.time()\n",
    "    \n",
    "    # SAで最適な順序を探索\n",
    "    solutions_df = simulated_annealing(\n",
    "        scorer,\n",
    "        pattern_df,\n",
    "        max_iterations=max_iterations,\n",
    "        BATCH_SIZE=BATCH_SIZE,\n",
    "        initial_temperature=100.0,\n",
    "        cooling_rate=0.99\n",
    "    )\n",
    "    \n",
    "    # optimized_dfのscore列の値が最小の行を取得\n",
    "    best_sequence = solutions_df.loc[solutions_df[\"score\"].idxmin(), \"text\"]\n",
    "    best_value = solutions_df[\"score\"].min()\n",
    "    \n",
    "    print(f\"{id}th sample: {best_sequence}\")\n",
    "    print(f\"Elapsed time: {time.time() - start:.2f} sec\")\n",
    "    print(f\"Best value: {best_value}\")\n",
    "    \n",
    "    return best_sequence, best_value, solutions_df\n"
   ]
  },
  {
   "cell_type": "code",
   "execution_count": 9,
   "id": "11fb63ab-7127-46fd-97e4-91ffb89bb1b0",
   "metadata": {},
   "outputs": [],
   "source": [
    "# 文字列型にのみダブルクォーテーションを付ける関数\n",
    "def add_quotes_to_strings(value):\n",
    "    if isinstance(value, str):  # 文字列型の場合\n",
    "        return f'\"{value}\"'\n",
    "    return value  # それ以外はそのまま"
   ]
  },
  {
   "cell_type": "code",
   "execution_count": null,
   "id": "9f775900-1acf-4870-bd4c-37c08b14fcc9",
   "metadata": {},
   "outputs": [],
   "source": [
    "# LOAD GEMMA SCORER\n",
    "scorer = PerplexityCalculator(f'{path}/gemma_2_9b')"
   ]
  },
  {
   "cell_type": "code",
   "execution_count": 11,
   "id": "e253c6da-f86c-48ba-87e1-022ea5aa2329",
   "metadata": {},
   "outputs": [],
   "source": [
    "# scorer.clear_gpu_memory()"
   ]
  },
  {
   "cell_type": "code",
   "execution_count": null,
   "id": "8d05bef9",
   "metadata": {},
   "outputs": [],
   "source": [
    "for i in [0,1]:\n",
    "    \n",
    "    print(f\"Processing {i}th sample\")\n",
    "    best_sequence, best_value, solutions_df = search_optimal_permutation(\n",
    "        id=i,\n",
    "        scorer=scorer,\n",
    "        max_iterations=2**4,\n",
    "        BATCH_SIZE=16\n",
    "    )\n",
    "    \n",
    "    print(best_sequence)\n",
    "    sub_df.loc[i, \"best_value\"] = best_value\n",
    "    sub_df.loc[i, \"text\"] = \" \".join(best_sequence)\n",
    "    \n",
    "    display(solutions_df)\n",
    "    solutions_df.to_csv(f\"{path}/out/solutions_{i}_{ex_num}.csv\", index=False, header=True)\n",
    "\n"
   ]
  },
  {
   "cell_type": "code",
   "execution_count": null,
   "id": "8957eb19",
   "metadata": {},
   "outputs": [],
   "source": [
    "sub_df"
   ]
  },
  {
   "cell_type": "code",
   "execution_count": null,
   "id": "a86cf297-51e3-44ee-b06d-069e0b8d8ad7",
   "metadata": {},
   "outputs": [],
   "source": [
    "# 各セルに関数を適用\n",
    "sub_df[\"text\"] = sub_df[\"text\"].astype(str)\n",
    "sub_df = sub_df.applymap(add_quotes_to_strings)"
   ]
  },
  {
   "cell_type": "code",
   "execution_count": null,
   "id": "4ee1cb10",
   "metadata": {},
   "outputs": [],
   "source": [
    "sub_df[[\"id\", \"text\"]].to_csv(f\"{path}/out/submission_{ex_num}.csv\", index=False, header=True, quoting=csv.QUOTE_NONE)\n",
    "sub_df.to_csv(f\"{path}/out/score_{ex_num}.csv\", index=False, header=True, quoting=csv.QUOTE_NONE)"
   ]
  },
  {
   "cell_type": "code",
   "execution_count": null,
   "id": "7a35d3d2-72c9-4488-8e04-a73b68118fdf",
   "metadata": {},
   "outputs": [],
   "source": [
    "np.mean(sub_df[\"best_value\"])"
   ]
  },
  {
   "cell_type": "code",
   "execution_count": null,
   "id": "d6fab0be-7428-4de2-8fd7-3f7a53846928",
   "metadata": {},
   "outputs": [],
   "source": [
    "sub_df.iloc[0][\"text\"]"
   ]
  },
  {
   "cell_type": "code",
   "execution_count": null,
   "id": "aee35568-c022-47dd-9e9f-7e6834044278",
   "metadata": {},
   "outputs": [],
   "source": [
    "sub_df.dtypes"
   ]
  },
  {
   "cell_type": "code",
   "execution_count": null,
   "id": "931d0b19-4f06-477b-a7b3-a3444627d78b",
   "metadata": {},
   "outputs": [],
   "source": []
  }
 ],
 "metadata": {
  "kernelspec": {
   "display_name": "Python 3 (ipykernel)",
   "language": "python",
   "name": "python3"
  },
  "language_info": {
   "codemirror_mode": {
    "name": "ipython",
    "version": 3
   },
   "file_extension": ".py",
   "mimetype": "text/x-python",
   "name": "python",
   "nbconvert_exporter": "python",
   "pygments_lexer": "ipython3",
   "version": "3.12.8"
  }
 },
 "nbformat": 4,
 "nbformat_minor": 5
}
