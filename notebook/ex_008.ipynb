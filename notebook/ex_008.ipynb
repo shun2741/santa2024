{
 "cells": [
  {
   "cell_type": "markdown",
   "id": "5b9a260d",
   "metadata": {},
   "source": [
    "### SAのテンプレート\n",
    "バッチサイズ分だけ並行して実施する"
   ]
  },
  {
   "cell_type": "code",
   "execution_count": 25,
   "id": "bf539a6a",
   "metadata": {},
   "outputs": [],
   "source": [
    "ex_num = \"008\""
   ]
  },
  {
   "cell_type": "code",
   "execution_count": 26,
   "id": "b32508c5",
   "metadata": {},
   "outputs": [],
   "source": [
    "import os\n",
    "# 環境によって変更\n",
    "# os.chdir('/home/jovyan/work/notebook')"
   ]
  },
  {
   "cell_type": "code",
   "execution_count": 58,
   "id": "64c33ef9",
   "metadata": {},
   "outputs": [],
   "source": [
    "class CFG:\n",
    "    # path = \"../model\"    \n",
    "    path = \"../../output\"\n",
    "    base_file_path = \"../input/sub20241221.csv\"\n",
    "    \n",
    "    # 焼きなましのパラメータ\n",
    "    temperature=100\n",
    "    end_temperature=0.1\n",
    "    cooling_rate=0.9999\n",
    "    iteration=int(1e6)\n",
    "    batch_size=32\n",
    "    neighbor_types = [\"swap\", \"insert\", \"inverse\", \"slide\"]"
   ]
  },
  {
   "cell_type": "code",
   "execution_count": 59,
   "id": "6806febe",
   "metadata": {},
   "outputs": [],
   "source": [
    "import numpy as np\n",
    "import pandas as pd\n",
    "import os\n",
    "import time\n",
    "import csv\n",
    "\n",
    "from tqdm.notebook import tqdm\n",
    "\n",
    "import random\n",
    "from typing import List, Callable\n",
    "import itertools, math\n",
    "from typing import List, Tuple\n",
    "\n",
    "from utils import PerplexityCalculator\n",
    "# 可視化用\n",
    "import matplotlib.pyplot as plt"
   ]
  },
  {
   "cell_type": "markdown",
   "id": "8ea9236c",
   "metadata": {},
   "source": [
    "### データ読み込み"
   ]
  },
  {
   "cell_type": "code",
   "execution_count": 43,
   "id": "6f960148",
   "metadata": {},
   "outputs": [],
   "source": [
    "df = pd.read_csv(CFG.base_file_path)"
   ]
  },
  {
   "cell_type": "code",
   "execution_count": 44,
   "id": "ec832545",
   "metadata": {},
   "outputs": [],
   "source": [
    "sub_df = df.copy()\n",
    "sub_df[\"best_value\"] = 0"
   ]
  },
  {
   "cell_type": "code",
   "execution_count": 45,
   "id": "3d9e3929",
   "metadata": {},
   "outputs": [
    {
     "data": {
      "text/html": [
       "<div>\n",
       "<style scoped>\n",
       "    .dataframe tbody tr th:only-of-type {\n",
       "        vertical-align: middle;\n",
       "    }\n",
       "\n",
       "    .dataframe tbody tr th {\n",
       "        vertical-align: top;\n",
       "    }\n",
       "\n",
       "    .dataframe thead th {\n",
       "        text-align: right;\n",
       "    }\n",
       "</style>\n",
       "<table border=\"1\" class=\"dataframe\">\n",
       "  <thead>\n",
       "    <tr style=\"text-align: right;\">\n",
       "      <th></th>\n",
       "      <th>id</th>\n",
       "      <th>text</th>\n",
       "    </tr>\n",
       "  </thead>\n",
       "  <tbody>\n",
       "    <tr>\n",
       "      <th>0</th>\n",
       "      <td>0</td>\n",
       "      <td>reindeer mistletoe elf gingerbread family adve...</td>\n",
       "    </tr>\n",
       "    <tr>\n",
       "      <th>1</th>\n",
       "      <td>1</td>\n",
       "      <td>reindeer sleep walk the night and drive mistle...</td>\n",
       "    </tr>\n",
       "    <tr>\n",
       "      <th>2</th>\n",
       "      <td>2</td>\n",
       "      <td>jingle yuletide carol cheer holly stocking chi...</td>\n",
       "    </tr>\n",
       "    <tr>\n",
       "      <th>3</th>\n",
       "      <td>3</td>\n",
       "      <td>sleigh the holly jingle unwrap gifts of magi r...</td>\n",
       "    </tr>\n",
       "    <tr>\n",
       "      <th>4</th>\n",
       "      <td>4</td>\n",
       "      <td>peppermint candy milk chocolate eggnog fruitca...</td>\n",
       "    </tr>\n",
       "    <tr>\n",
       "      <th>5</th>\n",
       "      <td>5</td>\n",
       "      <td>poinsettia yuletide eggnog fruitcake gingerbre...</td>\n",
       "    </tr>\n",
       "  </tbody>\n",
       "</table>\n",
       "</div>"
      ],
      "text/plain": [
       "   id                                               text\n",
       "0   0  reindeer mistletoe elf gingerbread family adve...\n",
       "1   1  reindeer sleep walk the night and drive mistle...\n",
       "2   2  jingle yuletide carol cheer holly stocking chi...\n",
       "3   3  sleigh the holly jingle unwrap gifts of magi r...\n",
       "4   4  peppermint candy milk chocolate eggnog fruitca...\n",
       "5   5  poinsettia yuletide eggnog fruitcake gingerbre..."
      ]
     },
     "execution_count": 45,
     "metadata": {},
     "output_type": "execute_result"
    }
   ],
   "source": [
    "df"
   ]
  },
  {
   "cell_type": "markdown",
   "id": "2b855d16",
   "metadata": {},
   "source": [
    "### 関数"
   ]
  },
  {
   "cell_type": "code",
   "execution_count": 46,
   "id": "a5f3bc02",
   "metadata": {},
   "outputs": [],
   "source": [
    "def plot_score_and_temperature(scores_history, temp_history):\n",
    "    # x 軸: イテレーション\n",
    "    x = range(len(scores_history))\n",
    "    \n",
    "    # Figure と Axes を作成\n",
    "    fig, ax1 = plt.subplots(figsize=(8,5))\n",
    "    \n",
    "    # スコア用の軸 (左)\n",
    "    color_score = 'tab:blue'\n",
    "    ax1.set_xlabel('Iteration')\n",
    "    ax1.set_ylabel('Score (Perplexity)', color=color_score)\n",
    "    ax1.plot(x, scores_history, label='Score', color=color_score)\n",
    "    ax1.tick_params(axis='y', labelcolor=color_score)\n",
    "    \n",
    "    # 温度用の軸 (右) : twinx で第二のY軸を作成\n",
    "    ax2 = ax1.twinx()\n",
    "    color_temp = 'tab:red'\n",
    "    ax2.set_ylabel('Temperature', color=color_temp)\n",
    "    ax2.plot(x, temp_history, label='Temperature', color=color_temp)\n",
    "    ax2.tick_params(axis='y', labelcolor=color_temp)\n",
    "    \n",
    "    # タイトル等\n",
    "    plt.title('Score & Temperature Transition')\n",
    "    fig.tight_layout()\n",
    "    plt.show()"
   ]
  },
  {
   "cell_type": "code",
   "execution_count": 33,
   "id": "3090ba50",
   "metadata": {},
   "outputs": [],
   "source": [
    "# 2単語組み合わせ全てから最低スコアとなるペアを探す\n",
    "def find_initial_pair(\n",
    "    CFG,\n",
    "    scorer,\n",
    "    words\n",
    "):\n",
    "    best_score = float('inf')\n",
    "    best_pair = None\n",
    "    for i in range(len(words)):\n",
    "        perms = []\n",
    "        for j in range(i+1, len(words)):\n",
    "            pair = [words[i], words[j]]\n",
    "            perms.append(\" \".join(pair))\n",
    "        \n",
    "        scores = scorer.get_perplexity(perms, batch_size=CFG.batch_size)\n",
    "        for j, perm in enumerate(perms):\n",
    "            if scores[j] < best_score:\n",
    "                best_score = scores[j]\n",
    "                best_pair = perm.split(\" \")\n",
    "                \n",
    "                # print(f\"best_score: {best_score}, best_pair: {best_pair}\")\n",
    "     \n",
    "    return best_pair, best_score"
   ]
  },
  {
   "cell_type": "code",
   "execution_count": 34,
   "id": "22194eb4",
   "metadata": {},
   "outputs": [],
   "source": [
    "# 文字の順番をランダムにして、返す\n",
    "def shuffle_initialize(\n",
    "    CFG,\n",
    "    scorer,\n",
    "    words\n",
    "):\n",
    "    random.shuffle(words)\n",
    "    return words, scorer.get_perplexity([\" \".join(words)], batch_size=1)[0]"
   ]
  },
  {
   "cell_type": "code",
   "execution_count": 35,
   "id": "d86f54d9",
   "metadata": {},
   "outputs": [],
   "source": [
    "# 文字列のファイルからコストを最小化する文字列を生成する\n",
    "def greedy_add_initialize(\n",
    "    CFG,\n",
    "    scorer,\n",
    "    initial_words: list\n",
    "):\n",
    "    \n",
    "    # 全単語\n",
    "    candidates = initial_words[:]\n",
    "\n",
    "    print(\"candidates:\", candidates)\n",
    "    print(\"-----初期配置の組み合わせ計算開始-----\")\n",
    "    # 初期配置を求める\n",
    "    initial, initial_score = find_initial_pair(\n",
    "        CFG,\n",
    "        scorer,\n",
    "        candidates\n",
    "    )\n",
    "    print(\"-----初期配置の組み合わせ計算終了-----\")\n",
    "    for w in initial:\n",
    "        candidates.remove(w)\n",
    "\n",
    "    print(\"initial:\", initial, initial_score)\n",
    "    current_order = initial[:]\n",
    "\n",
    "    print(\"-----貪欲法での挿入開始-----\")\n",
    "    # 貪欲に残りを挿入\n",
    "    while candidates:\n",
    "        best_score = float('inf')\n",
    "        best_word = None\n",
    "        best_pos = None\n",
    "\n",
    "        # 残っている単語それぞれについて\n",
    "        for w in candidates:\n",
    "            # current_orderのあらゆる挿入位置を試す\n",
    "            # 挿入位置は0からlen(current_order)まで\n",
    "            \n",
    "            perms = []\n",
    "            for pos in range(len(current_order) + 1):\n",
    "                new_order = current_order[:pos] + [w] + current_order[pos:]\n",
    "                perms.append(\" \".join(new_order))\n",
    "                \n",
    "            scores = scorer.get_perplexity(perms, batch_size=CFG.BATCH_SIZE)\n",
    "                \n",
    "            for pos in range(len(current_order) + 1):\n",
    "                if scores[pos] < best_score:\n",
    "                    best_score = scores[pos]\n",
    "                    best_word = w\n",
    "                    best_pos = pos\n",
    "                    \n",
    "                    # print(\"best_word:\", best_word, best_score)\n",
    "        \n",
    "        # best_wordをbest_posに挿入\n",
    "        current_order.insert(best_pos, best_word)\n",
    "        candidates.remove(best_word)\n",
    "        print(\"current_order:\", current_order, best_score)\n",
    "    print(\"-----貪欲法での挿入終了-----\")\n",
    "    \n",
    "    best_score = scorer.get_perplexity([\" \".join(current_order)], batch_size=1)[0]\n",
    "    \n",
    "    return current_order, best_score"
   ]
  },
  {
   "cell_type": "code",
   "execution_count": 36,
   "id": "4d0fe093",
   "metadata": {},
   "outputs": [],
   "source": [
    "def generate_neighbor(sequence, neighbor_type='swap'):\n",
    "    \"\"\"\n",
    "    sequence: list of words\n",
    "    neighbor_type: str, 近傍生成の種類 ('swap', 'insert', etc.)\n",
    "    \"\"\"\n",
    "    new_seq = sequence[:]\n",
    "    length = len(new_seq)\n",
    "\n",
    "    if neighbor_type == 'swap':\n",
    "        # ランダムに2つの位置を選んで入れ替える\n",
    "        a, b = random.sample(range(length), 2)\n",
    "        new_seq[a], new_seq[b] = new_seq[b], new_seq[a]\n",
    "\n",
    "    elif neighbor_type == 'insert':\n",
    "        # ある単語を抜き出し、別の位置に挿入する\n",
    "        idx = random.randint(0, length - 1)\n",
    "        word = new_seq.pop(idx)\n",
    "        new_pos = random.randint(0, length - 1)\n",
    "        new_seq.insert(new_pos, word)\n",
    "\n",
    "    elif neighbor_type == 'shuffle_segment':\n",
    "        # ランダムな部分区間を決めてシャッフル\n",
    "        start = random.randint(0, length - 2)\n",
    "        end = random.randint(start + 1, length - 1)\n",
    "        segment = new_seq[start:end+1]\n",
    "        random.shuffle(segment)\n",
    "        new_seq[start:end+1] = segment\n",
    "\n",
    "    elif neighbor_type == 'reverse_segment':\n",
    "        # ランダムな部分区間を決めて反転\n",
    "        start = random.randint(0, length - 2)\n",
    "        end = random.randint(start + 1, length - 1)\n",
    "        segment = new_seq[start:end+1]\n",
    "        new_seq[start:end+1] = list(reversed(segment))\n",
    "\n",
    "    # 他にも様々な近傍操作を追加可能\n",
    "\n",
    "    return new_seq"
   ]
  },
  {
   "cell_type": "code",
   "execution_count": 62,
   "id": "7cddb70f",
   "metadata": {},
   "outputs": [],
   "source": [
    "def search_annealing(\n",
    "    scorer,\n",
    "    initial_sequence,\n",
    "    temperature: float = 1.0,\n",
    "    end_temperature: float = 0.01,\n",
    "    cooling_rate: float = 0.999,\n",
    "    iteration: int = 1000,\n",
    "    batch_size: int = 10,\n",
    "    neighbor_types: list = None\n",
    "):\n",
    "    \"\"\"\n",
    "    焼きなまし法による探索\n",
    "\n",
    "    Parameters\n",
    "    ----------\n",
    "    CFG: 設定用（必要に応じて）\n",
    "    scorer: perplexityを計算できるオブジェクト\n",
    "    initial_sequence: 初期の単語リスト\n",
    "    temperature: 開始時の温度\n",
    "    cooling_rate: 温度の減少率\n",
    "    iteration: 探索の反復回数\n",
    "    batch_size: 1ステップで生成する近傍候補の数\n",
    "    neighbor_types: 近傍生成の種類を指定するリスト\n",
    "    \"\"\"\n",
    "    if neighbor_types is None:\n",
    "        neighbor_types = ['swap', 'insert', 'shuffle_segment', 'reverse_segment']\n",
    "\n",
    "    # 初期状態\n",
    "    current_seq = initial_sequence[:]\n",
    "    best_seq = current_seq[:]\n",
    "    best_score = scorer.get_perplexity([\" \".join(current_seq)], batch_size=1)[0]\n",
    "\n",
    "    # current_scoreの計算\n",
    "    current_score = best_score\n",
    "\n",
    "    # スコア推移を記録するリスト\n",
    "    scores_history = []\n",
    "    temp_history = []\n",
    "    \n",
    "    # 現在の状態を持つリスト\n",
    "    current_seqs = []\n",
    "    current_scores = []\n",
    "    \n",
    "    # 初期解の生成\n",
    "    for _ in range(CFG.batch_size):\n",
    "        current_seqs.append(current_seq)\n",
    "        current_scores.append(current_score)\n",
    "        \n",
    "    for itr in tqdm(range(iteration)):\n",
    "        # 記録（ループの冒頭 or 最後のどちらでもOK）\n",
    "        scores_history.append(current_scores[0])\n",
    "        temp_history.append(temperature)\n",
    "        \n",
    "        # 近傍候補をまとめて生成\n",
    "        neighbor_candidates = []\n",
    "        for i in range(CFG.batch_size):\n",
    "            # 近傍操作の種類をランダムに選ぶ\n",
    "            n_type = random.choice(neighbor_types)\n",
    "            neighbor_seq = generate_neighbor(current_seqs[i], n_type)\n",
    "            neighbor_candidates.append(neighbor_seq)\n",
    "\n",
    "        \n",
    "        # まとめてスコアを計算（GPUを活用）\n",
    "        texts = [\" \".join(seq) for seq in neighbor_candidates]\n",
    "        # print(\"texts:\", texts)\n",
    "        \n",
    "        scores = scorer.get_perplexity(texts, batch_size=batch_size)\n",
    "        # print(\"scores:\", scores)\n",
    "        \n",
    "        # 候補の中から1つを焼きなまし法の確率的受容ルールで選ぶ\n",
    "        for i, (cand_seq, cand_score) in enumerate(zip(neighbor_candidates, scores)):\n",
    "            delta = cand_score - current_scores[i]\n",
    "            accept_prob = math.exp(-delta / temperature) if delta > 0 else 1.0\n",
    "                \n",
    "            # スコアが良ければ必ず受容\n",
    "            if (itr==0) or (random.random() < accept_prob):\n",
    "                current_scores[i] = cand_score\n",
    "                current_seqs[i] = cand_seq\n",
    "\n",
    "        # ベストの更新\n",
    "        # currnet_scoresのリストの最小値を取得\n",
    "        if np.min(current_scores) < best_score:\n",
    "            # current_scoresの最小値のインデックスを取得\n",
    "            idx = np.argmin(current_scores)\n",
    "            \n",
    "            best_score = current_scores[idx]\n",
    "            best_seq = current_seqs[idx]\n",
    "            print(f\"iter {itr}: best_score: {best_score}\")\n",
    "            print(\"best_seq:\", best_seq)\n",
    "\n",
    "        # 温度を下げる\n",
    "        if itr % 4 == 0:\n",
    "            temperature *= cooling_rate\n",
    "        \n",
    "        if itr % 1000 == 0:\n",
    "            print(f\"iter :{itr}, best_score: {best_score}, temperature: {temperature}\")\n",
    "        \n",
    "        if temperature < end_temperature:\n",
    "            break\n",
    "        \n",
    "    return best_seq, best_score, scores_history, temp_history"
   ]
  },
  {
   "cell_type": "code",
   "execution_count": 63,
   "id": "22fbd618",
   "metadata": {},
   "outputs": [],
   "source": [
    "def search_optimal_permutation(\n",
    "    CFG,\n",
    "    id: int, \n",
    "    scorer\n",
    "):\n",
    "    \n",
    "    df = pd.read_csv(CFG.base_file_path)\n",
    "    \n",
    "    start = time.time()\n",
    "    # 文字列を単語に分割\n",
    "    words = df.loc[id,\"text\"].split()\n",
    "    \n",
    "    initial_sequence = words[:]\n",
    "    print(\"--------初期配置の組み合わせ計算開始---------\")\n",
    "    initial_sequence, initial_score = shuffle_initialize(\n",
    "        CFG,\n",
    "        scorer=scorer,\n",
    "        words=words\n",
    "    )\n",
    "    \n",
    "    print(f\"{id}th sample: {initial_sequence}\")\n",
    "    print(f\"Elapsed time: {time.time() - start:.2f} sec\")\n",
    "    print(f\"initial_score: {initial_score}\")\n",
    "    print(\"--------初期配置の組み合わせ計算終了---------\")\n",
    "    \n",
    "    print(\"---------焼きなまし処理開始---------\")\n",
    "    best_sequence, best_score, scores_history, temp_history = search_annealing(\n",
    "        scorer=scorer,\n",
    "        initial_sequence=initial_sequence,\n",
    "        temperature=CFG.temperature,\n",
    "        end_temperature=CFG.end_temperature,\n",
    "        cooling_rate=CFG.cooling_rate,\n",
    "        iteration=CFG.iteration,\n",
    "        batch_size=CFG.batch_size,\n",
    "        neighbor_types=CFG.neighbor_types\n",
    "    )\n",
    "    print(\"---------焼きなまし処理終了---------\")\n",
    "    \n",
    "    print(f\"{id}th sample: {best_sequence}\")\n",
    "    print(f\"Elapsed time: {time.time() - start:.2f} sec\")\n",
    "    print(f\"best_score: {best_score}\")\n",
    "    \n",
    "    plot_score_and_temperature(scores_history, temp_history)\n",
    "    \n",
    "    return best_sequence, best_score\n"
   ]
  },
  {
   "cell_type": "code",
   "execution_count": 39,
   "id": "11fb63ab-7127-46fd-97e4-91ffb89bb1b0",
   "metadata": {},
   "outputs": [],
   "source": [
    "# 文字列型にのみダブルクォーテーションを付ける関数\n",
    "def add_quotes_to_strings(value):\n",
    "    if isinstance(value, str):  # 文字列型の場合\n",
    "        return f'\"{value}\"'\n",
    "    return value  # それ以外はそのまま"
   ]
  },
  {
   "cell_type": "code",
   "execution_count": 16,
   "id": "9f775900-1acf-4870-bd4c-37c08b14fcc9",
   "metadata": {},
   "outputs": [
    {
     "name": "stdout",
     "output_type": "stream",
     "text": [
      "cuda\n"
     ]
    },
    {
     "data": {
      "application/vnd.jupyter.widget-view+json": {
       "model_id": "099cc1163829429cb318a9661d7ff60a",
       "version_major": 2,
       "version_minor": 0
      },
      "text/plain": [
       "Loading checkpoint shards:   0%|          | 0/8 [00:00<?, ?it/s]"
      ]
     },
     "metadata": {},
     "output_type": "display_data"
    }
   ],
   "source": [
    "# LOAD GEMMA SCORER\n",
    "scorer = PerplexityCalculator(f'{CFG.path}/gemma_2_9b')"
   ]
  },
  {
   "cell_type": "code",
   "execution_count": 17,
   "id": "e253c6da-f86c-48ba-87e1-022ea5aa2329",
   "metadata": {},
   "outputs": [],
   "source": [
    "# scorer.clear_gpu_memory()"
   ]
  },
  {
   "cell_type": "code",
   "execution_count": 64,
   "id": "8d05bef9",
   "metadata": {},
   "outputs": [
    {
     "name": "stdout",
     "output_type": "stream",
     "text": [
      "Processing 0th sample\n",
      "--------初期配置の組み合わせ計算開始---------\n",
      "0th sample: ['family', 'gingerbread', 'elf', 'advent', 'chimney', 'mistletoe', 'fireplace', 'reindeer', 'scrooge', 'ornament']\n",
      "Elapsed time: 0.06 sec\n",
      "initial_score: 9622.650254991197\n",
      "--------初期配置の組み合わせ計算終了---------\n",
      "---------焼きなまし処理開始---------\n"
     ]
    },
    {
     "data": {
      "application/vnd.jupyter.widget-view+json": {
       "model_id": "dce1cc9b464c44a4b8244f5f9651914e",
       "version_major": 2,
       "version_minor": 0
      },
      "text/plain": [
       "  0%|          | 0/1000 [00:00<?, ?it/s]"
      ]
     },
     "metadata": {},
     "output_type": "display_data"
    },
    {
     "name": "stdout",
     "output_type": "stream",
     "text": [
      "iter 0: best_score: 1902.2282668101732\n",
      "best_seq: ['gingerbread', 'elf', 'family', 'advent', 'chimney', 'mistletoe', 'fireplace', 'reindeer', 'scrooge', 'ornament']\n",
      "iter :0, best_score: 1902.2282668101732, temperature: 99.99\n",
      "iter 3: best_score: 1424.703142573693\n",
      "best_seq: ['gingerbread', 'elf', 'reindeer', 'chimney', 'mistletoe', 'advent', 'scrooge', 'ornament', 'family', 'fireplace']\n",
      "iter 7: best_score: 1144.7811358637066\n",
      "best_seq: ['gingerbread', 'mistletoe', 'elf', 'advent', 'scrooge', 'family', 'fireplace', 'reindeer', 'chimney', 'ornament']\n",
      "iter 12: best_score: 1092.357790916928\n",
      "best_seq: ['gingerbread', 'mistletoe', 'family', 'elf', 'advent', 'scrooge', 'fireplace', 'reindeer', 'chimney', 'ornament']\n",
      "iter 28: best_score: 934.3431322086527\n",
      "best_seq: ['reindeer', 'elf', 'family', 'gingerbread', 'chimney', 'fireplace', 'scrooge', 'mistletoe', 'ornament', 'advent']\n",
      "iter 32: best_score: 870.9035622506929\n",
      "best_seq: ['reindeer', 'mistletoe', 'advent', 'family', 'elf', 'scrooge', 'gingerbread', 'fireplace', 'chimney', 'ornament']\n",
      "iter 39: best_score: 744.923292506519\n",
      "best_seq: ['reindeer', 'mistletoe', 'scrooge', 'family', 'advent', 'gingerbread', 'elf', 'fireplace', 'ornament', 'chimney']\n",
      "iter 40: best_score: 652.2766292910974\n",
      "best_seq: ['reindeer', 'mistletoe', 'elf', 'family', 'advent', 'scrooge', 'gingerbread', 'fireplace', 'chimney', 'ornament']\n",
      "iter 41: best_score: 542.872779181642\n",
      "best_seq: ['reindeer', 'mistletoe', 'elf', 'family', 'advent', 'scrooge', 'gingerbread', 'chimney', 'fireplace', 'ornament']\n",
      "iter 58: best_score: 536.5481197318883\n",
      "best_seq: ['reindeer', 'mistletoe', 'scrooge', 'elf', 'gingerbread', 'ornament', 'advent', 'chimney', 'fireplace', 'family']\n",
      "iter 182: best_score: 515.9932840552193\n",
      "best_seq: ['reindeer', 'mistletoe', 'gingerbread', 'elf', 'family', 'advent', 'scrooge', 'chimney', 'fireplace', 'ornament']\n",
      "iter 208: best_score: 511.9777924614019\n",
      "best_seq: ['reindeer', 'mistletoe', 'gingerbread', 'family', 'advent', 'scrooge', 'elf', 'chimney', 'fireplace', 'ornament']\n",
      "iter 321: best_score: 504.04031250414465\n",
      "best_seq: ['reindeer', 'mistletoe', 'elf', 'gingerbread', 'family', 'scrooge', 'chimney', 'fireplace', 'ornament', 'advent']\n",
      "iter 412: best_score: 494.29129035606036\n",
      "best_seq: ['reindeer', 'mistletoe', 'elf', 'scrooge', 'gingerbread', 'chimney', 'fireplace', 'ornament', 'family', 'advent']\n",
      "iter 613: best_score: 467.98558773246197\n",
      "best_seq: ['reindeer', 'mistletoe', 'elf', 'gingerbread', 'family', 'advent', 'scrooge', 'chimney', 'fireplace', 'ornament']\n",
      "---------焼きなまし処理終了---------\n",
      "0th sample: ['reindeer', 'mistletoe', 'elf', 'gingerbread', 'family', 'advent', 'scrooge', 'chimney', 'fireplace', 'ornament']\n",
      "Elapsed time: 76.55 sec\n",
      "best_score: 467.98558773246197\n"
     ]
    },
    {
     "data": {
      "image/png": "[encoded data removed]",
      "text/plain": [
       "<Figure size 800x500 with 2 Axes>"
      ]
     },
     "metadata": {},
     "output_type": "display_data"
    },
    {
     "name": "stdout",
     "output_type": "stream",
     "text": [
      "Best sequence: ['reindeer', 'mistletoe', 'elf', 'gingerbread', 'family', 'advent', 'scrooge', 'chimney', 'fireplace', 'ornament']\n",
      "Best score: 467.98558773246197\n"
     ]
    }
   ],
   "source": [
    "for i in [0]:\n",
    "    \n",
    "    print(f\"Processing {i}th sample\")\n",
    "    best_sequence, best_score = search_optimal_permutation(\n",
    "        CFG,\n",
    "        id=i,\n",
    "        scorer=scorer,\n",
    "    )\n",
    "    \n",
    "    print(\"Best sequence:\", best_sequence)\n",
    "    print(\"Best score:\", best_score)\n",
    "    sub_df.loc[i, \"best_value\"] = best_score\n",
    "    sub_df.loc[i, \"text\"] = \" \".join(best_sequence)\n",
    "\n"
   ]
  },
  {
   "cell_type": "code",
   "execution_count": 19,
   "id": "8957eb19",
   "metadata": {},
   "outputs": [
    {
     "data": {
      "text/html": [
       "<div>\n",
       "<style scoped>\n",
       "    .dataframe tbody tr th:only-of-type {\n",
       "        vertical-align: middle;\n",
       "    }\n",
       "\n",
       "    .dataframe tbody tr th {\n",
       "        vertical-align: top;\n",
       "    }\n",
       "\n",
       "    .dataframe thead th {\n",
       "        text-align: right;\n",
       "    }\n",
       "</style>\n",
       "<table border=\"1\" class=\"dataframe\">\n",
       "  <thead>\n",
       "    <tr style=\"text-align: right;\">\n",
       "      <th></th>\n",
       "      <th>id</th>\n",
       "      <th>text</th>\n",
       "      <th>best_value</th>\n",
       "    </tr>\n",
       "  </thead>\n",
       "  <tbody>\n",
       "    <tr>\n",
       "      <th>0</th>\n",
       "      <td>0</td>\n",
       "      <td>reindeer mistletoe elf gingerbread family adve...</td>\n",
       "      <td>0.000000</td>\n",
       "    </tr>\n",
       "    <tr>\n",
       "      <th>1</th>\n",
       "      <td>1</td>\n",
       "      <td>reindeer sleep walk the night and drive mistle...</td>\n",
       "      <td>0.000000</td>\n",
       "    </tr>\n",
       "    <tr>\n",
       "      <th>2</th>\n",
       "      <td>2</td>\n",
       "      <td>sleigh yuletide grinch carol cheer holly jingl...</td>\n",
       "      <td>339.721104</td>\n",
       "    </tr>\n",
       "    <tr>\n",
       "      <th>3</th>\n",
       "      <td>3</td>\n",
       "      <td>sleigh the holly jingle unwrap gifts of magi r...</td>\n",
       "      <td>0.000000</td>\n",
       "    </tr>\n",
       "    <tr>\n",
       "      <th>4</th>\n",
       "      <td>4</td>\n",
       "      <td>peppermint candy milk chocolate eggnog fruitca...</td>\n",
       "      <td>0.000000</td>\n",
       "    </tr>\n",
       "    <tr>\n",
       "      <th>5</th>\n",
       "      <td>5</td>\n",
       "      <td>poinsettia yuletide eggnog fruitcake gingerbre...</td>\n",
       "      <td>0.000000</td>\n",
       "    </tr>\n",
       "  </tbody>\n",
       "</table>\n",
       "</div>"
      ],
      "text/plain": [
       "   id                                               text  best_value\n",
       "0   0  reindeer mistletoe elf gingerbread family adve...    0.000000\n",
       "1   1  reindeer sleep walk the night and drive mistle...    0.000000\n",
       "2   2  sleigh yuletide grinch carol cheer holly jingl...  339.721104\n",
       "3   3  sleigh the holly jingle unwrap gifts of magi r...    0.000000\n",
       "4   4  peppermint candy milk chocolate eggnog fruitca...    0.000000\n",
       "5   5  poinsettia yuletide eggnog fruitcake gingerbre...    0.000000"
      ]
     },
     "execution_count": 19,
     "metadata": {},
     "output_type": "execute_result"
    }
   ],
   "source": [
    "sub_df"
   ]
  },
  {
   "cell_type": "code",
   "execution_count": 20,
   "id": "a86cf297-51e3-44ee-b06d-069e0b8d8ad7",
   "metadata": {},
   "outputs": [
    {
     "name": "stderr",
     "output_type": "stream",
     "text": [
      "/tmp/ipykernel_610/428122046.py:3: FutureWarning: DataFrame.applymap has been deprecated. Use DataFrame.map instead.\n",
      "  sub_df = sub_df.applymap(add_quotes_to_strings)\n"
     ]
    }
   ],
   "source": [
    "# 各セルに関数を適用\n",
    "sub_df[\"text\"] = sub_df[\"text\"].astype(str)\n",
    "sub_df = sub_df.applymap(add_quotes_to_strings)"
   ]
  },
  {
   "cell_type": "code",
   "execution_count": 21,
   "id": "4ee1cb10",
   "metadata": {},
   "outputs": [],
   "source": [
    "sub_df[[\"id\", \"text\"]].to_csv(f\"{CFG.path}/out/submission_{ex_num}.csv\", index=False, header=True, quoting=csv.QUOTE_NONE)\n",
    "sub_df.to_csv(f\"{CFG.path}/out/score_{ex_num}.csv\", index=False, header=True, quoting=csv.QUOTE_NONE)"
   ]
  },
  {
   "cell_type": "code",
   "execution_count": 22,
   "id": "7a35d3d2-72c9-4488-8e04-a73b68118fdf",
   "metadata": {},
   "outputs": [
    {
     "data": {
      "text/plain": [
       "np.float64(56.62018407691263)"
      ]
     },
     "execution_count": 22,
     "metadata": {},
     "output_type": "execute_result"
    }
   ],
   "source": [
    "np.mean(sub_df[\"best_value\"])"
   ]
  },
  {
   "cell_type": "code",
   "execution_count": null,
   "id": "461f0e43-0397-4f53-b3e6-90934401ba66",
   "metadata": {},
   "outputs": [],
   "source": []
  }
 ],
 "metadata": {
  "kernelspec": {
   "display_name": "Python 3 (ipykernel)",
   "language": "python",
   "name": "python3"
  }
 },
 "nbformat": 4,
 "nbformat_minor": 5
}
