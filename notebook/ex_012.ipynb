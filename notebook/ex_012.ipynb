{
 "cells": [
  {
   "cell_type": "markdown",
   "id": "5b9a260d",
   "metadata": {},
   "source": [
    "### andなどの複数出現する単語は必ずくっつける\n",
    "バッチサイズ分だけ並行して実施する"
   ]
  },
  {
   "cell_type": "code",
   "execution_count": 1,
   "id": "bf539a6a",
   "metadata": {},
   "outputs": [],
   "source": [
    "ex_num = \"012\""
   ]
  },
  {
   "cell_type": "code",
   "execution_count": 2,
   "id": "b32508c5",
   "metadata": {},
   "outputs": [],
   "source": [
    "import os\n",
    "# 環境によって変更\n",
    "os.chdir('/home/jovyan/work/notebook')"
   ]
  },
  {
   "cell_type": "code",
   "execution_count": 3,
   "id": "64c33ef9",
   "metadata": {},
   "outputs": [],
   "source": [
    "class CFG:\n",
    "    path = \"../model\"    \n",
    "    # path = \"../../output\"\n",
    "    base_file_path = \"../input/sub20241221.csv\"\n",
    "    \n",
    "    # 焼きなましのパラメータ\n",
    "    temperature=100\n",
    "    end_temperature=0.01\n",
    "    cooling_rate=0.9999\n",
    "    iteration=int(1e2)\n",
    "    batch_size=4\n",
    "    interval=10\n",
    "    neighbor_types = [\"swap\", \"insert\", \"segment_insert\"]"
   ]
  },
  {
   "cell_type": "code",
   "execution_count": 4,
   "id": "6806febe",
   "metadata": {},
   "outputs": [],
   "source": [
    "import numpy as np\n",
    "import pandas as pd\n",
    "import os\n",
    "import time\n",
    "import csv\n",
    "\n",
    "from tqdm.notebook import tqdm\n",
    "\n",
    "import random\n",
    "from typing import List, Callable\n",
    "import itertools, math\n",
    "from typing import List, Tuple\n",
    "\n",
    "from utils import PerplexityCalculator\n",
    "# 可視化用\n",
    "import matplotlib.pyplot as plt"
   ]
  },
  {
   "cell_type": "markdown",
   "id": "8ea9236c",
   "metadata": {},
   "source": [
    "### データ読み込み"
   ]
  },
  {
   "cell_type": "code",
   "execution_count": 5,
   "id": "6f960148",
   "metadata": {},
   "outputs": [],
   "source": [
    "df = pd.read_csv(CFG.base_file_path)"
   ]
  },
  {
   "cell_type": "code",
   "execution_count": 6,
   "id": "ec832545",
   "metadata": {},
   "outputs": [],
   "source": [
    "sub_df = df.copy()\n",
    "sub_df[\"best_value\"] = 0"
   ]
  },
  {
   "cell_type": "code",
   "execution_count": 7,
   "id": "3d9e3929",
   "metadata": {},
   "outputs": [
    {
     "data": {
      "text/html": [
       "<div>\n",
       "<style scoped>\n",
       "    .dataframe tbody tr th:only-of-type {\n",
       "        vertical-align: middle;\n",
       "    }\n",
       "\n",
       "    .dataframe tbody tr th {\n",
       "        vertical-align: top;\n",
       "    }\n",
       "\n",
       "    .dataframe thead th {\n",
       "        text-align: right;\n",
       "    }\n",
       "</style>\n",
       "<table border=\"1\" class=\"dataframe\">\n",
       "  <thead>\n",
       "    <tr style=\"text-align: right;\">\n",
       "      <th></th>\n",
       "      <th>id</th>\n",
       "      <th>text</th>\n",
       "    </tr>\n",
       "  </thead>\n",
       "  <tbody>\n",
       "    <tr>\n",
       "      <th>0</th>\n",
       "      <td>0</td>\n",
       "      <td>reindeer mistletoe elf gingerbread family adve...</td>\n",
       "    </tr>\n",
       "    <tr>\n",
       "      <th>1</th>\n",
       "      <td>1</td>\n",
       "      <td>reindeer sleep walk the night and drive mistle...</td>\n",
       "    </tr>\n",
       "    <tr>\n",
       "      <th>2</th>\n",
       "      <td>2</td>\n",
       "      <td>jingle yuletide carol cheer holly stocking chi...</td>\n",
       "    </tr>\n",
       "    <tr>\n",
       "      <th>3</th>\n",
       "      <td>3</td>\n",
       "      <td>sleigh the holly jingle unwrap gifts of magi r...</td>\n",
       "    </tr>\n",
       "    <tr>\n",
       "      <th>4</th>\n",
       "      <td>4</td>\n",
       "      <td>peppermint candy milk chocolate eggnog fruitca...</td>\n",
       "    </tr>\n",
       "    <tr>\n",
       "      <th>5</th>\n",
       "      <td>5</td>\n",
       "      <td>poinsettia yuletide eggnog fruitcake gingerbre...</td>\n",
       "    </tr>\n",
       "  </tbody>\n",
       "</table>\n",
       "</div>"
      ],
      "text/plain": [
       "   id                                               text\n",
       "0   0  reindeer mistletoe elf gingerbread family adve...\n",
       "1   1  reindeer sleep walk the night and drive mistle...\n",
       "2   2  jingle yuletide carol cheer holly stocking chi...\n",
       "3   3  sleigh the holly jingle unwrap gifts of magi r...\n",
       "4   4  peppermint candy milk chocolate eggnog fruitca...\n",
       "5   5  poinsettia yuletide eggnog fruitcake gingerbre..."
      ]
     },
     "execution_count": 7,
     "metadata": {},
     "output_type": "execute_result"
    }
   ],
   "source": [
    "df"
   ]
  },
  {
   "cell_type": "markdown",
   "id": "2b855d16",
   "metadata": {},
   "source": [
    "### 関数"
   ]
  },
  {
   "cell_type": "code",
   "execution_count": 8,
   "id": "e20043ba",
   "metadata": {},
   "outputs": [],
   "source": [
    "def split_compress(sentence: str) -> list[str]:\n",
    "    words = sentence.split()\n",
    "    if not words:\n",
    "        return []\n",
    "\n",
    "    result = []\n",
    "    prev_word = None\n",
    "\n",
    "    for w in words:\n",
    "        if w == prev_word:\n",
    "            # 連続している場合は、リストの最後の要素にスペースを挟んで追加\n",
    "            result[-1] += \" \" + w\n",
    "        else:\n",
    "            # 新しい単語の場合はリストに追加\n",
    "            result.append(w)\n",
    "        prev_word = w\n",
    "\n",
    "    return result"
   ]
  },
  {
   "cell_type": "code",
   "execution_count": 9,
   "id": "a5f3bc02",
   "metadata": {},
   "outputs": [],
   "source": [
    "def plot_score_and_temperature(scores_history, temp_history):\n",
    "    # x 軸: イテレーション\n",
    "    x = range(len(scores_history))\n",
    "    \n",
    "    # Figure と Axes を作成\n",
    "    fig, ax1 = plt.subplots(figsize=(8,5))\n",
    "    \n",
    "    # スコア用の軸 (左)\n",
    "    color_score = 'tab:blue'\n",
    "    ax1.set_xlabel('Iteration')\n",
    "    ax1.set_ylabel('Score (Perplexity)', color=color_score)\n",
    "    ax1.plot(x, scores_history, label='Score', color=color_score)\n",
    "    ax1.tick_params(axis='y', labelcolor=color_score)\n",
    "    \n",
    "    # 温度用の軸 (右) : twinx で第二のY軸を作成\n",
    "    ax2 = ax1.twinx()\n",
    "    color_temp = 'tab:red'\n",
    "    ax2.set_ylabel('Temperature', color=color_temp)\n",
    "    ax2.plot(x, temp_history, label='Temperature', color=color_temp)\n",
    "    ax2.tick_params(axis='y', labelcolor=color_temp)\n",
    "    \n",
    "    # タイトル等\n",
    "    plt.title('Score & Temperature Transition')\n",
    "    fig.tight_layout()\n",
    "    plt.show()"
   ]
  },
  {
   "cell_type": "code",
   "execution_count": 10,
   "id": "22194eb4",
   "metadata": {},
   "outputs": [],
   "source": [
    "# 文字の順番をランダムにして、返す\n",
    "def shuffle_initialize(\n",
    "    scorer,\n",
    "    words\n",
    "):\n",
    "    random.shuffle(words)\n",
    "    return words, scorer.get_perplexity([\" \".join(words)], batch_size=1)[0]"
   ]
  },
  {
   "cell_type": "code",
   "execution_count": 11,
   "id": "4d0fe093",
   "metadata": {},
   "outputs": [],
   "source": [
    "def generate_neighbor(sequence, neighbor_type='swap'):\n",
    "    \"\"\"\n",
    "    sequence: list of words\n",
    "    neighbor_type: str, 近傍生成の種類 ('swap', 'insert', etc.)\n",
    "    \"\"\"\n",
    "    new_seq = sequence[:]\n",
    "    length = len(new_seq)\n",
    "\n",
    "    if neighbor_type == 'swap':\n",
    "        # ランダムに2つの位置を選んで入れ替える\n",
    "        a, b = random.sample(range(length), 2)\n",
    "        new_seq[a], new_seq[b] = new_seq[b], new_seq[a]\n",
    "\n",
    "    elif neighbor_type == 'insert':\n",
    "        # ある単語を抜き出し、別の位置に挿入する\n",
    "        idx = random.randint(0, length - 1)\n",
    "        word = new_seq.pop(idx)\n",
    "        new_pos = random.randint(0, length - 1)\n",
    "        new_seq.insert(new_pos, word)\n",
    "\n",
    "    elif neighbor_type == 'segment_insert':\n",
    "        # 長さ2~5のランダムな部分区間を切り出して、別の位置に挿入\n",
    "        # 部分区間の長さをランダムに選択（2～5）\n",
    "        sublist_length = random.randint(2, 5)\n",
    "\n",
    "        # 部分区間の開始位置をランダムに選択\n",
    "        start_idx = random.randint(0, length - sublist_length)\n",
    "\n",
    "        # 部分区間を切り出し\n",
    "        sublist = new_seq[start_idx:start_idx + sublist_length]\n",
    "\n",
    "        # 部分区間を元のリストから削除\n",
    "        new_seq = new_seq[:start_idx] +new_seq[start_idx + sublist_length:]\n",
    "\n",
    "        # 挿入位置をランダムに選択（元の部分区間の位置は除く）\n",
    "        insert_idx = random.randint(0, len(new_seq))\n",
    "\n",
    "        # 切り出した部分区間を挿入\n",
    "        new_seq = new_seq[:insert_idx] + sublist + new_seq[insert_idx:]\n",
    "\n",
    "    # 他にも様々な近傍操作を追加可能\n",
    "\n",
    "    return new_seq"
   ]
  },
  {
   "cell_type": "code",
   "execution_count": 12,
   "id": "7cddb70f",
   "metadata": {},
   "outputs": [],
   "source": [
    "def search_annealing(\n",
    "    scorer,\n",
    "    initial_sequence,\n",
    "    temperature: float = 1.0,\n",
    "    end_temperature: float = 0.01,\n",
    "    cooling_rate: float = 0.999,\n",
    "    iteration: int = 1000,\n",
    "    batch_size: int = 10,\n",
    "    interval: int = 1000,\n",
    "    neighbor_types: list = None\n",
    "):\n",
    "    \"\"\"\n",
    "    焼きなまし法による探索\n",
    "\n",
    "    Parameters\n",
    "    ----------\n",
    "    CFG: 設定用（必要に応じて）\n",
    "    scorer: perplexityを計算できるオブジェクト\n",
    "    initial_sequence: 初期の単語リスト\n",
    "    temperature: 開始時の温度\n",
    "    cooling_rate: 温度の減少率\n",
    "    iteration: 探索の反復回数\n",
    "    batch_size: 1ステップで生成する近傍候補の数\n",
    "    neighbor_types: 近傍生成の種類を指定するリスト\n",
    "    \"\"\"\n",
    "    if neighbor_types is None:\n",
    "        neighbor_types = ['swap', 'insert', 'shuffle_segment', 'reverse_segment']\n",
    "    print(\"neighbor_types:\", neighbor_types)\n",
    "    \n",
    "    # 初期状態\n",
    "    current_seq = initial_sequence[:]\n",
    "    best_seq = current_seq[:]\n",
    "    best_score = scorer.get_perplexity([\" \".join(current_seq)], batch_size=1)[0]\n",
    "\n",
    "    # current_scoreの計算\n",
    "    current_score = best_score\n",
    "\n",
    "    # スコア推移を記録するリスト\n",
    "    scores_history = []\n",
    "    temp_history = []\n",
    "    \n",
    "    # 現在の状態を持つリスト\n",
    "    current_seqs = []\n",
    "    current_scores = []\n",
    "    \n",
    "    # 初期解の生成\n",
    "    for _ in range(CFG.batch_size):\n",
    "        print(\"current_seq:\", current_seq)\n",
    "        print(\"current_score:\", current_score)\n",
    "        current_seq, current_score = shuffle_initialize(\n",
    "            scorer,\n",
    "            current_seq,\n",
    "        )\n",
    "        current_seqs.append(current_seq)\n",
    "        current_scores.append(current_score)\n",
    "        \n",
    "    for itr in tqdm(range(iteration)):\n",
    "        # 記録（ループの冒頭 or 最後のどちらでもOK）\n",
    "        scores_history.append(current_scores[0])\n",
    "        temp_history.append(temperature)\n",
    "        \n",
    "        # 近傍候補をまとめて生成\n",
    "        neighbor_candidates = []\n",
    "        for i in range(CFG.batch_size):\n",
    "            # 近傍操作の種類をランダムに選ぶ\n",
    "            n_type = random.choice(neighbor_types)\n",
    "            neighbor_seq = generate_neighbor(current_seqs[i], n_type)\n",
    "            neighbor_candidates.append(neighbor_seq)\n",
    "\n",
    "        \n",
    "        # まとめてスコアを計算（GPUを活用）\n",
    "        texts = [\" \".join(seq) for seq in neighbor_candidates]\n",
    "        # print(\"texts:\", texts)\n",
    "        \n",
    "        scores = scorer.get_perplexity(texts, batch_size=batch_size)\n",
    "        # print(\"scores:\", scores)\n",
    "        \n",
    "        # 候補の中から1つを焼きなまし法の確率的受容ルールで選ぶ\n",
    "        for i, (cand_seq, cand_score) in enumerate(zip(neighbor_candidates, scores)):\n",
    "            delta = cand_score - current_scores[i]\n",
    "            accept_prob = math.exp(-delta / temperature) if delta > 0 else 1.0\n",
    "                \n",
    "            # スコアが良ければ必ず受容\n",
    "            if (itr==0) or (random.random() < accept_prob):\n",
    "                current_scores[i] = cand_score\n",
    "                current_seqs[i] = cand_seq\n",
    "\n",
    "        # ベストの更新\n",
    "        # currnet_scoresのリストの最小値を取得\n",
    "        if np.min(current_scores) < best_score:\n",
    "            # current_scoresの最小値のインデックスを取得\n",
    "            idx = np.argmin(current_scores)\n",
    "            \n",
    "            best_score = current_scores[idx]\n",
    "            best_seq = current_seqs[idx]\n",
    "            print(f\"iter {itr}: best_score: {best_score}\")\n",
    "            print(\"best_seq:\", best_seq)\n",
    "\n",
    "        # 温度を下げる\n",
    "        if itr % 10 == 0:\n",
    "            temperature *= cooling_rate\n",
    "        \n",
    "        if itr % interval == 0:\n",
    "            print(f\"iter :{itr}, best_score: {best_score}, temperature: {temperature}\")\n",
    "\n",
    "            # current_seqsを結合して文字列保存\n",
    "            current_seqs_text = [\" \".join(seq) for seq in current_seqs]\n",
    "            # current_seqsとcurrent_scoresのリストをdfとして保存\n",
    "            df = pd.DataFrame(current_seqs_text)\n",
    "            df[\"score\"] = current_scores\n",
    "            \n",
    "            # indexとなっていたものをsequencre列に変更\n",
    "            df = df.reset_index()\n",
    "            df = df.rename(columns={\"index\": \"sequence\"})\n",
    "            \n",
    "            df.to_csv(f\"{CFG.path}/out/current_texts_{ex_num}.csv\", index=False)\n",
    "        if temperature < end_temperature:\n",
    "            break\n",
    "        \n",
    "    return best_seq, best_score, scores_history, temp_history"
   ]
  },
  {
   "cell_type": "code",
   "execution_count": 13,
   "id": "22fbd618",
   "metadata": {},
   "outputs": [],
   "source": [
    "def search_optimal_permutation(\n",
    "    CFG,\n",
    "    id: int, \n",
    "    scorer\n",
    "):\n",
    "    \n",
    "    df = pd.read_csv(CFG.base_file_path)\n",
    "    \n",
    "    \n",
    "    start = time.time()\n",
    "    # 文字列を単語に分割\n",
    "    text = df.loc[id,\"text\"]\n",
    "    words = split_compress(text)\n",
    "    # wordsをソート\n",
    "    words.sort()\n",
    "    text = \" \".join(words)\n",
    "    words = split_compress(text)\n",
    "    \n",
    "    initial_sequence = words[:]\n",
    "    print(\"--------初期配置の組み合わせ計算開始---------\")\n",
    "    initial_sequence, initial_score = shuffle_initialize(\n",
    "        scorer=scorer,\n",
    "        words=words\n",
    "    )\n",
    "    \n",
    "    print(f\"{id}th sample: {initial_sequence}\")\n",
    "    print(f\"Elapsed time: {time.time() - start:.2f} sec\")\n",
    "    print(f\"initial_score: {initial_score}\")\n",
    "    print(\"--------初期配置の組み合わせ計算終了---------\")\n",
    "    \n",
    "    print(\"---------焼きなまし処理開始---------\")\n",
    "    best_sequence, best_score, scores_history, temp_history = search_annealing(\n",
    "        scorer=scorer,\n",
    "        initial_sequence=initial_sequence,\n",
    "        temperature=CFG.temperature,\n",
    "        end_temperature=CFG.end_temperature,\n",
    "        cooling_rate=CFG.cooling_rate,\n",
    "        iteration=CFG.iteration,\n",
    "        batch_size=CFG.batch_size,\n",
    "        interval=CFG.interval,\n",
    "        neighbor_types=CFG.neighbor_types\n",
    "    )\n",
    "    print(\"---------焼きなまし処理終了---------\")\n",
    "    \n",
    "    print(f\"{id}th sample: {best_sequence}\")\n",
    "    print(f\"Elapsed time: {time.time() - start:.2f} sec\")\n",
    "    print(f\"best_score: {best_score}\")\n",
    "    \n",
    "    plot_score_and_temperature(scores_history, temp_history)\n",
    "    \n",
    "    return best_sequence, best_score\n"
   ]
  },
  {
   "cell_type": "code",
   "execution_count": 14,
   "id": "11fb63ab-7127-46fd-97e4-91ffb89bb1b0",
   "metadata": {},
   "outputs": [],
   "source": [
    "# 文字列型にのみダブルクォーテーションを付ける関数\n",
    "def add_quotes_to_strings(value):\n",
    "    if isinstance(value, str):  # 文字列型の場合\n",
    "        return f'\"{value}\"'\n",
    "    return value  # それ以外はそのまま"
   ]
  },
  {
   "cell_type": "code",
   "execution_count": 15,
   "id": "9f775900-1acf-4870-bd4c-37c08b14fcc9",
   "metadata": {},
   "outputs": [
    {
     "name": "stdout",
     "output_type": "stream",
     "text": [
      "cuda\n"
     ]
    },
    {
     "data": {
      "application/vnd.jupyter.widget-view+json": {
       "model_id": "9f060c61e23542b69fb9c061bf467aeb",
       "version_major": 2,
       "version_minor": 0
      },
      "text/plain": [
       "Loading checkpoint shards:   0%|          | 0/8 [00:00<?, ?it/s]"
      ]
     },
     "metadata": {},
     "output_type": "display_data"
    },
    {
     "name": "stderr",
     "output_type": "stream",
     "text": [
      "Some parameters are on the meta device because they were offloaded to the cpu.\n"
     ]
    }
   ],
   "source": [
    "# LOAD GEMMA SCORER\n",
    "scorer = PerplexityCalculator(f'{CFG.path}/gemma_2_9b')"
   ]
  },
  {
   "cell_type": "code",
   "execution_count": 16,
   "id": "e253c6da-f86c-48ba-87e1-022ea5aa2329",
   "metadata": {},
   "outputs": [],
   "source": [
    "# scorer.clear_gpu_memory()"
   ]
  },
  {
   "cell_type": "code",
   "execution_count": 17,
   "id": "8d05bef9",
   "metadata": {},
   "outputs": [
    {
     "name": "stdout",
     "output_type": "stream",
     "text": [
      "Processing 5th sample\n",
      "--------初期配置の組み合わせ計算開始---------\n",
      "5th sample: ['fruitcake', 'give', 'cheer cheer', 'carol', 'dream', 'relax', 'drive', 'not', 'peace', 'hope', 'scrooge', 'family', 'kaggle', 'unwrap', 'with', 'laugh', 'doll', 'chimney chimney', 'angel', 'visit', 'bake', 'have', 'magi', 'star', 'wreath', 'elf', 'believe', 'to', 'grinch', 'jump', 'candle', 'naughty', 'night night', 'sleigh', 'advent', 'milk', 'chocolate', 'eggnog', 'it', 'sing', 'reindeer', 'toy', 'we', 'holiday', 'from', 'stocking', 'wish', 'jingle', 'season', 'ornament ornament', 'in', 'polar', 'paper', 'and and and', 'snowglobe', 'candy', 'eat', 'mistletoe', 'decorations', 'game', 'the the the', 'nutcracker', 'puzzle', 'poinsettia', 'hohoho', 'is', 'peppermint', 'holly', 'as', 'sleep', 'greeting', 'that', 'you', 'card', 'nice', 'yuletide', 'cookie', 'gifts', 'wrapping', 'walk', 'merry', 'of of', 'fireplace fireplace', 'bow', 'workshop workshop', 'wonder', 'gingerbread', 'joy', 'beard']\n",
      "Elapsed time: 1.06 sec\n",
      "initial_score: 762.5886393094895\n",
      "--------初期配置の組み合わせ計算終了---------\n",
      "---------焼きなまし処理開始---------\n",
      "neighbor_types: ['swap', 'insert', 'segment_insert']\n",
      "current_seq: ['fruitcake', 'give', 'cheer cheer', 'carol', 'dream', 'relax', 'drive', 'not', 'peace', 'hope', 'scrooge', 'family', 'kaggle', 'unwrap', 'with', 'laugh', 'doll', 'chimney chimney', 'angel', 'visit', 'bake', 'have', 'magi', 'star', 'wreath', 'elf', 'believe', 'to', 'grinch', 'jump', 'candle', 'naughty', 'night night', 'sleigh', 'advent', 'milk', 'chocolate', 'eggnog', 'it', 'sing', 'reindeer', 'toy', 'we', 'holiday', 'from', 'stocking', 'wish', 'jingle', 'season', 'ornament ornament', 'in', 'polar', 'paper', 'and and and', 'snowglobe', 'candy', 'eat', 'mistletoe', 'decorations', 'game', 'the the the', 'nutcracker', 'puzzle', 'poinsettia', 'hohoho', 'is', 'peppermint', 'holly', 'as', 'sleep', 'greeting', 'that', 'you', 'card', 'nice', 'yuletide', 'cookie', 'gifts', 'wrapping', 'walk', 'merry', 'of of', 'fireplace fireplace', 'bow', 'workshop workshop', 'wonder', 'gingerbread', 'joy', 'beard']\n",
      "current_score: 762.5886393094895\n",
      "current_seq: ['wrapping', 'merry', 'wreath', 'mistletoe', 'ornament ornament', 'game', 'jingle', 'candle', 'poinsettia', 'visit', 'nice', 'peppermint', 'carol', 'bake', 'walk', 'unwrap', 'eggnog', 'that', 'gingerbread', 'stocking', 'angel', 'yuletide', 'peace', 'of of', 'nutcracker', 'beard', 'holly', 'toy', 'sleigh', 'give', 'reindeer', 'scrooge', 'is', 'believe', 'eat', 'kaggle', 'paper', 'chocolate', 'and and and', 'night night', 'wonder', 'hohoho', 'polar', 'chimney chimney', 'grinch', 'cookie', 'it', 'hope', 'with', 'sleep', 'jump', 'relax', 'drive', 'the the the', 'fireplace fireplace', 'joy', 'card', 'family', 'star', 'not', 'doll', 'you', 'advent', 'to', 'decorations', 'season', 'workshop workshop', 'fruitcake', 'elf', 'milk', 'laugh', 'puzzle', 'from', 'gifts', 'wish', 'have', 'dream', 'snowglobe', 'naughty', 'magi', 'we', 'bow', 'as', 'cheer cheer', 'in', 'sing', 'greeting', 'candy', 'holiday']\n",
      "current_score: 796.0703011721198\n",
      "current_seq: ['in', 'star', 'magi', 'greeting', 'carol', 'walk', 'visit', 'fireplace fireplace', 'peace', 'peppermint', 'hope', 'candle', 'polar', 'kaggle', 'season', 'wrapping', 'sing', 'drive', 'is', 'reindeer', 'grinch', 'beard', 'milk', 'not', 'merry', 'unwrap', 'relax', 'believe', 'fruitcake', 'you', 'workshop workshop', 'nutcracker', 'decorations', 'of of', 'with', 'we', 'to', 'candy', 'joy', 'cookie', 'stocking', 'bake', 'hohoho', 'night night', 'poinsettia', 'jingle', 'angel', 'wreath', 'mistletoe', 'the the the', 'card', 'doll', 'chocolate', 'it', 'yuletide', 'elf', 'puzzle', 'jump', 'sleigh', 'dream', 'as', 'laugh', 'chimney chimney', 'eat', 'scrooge', 'wish', 'holly', 'and and and', 'family', 'toy', 'gingerbread', 'give', 'ornament ornament', 'nice', 'gifts', 'wonder', 'naughty', 'bow', 'cheer cheer', 'paper', 'holiday', 'have', 'eggnog', 'snowglobe', 'from', 'advent', 'sleep', 'that', 'game']\n",
      "current_score: 990.7254970041143\n",
      "current_seq: ['cheer cheer', 'peppermint', 'bake', 'walk', 'unwrap', 'eggnog', 'magi', 'star', 'of of', 'sing', 'nutcracker', 'candy', 'greeting', 'doll', 'stocking', 'as', 'holly', 'poinsettia', 'card', 'dream', 'that', 'we', 'cookie', 'wreath', 'reindeer', 'gifts', 'jingle', 'drive', 'in', 'bow', 'the the the', 'fruitcake', 'yuletide', 'puzzle', 'visit', 'is', 'chocolate', 'jump', 'have', 'polar', 'you', 'eat', 'hope', 'candle', 'elf', 'wrapping', 'grinch', 'to', 'kaggle', 'workshop workshop', 'wish', 'from', 'season', 'angel', 'ornament ornament', 'and and and', 'beard', 'nice', 'fireplace fireplace', 'milk', 'family', 'hohoho', 'give', 'believe', 'with', 'it', 'laugh', 'chimney chimney', 'not', 'mistletoe', 'sleep', 'toy', 'scrooge', 'sleigh', 'night night', 'relax', 'peace', 'wonder', 'joy', 'naughty', 'paper', 'advent', 'carol', 'game', 'merry', 'gingerbread', 'decorations', 'snowglobe', 'holiday']\n",
      "current_score: 699.7906717746478\n"
     ]
    },
    {
     "data": {
      "application/vnd.jupyter.widget-view+json": {
       "model_id": "ff67700a0d964c4f9dbf9c687f4278f8",
       "version_major": 2,
       "version_minor": 0
      },
      "text/plain": [
       "  0%|          | 0/100 [00:00<?, ?it/s]"
      ]
     },
     "metadata": {},
     "output_type": "display_data"
    },
    {
     "name": "stdout",
     "output_type": "stream",
     "text": [
      "iter :0, best_score: 762.5886393094895, temperature: 99.99\n",
      "iter :10, best_score: 762.5886393094895, temperature: 99.980001\n",
      "iter 14: best_score: 742.0191118159325\n",
      "best_seq: ['toy', 'wish', 'believe', 'holiday', 'magi', 'of of', 'dream', 'polar', 'is', 'yuletide', 'that', 'candle', 'reindeer', 'bake', 'puzzle', 'sleigh', 'night night', 'sleep', 'jump', 'beard', 'elf', 'bow', 'peace', 'hope', 'candy', 'cheer cheer', 'have', 'drive', 'greeting', 'walk', 'card', 'it', 'cookie', 'jingle', 'workshop workshop', 'kaggle', 'grinch', 'with', 'eat', 'carol', 'holly', 'paper', 'from', 'we', 'advent', 'star', 'eggnog', 'fireplace fireplace', 'game', 'family', 'angel', 'gifts', 'wreath', 'doll', 'stocking', 'joy', 'the the the', 'naughty', 'you', 'ornament ornament', 'gingerbread', 'as', 'in', 'wrapping', 'mistletoe', 'scrooge', 'merry', 'visit', 'and and and', 'hohoho', 'poinsettia', 'give', 'laugh', 'season', 'snowglobe', 'chocolate', 'to', 'sing', 'chimney chimney', 'not', 'unwrap', 'peppermint', 'fruitcake', 'nutcracker', 'wonder', 'milk', 'nice', 'decorations', 'relax']\n",
      "iter 15: best_score: 727.6671630214879\n",
      "best_seq: ['toy', 'wish', 'believe', 'holiday', 'magi', 'of of', 'dream', 'polar', 'is', 'yuletide', 'that', 'candle', 'reindeer', 'bake', 'puzzle', 'sleigh', 'night night', 'sleep', 'jump', 'beard', 'elf', 'cheer cheer', 'have', 'drive', 'greeting', 'walk', 'card', 'it', 'cookie', 'jingle', 'workshop workshop', 'kaggle', 'grinch', 'with', 'eat', 'carol', 'holly', 'paper', 'from', 'we', 'advent', 'star', 'eggnog', 'fireplace fireplace', 'game', 'family', 'angel', 'gifts', 'wreath', 'doll', 'stocking', 'joy', 'the the the', 'naughty', 'you', 'ornament ornament', 'gingerbread', 'as', 'in', 'wrapping', 'mistletoe', 'bow', 'peace', 'hope', 'candy', 'scrooge', 'merry', 'visit', 'and and and', 'hohoho', 'poinsettia', 'give', 'laugh', 'season', 'snowglobe', 'chocolate', 'to', 'sing', 'chimney chimney', 'not', 'unwrap', 'peppermint', 'fruitcake', 'nutcracker', 'wonder', 'milk', 'nice', 'decorations', 'relax']\n",
      "iter :20, best_score: 727.6671630214879, temperature: 99.9700029999\n",
      "iter 22: best_score: 699.7906717746478\n",
      "best_seq: ['toy', 'wish', 'believe', 'holiday', 'magi', 'of of', 'polar', 'is', 'yuletide', 'game', 'the the the', 'visit', 'nutcracker', 'workshop workshop', 'puzzle', 'walk', 'candy', 'candle', 'and and and', 'drive', 'merry', 'chocolate', 'give', 'laugh', 'poinsettia', 'that', 'we', 'cookie', 'jingle', 'bake', 'kaggle', 'reindeer', 'with', 'joy', 'to', 'sing', 'chimney chimney', 'not', 'paper', 'card', 'it', 'elf', 'peace', 'hope', 'from', 'hohoho', 'advent', 'star', 'eggnog', 'unwrap', 'fireplace fireplace', 'wreath', 'family', 'angel', 'gifts', 'cheer cheer', 'have', 'doll', 'stocking', 'sleep', 'you', 'naughty', 'gingerbread', 'as', 'dream', 'wrapping', 'mistletoe', 'scrooge', 'beard', 'wonder', 'milk', 'nice', 'decorations', 'fruitcake', 'bow', 'season', 'sleigh', 'grinch', 'night night', 'jump', 'greeting', 'relax', 'ornament ornament', 'eat', 'carol', 'holly', 'snowglobe', 'peppermint', 'in']\n",
      "iter 25: best_score: 675.6160896504167\n",
      "best_seq: ['toy', 'wish', 'believe', 'holiday', 'magi', 'of of', 'polar', 'is', 'yuletide', 'game', 'the the the', 'visit', 'nutcracker', 'workshop workshop', 'puzzle', 'walk', 'candy', 'candle', 'drive', 'merry', 'chocolate', 'give', 'laugh', 'poinsettia', 'that', 'we', 'cookie', 'jingle', 'bake', 'kaggle', 'reindeer', 'with', 'joy', 'to', 'sing', 'chimney chimney', 'not', 'paper', 'card', 'it', 'peace', 'hope', 'from', 'hohoho', 'advent', 'star', 'eggnog', 'unwrap', 'fireplace fireplace', 'wreath', 'family', 'angel', 'stocking', 'sleep', 'you', 'naughty', 'gingerbread', 'as', 'dream', 'wrapping', 'mistletoe', 'scrooge', 'beard', 'wonder', 'milk', 'nice', 'decorations', 'fruitcake', 'elf', 'bow', 'gifts', 'cheer cheer', 'have', 'doll', 'season', 'sleigh', 'grinch', 'night night', 'jump', 'greeting', 'relax', 'and and and', 'ornament ornament', 'eat', 'carol', 'holly', 'snowglobe', 'peppermint', 'in']\n",
      "iter 29: best_score: 657.3924983001216\n",
      "best_seq: ['toy', 'wish', 'believe', 'grinch', 'holiday', 'magi', 'of of', 'polar', 'is', 'yuletide', 'game', 'the the the', 'visit', 'nutcracker', 'workshop workshop', 'puzzle', 'walk', 'ornament ornament', 'candle', 'drive', 'merry', 'chocolate', 'give', 'laugh', 'poinsettia', 'eggnog', 'that', 'we', 'cookie', 'jingle', 'bake', 'kaggle', 'reindeer', 'with', 'joy', 'to', 'sing', 'chimney chimney', 'not', 'paper', 'card', 'it', 'peace', 'hope', 'from', 'hohoho', 'advent', 'star', 'unwrap', 'fireplace fireplace', 'wreath', 'family', 'angel', 'stocking', 'sleep', 'you', 'naughty', 'gingerbread', 'as', 'dream', 'wrapping', 'mistletoe', 'scrooge', 'beard', 'wonder', 'milk', 'nice', 'decorations', 'fruitcake', 'elf', 'bow', 'gifts', 'cheer cheer', 'have', 'doll', 'season', 'sleigh', 'night night', 'jump', 'greeting', 'relax', 'and and and', 'candy', 'eat', 'carol', 'holly', 'snowglobe', 'peppermint', 'in']\n",
      "iter :30, best_score: 657.3924983001216, temperature: 99.96000599960001\n",
      "iter 34: best_score: 654.829567836133\n",
      "best_seq: ['toy', 'wish', 'believe', 'grinch', 'holiday', 'magi', 'of of', 'polar', 'is', 'yuletide', 'it', 'the the the', 'advent', 'nutcracker', 'workshop workshop', 'puzzle', 'walk', 'kaggle', 'reindeer', 'with', 'joy', 'ornament ornament', 'candle', 'drive', 'naughty', 'merry', 'chocolate', 'give', 'laugh', 'poinsettia', 'eggnog', 'that', 'we', 'cookie', 'jingle', 'bake', 'to', 'sing', 'chimney chimney', 'not', 'paper', 'card', 'game', 'peace', 'hope', 'from', 'hohoho', 'visit', 'star', 'unwrap', 'fireplace fireplace', 'wreath', 'family', 'angel', 'stocking', 'sleep', 'you', 'gingerbread', 'as', 'dream', 'wrapping', 'mistletoe', 'scrooge', 'beard', 'wonder', 'milk', 'nice', 'decorations', 'fruitcake', 'elf', 'bow', 'gifts', 'cheer cheer', 'have', 'doll', 'season', 'sleigh', 'night night', 'jump', 'greeting', 'relax', 'eat', 'candy', 'and and and', 'carol', 'holly', 'snowglobe', 'peppermint', 'in']\n",
      "iter 35: best_score: 629.7434410413515\n",
      "best_seq: ['toy', 'wish', 'believe', 'grinch', 'holiday', 'magi', 'of of', 'polar', 'is', 'yuletide', 'it', 'the the the', 'advent', 'nutcracker', 'chimney chimney', 'not', 'paper', 'card', 'game', 'workshop workshop', 'puzzle', 'walk', 'kaggle', 'reindeer', 'with', 'joy', 'ornament ornament', 'candle', 'drive', 'naughty', 'merry', 'chocolate', 'give', 'laugh', 'poinsettia', 'eggnog', 'that', 'we', 'cookie', 'jingle', 'bake', 'to', 'sing', 'peace', 'hope', 'from', 'hohoho', 'visit', 'star', 'unwrap', 'fireplace fireplace', 'wreath', 'family', 'angel', 'stocking', 'sleep', 'you', 'gingerbread', 'as', 'dream', 'wrapping', 'mistletoe', 'scrooge', 'beard', 'wonder', 'milk', 'nice', 'decorations', 'fruitcake', 'elf', 'bow', 'gifts', 'cheer cheer', 'have', 'doll', 'season', 'sleigh', 'night night', 'jump', 'greeting', 'relax', 'eat', 'candy', 'and and and', 'carol', 'holly', 'snowglobe', 'peppermint', 'in']\n",
      "iter 37: best_score: 617.56310029872\n",
      "best_seq: ['toy', 'wish', 'believe', 'grinch', 'holiday', 'magi', 'yuletide', 'it', 'the the the', 'of of', 'polar', 'is', 'advent', 'nutcracker', 'chimney chimney', 'not', 'paper', 'card', 'game', 'workshop workshop', 'puzzle', 'visit', 'walk', 'kaggle', 'reindeer', 'with', 'joy', 'ornament ornament', 'candle', 'drive', 'naughty', 'merry', 'chocolate', 'give', 'laugh', 'poinsettia', 'eggnog', 'that', 'we', 'cookie', 'jingle', 'bake', 'to', 'sing', 'peace', 'hope', 'from', 'hohoho', 'star', 'unwrap', 'fireplace fireplace', 'wreath', 'family', 'angel', 'stocking', 'sleep', 'you', 'gingerbread', 'as', 'dream', 'wrapping', 'mistletoe', 'scrooge', 'beard', 'wonder', 'milk', 'nice', 'decorations', 'fruitcake', 'elf', 'bow', 'gifts', 'cheer cheer', 'have', 'doll', 'season', 'sleigh', 'night night', 'jump', 'greeting', 'relax', 'eat', 'candy', 'and and and', 'carol', 'holly', 'snowglobe', 'peppermint', 'in']\n",
      "iter 39: best_score: 615.1554499417665\n",
      "best_seq: ['toy', 'wish', 'believe', 'grinch', 'holiday', 'magi', 'yuletide', 'it', 'the the the', 'of of', 'polar', 'is', 'advent', 'nutcracker', 'chimney chimney', 'not', 'paper', 'card', 'game', 'workshop workshop', 'puzzle', 'visit', 'walk', 'kaggle', 'reindeer', 'with', 'joy', 'ornament ornament', 'candle', 'drive', 'naughty', 'merry', 'chocolate', 'give', 'laugh', 'poinsettia', 'eggnog', 'that', 'we', 'cookie', 'jingle', 'bake', 'to', 'sing', 'peace', 'hope', 'from', 'hohoho', 'star', 'unwrap', 'fireplace fireplace', 'wreath', 'family', 'angel', 'jump', 'stocking', 'sleep', 'you', 'gingerbread', 'as', 'dream', 'wrapping', 'mistletoe', 'scrooge', 'beard', 'wonder', 'milk', 'nice', 'decorations', 'fruitcake', 'elf', 'bow', 'gifts', 'cheer cheer', 'have', 'doll', 'greeting', 'sleigh', 'night night', 'season', 'relax', 'eat', 'candy', 'and and and', 'carol', 'holly', 'snowglobe', 'peppermint', 'in']\n",
      "iter 40: best_score: 600.905389292032\n",
      "best_seq: ['toy', 'wish', 'believe', 'grinch', 'holiday', 'magi', 'yuletide', 'it', 'the the the', 'of of', 'polar', 'is', 'advent', 'nutcracker', 'chimney chimney', 'not', 'paper', 'card', 'game', 'workshop workshop', 'puzzle', 'visit', 'walk', 'kaggle', 'reindeer', 'with', 'joy', 'ornament ornament', 'candle', 'nice', 'naughty', 'merry', 'chocolate', 'give', 'laugh', 'poinsettia', 'eggnog', 'that', 'we', 'cookie', 'jingle', 'bake', 'to', 'sing', 'peace', 'hope', 'from', 'hohoho', 'star', 'unwrap', 'fireplace fireplace', 'wreath', 'family', 'angel', 'jump', 'stocking', 'sleep', 'you', 'gingerbread', 'as', 'dream', 'wrapping', 'mistletoe', 'scrooge', 'beard', 'wonder', 'milk', 'drive', 'decorations', 'fruitcake', 'elf', 'bow', 'gifts', 'cheer cheer', 'have', 'doll', 'greeting', 'sleigh', 'night night', 'season', 'relax', 'eat', 'candy', 'and and and', 'carol', 'holly', 'snowglobe', 'peppermint', 'in']\n",
      "iter :40, best_score: 600.905389292032, temperature: 99.95000999900006\n",
      "iter :50, best_score: 600.905389292032, temperature: 99.94001499800017\n",
      "iter :60, best_score: 600.905389292032, temperature: 99.93002099650036\n",
      "iter :70, best_score: 600.905389292032, temperature: 99.92002799440071\n",
      "iter :80, best_score: 600.905389292032, temperature: 99.91003599160128\n",
      "iter :90, best_score: 600.905389292032, temperature: 99.90004498800212\n",
      "---------焼きなまし処理終了---------\n",
      "5th sample: ['toy', 'wish', 'believe', 'grinch', 'holiday', 'magi', 'yuletide', 'it', 'the the the', 'of of', 'polar', 'is', 'advent', 'nutcracker', 'chimney chimney', 'not', 'paper', 'card', 'game', 'workshop workshop', 'puzzle', 'visit', 'walk', 'kaggle', 'reindeer', 'with', 'joy', 'ornament ornament', 'candle', 'nice', 'naughty', 'merry', 'chocolate', 'give', 'laugh', 'poinsettia', 'eggnog', 'that', 'we', 'cookie', 'jingle', 'bake', 'to', 'sing', 'peace', 'hope', 'from', 'hohoho', 'star', 'unwrap', 'fireplace fireplace', 'wreath', 'family', 'angel', 'jump', 'stocking', 'sleep', 'you', 'gingerbread', 'as', 'dream', 'wrapping', 'mistletoe', 'scrooge', 'beard', 'wonder', 'milk', 'drive', 'decorations', 'fruitcake', 'elf', 'bow', 'gifts', 'cheer cheer', 'have', 'doll', 'greeting', 'sleigh', 'night night', 'season', 'relax', 'eat', 'candy', 'and and and', 'carol', 'holly', 'snowglobe', 'peppermint', 'in']\n",
      "Elapsed time: 126.95 sec\n",
      "best_score: 600.905389292032\n"
     ]
    },
    {
     "data": {
      "image/png": "[encoded data removed]",
      "text/plain": [
       "<Figure size 800x500 with 2 Axes>"
      ]
     },
     "metadata": {},
     "output_type": "display_data"
    },
    {
     "name": "stdout",
     "output_type": "stream",
     "text": [
      "Best sequence: ['toy', 'wish', 'believe', 'grinch', 'holiday', 'magi', 'yuletide', 'it', 'the the the', 'of of', 'polar', 'is', 'advent', 'nutcracker', 'chimney chimney', 'not', 'paper', 'card', 'game', 'workshop workshop', 'puzzle', 'visit', 'walk', 'kaggle', 'reindeer', 'with', 'joy', 'ornament ornament', 'candle', 'nice', 'naughty', 'merry', 'chocolate', 'give', 'laugh', 'poinsettia', 'eggnog', 'that', 'we', 'cookie', 'jingle', 'bake', 'to', 'sing', 'peace', 'hope', 'from', 'hohoho', 'star', 'unwrap', 'fireplace fireplace', 'wreath', 'family', 'angel', 'jump', 'stocking', 'sleep', 'you', 'gingerbread', 'as', 'dream', 'wrapping', 'mistletoe', 'scrooge', 'beard', 'wonder', 'milk', 'drive', 'decorations', 'fruitcake', 'elf', 'bow', 'gifts', 'cheer cheer', 'have', 'doll', 'greeting', 'sleigh', 'night night', 'season', 'relax', 'eat', 'candy', 'and and and', 'carol', 'holly', 'snowglobe', 'peppermint', 'in']\n",
      "Best score: 600.905389292032\n"
     ]
    },
    {
     "name": "stderr",
     "output_type": "stream",
     "text": [
      "/tmp/ipykernel_37/1733285752.py:12: FutureWarning: Setting an item of incompatible dtype is deprecated and will raise an error in a future version of pandas. Value '600.905389292032' has dtype incompatible with int64, please explicitly cast to a compatible dtype first.\n",
      "  sub_df.loc[i, \"best_value\"] = best_score\n"
     ]
    }
   ],
   "source": [
    "for i in [5]:\n",
    "    \n",
    "    print(f\"Processing {i}th sample\")\n",
    "    best_sequence, best_score = search_optimal_permutation(\n",
    "        CFG,\n",
    "        id=i,\n",
    "        scorer=scorer,\n",
    "    )\n",
    "    \n",
    "    print(\"Best sequence:\", best_sequence)\n",
    "    print(\"Best score:\", best_score)\n",
    "    sub_df.loc[i, \"best_value\"] = best_score\n",
    "    sub_df.loc[i, \"text\"] = \" \".join(best_sequence)\n",
    "\n"
   ]
  },
  {
   "cell_type": "code",
   "execution_count": 18,
   "id": "8957eb19",
   "metadata": {},
   "outputs": [
    {
     "data": {
      "text/html": [
       "<div>\n",
       "<style scoped>\n",
       "    .dataframe tbody tr th:only-of-type {\n",
       "        vertical-align: middle;\n",
       "    }\n",
       "\n",
       "    .dataframe tbody tr th {\n",
       "        vertical-align: top;\n",
       "    }\n",
       "\n",
       "    .dataframe thead th {\n",
       "        text-align: right;\n",
       "    }\n",
       "</style>\n",
       "<table border=\"1\" class=\"dataframe\">\n",
       "  <thead>\n",
       "    <tr style=\"text-align: right;\">\n",
       "      <th></th>\n",
       "      <th>id</th>\n",
       "      <th>text</th>\n",
       "      <th>best_value</th>\n",
       "    </tr>\n",
       "  </thead>\n",
       "  <tbody>\n",
       "    <tr>\n",
       "      <th>0</th>\n",
       "      <td>0</td>\n",
       "      <td>reindeer mistletoe elf gingerbread family adve...</td>\n",
       "      <td>0.000000</td>\n",
       "    </tr>\n",
       "    <tr>\n",
       "      <th>1</th>\n",
       "      <td>1</td>\n",
       "      <td>reindeer sleep walk the night and drive mistle...</td>\n",
       "      <td>0.000000</td>\n",
       "    </tr>\n",
       "    <tr>\n",
       "      <th>2</th>\n",
       "      <td>2</td>\n",
       "      <td>jingle yuletide carol cheer holly stocking chi...</td>\n",
       "      <td>0.000000</td>\n",
       "    </tr>\n",
       "    <tr>\n",
       "      <th>3</th>\n",
       "      <td>3</td>\n",
       "      <td>sleigh the holly jingle unwrap gifts of magi r...</td>\n",
       "      <td>0.000000</td>\n",
       "    </tr>\n",
       "    <tr>\n",
       "      <th>4</th>\n",
       "      <td>4</td>\n",
       "      <td>peppermint candy milk chocolate eggnog fruitca...</td>\n",
       "      <td>0.000000</td>\n",
       "    </tr>\n",
       "    <tr>\n",
       "      <th>5</th>\n",
       "      <td>5</td>\n",
       "      <td>toy wish believe grinch holiday magi yuletide ...</td>\n",
       "      <td>600.905389</td>\n",
       "    </tr>\n",
       "  </tbody>\n",
       "</table>\n",
       "</div>"
      ],
      "text/plain": [
       "   id                                               text  best_value\n",
       "0   0  reindeer mistletoe elf gingerbread family adve...    0.000000\n",
       "1   1  reindeer sleep walk the night and drive mistle...    0.000000\n",
       "2   2  jingle yuletide carol cheer holly stocking chi...    0.000000\n",
       "3   3  sleigh the holly jingle unwrap gifts of magi r...    0.000000\n",
       "4   4  peppermint candy milk chocolate eggnog fruitca...    0.000000\n",
       "5   5  toy wish believe grinch holiday magi yuletide ...  600.905389"
      ]
     },
     "execution_count": 18,
     "metadata": {},
     "output_type": "execute_result"
    }
   ],
   "source": [
    "sub_df"
   ]
  },
  {
   "cell_type": "code",
   "execution_count": 19,
   "id": "a86cf297-51e3-44ee-b06d-069e0b8d8ad7",
   "metadata": {},
   "outputs": [
    {
     "name": "stderr",
     "output_type": "stream",
     "text": [
      "/tmp/ipykernel_37/428122046.py:3: FutureWarning: DataFrame.applymap has been deprecated. Use DataFrame.map instead.\n",
      "  sub_df = sub_df.applymap(add_quotes_to_strings)\n"
     ]
    }
   ],
   "source": [
    "# 各セルに関数を適用\n",
    "sub_df[\"text\"] = sub_df[\"text\"].astype(str)\n",
    "sub_df = sub_df.applymap(add_quotes_to_strings)"
   ]
  },
  {
   "cell_type": "code",
   "execution_count": 20,
   "id": "4ee1cb10",
   "metadata": {},
   "outputs": [],
   "source": [
    "sub_df[[\"id\", \"text\"]].to_csv(f\"{CFG.path}/out/submission_{ex_num}.csv\", index=False, header=True, quoting=csv.QUOTE_NONE)\n",
    "sub_df.to_csv(f\"{CFG.path}/out/score_{ex_num}.csv\", index=False, header=True, quoting=csv.QUOTE_NONE)"
   ]
  },
  {
   "cell_type": "code",
   "execution_count": 21,
   "id": "7a35d3d2-72c9-4488-8e04-a73b68118fdf",
   "metadata": {},
   "outputs": [
    {
     "data": {
      "text/plain": [
       "np.float64(100.15089821533867)"
      ]
     },
     "execution_count": 21,
     "metadata": {},
     "output_type": "execute_result"
    }
   ],
   "source": [
    "np.mean(sub_df[\"best_value\"])"
   ]
  },
  {
   "cell_type": "code",
   "execution_count": null,
   "id": "461f0e43-0397-4f53-b3e6-90934401ba66",
   "metadata": {},
   "outputs": [],
   "source": []
  }
 ],
 "metadata": {
  "kernelspec": {
   "display_name": "Python 3 (ipykernel)",
   "language": "python",
   "name": "python3"
  }
 },
 "nbformat": 4,
 "nbformat_minor": 5
}
