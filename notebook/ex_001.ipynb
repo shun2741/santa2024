{
 "cells": [
  {
   "cell_type": "markdown",
   "id": "fe88e1c1",
   "metadata": {},
   "source": [
    "# とりあえず練習用で山登り法のNotebook"
   ]
  },
  {
   "cell_type": "markdown",
   "id": "5b9a260d",
   "metadata": {},
   "source": [
    "### パッケージ"
   ]
  },
  {
   "cell_type": "code",
   "execution_count": 1,
   "id": "bf539a6a",
   "metadata": {},
   "outputs": [],
   "source": [
    "ex_num = \"000\""
   ]
  },
  {
   "cell_type": "code",
   "execution_count": 2,
   "id": "b32508c5",
   "metadata": {},
   "outputs": [],
   "source": [
    "import os\n",
    "# 環境によって変更\n",
    "os.chdir('/home/jovyan/work/notebook')\n",
    "\n",
    "path = \"../../output\"\n",
    "path = \"../model\""
   ]
  },
  {
   "cell_type": "code",
   "execution_count": 3,
   "id": "6806febe",
   "metadata": {},
   "outputs": [],
   "source": [
    "import numpy as np\n",
    "import pandas as pd\n",
    "import os\n",
    "import time\n",
    "import csv\n",
    "\n",
    "from tqdm.notebook import tqdm\n",
    "\n",
    "import random\n",
    "from typing import List, Callable\n",
    "import itertools, math\n",
    "from typing import List, Tuple\n",
    "\n",
    "from utils import PerplexityCalculator"
   ]
  },
  {
   "cell_type": "markdown",
   "id": "8ea9236c",
   "metadata": {},
   "source": [
    "### データ読み込み"
   ]
  },
  {
   "cell_type": "code",
   "execution_count": 4,
   "id": "6f960148",
   "metadata": {},
   "outputs": [],
   "source": [
    "df = pd.read_csv(\"../input/sample_submission.csv\")"
   ]
  },
  {
   "cell_type": "code",
   "execution_count": 5,
   "id": "ec832545",
   "metadata": {},
   "outputs": [],
   "source": [
    "sub_df = df.copy()\n",
    "sub_df[\"best_value\"] = 0"
   ]
  },
  {
   "cell_type": "code",
   "execution_count": 6,
   "id": "3d9e3929",
   "metadata": {},
   "outputs": [
    {
     "data": {
      "text/html": [
       "<div>\n",
       "<style scoped>\n",
       "    .dataframe tbody tr th:only-of-type {\n",
       "        vertical-align: middle;\n",
       "    }\n",
       "\n",
       "    .dataframe tbody tr th {\n",
       "        vertical-align: top;\n",
       "    }\n",
       "\n",
       "    .dataframe thead th {\n",
       "        text-align: right;\n",
       "    }\n",
       "</style>\n",
       "<table border=\"1\" class=\"dataframe\">\n",
       "  <thead>\n",
       "    <tr style=\"text-align: right;\">\n",
       "      <th></th>\n",
       "      <th>id</th>\n",
       "      <th>text</th>\n",
       "    </tr>\n",
       "  </thead>\n",
       "  <tbody>\n",
       "    <tr>\n",
       "      <th>0</th>\n",
       "      <td>0</td>\n",
       "      <td>advent chimney elf family fireplace gingerbrea...</td>\n",
       "    </tr>\n",
       "    <tr>\n",
       "      <th>1</th>\n",
       "      <td>1</td>\n",
       "      <td>advent chimney elf family fireplace gingerbrea...</td>\n",
       "    </tr>\n",
       "    <tr>\n",
       "      <th>2</th>\n",
       "      <td>2</td>\n",
       "      <td>yuletide decorations gifts cheer holiday carol...</td>\n",
       "    </tr>\n",
       "    <tr>\n",
       "      <th>3</th>\n",
       "      <td>3</td>\n",
       "      <td>yuletide decorations gifts cheer holiday carol...</td>\n",
       "    </tr>\n",
       "    <tr>\n",
       "      <th>4</th>\n",
       "      <td>4</td>\n",
       "      <td>hohoho candle poinsettia snowglobe peppermint ...</td>\n",
       "    </tr>\n",
       "    <tr>\n",
       "      <th>5</th>\n",
       "      <td>5</td>\n",
       "      <td>advent chimney elf family fireplace gingerbrea...</td>\n",
       "    </tr>\n",
       "  </tbody>\n",
       "</table>\n",
       "</div>"
      ],
      "text/plain": [
       "   id                                               text\n",
       "0   0  advent chimney elf family fireplace gingerbrea...\n",
       "1   1  advent chimney elf family fireplace gingerbrea...\n",
       "2   2  yuletide decorations gifts cheer holiday carol...\n",
       "3   3  yuletide decorations gifts cheer holiday carol...\n",
       "4   4  hohoho candle poinsettia snowglobe peppermint ...\n",
       "5   5  advent chimney elf family fireplace gingerbrea..."
      ]
     },
     "execution_count": 6,
     "metadata": {},
     "output_type": "execute_result"
    }
   ],
   "source": [
    "df"
   ]
  },
  {
   "cell_type": "markdown",
   "id": "2b855d16",
   "metadata": {},
   "source": [
    "### 関数"
   ]
  },
  {
   "cell_type": "code",
   "execution_count": 7,
   "id": "c0af6476",
   "metadata": {},
   "outputs": [],
   "source": [
    "def simulated_annealing(\n",
    "    scorer,\n",
    "    initial_sequence: List[str],\n",
    "    max_iterations: int = 1000,\n",
    "    BATCH_SIZE: int = 32,\n",
    "    initial_temperature: float = 100.0,\n",
    "    cooling_rate: float = 0.99\n",
    ") -> Tuple[List[str], float]:\n",
    "    \"\"\"\n",
    "    焼きなまし法で最適な順序を探索する。\n",
    "\n",
    "    Args:\n",
    "        scorer: 評価関数を提供するオブジェクト。\n",
    "        initial_sequence (List[str]): 初期の文字列リスト。\n",
    "        max_iterations (int): 最大反復回数。\n",
    "        BATCH_SIZE (int): バッチサイズ。\n",
    "        initial_temperature (float): 初期温度。\n",
    "        cooling_rate (float): 冷却率。\n",
    "\n",
    "    Returns:\n",
    "        Tuple[List[str], float]: 最適な順序とその評価値。\n",
    "    \"\"\"\n",
    "    current_sequence = initial_sequence\n",
    "    current_value = scorer.get_perplexity(\" \".join(current_sequence), batch_size=1)\n",
    "\n",
    "    best_sequence = current_sequence\n",
    "    best_value = current_value\n",
    "\n",
    "    temperature = initial_temperature\n",
    "\n",
    "    perms = []\n",
    "\n",
    "    for iteration in tqdm(range(max_iterations)):\n",
    "        # 隣接解を生成（ランダムに要素を入れ替え）\n",
    "        neighbor_sequence = current_sequence[:]\n",
    "        i, j = random.sample(range(len(current_sequence)), 2)\n",
    "        neighbor_sequence[i], neighbor_sequence[j] = neighbor_sequence[j], neighbor_sequence[i]\n",
    "\n",
    "        perms.append(\" \".join(neighbor_sequence))\n",
    "\n",
    "        if len(perms) == BATCH_SIZE:\n",
    "            # 評価値を計算\n",
    "            neighbor_values = scorer.get_perplexity(perms, batch_size=BATCH_SIZE)\n",
    "\n",
    "            for neighbor_value, perm in zip(neighbor_values, perms):\n",
    "                # 確率的に次の状態を受け入れるかを決定\n",
    "                delta = neighbor_value - current_value\n",
    "                acceptance_probability = math.exp(-delta / temperature) if delta > 0 else 1.0\n",
    "\n",
    "                if random.random() < acceptance_probability:\n",
    "                    current_sequence = perm.split(\" \")\n",
    "                    current_value = neighbor_value\n",
    "\n",
    "                # ベスト解を更新\n",
    "                if neighbor_value < best_value:\n",
    "                    best_sequence = perm.split(\" \")\n",
    "                    best_value = neighbor_value\n",
    "                    print(f\"New best = {best_value} with '{best_sequence}'\")\n",
    "\n",
    "            # バッチリセット\n",
    "            perms = []\n",
    "\n",
    "            # 温度を更新\n",
    "            temperature *= cooling_rate\n",
    "                      \n",
    "            # 温度が非常に低くなったら終了\n",
    "            if temperature < 1e-5:\n",
    "                break\n",
    "            \n",
    "        # iteration100回ごとに現在の温度を表示\n",
    "        if iteration % 100 == 0:\n",
    "            print(f\"Iteration {iteration}, Temperature = {temperature}\")\n",
    "\n",
    "    return best_sequence, best_value"
   ]
  },
  {
   "cell_type": "code",
   "execution_count": 8,
   "id": "22fbd618",
   "metadata": {},
   "outputs": [],
   "source": [
    "def search_optimal_permutation(id: int, scorer, max_iterations: int = 1000, BATCH_SIZE=64):\n",
    "    \n",
    "    df = pd.read_csv(\"../input/sample_submission.csv\")\n",
    "    \n",
    "    # 文字列を単語に分割\n",
    "    words = df.loc[id,\"text\"].split()\n",
    "    \n",
    "    # 初期順序をシャッフル\n",
    "    initial_sequence = words\n",
    "    random.shuffle(initial_sequence)\n",
    "    \n",
    "    start = time.time()\n",
    "    \n",
    "    # SAで最適な順序を探索\n",
    "    best_sequence, best_value = simulated_annealing(\n",
    "        scorer,\n",
    "        initial_sequence=initial_sequence,\n",
    "        max_iterations=max_iterations,\n",
    "        BATCH_SIZE=BATCH_SIZE,\n",
    "        initial_temperature=100.0,\n",
    "        cooling_rate=0.99\n",
    "    )\n",
    "    \n",
    "    print(f\"{id}th sample: {best_sequence}\")\n",
    "    print(f\"Elapsed time: {time.time() - start:.2f} sec\")\n",
    "    print(f\"Best value: {best_value}\")\n",
    "    \n",
    "    return best_sequence, best_value\n"
   ]
  },
  {
   "cell_type": "code",
   "execution_count": 9,
   "id": "11fb63ab-7127-46fd-97e4-91ffb89bb1b0",
   "metadata": {},
   "outputs": [],
   "source": [
    "# 文字列型にのみダブルクォーテーションを付ける関数\n",
    "def add_quotes_to_strings(value):\n",
    "    if isinstance(value, str):  # 文字列型の場合\n",
    "        return f'\"{value}\"'\n",
    "    return value  # それ以外はそのまま"
   ]
  },
  {
   "cell_type": "code",
   "execution_count": 10,
   "id": "9f775900-1acf-4870-bd4c-37c08b14fcc9",
   "metadata": {},
   "outputs": [
    {
     "name": "stdout",
     "output_type": "stream",
     "text": [
      "cuda\n"
     ]
    },
    {
     "data": {
      "application/vnd.jupyter.widget-view+json": {
       "model_id": "233b9b12aa4c4ad1ac883cdc0a08b0a3",
       "version_major": 2,
       "version_minor": 0
      },
      "text/plain": [
       "Loading checkpoint shards:   0%|          | 0/8 [00:00<?, ?it/s]"
      ]
     },
     "metadata": {},
     "output_type": "display_data"
    },
    {
     "name": "stderr",
     "output_type": "stream",
     "text": [
      "Some parameters are on the meta device because they were offloaded to the cpu.\n"
     ]
    }
   ],
   "source": [
    "# LOAD GEMMA SCORER\n",
    "scorer = PerplexityCalculator(f'{path}/gemma_2_9b')"
   ]
  },
  {
   "cell_type": "code",
   "execution_count": 11,
   "id": "e253c6da-f86c-48ba-87e1-022ea5aa2329",
   "metadata": {},
   "outputs": [],
   "source": [
    "# scorer.clear_gpu_memory()"
   ]
  },
  {
   "cell_type": "code",
   "execution_count": 12,
   "id": "8d05bef9",
   "metadata": {},
   "outputs": [
    {
     "name": "stdout",
     "output_type": "stream",
     "text": [
      "Processing 0th sample\n"
     ]
    },
    {
     "data": {
      "application/vnd.jupyter.widget-view+json": {
       "model_id": "dfe81f1d223c4210b3aa7e9b572bc8a0",
       "version_major": 2,
       "version_minor": 0
      },
      "text/plain": [
       "  0%|          | 0/512 [00:00<?, ?it/s]"
      ]
     },
     "metadata": {},
     "output_type": "display_data"
    },
    {
     "name": "stdout",
     "output_type": "stream",
     "text": [
      "Iteration 0, Temperature = 100.0\n",
      "New best = 4203.824562345984 with '['chimney', 'fireplace', 'advent', 'elf', 'ornament', 'reindeer', 'gingerbread', 'scrooge', 'mistletoe', 'family']'\n",
      "New best = 2957.7599879429495 with '['chimney', 'reindeer', 'fireplace', 'elf', 'ornament', 'advent', 'gingerbread', 'scrooge', 'mistletoe', 'family']'\n",
      "New best = 2122.088979078394 with '['ornament', 'reindeer', 'fireplace', 'elf', 'chimney', 'advent', 'gingerbread', 'scrooge', 'mistletoe', 'family']'\n",
      "New best = 1718.5200270175208 with '['ornament', 'reindeer', 'family', 'elf', 'chimney', 'advent', 'gingerbread', 'scrooge', 'mistletoe', 'fireplace']'\n",
      "New best = 1627.0620594881786 with '['ornament', 'reindeer', 'fireplace', 'chimney', 'elf', 'advent', 'mistletoe', 'scrooge', 'gingerbread', 'family']'\n",
      "New best = 1481.4568637723241 with '['ornament', 'family', 'fireplace', 'chimney', 'elf', 'advent', 'gingerbread', 'scrooge', 'mistletoe', 'reindeer']'\n",
      "Iteration 100, Temperature = 94.1480149401\n",
      "New best = 1469.928074993662 with '['ornament', 'advent', 'fireplace', 'chimney', 'elf', 'gingerbread', 'reindeer', 'scrooge', 'family', 'mistletoe']'\n",
      "New best = 1267.1572060351664 with '['ornament', 'advent', 'fireplace', 'chimney', 'elf', 'gingerbread', 'reindeer', 'family', 'scrooge', 'mistletoe']'\n",
      "New best = 1228.1708773954715 with '['ornament', 'advent', 'fireplace', 'chimney', 'elf', 'reindeer', 'gingerbread', 'family', 'scrooge', 'mistletoe']'\n",
      "Iteration 200, Temperature = 88.63848717161292\n",
      "New best = 1153.7597655923937 with '['ornament', 'advent', 'fireplace', 'chimney', 'elf', 'scrooge', 'gingerbread', 'family', 'reindeer', 'mistletoe']'\n",
      "Iteration 300, Temperature = 83.45137614500875\n",
      "New best = 1118.2623094137844 with '['ornament', 'advent', 'fireplace', 'chimney', 'elf', 'gingerbread', 'family', 'mistletoe', 'reindeer', 'scrooge']'\n",
      "Iteration 400, Temperature = 77.78213593991467\n",
      "Iteration 500, Temperature = 73.23033696543976\n",
      "0th sample: ['ornament', 'advent', 'fireplace', 'chimney', 'elf', 'gingerbread', 'family', 'mistletoe', 'reindeer', 'scrooge']\n",
      "Elapsed time: 34.39 sec\n",
      "Best value: 1118.2623094137844\n",
      "['ornament', 'advent', 'fireplace', 'chimney', 'elf', 'gingerbread', 'family', 'mistletoe', 'reindeer', 'scrooge']\n",
      "Processing 1th sample\n"
     ]
    },
    {
     "name": "stderr",
     "output_type": "stream",
     "text": [
      "/tmp/ipykernel_55/2250309472.py:12: FutureWarning: Setting an item of incompatible dtype is deprecated and will raise an error in a future version of pandas. Value '1118.2623094137844' has dtype incompatible with int64, please explicitly cast to a compatible dtype first.\n",
      "  sub_df.loc[i, \"best_value\"] = best_value\n"
     ]
    },
    {
     "data": {
      "application/vnd.jupyter.widget-view+json": {
       "model_id": "f3f3a9de182c4a05be43a087ea29842c",
       "version_major": 2,
       "version_minor": 0
      },
      "text/plain": [
       "  0%|          | 0/512 [00:00<?, ?it/s]"
      ]
     },
     "metadata": {},
     "output_type": "display_data"
    },
    {
     "name": "stdout",
     "output_type": "stream",
     "text": [
      "Iteration 0, Temperature = 100.0\n",
      "New best = 4440.123631628586 with '['give', 'reindeer', 'sleep', 'drive', 'the', 'walk', 'jump', 'laugh', 'family', 'scrooge', 'night', 'mistletoe', 'bake', 'advent', 'chimney', 'elf', 'ornament', 'fireplace', 'and', 'gingerbread']'\n",
      "New best = 4171.110140058703 with '['give', 'gingerbread', 'sleep', 'drive', 'the', 'walk', 'and', 'laugh', 'family', 'scrooge', 'night', 'mistletoe', 'bake', 'advent', 'chimney', 'elf', 'ornament', 'fireplace', 'jump', 'reindeer']'\n",
      "New best = 3857.64626282737 with '['scrooge', 'gingerbread', 'sleep', 'drive', 'the', 'walk', 'jump', 'laugh', 'family', 'give', 'night', 'mistletoe', 'bake', 'advent', 'chimney', 'elf', 'ornament', 'fireplace', 'and', 'reindeer']'\n",
      "New best = 3431.0616115058406 with '['scrooge', 'gingerbread', 'sleep', 'drive', 'the', 'walk', 'jump', 'laugh', 'family', 'give', 'bake', 'mistletoe', 'night', 'advent', 'chimney', 'elf', 'ornament', 'fireplace', 'and', 'reindeer']'\n",
      "New best = 3325.498943407423 with '['scrooge', 'gingerbread', 'sleep', 'drive', 'the', 'walk', 'elf', 'laugh', 'family', 'give', 'night', 'mistletoe', 'bake', 'advent', 'chimney', 'jump', 'ornament', 'fireplace', 'and', 'reindeer']'\n",
      "New best = 3075.5837511620985 with '['scrooge', 'sleep', 'gingerbread', 'drive', 'the', 'walk', 'jump', 'laugh', 'family', 'give', 'night', 'mistletoe', 'bake', 'advent', 'chimney', 'elf', 'ornament', 'fireplace', 'and', 'reindeer']'\n",
      "New best = 2767.7257968528634 with '['scrooge', 'sleep', 'gingerbread', 'drive', 'family', 'walk', 'jump', 'laugh', 'the', 'give', 'night', 'mistletoe', 'bake', 'advent', 'chimney', 'elf', 'ornament', 'fireplace', 'and', 'reindeer']'\n",
      "New best = 2661.695886654285 with '['scrooge', 'sleep', 'gingerbread', 'bake', 'the', 'walk', 'jump', 'laugh', 'family', 'give', 'night', 'mistletoe', 'drive', 'advent', 'chimney', 'elf', 'ornament', 'fireplace', 'and', 'reindeer']'\n",
      "New best = 2510.218298856524 with '['scrooge', 'sleep', 'gingerbread', 'drive', 'the', 'walk', 'elf', 'laugh', 'family', 'give', 'night', 'mistletoe', 'bake', 'advent', 'chimney', 'jump', 'ornament', 'fireplace', 'and', 'reindeer']'\n",
      "New best = 2480.973369853562 with '['scrooge', 'sleep', 'gingerbread', 'drive', 'the', 'walk', 'elf', 'laugh', 'family', 'give', 'bake', 'mistletoe', 'night', 'advent', 'chimney', 'jump', 'ornament', 'fireplace', 'and', 'reindeer']'\n",
      "New best = 2395.2670338067314 with '['scrooge', 'sleep', 'gingerbread', 'drive', 'the', 'walk', 'elf', 'laugh', 'family', 'give', 'night', 'mistletoe', 'advent', 'fireplace', 'chimney', 'jump', 'ornament', 'bake', 'and', 'reindeer']'\n",
      "New best = 2172.4128689866334 with '['ornament', 'sleep', 'gingerbread', 'drive', 'the', 'walk', 'elf', 'laugh', 'family', 'give', 'night', 'mistletoe', 'bake', 'fireplace', 'chimney', 'jump', 'scrooge', 'advent', 'and', 'reindeer']'\n",
      "New best = 2097.36589361631 with '['ornament', 'sleep', 'gingerbread', 'drive', 'the', 'walk', 'elf', 'night', 'family', 'give', 'laugh', 'mistletoe', 'bake', 'fireplace', 'chimney', 'jump', 'scrooge', 'advent', 'and', 'reindeer']'\n",
      "New best = 2072.9308408242946 with '['ornament', 'the', 'gingerbread', 'drive', 'sleep', 'walk', 'elf', 'laugh', 'family', 'give', 'night', 'mistletoe', 'bake', 'fireplace', 'chimney', 'jump', 'scrooge', 'advent', 'and', 'reindeer']'\n",
      "New best = 1954.9599768296307 with '['ornament', 'sleep', 'gingerbread', 'drive', 'the', 'walk', 'elf', 'laugh', 'family', 'give', 'night', 'mistletoe', 'bake', 'fireplace', 'chimney', 'jump', 'reindeer', 'advent', 'and', 'scrooge']'\n",
      "Iteration 100, Temperature = 94.1480149401\n",
      "New best = 1872.736951045589 with '['ornament', 'sleep', 'gingerbread', 'drive', 'the', 'walk', 'elf', 'laugh', 'family', 'give', 'night', 'mistletoe', 'bake', 'advent', 'chimney', 'fireplace', 'reindeer', 'jump', 'and', 'scrooge']'\n",
      "New best = 1815.118892385283 with '['ornament', 'family', 'gingerbread', 'drive', 'the', 'walk', 'elf', 'laugh', 'sleep', 'give', 'night', 'mistletoe', 'bake', 'fireplace', 'chimney', 'advent', 'reindeer', 'jump', 'and', 'scrooge']'\n",
      "New best = 1705.1463980662625 with '['ornament', 'family', 'gingerbread', 'drive', 'the', 'walk', 'elf', 'laugh', 'sleep', 'give', 'reindeer', 'mistletoe', 'bake', 'advent', 'chimney', 'fireplace', 'night', 'jump', 'and', 'scrooge']'\n",
      "New best = 1678.7105534688412 with '['ornament', 'family', 'gingerbread', 'drive', 'the', 'walk', 'elf', 'laugh', 'sleep', 'give', 'reindeer', 'jump', 'bake', 'fireplace', 'chimney', 'advent', 'night', 'mistletoe', 'and', 'scrooge']'\n",
      "New best = 1646.2413521768196 with '['ornament', 'family', 'gingerbread', 'drive', 'the', 'walk', 'elf', 'laugh', 'sleep', 'advent', 'reindeer', 'jump', 'bake', 'fireplace', 'chimney', 'give', 'night', 'mistletoe', 'and', 'scrooge']'\n",
      "Iteration 200, Temperature = 88.63848717161292\n",
      "New best = 1633.4302003356393 with '['ornament', 'family', 'gingerbread', 'bake', 'the', 'walk', 'elf', 'jump', 'sleep', 'and', 'give', 'laugh', 'mistletoe', 'fireplace', 'chimney', 'night', 'advent', 'scrooge', 'reindeer', 'drive']'\n",
      "New best = 1627.0620594881786 with '['ornament', 'family', 'gingerbread', 'bake', 'the', 'walk', 'elf', 'jump', 'sleep', 'and', 'give', 'laugh', 'mistletoe', 'night', 'chimney', 'fireplace', 'advent', 'scrooge', 'reindeer', 'drive']'\n",
      "Iteration 300, Temperature = 83.45137614500875\n",
      "New best = 1601.8368003527937 with '['ornament', 'family', 'gingerbread', 'the', 'bake', 'advent', 'elf', 'night', 'sleep', 'and', 'give', 'laugh', 'drive', 'reindeer', 'chimney', 'jump', 'fireplace', 'scrooge', 'walk', 'mistletoe']'\n",
      "Iteration 400, Temperature = 77.78213593991467\n",
      "New best = 1546.5006307786239 with '['ornament', 'family', 'gingerbread', 'the', 'bake', 'advent', 'elf', 'night', 'sleep', 'and', 'give', 'laugh', 'drive', 'reindeer', 'mistletoe', 'chimney', 'fireplace', 'scrooge', 'walk', 'jump']'\n",
      "New best = 1487.2551219966645 with '['ornament', 'family', 'gingerbread', 'the', 'bake', 'advent', 'elf', 'night', 'sleep', 'and', 'give', 'laugh', 'reindeer', 'drive', 'mistletoe', 'chimney', 'fireplace', 'scrooge', 'walk', 'jump']'\n",
      "Iteration 500, Temperature = 73.23033696543976\n",
      "1th sample: ['ornament', 'family', 'gingerbread', 'the', 'bake', 'advent', 'elf', 'night', 'sleep', 'and', 'give', 'laugh', 'reindeer', 'drive', 'mistletoe', 'chimney', 'fireplace', 'scrooge', 'walk', 'jump']\n",
      "Elapsed time: 37.79 sec\n",
      "Best value: 1487.2551219966645\n",
      "['ornament', 'family', 'gingerbread', 'the', 'bake', 'advent', 'elf', 'night', 'sleep', 'and', 'give', 'laugh', 'reindeer', 'drive', 'mistletoe', 'chimney', 'fireplace', 'scrooge', 'walk', 'jump']\n",
      "Processing 2th sample\n"
     ]
    },
    {
     "data": {
      "application/vnd.jupyter.widget-view+json": {
       "model_id": "3872621b9e0046ec9b8adfd6947ff6ef",
       "version_major": 2,
       "version_minor": 0
      },
      "text/plain": [
       "  0%|          | 0/512 [00:00<?, ?it/s]"
      ]
     },
     "metadata": {},
     "output_type": "display_data"
    },
    {
     "name": "stdout",
     "output_type": "stream",
     "text": [
      "Iteration 0, Temperature = 100.0\n",
      "New best = 4371.285895201858 with '['nice', 'ornament', 'holiday', 'cheer', 'yuletide', 'beard', 'nutcracker', 'grinch', 'polar', 'magi', 'carol', 'workshop', 'stocking', 'gifts', 'jingle', 'decorations', 'holly', 'sleigh', 'chimney', 'naughty']'\n",
      "New best = 4138.650303425442 with '['nice', 'ornament', 'holiday', 'cheer', 'yuletide', 'beard', 'nutcracker', 'grinch', 'polar', 'magi', 'jingle', 'workshop', 'sleigh', 'gifts', 'carol', 'decorations', 'holly', 'stocking', 'chimney', 'naughty']'\n",
      "New best = 1698.4986622608421 with '['magi', 'ornament', 'holiday', 'cheer', 'yuletide', 'beard', 'nutcracker', 'grinch', 'polar', 'nice', 'jingle', 'workshop', 'stocking', 'gifts', 'carol', 'decorations', 'holly', 'sleigh', 'chimney', 'naughty']'\n",
      "New best = 1627.0620594881786 with '['magi', 'ornament', 'holiday', 'cheer', 'yuletide', 'beard', 'nutcracker', 'grinch', 'polar', 'nice', 'jingle', 'workshop', 'chimney', 'gifts', 'carol', 'decorations', 'holly', 'sleigh', 'stocking', 'naughty']'\n",
      "New best = 1595.5918304990491 with '['magi', 'ornament', 'holiday', 'cheer', 'yuletide', 'beard', 'nutcracker', 'grinch', 'polar', 'nice', 'jingle', 'workshop', 'sleigh', 'gifts', 'carol', 'decorations', 'holly', 'stocking', 'chimney', 'naughty']'\n",
      "New best = 1469.928074993662 with '['magi', 'ornament', 'holiday', 'cheer', 'holly', 'beard', 'nutcracker', 'grinch', 'polar', 'nice', 'chimney', 'workshop', 'stocking', 'gifts', 'carol', 'decorations', 'yuletide', 'sleigh', 'jingle', 'naughty']'\n",
      "New best = 1267.1572060351664 with '['magi', 'ornament', 'holiday', 'cheer', 'holly', 'sleigh', 'workshop', 'grinch', 'polar', 'nice', 'chimney', 'nutcracker', 'stocking', 'gifts', 'carol', 'decorations', 'yuletide', 'beard', 'jingle', 'naughty']'\n",
      "New best = 1127.0329494088235 with '['magi', 'ornament', 'holiday', 'cheer', 'holly', 'sleigh', 'nutcracker', 'grinch', 'polar', 'beard', 'chimney', 'workshop', 'stocking', 'gifts', 'carol', 'decorations', 'yuletide', 'jingle', 'nice', 'naughty']'\n",
      "Iteration 100, Temperature = 94.1480149401\n",
      "New best = 1038.271406328768 with '['magi', 'ornament', 'holiday', 'cheer', 'holly', 'sleigh', 'nutcracker', 'grinch', 'polar', 'workshop', 'chimney', 'beard', 'stocking', 'gifts', 'carol', 'decorations', 'yuletide', 'jingle', 'nice', 'naughty']'\n",
      "New best = 1030.1915141420939 with '['magi', 'ornament', 'holiday', 'cheer', 'holly', 'sleigh', 'nutcracker', 'grinch', 'polar', 'workshop', 'chimney', 'beard', 'stocking', 'gifts', 'decorations', 'carol', 'yuletide', 'jingle', 'nice', 'naughty']'\n",
      "New best = 1010.265806536996 with '['magi', 'ornament', 'holiday', 'cheer', 'holly', 'sleigh', 'nutcracker', 'grinch', 'polar', 'workshop', 'chimney', 'beard', 'stocking', 'gifts', 'decorations', 'yuletide', 'carol', 'jingle', 'nice', 'naughty']'\n",
      "New best = 818.1381828290899 with '['magi', 'ornament', 'holiday', 'cheer', 'holly', 'yuletide', 'nutcracker', 'grinch', 'polar', 'workshop', 'chimney', 'beard', 'stocking', 'gifts', 'decorations', 'carol', 'sleigh', 'jingle', 'nice', 'naughty']'\n",
      "Iteration 200, Temperature = 88.63848717161292\n",
      "New best = 652.2766292910974 with '['sleigh', 'magi', 'holiday', 'ornament', 'holly', 'yuletide', 'nutcracker', 'grinch', 'polar', 'workshop', 'chimney', 'beard', 'stocking', 'gifts', 'decorations', 'carol', 'cheer', 'jingle', 'nice', 'naughty']'\n",
      "New best = 649.7336437102142 with '['sleigh', 'magi', 'holiday', 'ornament', 'holly', 'yuletide', 'nutcracker', 'grinch', 'polar', 'workshop', 'beard', 'chimney', 'stocking', 'gifts', 'decorations', 'carol', 'cheer', 'jingle', 'nice', 'naughty']'\n",
      "Iteration 300, Temperature = 83.45137614500875\n",
      "New best = 598.5626811957673 with '['sleigh', 'magi', 'carol', 'yuletide', 'holly', 'ornament', 'nutcracker', 'grinch', 'polar', 'workshop', 'beard', 'chimney', 'stocking', 'gifts', 'decorations', 'holiday', 'cheer', 'jingle', 'nice', 'naughty']'\n",
      "Iteration 400, Temperature = 77.78213593991467\n",
      "New best = 584.6969916200433 with '['sleigh', 'magi', 'jingle', 'carol', 'grinch', 'yuletide', 'nutcracker', 'holly', 'naughty', 'polar', 'beard', 'chimney', 'workshop', 'stocking', 'gifts', 'nice', 'ornament', 'holiday', 'cheer', 'decorations']'\n",
      "Iteration 500, Temperature = 73.23033696543976\n",
      "2th sample: ['sleigh', 'magi', 'jingle', 'carol', 'grinch', 'yuletide', 'nutcracker', 'holly', 'naughty', 'polar', 'beard', 'chimney', 'workshop', 'stocking', 'gifts', 'nice', 'ornament', 'holiday', 'cheer', 'decorations']\n",
      "Elapsed time: 38.04 sec\n",
      "Best value: 584.6969916200433\n",
      "['sleigh', 'magi', 'jingle', 'carol', 'grinch', 'yuletide', 'nutcracker', 'holly', 'naughty', 'polar', 'beard', 'chimney', 'workshop', 'stocking', 'gifts', 'nice', 'ornament', 'holiday', 'cheer', 'decorations']\n",
      "Processing 3th sample\n"
     ]
    },
    {
     "data": {
      "application/vnd.jupyter.widget-view+json": {
       "model_id": "73e196a7399a42e2be61f03e9f9f474f",
       "version_major": 2,
       "version_minor": 0
      },
      "text/plain": [
       "  0%|          | 0/512 [00:00<?, ?it/s]"
      ]
     },
     "metadata": {},
     "output_type": "display_data"
    },
    {
     "name": "stdout",
     "output_type": "stream",
     "text": [
      "Iteration 0, Temperature = 100.0\n",
      "New best = 6116.528646774525 with '['chimney', 'polar', 'magi', 'stocking', 'nutcracker', 'gifts', 'holiday', 'decorations', 'workshop', 'yuletide', 'is', 'sleigh', 'relax', 'eat', 'the', 'ornament', 'cheer', 'naughty', 'visit', 'and', 'holly', 'cheer', 'grinch', 'unwrap', 'carol', 'of', 'nice', 'beard', 'jingle', 'sing']'\n",
      "New best = 5882.208114053411 with '['chimney', 'polar', 'magi', 'stocking', 'nutcracker', 'gifts', 'holiday', 'decorations', 'workshop', 'yuletide', 'is', 'sleigh', 'relax', 'eat', 'the', 'ornament', 'cheer', 'carol', 'visit', 'grinch', 'holly', 'cheer', 'and', 'unwrap', 'naughty', 'of', 'nice', 'beard', 'jingle', 'sing']'\n",
      "New best = 5745.946909852821 with '['chimney', 'polar', 'magi', 'stocking', 'nutcracker', 'gifts', 'holiday', 'decorations', 'workshop', 'yuletide', 'is', 'sleigh', 'relax', 'eat', 'the', 'ornament', 'cheer', 'naughty', 'visit', 'grinch', 'holly', 'cheer', 'and', 'unwrap', 'carol', 'of', 'jingle', 'beard', 'nice', 'sing']'\n",
      "New best = 4011.317419955544 with '['yuletide', 'polar', 'magi', 'stocking', 'nutcracker', 'gifts', 'holiday', 'decorations', 'workshop', 'chimney', 'is', 'sleigh', 'relax', 'eat', 'the', 'ornament', 'cheer', 'naughty', 'visit', 'grinch', 'holly', 'cheer', 'and', 'unwrap', 'carol', 'of', 'nice', 'beard', 'jingle', 'sing']'\n",
      "New best = 3299.619705314332 with '['yuletide', 'polar', 'the', 'stocking', 'nutcracker', 'gifts', 'holiday', 'decorations', 'workshop', 'chimney', 'is', 'sleigh', 'relax', 'eat', 'magi', 'ornament', 'cheer', 'naughty', 'visit', 'grinch', 'holly', 'cheer', 'and', 'unwrap', 'carol', 'of', 'nice', 'beard', 'jingle', 'sing']'\n",
      "New best = 3173.213259472856 with '['yuletide', 'polar', 'magi', 'stocking', 'nutcracker', 'gifts', 'holiday', 'decorations', 'workshop', 'chimney', 'jingle', 'sleigh', 'relax', 'eat', 'the', 'ornament', 'cheer', 'naughty', 'visit', 'grinch', 'holly', 'cheer', 'and', 'unwrap', 'carol', 'of', 'nice', 'beard', 'is', 'sing']'\n",
      "New best = 2746.1871838230377 with '['magi', 'polar', 'yuletide', 'stocking', 'nutcracker', 'gifts', 'holiday', 'decorations', 'workshop', 'chimney', 'is', 'sleigh', 'relax', 'eat', 'the', 'ornament', 'cheer', 'naughty', 'visit', 'grinch', 'holly', 'cheer', 'and', 'unwrap', 'carol', 'of', 'nice', 'beard', 'jingle', 'sing']'\n",
      "New best = 2693.07111549734 with '['magi', 'polar', 'yuletide', 'stocking', 'nutcracker', 'gifts', 'holiday', 'decorations', 'workshop', 'chimney', 'is', 'sleigh', 'relax', 'eat', 'the', 'nice', 'cheer', 'naughty', 'visit', 'grinch', 'holly', 'cheer', 'and', 'unwrap', 'carol', 'of', 'ornament', 'beard', 'jingle', 'sing']'\n",
      "New best = 2569.7464103366397 with '['magi', 'polar', 'yuletide', 'stocking', 'nutcracker', 'gifts', 'holiday', 'the', 'workshop', 'chimney', 'is', 'sleigh', 'relax', 'eat', 'decorations', 'ornament', 'cheer', 'naughty', 'visit', 'grinch', 'holly', 'cheer', 'and', 'unwrap', 'carol', 'of', 'nice', 'beard', 'jingle', 'sing']'\n",
      "New best = 2549.7484851158824 with '['magi', 'polar', 'yuletide', 'stocking', 'nutcracker', 'gifts', 'holiday', 'decorations', 'workshop', 'chimney', 'is', 'sleigh', 'relax', 'eat', 'the', 'ornament', 'of', 'naughty', 'visit', 'grinch', 'unwrap', 'cheer', 'and', 'holly', 'carol', 'cheer', 'nice', 'beard', 'jingle', 'sing']'\n",
      "New best = 2385.928772621511 with '['magi', 'polar', 'yuletide', 'stocking', 'nutcracker', 'gifts', 'holiday', 'decorations', 'workshop', 'chimney', 'is', 'sleigh', 'relax', 'eat', 'the', 'ornament', 'of', 'naughty', 'visit', 'grinch', 'holly', 'cheer', 'and', 'cheer', 'carol', 'unwrap', 'nice', 'beard', 'jingle', 'sing']'\n",
      "New best = 2339.7807327306596 with '['magi', 'polar', 'yuletide', 'stocking', 'nutcracker', 'gifts', 'holiday', 'decorations', 'workshop', 'chimney', 'is', 'cheer', 'relax', 'eat', 'the', 'ornament', 'of', 'naughty', 'visit', 'grinch', 'holly', 'cheer', 'and', 'unwrap', 'carol', 'sleigh', 'nice', 'beard', 'jingle', 'sing']'\n",
      "New best = 2258.9519595596075 with '['magi', 'polar', 'yuletide', 'stocking', 'nutcracker', 'gifts', 'holiday', 'decorations', 'workshop', 'chimney', 'is', 'cheer', 'relax', 'eat', 'the', 'ornament', 'of', 'naughty', 'visit', 'grinch', 'holly', 'cheer', 'and', 'carol', 'unwrap', 'sleigh', 'nice', 'beard', 'jingle', 'sing']'\n",
      "New best = 2180.9154525530494 with '['magi', 'polar', 'yuletide', 'stocking', 'nutcracker', 'gifts', 'holiday', 'decorations', 'workshop', 'nice', 'is', 'cheer', 'relax', 'eat', 'the', 'ornament', 'of', 'naughty', 'visit', 'grinch', 'holly', 'cheer', 'and', 'unwrap', 'carol', 'sleigh', 'chimney', 'beard', 'jingle', 'sing']'\n",
      "New best = 1962.6114738398403 with '['magi', 'polar', 'yuletide', 'stocking', 'nutcracker', 'gifts', 'holiday', 'decorations', 'workshop', 'chimney', 'nice', 'cheer', 'relax', 'eat', 'the', 'ornament', 'of', 'naughty', 'visit', 'grinch', 'holly', 'cheer', 'and', 'unwrap', 'carol', 'sleigh', 'is', 'beard', 'jingle', 'sing']'\n"
     ]
    },
    {
     "ename": "KeyboardInterrupt",
     "evalue": "",
     "output_type": "error",
     "traceback": [
      "\u001b[0;31m---------------------------------------------------------------------------\u001b[0m",
      "\u001b[0;31mKeyboardInterrupt\u001b[0m                         Traceback (most recent call last)",
      "Cell \u001b[0;32mIn[12], line 4\u001b[0m\n\u001b[1;32m      1\u001b[0m \u001b[38;5;28;01mfor\u001b[39;00m i \u001b[38;5;129;01min\u001b[39;00m [\u001b[38;5;241m0\u001b[39m,\u001b[38;5;241m1\u001b[39m,\u001b[38;5;241m2\u001b[39m,\u001b[38;5;241m3\u001b[39m,\u001b[38;5;241m4\u001b[39m,\u001b[38;5;241m5\u001b[39m]:\n\u001b[1;32m      3\u001b[0m     \u001b[38;5;28mprint\u001b[39m(\u001b[38;5;124mf\u001b[39m\u001b[38;5;124m\"\u001b[39m\u001b[38;5;124mProcessing \u001b[39m\u001b[38;5;132;01m{\u001b[39;00mi\u001b[38;5;132;01m}\u001b[39;00m\u001b[38;5;124mth sample\u001b[39m\u001b[38;5;124m\"\u001b[39m)\n\u001b[0;32m----> 4\u001b[0m     best_sequence, best_value \u001b[38;5;241m=\u001b[39m \u001b[43msearch_optimal_permutation\u001b[49m\u001b[43m(\u001b[49m\n\u001b[1;32m      5\u001b[0m \u001b[43m        \u001b[49m\u001b[38;5;28;43mid\u001b[39;49m\u001b[38;5;241;43m=\u001b[39;49m\u001b[43mi\u001b[49m\u001b[43m,\u001b[49m\n\u001b[1;32m      6\u001b[0m \u001b[43m        \u001b[49m\u001b[43mscorer\u001b[49m\u001b[38;5;241;43m=\u001b[39;49m\u001b[43mscorer\u001b[49m\u001b[43m,\u001b[49m\n\u001b[1;32m      7\u001b[0m \u001b[43m        \u001b[49m\u001b[43mmax_iterations\u001b[49m\u001b[38;5;241;43m=\u001b[39;49m\u001b[38;5;241;43m2\u001b[39;49m\u001b[38;5;241;43m*\u001b[39;49m\u001b[38;5;241;43m*\u001b[39;49m\u001b[38;5;241;43m9\u001b[39;49m\u001b[43m,\u001b[49m\n\u001b[1;32m      8\u001b[0m \u001b[43m        \u001b[49m\u001b[43mBATCH_SIZE\u001b[49m\u001b[38;5;241;43m=\u001b[39;49m\u001b[38;5;241;43m16\u001b[39;49m\n\u001b[1;32m      9\u001b[0m \u001b[43m    \u001b[49m\u001b[43m)\u001b[49m\n\u001b[1;32m     11\u001b[0m     \u001b[38;5;28mprint\u001b[39m(best_sequence)\n\u001b[1;32m     12\u001b[0m     sub_df\u001b[38;5;241m.\u001b[39mloc[i, \u001b[38;5;124m\"\u001b[39m\u001b[38;5;124mbest_value\u001b[39m\u001b[38;5;124m\"\u001b[39m] \u001b[38;5;241m=\u001b[39m best_value\n",
      "Cell \u001b[0;32mIn[8], line 15\u001b[0m, in \u001b[0;36msearch_optimal_permutation\u001b[0;34m(id, scorer, max_iterations, BATCH_SIZE)\u001b[0m\n\u001b[1;32m     12\u001b[0m start \u001b[38;5;241m=\u001b[39m time\u001b[38;5;241m.\u001b[39mtime()\n\u001b[1;32m     14\u001b[0m \u001b[38;5;66;03m# SAで最適な順序を探索\u001b[39;00m\n\u001b[0;32m---> 15\u001b[0m best_sequence, best_value \u001b[38;5;241m=\u001b[39m \u001b[43msimulated_annealing\u001b[49m\u001b[43m(\u001b[49m\n\u001b[1;32m     16\u001b[0m \u001b[43m    \u001b[49m\u001b[43mscorer\u001b[49m\u001b[43m,\u001b[49m\n\u001b[1;32m     17\u001b[0m \u001b[43m    \u001b[49m\u001b[43minitial_sequence\u001b[49m\u001b[38;5;241;43m=\u001b[39;49m\u001b[43minitial_sequence\u001b[49m\u001b[43m,\u001b[49m\n\u001b[1;32m     18\u001b[0m \u001b[43m    \u001b[49m\u001b[43mmax_iterations\u001b[49m\u001b[38;5;241;43m=\u001b[39;49m\u001b[43mmax_iterations\u001b[49m\u001b[43m,\u001b[49m\n\u001b[1;32m     19\u001b[0m \u001b[43m    \u001b[49m\u001b[43mBATCH_SIZE\u001b[49m\u001b[38;5;241;43m=\u001b[39;49m\u001b[43mBATCH_SIZE\u001b[49m\u001b[43m,\u001b[49m\n\u001b[1;32m     20\u001b[0m \u001b[43m    \u001b[49m\u001b[43minitial_temperature\u001b[49m\u001b[38;5;241;43m=\u001b[39;49m\u001b[38;5;241;43m100.0\u001b[39;49m\u001b[43m,\u001b[49m\n\u001b[1;32m     21\u001b[0m \u001b[43m    \u001b[49m\u001b[43mcooling_rate\u001b[49m\u001b[38;5;241;43m=\u001b[39;49m\u001b[38;5;241;43m0.99\u001b[39;49m\n\u001b[1;32m     22\u001b[0m \u001b[43m\u001b[49m\u001b[43m)\u001b[49m\n\u001b[1;32m     24\u001b[0m \u001b[38;5;28mprint\u001b[39m(\u001b[38;5;124mf\u001b[39m\u001b[38;5;124m\"\u001b[39m\u001b[38;5;132;01m{\u001b[39;00m\u001b[38;5;28mid\u001b[39m\u001b[38;5;132;01m}\u001b[39;00m\u001b[38;5;124mth sample: \u001b[39m\u001b[38;5;132;01m{\u001b[39;00mbest_sequence\u001b[38;5;132;01m}\u001b[39;00m\u001b[38;5;124m\"\u001b[39m)\n\u001b[1;32m     25\u001b[0m \u001b[38;5;28mprint\u001b[39m(\u001b[38;5;124mf\u001b[39m\u001b[38;5;124m\"\u001b[39m\u001b[38;5;124mElapsed time: \u001b[39m\u001b[38;5;132;01m{\u001b[39;00mtime\u001b[38;5;241m.\u001b[39mtime()\u001b[38;5;250m \u001b[39m\u001b[38;5;241m-\u001b[39m\u001b[38;5;250m \u001b[39mstart\u001b[38;5;132;01m:\u001b[39;00m\u001b[38;5;124m.2f\u001b[39m\u001b[38;5;132;01m}\u001b[39;00m\u001b[38;5;124m sec\u001b[39m\u001b[38;5;124m\"\u001b[39m)\n",
      "Cell \u001b[0;32mIn[7], line 43\u001b[0m, in \u001b[0;36msimulated_annealing\u001b[0;34m(scorer, initial_sequence, max_iterations, BATCH_SIZE, initial_temperature, cooling_rate)\u001b[0m\n\u001b[1;32m     39\u001b[0m perms\u001b[38;5;241m.\u001b[39mappend(\u001b[38;5;124m\"\u001b[39m\u001b[38;5;124m \u001b[39m\u001b[38;5;124m\"\u001b[39m\u001b[38;5;241m.\u001b[39mjoin(neighbor_sequence))\n\u001b[1;32m     41\u001b[0m \u001b[38;5;28;01mif\u001b[39;00m \u001b[38;5;28mlen\u001b[39m(perms) \u001b[38;5;241m==\u001b[39m BATCH_SIZE:\n\u001b[1;32m     42\u001b[0m     \u001b[38;5;66;03m# 評価値を計算\u001b[39;00m\n\u001b[0;32m---> 43\u001b[0m     neighbor_values \u001b[38;5;241m=\u001b[39m \u001b[43mscorer\u001b[49m\u001b[38;5;241;43m.\u001b[39;49m\u001b[43mget_perplexity\u001b[49m\u001b[43m(\u001b[49m\u001b[43mperms\u001b[49m\u001b[43m,\u001b[49m\u001b[43m \u001b[49m\u001b[43mbatch_size\u001b[49m\u001b[38;5;241;43m=\u001b[39;49m\u001b[43mBATCH_SIZE\u001b[49m\u001b[43m)\u001b[49m\n\u001b[1;32m     45\u001b[0m     \u001b[38;5;28;01mfor\u001b[39;00m neighbor_value, perm \u001b[38;5;129;01min\u001b[39;00m \u001b[38;5;28mzip\u001b[39m(neighbor_values, perms):\n\u001b[1;32m     46\u001b[0m         \u001b[38;5;66;03m# 確率的に次の状態を受け入れるかを決定\u001b[39;00m\n\u001b[1;32m     47\u001b[0m         delta \u001b[38;5;241m=\u001b[39m neighbor_value \u001b[38;5;241m-\u001b[39m current_value\n",
      "File \u001b[0;32m/home/jovyan/work/notebook/utils.py:249\u001b[0m, in \u001b[0;36mPerplexityCalculator.get_perplexity\u001b[0;34m(self, input_texts, batch_size)\u001b[0m\n\u001b[1;32m    246\u001b[0m model_inputs \u001b[38;5;241m=\u001b[39m {k: v\u001b[38;5;241m.\u001b[39mto(DEVICE) \u001b[38;5;28;01mfor\u001b[39;00m k, v \u001b[38;5;129;01min\u001b[39;00m model_inputs\u001b[38;5;241m.\u001b[39mitems()}\n\u001b[1;32m    248\u001b[0m \u001b[38;5;66;03m# Get model output\u001b[39;00m\n\u001b[0;32m--> 249\u001b[0m output \u001b[38;5;241m=\u001b[39m \u001b[38;5;28;43mself\u001b[39;49m\u001b[38;5;241;43m.\u001b[39;49m\u001b[43mmodel\u001b[49m\u001b[43m(\u001b[49m\u001b[38;5;241;43m*\u001b[39;49m\u001b[38;5;241;43m*\u001b[39;49m\u001b[43mmodel_inputs\u001b[49m\u001b[43m,\u001b[49m\u001b[43m \u001b[49m\u001b[43muse_cache\u001b[49m\u001b[38;5;241;43m=\u001b[39;49m\u001b[38;5;28;43;01mFalse\u001b[39;49;00m\u001b[43m)\u001b[49m\n\u001b[1;32m    250\u001b[0m logits \u001b[38;5;241m=\u001b[39m output[\u001b[38;5;124m'\u001b[39m\u001b[38;5;124mlogits\u001b[39m\u001b[38;5;124m'\u001b[39m]\n\u001b[1;32m    252\u001b[0m label \u001b[38;5;241m=\u001b[39m model_inputs[\u001b[38;5;124m'\u001b[39m\u001b[38;5;124minput_ids\u001b[39m\u001b[38;5;124m'\u001b[39m]\n",
      "File \u001b[0;32m/usr/local/lib/python3.12/site-packages/torch/nn/modules/module.py:1736\u001b[0m, in \u001b[0;36mModule._wrapped_call_impl\u001b[0;34m(self, *args, **kwargs)\u001b[0m\n\u001b[1;32m   1734\u001b[0m     \u001b[38;5;28;01mreturn\u001b[39;00m \u001b[38;5;28mself\u001b[39m\u001b[38;5;241m.\u001b[39m_compiled_call_impl(\u001b[38;5;241m*\u001b[39margs, \u001b[38;5;241m*\u001b[39m\u001b[38;5;241m*\u001b[39mkwargs)  \u001b[38;5;66;03m# type: ignore[misc]\u001b[39;00m\n\u001b[1;32m   1735\u001b[0m \u001b[38;5;28;01melse\u001b[39;00m:\n\u001b[0;32m-> 1736\u001b[0m     \u001b[38;5;28;01mreturn\u001b[39;00m \u001b[38;5;28;43mself\u001b[39;49m\u001b[38;5;241;43m.\u001b[39;49m\u001b[43m_call_impl\u001b[49m\u001b[43m(\u001b[49m\u001b[38;5;241;43m*\u001b[39;49m\u001b[43margs\u001b[49m\u001b[43m,\u001b[49m\u001b[43m \u001b[49m\u001b[38;5;241;43m*\u001b[39;49m\u001b[38;5;241;43m*\u001b[39;49m\u001b[43mkwargs\u001b[49m\u001b[43m)\u001b[49m\n",
      "File \u001b[0;32m/usr/local/lib/python3.12/site-packages/torch/nn/modules/module.py:1747\u001b[0m, in \u001b[0;36mModule._call_impl\u001b[0;34m(self, *args, **kwargs)\u001b[0m\n\u001b[1;32m   1742\u001b[0m \u001b[38;5;66;03m# If we don't have any hooks, we want to skip the rest of the logic in\u001b[39;00m\n\u001b[1;32m   1743\u001b[0m \u001b[38;5;66;03m# this function, and just call forward.\u001b[39;00m\n\u001b[1;32m   1744\u001b[0m \u001b[38;5;28;01mif\u001b[39;00m \u001b[38;5;129;01mnot\u001b[39;00m (\u001b[38;5;28mself\u001b[39m\u001b[38;5;241m.\u001b[39m_backward_hooks \u001b[38;5;129;01mor\u001b[39;00m \u001b[38;5;28mself\u001b[39m\u001b[38;5;241m.\u001b[39m_backward_pre_hooks \u001b[38;5;129;01mor\u001b[39;00m \u001b[38;5;28mself\u001b[39m\u001b[38;5;241m.\u001b[39m_forward_hooks \u001b[38;5;129;01mor\u001b[39;00m \u001b[38;5;28mself\u001b[39m\u001b[38;5;241m.\u001b[39m_forward_pre_hooks\n\u001b[1;32m   1745\u001b[0m         \u001b[38;5;129;01mor\u001b[39;00m _global_backward_pre_hooks \u001b[38;5;129;01mor\u001b[39;00m _global_backward_hooks\n\u001b[1;32m   1746\u001b[0m         \u001b[38;5;129;01mor\u001b[39;00m _global_forward_hooks \u001b[38;5;129;01mor\u001b[39;00m _global_forward_pre_hooks):\n\u001b[0;32m-> 1747\u001b[0m     \u001b[38;5;28;01mreturn\u001b[39;00m \u001b[43mforward_call\u001b[49m\u001b[43m(\u001b[49m\u001b[38;5;241;43m*\u001b[39;49m\u001b[43margs\u001b[49m\u001b[43m,\u001b[49m\u001b[43m \u001b[49m\u001b[38;5;241;43m*\u001b[39;49m\u001b[38;5;241;43m*\u001b[39;49m\u001b[43mkwargs\u001b[49m\u001b[43m)\u001b[49m\n\u001b[1;32m   1749\u001b[0m result \u001b[38;5;241m=\u001b[39m \u001b[38;5;28;01mNone\u001b[39;00m\n\u001b[1;32m   1750\u001b[0m called_always_called_hooks \u001b[38;5;241m=\u001b[39m \u001b[38;5;28mset\u001b[39m()\n",
      "File \u001b[0;32m/usr/local/lib/python3.12/site-packages/accelerate/hooks.py:170\u001b[0m, in \u001b[0;36madd_hook_to_module.<locals>.new_forward\u001b[0;34m(module, *args, **kwargs)\u001b[0m\n\u001b[1;32m    168\u001b[0m         output \u001b[38;5;241m=\u001b[39m module\u001b[38;5;241m.\u001b[39m_old_forward(\u001b[38;5;241m*\u001b[39margs, \u001b[38;5;241m*\u001b[39m\u001b[38;5;241m*\u001b[39mkwargs)\n\u001b[1;32m    169\u001b[0m \u001b[38;5;28;01melse\u001b[39;00m:\n\u001b[0;32m--> 170\u001b[0m     output \u001b[38;5;241m=\u001b[39m \u001b[43mmodule\u001b[49m\u001b[38;5;241;43m.\u001b[39;49m\u001b[43m_old_forward\u001b[49m\u001b[43m(\u001b[49m\u001b[38;5;241;43m*\u001b[39;49m\u001b[43margs\u001b[49m\u001b[43m,\u001b[49m\u001b[43m \u001b[49m\u001b[38;5;241;43m*\u001b[39;49m\u001b[38;5;241;43m*\u001b[39;49m\u001b[43mkwargs\u001b[49m\u001b[43m)\u001b[49m\n\u001b[1;32m    171\u001b[0m \u001b[38;5;28;01mreturn\u001b[39;00m module\u001b[38;5;241m.\u001b[39m_hf_hook\u001b[38;5;241m.\u001b[39mpost_forward(module, output)\n",
      "File \u001b[0;32m/usr/local/lib/python3.12/site-packages/transformers/models/gemma2/modeling_gemma2.py:977\u001b[0m, in \u001b[0;36mGemma2ForCausalLM.forward\u001b[0;34m(self, input_ids, attention_mask, position_ids, past_key_values, inputs_embeds, labels, use_cache, output_attentions, output_hidden_states, return_dict, cache_position, num_logits_to_keep, **loss_kwargs)\u001b[0m\n\u001b[1;32m    975\u001b[0m return_dict \u001b[38;5;241m=\u001b[39m return_dict \u001b[38;5;28;01mif\u001b[39;00m return_dict \u001b[38;5;129;01mis\u001b[39;00m \u001b[38;5;129;01mnot\u001b[39;00m \u001b[38;5;28;01mNone\u001b[39;00m \u001b[38;5;28;01melse\u001b[39;00m \u001b[38;5;28mself\u001b[39m\u001b[38;5;241m.\u001b[39mconfig\u001b[38;5;241m.\u001b[39muse_return_dict\n\u001b[1;32m    976\u001b[0m \u001b[38;5;66;03m# decoder outputs consists of (dec_features, layer_state, dec_hidden, dec_attn)\u001b[39;00m\n\u001b[0;32m--> 977\u001b[0m outputs \u001b[38;5;241m=\u001b[39m \u001b[38;5;28;43mself\u001b[39;49m\u001b[38;5;241;43m.\u001b[39;49m\u001b[43mmodel\u001b[49m\u001b[43m(\u001b[49m\n\u001b[1;32m    978\u001b[0m \u001b[43m    \u001b[49m\u001b[43minput_ids\u001b[49m\u001b[38;5;241;43m=\u001b[39;49m\u001b[43minput_ids\u001b[49m\u001b[43m,\u001b[49m\n\u001b[1;32m    979\u001b[0m \u001b[43m    \u001b[49m\u001b[43mattention_mask\u001b[49m\u001b[38;5;241;43m=\u001b[39;49m\u001b[43mattention_mask\u001b[49m\u001b[43m,\u001b[49m\n\u001b[1;32m    980\u001b[0m \u001b[43m    \u001b[49m\u001b[43mposition_ids\u001b[49m\u001b[38;5;241;43m=\u001b[39;49m\u001b[43mposition_ids\u001b[49m\u001b[43m,\u001b[49m\n\u001b[1;32m    981\u001b[0m \u001b[43m    \u001b[49m\u001b[43mpast_key_values\u001b[49m\u001b[38;5;241;43m=\u001b[39;49m\u001b[43mpast_key_values\u001b[49m\u001b[43m,\u001b[49m\n\u001b[1;32m    982\u001b[0m \u001b[43m    \u001b[49m\u001b[43minputs_embeds\u001b[49m\u001b[38;5;241;43m=\u001b[39;49m\u001b[43minputs_embeds\u001b[49m\u001b[43m,\u001b[49m\n\u001b[1;32m    983\u001b[0m \u001b[43m    \u001b[49m\u001b[43muse_cache\u001b[49m\u001b[38;5;241;43m=\u001b[39;49m\u001b[43muse_cache\u001b[49m\u001b[43m,\u001b[49m\n\u001b[1;32m    984\u001b[0m \u001b[43m    \u001b[49m\u001b[43moutput_attentions\u001b[49m\u001b[38;5;241;43m=\u001b[39;49m\u001b[43moutput_attentions\u001b[49m\u001b[43m,\u001b[49m\n\u001b[1;32m    985\u001b[0m \u001b[43m    \u001b[49m\u001b[43moutput_hidden_states\u001b[49m\u001b[38;5;241;43m=\u001b[39;49m\u001b[43moutput_hidden_states\u001b[49m\u001b[43m,\u001b[49m\n\u001b[1;32m    986\u001b[0m \u001b[43m    \u001b[49m\u001b[43mreturn_dict\u001b[49m\u001b[38;5;241;43m=\u001b[39;49m\u001b[43mreturn_dict\u001b[49m\u001b[43m,\u001b[49m\n\u001b[1;32m    987\u001b[0m \u001b[43m    \u001b[49m\u001b[43mcache_position\u001b[49m\u001b[38;5;241;43m=\u001b[39;49m\u001b[43mcache_position\u001b[49m\u001b[43m,\u001b[49m\n\u001b[1;32m    988\u001b[0m \u001b[43m\u001b[49m\u001b[43m)\u001b[49m\n\u001b[1;32m    990\u001b[0m hidden_states \u001b[38;5;241m=\u001b[39m outputs[\u001b[38;5;241m0\u001b[39m]\n\u001b[1;32m    991\u001b[0m \u001b[38;5;66;03m# Only compute necessary logits, and do not upcast them to float if we are not computing the loss\u001b[39;00m\n",
      "File \u001b[0;32m/usr/local/lib/python3.12/site-packages/torch/nn/modules/module.py:1736\u001b[0m, in \u001b[0;36mModule._wrapped_call_impl\u001b[0;34m(self, *args, **kwargs)\u001b[0m\n\u001b[1;32m   1734\u001b[0m     \u001b[38;5;28;01mreturn\u001b[39;00m \u001b[38;5;28mself\u001b[39m\u001b[38;5;241m.\u001b[39m_compiled_call_impl(\u001b[38;5;241m*\u001b[39margs, \u001b[38;5;241m*\u001b[39m\u001b[38;5;241m*\u001b[39mkwargs)  \u001b[38;5;66;03m# type: ignore[misc]\u001b[39;00m\n\u001b[1;32m   1735\u001b[0m \u001b[38;5;28;01melse\u001b[39;00m:\n\u001b[0;32m-> 1736\u001b[0m     \u001b[38;5;28;01mreturn\u001b[39;00m \u001b[38;5;28;43mself\u001b[39;49m\u001b[38;5;241;43m.\u001b[39;49m\u001b[43m_call_impl\u001b[49m\u001b[43m(\u001b[49m\u001b[38;5;241;43m*\u001b[39;49m\u001b[43margs\u001b[49m\u001b[43m,\u001b[49m\u001b[43m \u001b[49m\u001b[38;5;241;43m*\u001b[39;49m\u001b[38;5;241;43m*\u001b[39;49m\u001b[43mkwargs\u001b[49m\u001b[43m)\u001b[49m\n",
      "File \u001b[0;32m/usr/local/lib/python3.12/site-packages/torch/nn/modules/module.py:1747\u001b[0m, in \u001b[0;36mModule._call_impl\u001b[0;34m(self, *args, **kwargs)\u001b[0m\n\u001b[1;32m   1742\u001b[0m \u001b[38;5;66;03m# If we don't have any hooks, we want to skip the rest of the logic in\u001b[39;00m\n\u001b[1;32m   1743\u001b[0m \u001b[38;5;66;03m# this function, and just call forward.\u001b[39;00m\n\u001b[1;32m   1744\u001b[0m \u001b[38;5;28;01mif\u001b[39;00m \u001b[38;5;129;01mnot\u001b[39;00m (\u001b[38;5;28mself\u001b[39m\u001b[38;5;241m.\u001b[39m_backward_hooks \u001b[38;5;129;01mor\u001b[39;00m \u001b[38;5;28mself\u001b[39m\u001b[38;5;241m.\u001b[39m_backward_pre_hooks \u001b[38;5;129;01mor\u001b[39;00m \u001b[38;5;28mself\u001b[39m\u001b[38;5;241m.\u001b[39m_forward_hooks \u001b[38;5;129;01mor\u001b[39;00m \u001b[38;5;28mself\u001b[39m\u001b[38;5;241m.\u001b[39m_forward_pre_hooks\n\u001b[1;32m   1745\u001b[0m         \u001b[38;5;129;01mor\u001b[39;00m _global_backward_pre_hooks \u001b[38;5;129;01mor\u001b[39;00m _global_backward_hooks\n\u001b[1;32m   1746\u001b[0m         \u001b[38;5;129;01mor\u001b[39;00m _global_forward_hooks \u001b[38;5;129;01mor\u001b[39;00m _global_forward_pre_hooks):\n\u001b[0;32m-> 1747\u001b[0m     \u001b[38;5;28;01mreturn\u001b[39;00m \u001b[43mforward_call\u001b[49m\u001b[43m(\u001b[49m\u001b[38;5;241;43m*\u001b[39;49m\u001b[43margs\u001b[49m\u001b[43m,\u001b[49m\u001b[43m \u001b[49m\u001b[38;5;241;43m*\u001b[39;49m\u001b[38;5;241;43m*\u001b[39;49m\u001b[43mkwargs\u001b[49m\u001b[43m)\u001b[49m\n\u001b[1;32m   1749\u001b[0m result \u001b[38;5;241m=\u001b[39m \u001b[38;5;28;01mNone\u001b[39;00m\n\u001b[1;32m   1750\u001b[0m called_always_called_hooks \u001b[38;5;241m=\u001b[39m \u001b[38;5;28mset\u001b[39m()\n",
      "File \u001b[0;32m/usr/local/lib/python3.12/site-packages/transformers/models/gemma2/modeling_gemma2.py:763\u001b[0m, in \u001b[0;36mGemma2Model.forward\u001b[0;34m(self, input_ids, attention_mask, position_ids, past_key_values, inputs_embeds, use_cache, output_attentions, output_hidden_states, return_dict, cache_position)\u001b[0m\n\u001b[1;32m    752\u001b[0m     layer_outputs \u001b[38;5;241m=\u001b[39m \u001b[38;5;28mself\u001b[39m\u001b[38;5;241m.\u001b[39m_gradient_checkpointing_func(\n\u001b[1;32m    753\u001b[0m         decoder_layer\u001b[38;5;241m.\u001b[39m\u001b[38;5;21m__call__\u001b[39m,\n\u001b[1;32m    754\u001b[0m         hidden_states,\n\u001b[0;32m   (...)\u001b[0m\n\u001b[1;32m    760\u001b[0m         cache_position,\n\u001b[1;32m    761\u001b[0m     )\n\u001b[1;32m    762\u001b[0m \u001b[38;5;28;01melse\u001b[39;00m:\n\u001b[0;32m--> 763\u001b[0m     layer_outputs \u001b[38;5;241m=\u001b[39m \u001b[43mdecoder_layer\u001b[49m\u001b[43m(\u001b[49m\n\u001b[1;32m    764\u001b[0m \u001b[43m        \u001b[49m\u001b[43mhidden_states\u001b[49m\u001b[43m,\u001b[49m\n\u001b[1;32m    765\u001b[0m \u001b[43m        \u001b[49m\u001b[43mattention_mask\u001b[49m\u001b[38;5;241;43m=\u001b[39;49m\u001b[43mcausal_mask\u001b[49m\u001b[43m,\u001b[49m\n\u001b[1;32m    766\u001b[0m \u001b[43m        \u001b[49m\u001b[43mposition_ids\u001b[49m\u001b[38;5;241;43m=\u001b[39;49m\u001b[43mposition_ids\u001b[49m\u001b[43m,\u001b[49m\n\u001b[1;32m    767\u001b[0m \u001b[43m        \u001b[49m\u001b[43mpast_key_value\u001b[49m\u001b[38;5;241;43m=\u001b[39;49m\u001b[43mpast_key_values\u001b[49m\u001b[43m,\u001b[49m\n\u001b[1;32m    768\u001b[0m \u001b[43m        \u001b[49m\u001b[43moutput_attentions\u001b[49m\u001b[38;5;241;43m=\u001b[39;49m\u001b[43moutput_attentions\u001b[49m\u001b[43m,\u001b[49m\n\u001b[1;32m    769\u001b[0m \u001b[43m        \u001b[49m\u001b[43muse_cache\u001b[49m\u001b[38;5;241;43m=\u001b[39;49m\u001b[43muse_cache\u001b[49m\u001b[43m,\u001b[49m\n\u001b[1;32m    770\u001b[0m \u001b[43m        \u001b[49m\u001b[43mcache_position\u001b[49m\u001b[38;5;241;43m=\u001b[39;49m\u001b[43mcache_position\u001b[49m\u001b[43m,\u001b[49m\n\u001b[1;32m    771\u001b[0m \u001b[43m    \u001b[49m\u001b[43m)\u001b[49m\n\u001b[1;32m    773\u001b[0m hidden_states \u001b[38;5;241m=\u001b[39m layer_outputs[\u001b[38;5;241m0\u001b[39m]\n\u001b[1;32m    775\u001b[0m \u001b[38;5;28;01mif\u001b[39;00m output_attentions:\n",
      "File \u001b[0;32m/usr/local/lib/python3.12/site-packages/torch/nn/modules/module.py:1736\u001b[0m, in \u001b[0;36mModule._wrapped_call_impl\u001b[0;34m(self, *args, **kwargs)\u001b[0m\n\u001b[1;32m   1734\u001b[0m     \u001b[38;5;28;01mreturn\u001b[39;00m \u001b[38;5;28mself\u001b[39m\u001b[38;5;241m.\u001b[39m_compiled_call_impl(\u001b[38;5;241m*\u001b[39margs, \u001b[38;5;241m*\u001b[39m\u001b[38;5;241m*\u001b[39mkwargs)  \u001b[38;5;66;03m# type: ignore[misc]\u001b[39;00m\n\u001b[1;32m   1735\u001b[0m \u001b[38;5;28;01melse\u001b[39;00m:\n\u001b[0;32m-> 1736\u001b[0m     \u001b[38;5;28;01mreturn\u001b[39;00m \u001b[38;5;28;43mself\u001b[39;49m\u001b[38;5;241;43m.\u001b[39;49m\u001b[43m_call_impl\u001b[49m\u001b[43m(\u001b[49m\u001b[38;5;241;43m*\u001b[39;49m\u001b[43margs\u001b[49m\u001b[43m,\u001b[49m\u001b[43m \u001b[49m\u001b[38;5;241;43m*\u001b[39;49m\u001b[38;5;241;43m*\u001b[39;49m\u001b[43mkwargs\u001b[49m\u001b[43m)\u001b[49m\n",
      "File \u001b[0;32m/usr/local/lib/python3.12/site-packages/torch/nn/modules/module.py:1747\u001b[0m, in \u001b[0;36mModule._call_impl\u001b[0;34m(self, *args, **kwargs)\u001b[0m\n\u001b[1;32m   1742\u001b[0m \u001b[38;5;66;03m# If we don't have any hooks, we want to skip the rest of the logic in\u001b[39;00m\n\u001b[1;32m   1743\u001b[0m \u001b[38;5;66;03m# this function, and just call forward.\u001b[39;00m\n\u001b[1;32m   1744\u001b[0m \u001b[38;5;28;01mif\u001b[39;00m \u001b[38;5;129;01mnot\u001b[39;00m (\u001b[38;5;28mself\u001b[39m\u001b[38;5;241m.\u001b[39m_backward_hooks \u001b[38;5;129;01mor\u001b[39;00m \u001b[38;5;28mself\u001b[39m\u001b[38;5;241m.\u001b[39m_backward_pre_hooks \u001b[38;5;129;01mor\u001b[39;00m \u001b[38;5;28mself\u001b[39m\u001b[38;5;241m.\u001b[39m_forward_hooks \u001b[38;5;129;01mor\u001b[39;00m \u001b[38;5;28mself\u001b[39m\u001b[38;5;241m.\u001b[39m_forward_pre_hooks\n\u001b[1;32m   1745\u001b[0m         \u001b[38;5;129;01mor\u001b[39;00m _global_backward_pre_hooks \u001b[38;5;129;01mor\u001b[39;00m _global_backward_hooks\n\u001b[1;32m   1746\u001b[0m         \u001b[38;5;129;01mor\u001b[39;00m _global_forward_hooks \u001b[38;5;129;01mor\u001b[39;00m _global_forward_pre_hooks):\n\u001b[0;32m-> 1747\u001b[0m     \u001b[38;5;28;01mreturn\u001b[39;00m \u001b[43mforward_call\u001b[49m\u001b[43m(\u001b[49m\u001b[38;5;241;43m*\u001b[39;49m\u001b[43margs\u001b[49m\u001b[43m,\u001b[49m\u001b[43m \u001b[49m\u001b[38;5;241;43m*\u001b[39;49m\u001b[38;5;241;43m*\u001b[39;49m\u001b[43mkwargs\u001b[49m\u001b[43m)\u001b[49m\n\u001b[1;32m   1749\u001b[0m result \u001b[38;5;241m=\u001b[39m \u001b[38;5;28;01mNone\u001b[39;00m\n\u001b[1;32m   1750\u001b[0m called_always_called_hooks \u001b[38;5;241m=\u001b[39m \u001b[38;5;28mset\u001b[39m()\n",
      "File \u001b[0;32m/usr/local/lib/python3.12/site-packages/accelerate/hooks.py:170\u001b[0m, in \u001b[0;36madd_hook_to_module.<locals>.new_forward\u001b[0;34m(module, *args, **kwargs)\u001b[0m\n\u001b[1;32m    168\u001b[0m         output \u001b[38;5;241m=\u001b[39m module\u001b[38;5;241m.\u001b[39m_old_forward(\u001b[38;5;241m*\u001b[39margs, \u001b[38;5;241m*\u001b[39m\u001b[38;5;241m*\u001b[39mkwargs)\n\u001b[1;32m    169\u001b[0m \u001b[38;5;28;01melse\u001b[39;00m:\n\u001b[0;32m--> 170\u001b[0m     output \u001b[38;5;241m=\u001b[39m \u001b[43mmodule\u001b[49m\u001b[38;5;241;43m.\u001b[39;49m\u001b[43m_old_forward\u001b[49m\u001b[43m(\u001b[49m\u001b[38;5;241;43m*\u001b[39;49m\u001b[43margs\u001b[49m\u001b[43m,\u001b[49m\u001b[43m \u001b[49m\u001b[38;5;241;43m*\u001b[39;49m\u001b[38;5;241;43m*\u001b[39;49m\u001b[43mkwargs\u001b[49m\u001b[43m)\u001b[49m\n\u001b[1;32m    171\u001b[0m \u001b[38;5;28;01mreturn\u001b[39;00m module\u001b[38;5;241m.\u001b[39m_hf_hook\u001b[38;5;241m.\u001b[39mpost_forward(module, output)\n",
      "File \u001b[0;32m/usr/local/lib/python3.12/site-packages/transformers/models/gemma2/modeling_gemma2.py:494\u001b[0m, in \u001b[0;36mGemma2DecoderLayer.forward\u001b[0;34m(self, hidden_states, attention_mask, position_ids, past_key_value, output_attentions, use_cache, cache_position)\u001b[0m\n\u001b[1;32m    492\u001b[0m hidden_states \u001b[38;5;241m=\u001b[39m \u001b[38;5;28mself\u001b[39m\u001b[38;5;241m.\u001b[39mpre_feedforward_layernorm(hidden_states)\n\u001b[1;32m    493\u001b[0m hidden_states \u001b[38;5;241m=\u001b[39m \u001b[38;5;28mself\u001b[39m\u001b[38;5;241m.\u001b[39mmlp(hidden_states)\n\u001b[0;32m--> 494\u001b[0m hidden_states \u001b[38;5;241m=\u001b[39m \u001b[38;5;28;43mself\u001b[39;49m\u001b[38;5;241;43m.\u001b[39;49m\u001b[43mpost_feedforward_layernorm\u001b[49m\u001b[43m(\u001b[49m\u001b[43mhidden_states\u001b[49m\u001b[43m)\u001b[49m\n\u001b[1;32m    495\u001b[0m hidden_states \u001b[38;5;241m=\u001b[39m residual \u001b[38;5;241m+\u001b[39m hidden_states\n\u001b[1;32m    497\u001b[0m outputs \u001b[38;5;241m=\u001b[39m (hidden_states,)\n",
      "File \u001b[0;32m/usr/local/lib/python3.12/site-packages/torch/nn/modules/module.py:1736\u001b[0m, in \u001b[0;36mModule._wrapped_call_impl\u001b[0;34m(self, *args, **kwargs)\u001b[0m\n\u001b[1;32m   1734\u001b[0m     \u001b[38;5;28;01mreturn\u001b[39;00m \u001b[38;5;28mself\u001b[39m\u001b[38;5;241m.\u001b[39m_compiled_call_impl(\u001b[38;5;241m*\u001b[39margs, \u001b[38;5;241m*\u001b[39m\u001b[38;5;241m*\u001b[39mkwargs)  \u001b[38;5;66;03m# type: ignore[misc]\u001b[39;00m\n\u001b[1;32m   1735\u001b[0m \u001b[38;5;28;01melse\u001b[39;00m:\n\u001b[0;32m-> 1736\u001b[0m     \u001b[38;5;28;01mreturn\u001b[39;00m \u001b[38;5;28;43mself\u001b[39;49m\u001b[38;5;241;43m.\u001b[39;49m\u001b[43m_call_impl\u001b[49m\u001b[43m(\u001b[49m\u001b[38;5;241;43m*\u001b[39;49m\u001b[43margs\u001b[49m\u001b[43m,\u001b[49m\u001b[43m \u001b[49m\u001b[38;5;241;43m*\u001b[39;49m\u001b[38;5;241;43m*\u001b[39;49m\u001b[43mkwargs\u001b[49m\u001b[43m)\u001b[49m\n",
      "File \u001b[0;32m/usr/local/lib/python3.12/site-packages/torch/nn/modules/module.py:1747\u001b[0m, in \u001b[0;36mModule._call_impl\u001b[0;34m(self, *args, **kwargs)\u001b[0m\n\u001b[1;32m   1742\u001b[0m \u001b[38;5;66;03m# If we don't have any hooks, we want to skip the rest of the logic in\u001b[39;00m\n\u001b[1;32m   1743\u001b[0m \u001b[38;5;66;03m# this function, and just call forward.\u001b[39;00m\n\u001b[1;32m   1744\u001b[0m \u001b[38;5;28;01mif\u001b[39;00m \u001b[38;5;129;01mnot\u001b[39;00m (\u001b[38;5;28mself\u001b[39m\u001b[38;5;241m.\u001b[39m_backward_hooks \u001b[38;5;129;01mor\u001b[39;00m \u001b[38;5;28mself\u001b[39m\u001b[38;5;241m.\u001b[39m_backward_pre_hooks \u001b[38;5;129;01mor\u001b[39;00m \u001b[38;5;28mself\u001b[39m\u001b[38;5;241m.\u001b[39m_forward_hooks \u001b[38;5;129;01mor\u001b[39;00m \u001b[38;5;28mself\u001b[39m\u001b[38;5;241m.\u001b[39m_forward_pre_hooks\n\u001b[1;32m   1745\u001b[0m         \u001b[38;5;129;01mor\u001b[39;00m _global_backward_pre_hooks \u001b[38;5;129;01mor\u001b[39;00m _global_backward_hooks\n\u001b[1;32m   1746\u001b[0m         \u001b[38;5;129;01mor\u001b[39;00m _global_forward_hooks \u001b[38;5;129;01mor\u001b[39;00m _global_forward_pre_hooks):\n\u001b[0;32m-> 1747\u001b[0m     \u001b[38;5;28;01mreturn\u001b[39;00m \u001b[43mforward_call\u001b[49m\u001b[43m(\u001b[49m\u001b[38;5;241;43m*\u001b[39;49m\u001b[43margs\u001b[49m\u001b[43m,\u001b[49m\u001b[43m \u001b[49m\u001b[38;5;241;43m*\u001b[39;49m\u001b[38;5;241;43m*\u001b[39;49m\u001b[43mkwargs\u001b[49m\u001b[43m)\u001b[49m\n\u001b[1;32m   1749\u001b[0m result \u001b[38;5;241m=\u001b[39m \u001b[38;5;28;01mNone\u001b[39;00m\n\u001b[1;32m   1750\u001b[0m called_always_called_hooks \u001b[38;5;241m=\u001b[39m \u001b[38;5;28mset\u001b[39m()\n",
      "File \u001b[0;32m/usr/local/lib/python3.12/site-packages/accelerate/hooks.py:165\u001b[0m, in \u001b[0;36madd_hook_to_module.<locals>.new_forward\u001b[0;34m(module, *args, **kwargs)\u001b[0m\n\u001b[1;32m    164\u001b[0m \u001b[38;5;28;01mdef\u001b[39;00m \u001b[38;5;21mnew_forward\u001b[39m(module, \u001b[38;5;241m*\u001b[39margs, \u001b[38;5;241m*\u001b[39m\u001b[38;5;241m*\u001b[39mkwargs):\n\u001b[0;32m--> 165\u001b[0m     args, kwargs \u001b[38;5;241m=\u001b[39m \u001b[43mmodule\u001b[49m\u001b[38;5;241;43m.\u001b[39;49m\u001b[43m_hf_hook\u001b[49m\u001b[38;5;241;43m.\u001b[39;49m\u001b[43mpre_forward\u001b[49m\u001b[43m(\u001b[49m\u001b[43mmodule\u001b[49m\u001b[43m,\u001b[49m\u001b[43m \u001b[49m\u001b[38;5;241;43m*\u001b[39;49m\u001b[43margs\u001b[49m\u001b[43m,\u001b[49m\u001b[43m \u001b[49m\u001b[38;5;241;43m*\u001b[39;49m\u001b[38;5;241;43m*\u001b[39;49m\u001b[43mkwargs\u001b[49m\u001b[43m)\u001b[49m\n\u001b[1;32m    166\u001b[0m     \u001b[38;5;28;01mif\u001b[39;00m module\u001b[38;5;241m.\u001b[39m_hf_hook\u001b[38;5;241m.\u001b[39mno_grad:\n\u001b[1;32m    167\u001b[0m         \u001b[38;5;28;01mwith\u001b[39;00m torch\u001b[38;5;241m.\u001b[39mno_grad():\n",
      "File \u001b[0;32m/usr/local/lib/python3.12/site-packages/accelerate/hooks.py:355\u001b[0m, in \u001b[0;36mAlignDevicesHook.pre_forward\u001b[0;34m(self, module, *args, **kwargs)\u001b[0m\n\u001b[1;32m    347\u001b[0m         \u001b[38;5;28;01mif\u001b[39;00m (\n\u001b[1;32m    348\u001b[0m             value \u001b[38;5;129;01mis\u001b[39;00m \u001b[38;5;129;01mnot\u001b[39;00m \u001b[38;5;28;01mNone\u001b[39;00m\n\u001b[1;32m    349\u001b[0m             \u001b[38;5;129;01mand\u001b[39;00m \u001b[38;5;28mself\u001b[39m\u001b[38;5;241m.\u001b[39mtied_params_map \u001b[38;5;129;01mis\u001b[39;00m \u001b[38;5;129;01mnot\u001b[39;00m \u001b[38;5;28;01mNone\u001b[39;00m\n\u001b[1;32m    350\u001b[0m             \u001b[38;5;129;01mand\u001b[39;00m value\u001b[38;5;241m.\u001b[39mdata_ptr() \u001b[38;5;129;01min\u001b[39;00m \u001b[38;5;28mself\u001b[39m\u001b[38;5;241m.\u001b[39mtied_params_map\n\u001b[1;32m    351\u001b[0m             \u001b[38;5;129;01mand\u001b[39;00m \u001b[38;5;28mself\u001b[39m\u001b[38;5;241m.\u001b[39mexecution_device \u001b[38;5;129;01mnot\u001b[39;00m \u001b[38;5;129;01min\u001b[39;00m \u001b[38;5;28mself\u001b[39m\u001b[38;5;241m.\u001b[39mtied_params_map[value\u001b[38;5;241m.\u001b[39mdata_ptr()]\n\u001b[1;32m    352\u001b[0m         ):\n\u001b[1;32m    353\u001b[0m             \u001b[38;5;28mself\u001b[39m\u001b[38;5;241m.\u001b[39mtied_pointers_to_remove\u001b[38;5;241m.\u001b[39madd((value\u001b[38;5;241m.\u001b[39mdata_ptr(), \u001b[38;5;28mself\u001b[39m\u001b[38;5;241m.\u001b[39mexecution_device))\n\u001b[0;32m--> 355\u001b[0m         \u001b[43mset_module_tensor_to_device\u001b[49m\u001b[43m(\u001b[49m\n\u001b[1;32m    356\u001b[0m \u001b[43m            \u001b[49m\u001b[43mmodule\u001b[49m\u001b[43m,\u001b[49m\n\u001b[1;32m    357\u001b[0m \u001b[43m            \u001b[49m\u001b[43mname\u001b[49m\u001b[43m,\u001b[49m\n\u001b[1;32m    358\u001b[0m \u001b[43m            \u001b[49m\u001b[38;5;28;43mself\u001b[39;49m\u001b[38;5;241;43m.\u001b[39;49m\u001b[43mexecution_device\u001b[49m\u001b[43m,\u001b[49m\n\u001b[1;32m    359\u001b[0m \u001b[43m            \u001b[49m\u001b[43mvalue\u001b[49m\u001b[38;5;241;43m=\u001b[39;49m\u001b[43mvalue\u001b[49m\u001b[43m,\u001b[49m\n\u001b[1;32m    360\u001b[0m \u001b[43m            \u001b[49m\u001b[43mfp16_statistics\u001b[49m\u001b[38;5;241;43m=\u001b[39;49m\u001b[43mfp16_statistics\u001b[49m\u001b[43m,\u001b[49m\n\u001b[1;32m    361\u001b[0m \u001b[43m            \u001b[49m\u001b[43mtied_params_map\u001b[49m\u001b[38;5;241;43m=\u001b[39;49m\u001b[38;5;28;43mself\u001b[39;49m\u001b[38;5;241;43m.\u001b[39;49m\u001b[43mtied_params_map\u001b[49m\u001b[43m,\u001b[49m\n\u001b[1;32m    362\u001b[0m \u001b[43m        \u001b[49m\u001b[43m)\u001b[49m\n\u001b[1;32m    364\u001b[0m \u001b[38;5;28;01mreturn\u001b[39;00m send_to_device(args, \u001b[38;5;28mself\u001b[39m\u001b[38;5;241m.\u001b[39mexecution_device), send_to_device(\n\u001b[1;32m    365\u001b[0m     kwargs, \u001b[38;5;28mself\u001b[39m\u001b[38;5;241m.\u001b[39mexecution_device, skip_keys\u001b[38;5;241m=\u001b[39m\u001b[38;5;28mself\u001b[39m\u001b[38;5;241m.\u001b[39mskip_keys\n\u001b[1;32m    366\u001b[0m )\n",
      "File \u001b[0;32m/usr/local/lib/python3.12/site-packages/accelerate/utils/modeling.py:397\u001b[0m, in \u001b[0;36mset_module_tensor_to_device\u001b[0;34m(module, tensor_name, device, value, dtype, fp16_statistics, tied_params_map)\u001b[0m\n\u001b[1;32m    395\u001b[0m \u001b[38;5;66;03m# clean pre and post foward hook\u001b[39;00m\n\u001b[1;32m    396\u001b[0m \u001b[38;5;28;01mif\u001b[39;00m device \u001b[38;5;241m!=\u001b[39m \u001b[38;5;124m\"\u001b[39m\u001b[38;5;124mcpu\u001b[39m\u001b[38;5;124m\"\u001b[39m:\n\u001b[0;32m--> 397\u001b[0m     \u001b[43mclear_device_cache\u001b[49m\u001b[43m(\u001b[49m\u001b[43m)\u001b[49m\n\u001b[1;32m    399\u001b[0m \u001b[38;5;66;03m# When handling tied weights, we update tied_params_map to keep track of the tied weights that have already been allocated on the device in\u001b[39;00m\n\u001b[1;32m    400\u001b[0m \u001b[38;5;66;03m# order to avoid duplicating memory, see above.\u001b[39;00m\n\u001b[1;32m    401\u001b[0m \u001b[38;5;28;01mif\u001b[39;00m (\n\u001b[1;32m    402\u001b[0m     tied_params_map \u001b[38;5;129;01mis\u001b[39;00m \u001b[38;5;129;01mnot\u001b[39;00m \u001b[38;5;28;01mNone\u001b[39;00m\n\u001b[1;32m    403\u001b[0m     \u001b[38;5;129;01mand\u001b[39;00m old_value\u001b[38;5;241m.\u001b[39mdata_ptr() \u001b[38;5;129;01min\u001b[39;00m tied_params_map\n\u001b[1;32m    404\u001b[0m     \u001b[38;5;129;01mand\u001b[39;00m device \u001b[38;5;129;01mnot\u001b[39;00m \u001b[38;5;129;01min\u001b[39;00m tied_params_map[old_value\u001b[38;5;241m.\u001b[39mdata_ptr()]\n\u001b[1;32m    405\u001b[0m ):\n",
      "File \u001b[0;32m/usr/local/lib/python3.12/site-packages/accelerate/utils/memory.py:60\u001b[0m, in \u001b[0;36mclear_device_cache\u001b[0;34m(garbage_collection)\u001b[0m\n\u001b[1;32m     58\u001b[0m     torch\u001b[38;5;241m.\u001b[39mmps\u001b[38;5;241m.\u001b[39mempty_cache()\n\u001b[1;32m     59\u001b[0m \u001b[38;5;28;01melif\u001b[39;00m is_cuda_available():\n\u001b[0;32m---> 60\u001b[0m     \u001b[43mtorch\u001b[49m\u001b[38;5;241;43m.\u001b[39;49m\u001b[43mcuda\u001b[49m\u001b[38;5;241;43m.\u001b[39;49m\u001b[43mempty_cache\u001b[49m\u001b[43m(\u001b[49m\u001b[43m)\u001b[49m\n",
      "File \u001b[0;32m/usr/local/lib/python3.12/site-packages/torch/cuda/memory.py:192\u001b[0m, in \u001b[0;36mempty_cache\u001b[0;34m()\u001b[0m\n\u001b[1;32m    181\u001b[0m \u001b[38;5;250m\u001b[39m\u001b[38;5;124mr\u001b[39m\u001b[38;5;124;03m\"\"\"Release all unoccupied cached memory currently held by the caching\u001b[39;00m\n\u001b[1;32m    182\u001b[0m \u001b[38;5;124;03mallocator so that those can be used in other GPU application and visible in\u001b[39;00m\n\u001b[1;32m    183\u001b[0m \u001b[38;5;124;03m`nvidia-smi`.\u001b[39;00m\n\u001b[0;32m   (...)\u001b[0m\n\u001b[1;32m    189\u001b[0m \u001b[38;5;124;03m    more details about GPU memory management.\u001b[39;00m\n\u001b[1;32m    190\u001b[0m \u001b[38;5;124;03m\"\"\"\u001b[39;00m\n\u001b[1;32m    191\u001b[0m \u001b[38;5;28;01mif\u001b[39;00m is_initialized():\n\u001b[0;32m--> 192\u001b[0m     \u001b[43mtorch\u001b[49m\u001b[38;5;241;43m.\u001b[39;49m\u001b[43m_C\u001b[49m\u001b[38;5;241;43m.\u001b[39;49m\u001b[43m_cuda_emptyCache\u001b[49m\u001b[43m(\u001b[49m\u001b[43m)\u001b[49m\n",
      "\u001b[0;31mKeyboardInterrupt\u001b[0m: "
     ]
    }
   ],
   "source": [
    "for i in [0,1,2,3,4,5]:\n",
    "    \n",
    "    print(f\"Processing {i}th sample\")\n",
    "    best_sequence, best_value = search_optimal_permutation(\n",
    "        id=i,\n",
    "        scorer=scorer,\n",
    "        max_iterations=2**9,\n",
    "        BATCH_SIZE=16\n",
    "    )\n",
    "    \n",
    "    print(best_sequence)\n",
    "    sub_df.loc[i, \"best_value\"] = best_value\n",
    "    sub_df.loc[i, \"text\"] = \" \".join(best_sequence)\n",
    "\n"
   ]
  },
  {
   "cell_type": "code",
   "execution_count": null,
   "id": "8957eb19",
   "metadata": {},
   "outputs": [
    {
     "data": {
      "text/html": [
       "<div>\n",
       "<style scoped>\n",
       "    .dataframe tbody tr th:only-of-type {\n",
       "        vertical-align: middle;\n",
       "    }\n",
       "\n",
       "    .dataframe tbody tr th {\n",
       "        vertical-align: top;\n",
       "    }\n",
       "\n",
       "    .dataframe thead th {\n",
       "        text-align: right;\n",
       "    }\n",
       "</style>\n",
       "<table border=\"1\" class=\"dataframe\">\n",
       "  <thead>\n",
       "    <tr style=\"text-align: right;\">\n",
       "      <th></th>\n",
       "      <th>id</th>\n",
       "      <th>text</th>\n",
       "      <th>best_value</th>\n",
       "      <th>selected_text</th>\n",
       "    </tr>\n",
       "  </thead>\n",
       "  <tbody>\n",
       "    <tr>\n",
       "      <th>0</th>\n",
       "      <td>0</td>\n",
       "      <td>ornament reindeer elf mistletoe gingerbread fa...</td>\n",
       "      <td>960.244078</td>\n",
       "      <td>\"\"reindeer mistletoe elf scrooge chimney firep...</td>\n",
       "    </tr>\n",
       "    <tr>\n",
       "      <th>1</th>\n",
       "      <td>1</td>\n",
       "      <td>reindeer sleep drive the scrooge laugh gingerb...</td>\n",
       "      <td>654.829568</td>\n",
       "      <td>\"\"reindeer mistletoe jump drive scrooge orname...</td>\n",
       "    </tr>\n",
       "    <tr>\n",
       "      <th>2</th>\n",
       "      <td>2</td>\n",
       "      <td>jingle sleigh yuletide carol grinch naughty ni...</td>\n",
       "      <td>427.773457</td>\n",
       "      <td>\"\"jingle grinch carol yuletide holly holiday c...</td>\n",
       "    </tr>\n",
       "    <tr>\n",
       "      <th>3</th>\n",
       "      <td>3</td>\n",
       "      <td>grinch ornament decorations of holly yuletide ...</td>\n",
       "      <td>417.864096</td>\n",
       "      <td>\"\"holiday is cheer yuletide holly jingle relax...</td>\n",
       "    </tr>\n",
       "    <tr>\n",
       "      <th>4</th>\n",
       "      <td>4</td>\n",
       "      <td>from chocolate candy paper angel toy candle be...</td>\n",
       "      <td>534.456317</td>\n",
       "      <td>\"\"wreath and hope peace night bow candle dream...</td>\n",
       "    </tr>\n",
       "    <tr>\n",
       "      <th>5</th>\n",
       "      <td>5</td>\n",
       "      <td>is not eggnog unwrap hohoho the joy cookie puz...</td>\n",
       "      <td>441.352444</td>\n",
       "      <td>\"\"sleigh you sing unwrap fruitcake stocking ho...</td>\n",
       "    </tr>\n",
       "  </tbody>\n",
       "</table>\n",
       "</div>"
      ],
      "text/plain": [
       "   id                                               text  best_value  \\\n",
       "0   0  ornament reindeer elf mistletoe gingerbread fa...  960.244078   \n",
       "1   1  reindeer sleep drive the scrooge laugh gingerb...  654.829568   \n",
       "2   2  jingle sleigh yuletide carol grinch naughty ni...  427.773457   \n",
       "3   3  grinch ornament decorations of holly yuletide ...  417.864096   \n",
       "4   4  from chocolate candy paper angel toy candle be...  534.456317   \n",
       "5   5  is not eggnog unwrap hohoho the joy cookie puz...  441.352444   \n",
       "\n",
       "                                       selected_text  \n",
       "0  \"\"reindeer mistletoe elf scrooge chimney firep...  \n",
       "1  \"\"reindeer mistletoe jump drive scrooge orname...  \n",
       "2  \"\"jingle grinch carol yuletide holly holiday c...  \n",
       "3  \"\"holiday is cheer yuletide holly jingle relax...  \n",
       "4  \"\"wreath and hope peace night bow candle dream...  \n",
       "5  \"\"sleigh you sing unwrap fruitcake stocking ho...  "
      ]
     },
     "execution_count": 64,
     "metadata": {},
     "output_type": "execute_result"
    }
   ],
   "source": [
    "sub_df"
   ]
  },
  {
   "cell_type": "code",
   "execution_count": null,
   "id": "a86cf297-51e3-44ee-b06d-069e0b8d8ad7",
   "metadata": {},
   "outputs": [
    {
     "name": "stderr",
     "output_type": "stream",
     "text": [
      "/tmp/ipykernel_2591/428122046.py:3: FutureWarning: DataFrame.applymap has been deprecated. Use DataFrame.map instead.\n",
      "  sub_df = sub_df.applymap(add_quotes_to_strings)\n"
     ]
    }
   ],
   "source": [
    "# 各セルに関数を適用\n",
    "sub_df[\"text\"] = sub_df[\"text\"].astype(str)\n",
    "sub_df = sub_df.applymap(add_quotes_to_strings)"
   ]
  },
  {
   "cell_type": "code",
   "execution_count": null,
   "id": "4ee1cb10",
   "metadata": {},
   "outputs": [],
   "source": [
    "sub_df[[\"id\", \"text\"]].to_csv(f\"../../output/out/submission{ex_num}.csv\", index=False, header=True, quoting=csv.QUOTE_NONE)"
   ]
  },
  {
   "cell_type": "code",
   "execution_count": null,
   "id": "7a35d3d2-72c9-4488-8e04-a73b68118fdf",
   "metadata": {},
   "outputs": [
    {
     "data": {
      "text/plain": [
       "np.float64(572.7533266893)"
      ]
     },
     "execution_count": 67,
     "metadata": {},
     "output_type": "execute_result"
    }
   ],
   "source": [
    "np.mean(sub_df[\"best_value\"])"
   ]
  },
  {
   "cell_type": "code",
   "execution_count": null,
   "id": "d6fab0be-7428-4de2-8fd7-3f7a53846928",
   "metadata": {},
   "outputs": [
    {
     "data": {
      "text/plain": [
       "'\"ornament reindeer elf mistletoe gingerbread family advent scrooge chimney fireplace\"'"
      ]
     },
     "execution_count": 69,
     "metadata": {},
     "output_type": "execute_result"
    }
   ],
   "source": [
    "sub_df.iloc[0][\"text\"]"
   ]
  },
  {
   "cell_type": "code",
   "execution_count": null,
   "id": "aee35568-c022-47dd-9e9f-7e6834044278",
   "metadata": {},
   "outputs": [
    {
     "data": {
      "text/plain": [
       "id                 int64\n",
       "text              object\n",
       "best_value       float64\n",
       "selected_text     object\n",
       "dtype: object"
      ]
     },
     "execution_count": 70,
     "metadata": {},
     "output_type": "execute_result"
    }
   ],
   "source": [
    "sub_df.dtypes"
   ]
  },
  {
   "cell_type": "code",
   "execution_count": null,
   "id": "931d0b19-4f06-477b-a7b3-a3444627d78b",
   "metadata": {},
   "outputs": [],
   "source": []
  }
 ],
 "metadata": {
  "kernelspec": {
   "display_name": "Python 3 (ipykernel)",
   "language": "python",
   "name": "python3"
  },
  "language_info": {
   "codemirror_mode": {
    "name": "ipython",
    "version": 3
   },
   "file_extension": ".py",
   "mimetype": "text/x-python",
   "name": "python",
   "nbconvert_exporter": "python",
   "pygments_lexer": "ipython3",
   "version": "3.12.8"
  }
 },
 "nbformat": 4,
 "nbformat_minor": 5
}
