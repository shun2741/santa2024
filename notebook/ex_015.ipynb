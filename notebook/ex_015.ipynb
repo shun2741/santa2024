{
 "cells": [
  {
   "cell_type": "markdown",
   "id": "5b9a260d",
   "metadata": {},
   "source": [
    "### SAでのテンプレートを更新\n",
    "バッチサイズ分だけ並行して実施する"
   ]
  },
  {
   "cell_type": "code",
   "execution_count": 1,
   "id": "b32508c5",
   "metadata": {},
   "outputs": [],
   "source": [
    "import os\n",
    "# 環境によって変更\n",
    "os.chdir('/home/jovyan/work/notebook')"
   ]
  },
  {
   "cell_type": "code",
   "execution_count": 2,
   "id": "fce8450c",
   "metadata": {},
   "outputs": [],
   "source": [
    "CFG = {\n",
    "    \"base_ex_num\": \"015\",  # ベースとしている実験ノートブック\n",
    "    \"qid\": 2,  # 問題番号(0~5)\n",
    "    \"path\": \"../model\",  # モデルのパス(git管理外なので実行環境で変更)\n",
    "    # \"path\": \"../../output\",  \n",
    "    \"restart\": False,  # True: 途中から再開, False: sampleを使って最初から開始\n",
    "    \"restart_file_path\": \"../model/out/current_texts_014_0.csv\",  # 途中から再開する場合のファイルパス\n",
    "    \"start_temperature\": 100,  # 初期温度\n",
    "    \"end_temperature\": 0.001,  # 終了温度\n",
    "    \"cooling_rate\": 0.999,  # 温度の下がり具合\n",
    "    \"cooling_span\": 10,  # 何iterationごとに温度を下げるか\n",
    "    \"iteration\": int(1e2),  # iteration数\n",
    "    \"batch_size\": 32,  # バッチサイズ(並行して計算する数)\n",
    "    \"save_interval\": 10,  # 何回のiterationごとにlog保存するか\n",
    "    \"split_rule\": \"default\",  # 文章を単語に分割する方法(default(スペース区切り), compress(連続単語はくっつける))\n",
    "    \"neighbor_types\": [\"swap\", \"insert\", \"segment_insert\", \"scramble\"],  # 近傍操作の種類\n",
    "    \"seed\": 42,  # seed値\n",
    "}"
   ]
  },
  {
   "cell_type": "code",
   "execution_count": 3,
   "id": "cee854eb",
   "metadata": {},
   "outputs": [
    {
     "name": "stderr",
     "output_type": "stream",
     "text": [
      "git root error: Cmd('git') failed due to: exit code(128)\n",
      "  cmdline: git rev-parse --show-toplevel\n",
      "  stderr: 'fatal: detected dubious ownership in repository at '/home/jovyan/work'\n",
      "To add an exception for this directory, call:\n",
      "\n",
      "\tgit config --global --add safe.directory /home/jovyan/work'\n",
      "\u001b[34m\u001b[1mwandb\u001b[0m: Using wandb-core as the SDK backend.  Please refer to https://wandb.me/wandb-core for more information.\n",
      "\u001b[34m\u001b[1mwandb\u001b[0m: Currently logged in as: \u001b[33mshun2741\u001b[0m (\u001b[33mshun2741-ns-solutions\u001b[0m). Use \u001b[1m`wandb login --relogin`\u001b[0m to force relogin\n"
     ]
    },
    {
     "data": {
      "text/html": [
       "Tracking run with wandb version 0.19.1"
      ],
      "text/plain": [
       "<IPython.core.display.HTML object>"
      ]
     },
     "metadata": {},
     "output_type": "display_data"
    },
    {
     "data": {
      "text/html": [
       "Run data is saved locally in <code>/home/jovyan/work/notebook/wandb/run-20250103_124921-am1am1vw</code>"
      ],
      "text/plain": [
       "<IPython.core.display.HTML object>"
      ]
     },
     "metadata": {},
     "output_type": "display_data"
    },
    {
     "data": {
      "text/html": [
       "Syncing run <strong><a href='https://wandb.ai/shun2741-ns-solutions/santa2024/runs/am1am1vw' target=\"_blank\">crisp-moon-24</a></strong> to <a href='https://wandb.ai/shun2741-ns-solutions/santa2024' target=\"_blank\">Weights & Biases</a> (<a href='https://wandb.me/developer-guide' target=\"_blank\">docs</a>)<br>"
      ],
      "text/plain": [
       "<IPython.core.display.HTML object>"
      ]
     },
     "metadata": {},
     "output_type": "display_data"
    },
    {
     "data": {
      "text/html": [
       " View project at <a href='https://wandb.ai/shun2741-ns-solutions/santa2024' target=\"_blank\">https://wandb.ai/shun2741-ns-solutions/santa2024</a>"
      ],
      "text/plain": [
       "<IPython.core.display.HTML object>"
      ]
     },
     "metadata": {},
     "output_type": "display_data"
    },
    {
     "data": {
      "text/html": [
       " View run at <a href='https://wandb.ai/shun2741-ns-solutions/santa2024/runs/am1am1vw' target=\"_blank\">https://wandb.ai/shun2741-ns-solutions/santa2024/runs/am1am1vw</a>"
      ],
      "text/plain": [
       "<IPython.core.display.HTML object>"
      ]
     },
     "metadata": {},
     "output_type": "display_data"
    },
    {
     "data": {
      "text/html": [
       "<button onClick=\"this.nextSibling.style.display='block';this.style.display='none';\">Display W&B run</button><iframe src='https://wandb.ai/shun2741-ns-solutions/santa2024/runs/am1am1vw?jupyter=true' style='border:none;width:100%;height:420px;display:none;'></iframe>"
      ],
      "text/plain": [
       "<wandb.sdk.wandb_run.Run at 0x7f842155dca0>"
      ]
     },
     "execution_count": 3,
     "metadata": {},
     "output_type": "execute_result"
    }
   ],
   "source": [
    "import wandb\n",
    "\n",
    "wandb.login()\n",
    "\n",
    "wandb.init(\n",
    "    # プロジェクト名\n",
    "    project=\"santa2024\",\n",
    "\n",
    "    # 記録する実験条件\n",
    "    config=CFG\n",
    ")"
   ]
  },
  {
   "cell_type": "code",
   "execution_count": 4,
   "id": "6806febe",
   "metadata": {},
   "outputs": [],
   "source": [
    "import numpy as np\n",
    "import pandas as pd\n",
    "import os\n",
    "import time\n",
    "import csv\n",
    "\n",
    "from tqdm.notebook import tqdm\n",
    "\n",
    "import random\n",
    "from typing import List, Callable\n",
    "import itertools, math\n",
    "from typing import List, Tuple\n",
    "\n",
    "from utils import PerplexityCalculator\n",
    "# 可視化用\n",
    "import matplotlib.pyplot as plt"
   ]
  },
  {
   "cell_type": "code",
   "execution_count": 5,
   "id": "7dfd8ea9",
   "metadata": {},
   "outputs": [],
   "source": [
    "# seed値の固定\n",
    "# Pythonの組み込みrandomモジュールのシードを設定\n",
    "random.seed(CFG[\"seed\"])\n",
    "\n",
    "# NumPyのシードを設定\n",
    "np.random.seed(CFG[\"seed\"])"
   ]
  },
  {
   "cell_type": "markdown",
   "id": "8ea9236c",
   "metadata": {},
   "source": [
    "### データ読み込み"
   ]
  },
  {
   "cell_type": "code",
   "execution_count": 6,
   "id": "6f960148",
   "metadata": {},
   "outputs": [
    {
     "data": {
      "text/html": [
       "<div>\n",
       "<style scoped>\n",
       "    .dataframe tbody tr th:only-of-type {\n",
       "        vertical-align: middle;\n",
       "    }\n",
       "\n",
       "    .dataframe tbody tr th {\n",
       "        vertical-align: top;\n",
       "    }\n",
       "\n",
       "    .dataframe thead th {\n",
       "        text-align: right;\n",
       "    }\n",
       "</style>\n",
       "<table border=\"1\" class=\"dataframe\">\n",
       "  <thead>\n",
       "    <tr style=\"text-align: right;\">\n",
       "      <th></th>\n",
       "      <th>id</th>\n",
       "      <th>text</th>\n",
       "    </tr>\n",
       "  </thead>\n",
       "  <tbody>\n",
       "    <tr>\n",
       "      <th>0</th>\n",
       "      <td>0</td>\n",
       "      <td>advent chimney elf family fireplace gingerbrea...</td>\n",
       "    </tr>\n",
       "    <tr>\n",
       "      <th>1</th>\n",
       "      <td>1</td>\n",
       "      <td>advent chimney elf family fireplace gingerbrea...</td>\n",
       "    </tr>\n",
       "    <tr>\n",
       "      <th>2</th>\n",
       "      <td>2</td>\n",
       "      <td>yuletide decorations gifts cheer holiday carol...</td>\n",
       "    </tr>\n",
       "    <tr>\n",
       "      <th>3</th>\n",
       "      <td>3</td>\n",
       "      <td>yuletide decorations gifts cheer holiday carol...</td>\n",
       "    </tr>\n",
       "    <tr>\n",
       "      <th>4</th>\n",
       "      <td>4</td>\n",
       "      <td>hohoho candle poinsettia snowglobe peppermint ...</td>\n",
       "    </tr>\n",
       "    <tr>\n",
       "      <th>5</th>\n",
       "      <td>5</td>\n",
       "      <td>advent chimney elf family fireplace gingerbrea...</td>\n",
       "    </tr>\n",
       "  </tbody>\n",
       "</table>\n",
       "</div>"
      ],
      "text/plain": [
       "   id                                               text\n",
       "0   0  advent chimney elf family fireplace gingerbrea...\n",
       "1   1  advent chimney elf family fireplace gingerbrea...\n",
       "2   2  yuletide decorations gifts cheer holiday carol...\n",
       "3   3  yuletide decorations gifts cheer holiday carol...\n",
       "4   4  hohoho candle poinsettia snowglobe peppermint ...\n",
       "5   5  advent chimney elf family fireplace gingerbrea..."
      ]
     },
     "metadata": {},
     "output_type": "display_data"
    }
   ],
   "source": [
    "if CFG[\"restart\"]:\n",
    "    df = pd.read_csv(CFG[\"restart_file_path\"])\n",
    "    display(df)\n",
    "    \n",
    "    if len(df) != CFG[\"batch_size\"]:\n",
    "        AssertionError(\"batch_sizeが再開前のサイズと一致しません\")   \n",
    "else:\n",
    "    df = pd.read_csv(\"../input/sample_submission.csv\")\n",
    "    display(df)"
   ]
  },
  {
   "cell_type": "markdown",
   "id": "2b855d16",
   "metadata": {},
   "source": [
    "### 関数"
   ]
  },
  {
   "cell_type": "code",
   "execution_count": 7,
   "id": "2cb84b10",
   "metadata": {},
   "outputs": [],
   "source": [
    "def split_compress(sentence: str) -> list[str]:\n",
    "    \"\"\"\n",
    "    文章をスペースで分割し、連続している単語を結合する\n",
    "    同一の単語が連続している場合は１つの塊として処理する\n",
    "    args:\n",
    "        sentence: str: 分割する文章\n",
    "    return:\n",
    "        list[str]: 分割された単語のリスト\n",
    "    \"\"\"\n",
    "    words = sentence.split()\n",
    "    \n",
    "    if CFG[\"split_rule\"] != \"compress\":\n",
    "        return words\n",
    "    if not words:\n",
    "        return []\n",
    "\n",
    "    result = []\n",
    "    prev_word = None\n",
    "\n",
    "    for w in words:\n",
    "        if w == prev_word:\n",
    "            # 連続している場合は、リストの最後の要素にスペースを挟んで追加\n",
    "            result[-1] += \" \" + w\n",
    "        else:\n",
    "            # 新しい単語の場合はリストに追加\n",
    "            result.append(w)\n",
    "        prev_word = w\n",
    "\n",
    "    return result"
   ]
  },
  {
   "cell_type": "code",
   "execution_count": 8,
   "id": "a5f3bc02",
   "metadata": {},
   "outputs": [],
   "source": [
    "def plot_score_and_temperature(scores_history, temp_history):\n",
    "    \"\"\"\n",
    "    スコアと温度の推移をプロットする\n",
    "\n",
    "    args:\n",
    "        scores_history: List[float]: スコアの推移\n",
    "        temp_history: List[float]: 温度の推移\n",
    "    return:\n",
    "        None\n",
    "    \"\"\"\n",
    "    # x 軸: イテレーション\n",
    "    x = range(len(scores_history))\n",
    "    \n",
    "    # Figure と Axes を作成\n",
    "    fig, ax1 = plt.subplots(figsize=(8,5))\n",
    "    \n",
    "    # スコア用の軸 (左)\n",
    "    color_score = 'tab:blue'\n",
    "    ax1.set_xlabel('Iteration')\n",
    "    ax1.set_ylabel('Score (Perplexity)', color=color_score)\n",
    "    ax1.plot(x, scores_history, label='Score', color=color_score)\n",
    "    ax1.tick_params(axis='y', labelcolor=color_score)\n",
    "    \n",
    "    # 温度用の軸 (右) : twinx で第二のY軸を作成\n",
    "    ax2 = ax1.twinx()\n",
    "    color_temp = 'tab:red'\n",
    "    ax2.set_ylabel('Temperature', color=color_temp)\n",
    "    ax2.plot(x, temp_history, label='Temperature', color=color_temp)\n",
    "    ax2.tick_params(axis='y', labelcolor=color_temp)\n",
    "    \n",
    "    # タイトル等\n",
    "    plt.title('Score & Temperature Transition')\n",
    "    fig.tight_layout()\n",
    "    plt.show()"
   ]
  },
  {
   "cell_type": "code",
   "execution_count": 9,
   "id": "4d0fe093",
   "metadata": {},
   "outputs": [],
   "source": [
    "def generate_neighbor(sequence, neighbor_type='swap'):\n",
    "    \"\"\"\n",
    "    近傍操作を行う\n",
    "    \n",
    "    args:\n",
    "        sequence: List[str]: 単語のリスト\n",
    "        neighbor_type: str: 近傍操作の種類\n",
    "    return:\n",
    "        List[str]: 近傍操作後の単語のリスト\n",
    "    \"\"\"\n",
    "    new_seq = sequence[:]\n",
    "    length = len(new_seq)\n",
    "\n",
    "    if neighbor_type == 'swap':\n",
    "        # ランダムに2つの位置を選んで入れ替える\n",
    "        a, b = random.sample(range(length), 2)\n",
    "        new_seq[a], new_seq[b] = new_seq[b], new_seq[a]\n",
    "\n",
    "    elif neighbor_type == 'insert':\n",
    "        # ある単語を抜き出し、別の位置に挿入する\n",
    "        idx = random.randint(0, length - 1)\n",
    "        word = new_seq.pop(idx)\n",
    "        new_pos = random.randint(0, length - 1)\n",
    "        new_seq.insert(new_pos, word)\n",
    "\n",
    "    elif neighbor_type == 'segment_insert':\n",
    "        # 長さ2~5のランダムな部分区間を切り出して、別の位置に挿入\n",
    "        # 部分区間の長さをランダムに選択（2～5）\n",
    "        sublist_length = random.randint(2, 5)\n",
    "\n",
    "        # 部分区間の開始位置をランダムに選択\n",
    "        start_idx = random.randint(0, length - sublist_length)\n",
    "\n",
    "        # 部分区間を切り出し\n",
    "        sublist = new_seq[start_idx:start_idx + sublist_length]\n",
    "\n",
    "        # 部分区間を元のリストから削除\n",
    "        new_seq = new_seq[:start_idx] +new_seq[start_idx + sublist_length:]\n",
    "\n",
    "        # 挿入位置をランダムに選択（元の部分区間の位置は除く）\n",
    "        insert_idx = random.randint(0, len(new_seq))\n",
    "\n",
    "        # 切り出した部分区間を挿入\n",
    "        new_seq = new_seq[:insert_idx] + sublist + new_seq[insert_idx:]\n",
    "\n",
    "    elif neighbor_type == 'scramble':\n",
    "        \n",
    "        # ランダムな区間長 (2~5) を決定\n",
    "        sub_len = random.randint(2, min(5, length))  \n",
    "        # min(5, length) とすることで、リストが短い場合にも対応\n",
    "\n",
    "        # 区間開始位置をランダムに決める\n",
    "        start_idx = random.randint(0, length - sub_len)\n",
    "\n",
    "        # 部分区間を取り出す\n",
    "        sublist = new_seq[start_idx : start_idx + sub_len]\n",
    "\n",
    "        # 部分区間をシャッフル\n",
    "        random.shuffle(sublist)\n",
    "\n",
    "        # シャッフル後の部分区間を元リストに戻す\n",
    "        new_seq[start_idx : start_idx + sub_len] = sublist\n",
    "        \n",
    "    # 他にも様々な近傍操作を追加可能\n",
    "\n",
    "    return new_seq"
   ]
  },
  {
   "cell_type": "code",
   "execution_count": 10,
   "id": "7cddb70f",
   "metadata": {},
   "outputs": [],
   "source": [
    "def search_annealing(\n",
    "    scorer,\n",
    "    initial_sequences,\n",
    "):\n",
    "    \"\"\"\n",
    "    焼きなまし法による探索\n",
    "\n",
    "    args:\n",
    "        scorer: PerplexityCalculator: 評価器\n",
    "        initial_sequences: List[List[str]]: 初期解のリスト\n",
    "    \"\"\"\n",
    "    if CFG[\"neighbor_types\"] is None:\n",
    "        neighbor_types = ['swap']\n",
    "\n",
    "    texts = [\" \".join(seq) for seq in initial_sequences]\n",
    "    scores = scorer.get_perplexity(texts, batch_size=CFG[\"batch_size\"])\n",
    "\n",
    "    # スコア推移を記録するリスト\n",
    "    scores_history = []\n",
    "    temp_history = []\n",
    "    \n",
    "    # 現在の状態を持つリスト\n",
    "    current_seqs = []\n",
    "    current_scores = []\n",
    "    \n",
    "    # 初期解の生成\n",
    "    for i in range(CFG[\"batch_size\"]):\n",
    "        print(\"current_seq:\", initial_sequences[i])\n",
    "        print(\"current_score:\", scores[i])\n",
    "        current_seqs.append(initial_sequences[i])\n",
    "        current_scores.append(scores[i])\n",
    "    \n",
    "    idx = np.argmin(current_scores)\n",
    "    best_score = current_scores[idx]\n",
    "    best_seq = current_seqs[idx]\n",
    "    print(\"best_score:\", best_score)\n",
    "    print(\"best_text:\", \" \".join(best_seq))\n",
    "    \n",
    "    # neigbor_typesをキーとしたdictを作成\n",
    "    neighbor_dict = {}\n",
    "    counter_dict = {\n",
    "        \"used\": 0,\n",
    "        \"accept\": 0,\n",
    "    }\n",
    "    for neighbor_type in CFG[\"neighbor_types\"]:\n",
    "        neighbor_dict[neighbor_type] = counter_dict.copy()\n",
    "        \n",
    "    # 初期温度        \n",
    "    temperature = CFG[\"start_temperature\"]\n",
    "    \n",
    "    for itr in tqdm(range(CFG[\"iteration\"])):\n",
    "        # 可視化用の記録\n",
    "        scores_history.append(current_scores[0])\n",
    "        temp_history.append(temperature)\n",
    "        \n",
    "        # 近傍候補をまとめて生成\n",
    "        neighbor_candidates = []\n",
    "        for i in range(CFG[\"batch_size\"]):\n",
    "            # 近傍操作の種類をランダムに選ぶ\n",
    "            n_type = random.choice(CFG[\"neighbor_types\"])\n",
    "            neighbor_seq = generate_neighbor(current_seqs[i], n_type)\n",
    "            neighbor_dict[n_type][\"used\"] += 1\n",
    "            neighbor_candidates.append(neighbor_seq)\n",
    "\n",
    "        \n",
    "        # まとめてスコアを計算（GPUを活用）\n",
    "        texts = [\" \".join(seq) for seq in neighbor_candidates]\n",
    "        # print(\"texts:\", texts)\n",
    "        \n",
    "        scores = scorer.get_perplexity(texts, batch_size=CFG[\"batch_size\"])\n",
    "        # print(\"scores:\", scores)\n",
    "        \n",
    "        # 候補の中から1つを焼きなまし法の確率的受容ルールで選ぶ\n",
    "        for i, (cand_seq, cand_score) in enumerate(zip(neighbor_candidates, scores)):\n",
    "            delta = cand_score - current_scores[i]\n",
    "            accept_prob = math.exp(-delta / temperature) if delta > 0 else 1.0\n",
    "                \n",
    "            # スコアが良ければ必ず受容\n",
    "            if random.random() < accept_prob:\n",
    "                current_scores[i] = cand_score\n",
    "                current_seqs[i] = cand_seq\n",
    "                neighbor_dict[n_type][\"accept\"] += 1\n",
    "\n",
    "        # ベストの更新\n",
    "        if np.min(current_scores) < best_score:\n",
    "            # current_scoresの最小値のインデックスを取得\n",
    "            idx = np.argmin(current_scores)\n",
    "            \n",
    "            best_score = current_scores[idx]\n",
    "            best_seq = current_seqs[idx]\n",
    "            print(f\"iter {itr}: best_score: {best_score}\")\n",
    "            print(\"best_text:\", \" \".join(best_seq))\n",
    "            \n",
    "\n",
    "        # 温度を下げる\n",
    "        if itr % CFG[\"cooling_span\"] == 0:\n",
    "            temperature *= CFG[\"cooling_rate\"]\n",
    "            wandb.log({\"temperature\": temperature, \"score\":current_scores[0]})\n",
    "        \n",
    "        if itr % CFG[\"save_interval\"] == 0:\n",
    "            print(f\"iter :{itr}, best_score: {best_score}, temperature: {temperature}\")\n",
    "            wandb.log({\"iteration\": itr, \"best_score\": best_score, \"best_text\": \" \".join(best_seq)})\n",
    "\n",
    "            # 受容確率を表示\n",
    "            for key, value in neighbor_dict.items():\n",
    "                print(f\"近傍操作: {key}, 使用回数: {value['used']}, 受容回数: {value['accept']}, 受容確率: {value['accept']/value['used']}\")\n",
    "            \n",
    "            for neighbor_type in CFG[\"neighbor_types\"]:\n",
    "                neighbor_dict[neighbor_type][\"used\"] = 0\n",
    "                neighbor_dict[neighbor_type][\"accept\"] = 0\n",
    "\n",
    "            # current_seqsを結合して文字列保存\n",
    "            current_seqs_text = [\" \".join(seq) for seq in current_seqs]\n",
    "            # current_seqsとcurrent_scoresのリストをdfとして保存\n",
    "            df = pd.DataFrame(current_seqs_text)\n",
    "            df[\"score\"] = current_scores\n",
    "            \n",
    "            # indexとなっていたものをsequencre列に変更\n",
    "            df = df.reset_index()\n",
    "            df = df.rename(columns={0: \"text\"})\n",
    "            \n",
    "            path = CFG[\"path\"]\n",
    "            ex_num = CFG[\"base_ex_num\"]\n",
    "            qid = CFG[\"qid\"]\n",
    "            df.to_csv(f\"{path}/out/current_texts_{ex_num}_{qid}.csv\", index=False)\n",
    "            \n",
    "        if temperature < CFG[\"end_temperature\"]:\n",
    "            break\n",
    "    \n",
    "    # 現在のラン名を取得\n",
    "    current_run_name = wandb.run.name\n",
    "    print(f\"Current Run Name: {current_run_name}\")\n",
    "    \n",
    "    # artifactに保存\n",
    "    artifact = wandb.Artifact(name=current_run_name, type=\"texts\")\n",
    "    path = CFG[\"path\"]\n",
    "    ex_num = CFG[\"base_ex_num\"]\n",
    "    qid = CFG[\"qid\"]\n",
    "    artifact.add_file(local_path =f\"{path}/out/current_texts_{ex_num}_{qid}.csv\", name =f\"current_texts_{ex_num}_{qid}.csv\")\n",
    "    artifact.save()\n",
    "        \n",
    "    return best_seq, best_score, scores_history, temp_history"
   ]
  },
  {
   "cell_type": "code",
   "execution_count": 11,
   "id": "22fbd618",
   "metadata": {},
   "outputs": [],
   "source": [
    "def search_optimal_permutation(\n",
    "    scorer\n",
    "):\n",
    "\n",
    "    if CFG[\"restart\"]:\n",
    "        df = pd.read_csv(CFG[\"restart_file_path\"])\n",
    "        \n",
    "        # dfのsequence列をリストに変換\n",
    "        initial_texts = df[\"text\"].tolist()\n",
    "        # initial_sequencesをスペースで区切ってリストに変換\n",
    "        initial_sequences = [split_compress(text) for text in initial_texts]\n",
    "    \n",
    "    else:\n",
    "        df = pd.read_csv(\"../input/sample_submission.csv\")    \n",
    "        qid = CFG[\"qid\"]\n",
    "        original_text = df.iloc[qid][\"text\"]\n",
    "        original_seq = split_compress(original_text)\n",
    "        initial_sequences = [random.sample(original_seq, len(original_seq)) for _ in range(CFG[\"batch_size\"])]\n",
    "    \n",
    "    start = time.time()\n",
    "    print(\"---------焼きなまし処理開始---------\")\n",
    "    best_sequence, best_score, scores_history, temp_history = search_annealing(\n",
    "        scorer=scorer,\n",
    "        initial_sequences=initial_sequences,\n",
    "    )\n",
    "    print(\"---------焼きなまし処理終了---------\")\n",
    "\n",
    "    print(f\"Elapsed time: {time.time() - start:.2f} sec\")\n",
    "    print(f\"best_score: {best_score}\")\n",
    "    \n",
    "    plot_score_and_temperature(scores_history, temp_history)\n",
    "    \n",
    "    return best_sequence, best_score\n"
   ]
  },
  {
   "cell_type": "code",
   "execution_count": 12,
   "id": "9f775900-1acf-4870-bd4c-37c08b14fcc9",
   "metadata": {},
   "outputs": [
    {
     "name": "stdout",
     "output_type": "stream",
     "text": [
      "cuda\n"
     ]
    },
    {
     "data": {
      "application/vnd.jupyter.widget-view+json": {
       "model_id": "2ef45396aec24838a5e4cd802c801b8a",
       "version_major": 2,
       "version_minor": 0
      },
      "text/plain": [
       "Loading checkpoint shards:   0%|          | 0/8 [00:00<?, ?it/s]"
      ]
     },
     "metadata": {},
     "output_type": "display_data"
    },
    {
     "name": "stderr",
     "output_type": "stream",
     "text": [
      "Some parameters are on the meta device because they were offloaded to the cpu.\n"
     ]
    }
   ],
   "source": [
    "# LOAD GEMMA SCORER\n",
    "scorer = PerplexityCalculator(f'{CFG[\"path\"]}/gemma_2_9b')"
   ]
  },
  {
   "cell_type": "code",
   "execution_count": 13,
   "id": "e253c6da-f86c-48ba-87e1-022ea5aa2329",
   "metadata": {},
   "outputs": [],
   "source": [
    "# scorer.clear_gpu_memory()"
   ]
  },
  {
   "cell_type": "code",
   "execution_count": 14,
   "id": "8d05bef9",
   "metadata": {},
   "outputs": [
    {
     "name": "stdout",
     "output_type": "stream",
     "text": [
      "Processing\n",
      "---------焼きなまし処理開始---------\n",
      "current_seq: ['cheer', 'yuletide', 'polar', 'nutcracker', 'jingle', 'gifts', 'chimney', 'decorations', 'sleigh', 'beard', 'workshop', 'magi', 'naughty', 'holly', 'stocking', 'grinch', 'holiday', 'ornament', 'carol', 'nice']\n",
      "current_score: 3827.6258214399063\n",
      "current_seq: ['beard', 'stocking', 'nutcracker', 'ornament', 'polar', 'workshop', 'naughty', 'yuletide', 'gifts', 'magi', 'carol', 'holiday', 'chimney', 'decorations', 'nice', 'jingle', 'holly', 'sleigh', 'cheer', 'grinch']\n",
      "current_score: 4689.705189111091\n",
      "current_seq: ['chimney', 'polar', 'decorations', 'ornament', 'cheer', 'jingle', 'magi', 'beard', 'naughty', 'holiday', 'grinch', 'carol', 'holly', 'nice', 'yuletide', 'stocking', 'workshop', 'nutcracker', 'sleigh', 'gifts']\n",
      "current_score: 7040.081318438947\n",
      "current_seq: ['cheer', 'workshop', 'polar', 'ornament', 'chimney', 'gifts', 'carol', 'stocking', 'nice', 'sleigh', 'holiday', 'decorations', 'jingle', 'grinch', 'naughty', 'beard', 'magi', 'holly', 'nutcracker', 'yuletide']\n",
      "current_score: 9399.741801920047\n",
      "current_seq: ['beard', 'nutcracker', 'sleigh', 'decorations', 'naughty', 'stocking', 'yuletide', 'workshop', 'carol', 'magi', 'holiday', 'jingle', 'cheer', 'grinch', 'chimney', 'gifts', 'polar', 'nice', 'holly', 'ornament']\n",
      "current_score: 2767.7257968528634\n",
      "current_seq: ['ornament', 'holiday', 'polar', 'naughty', 'nutcracker', 'chimney', 'beard', 'stocking', 'jingle', 'grinch', 'magi', 'sleigh', 'carol', 'decorations', 'workshop', 'nice', 'cheer', 'yuletide', 'gifts', 'holly']\n",
      "current_score: 2189.451314290634\n",
      "current_seq: ['holiday', 'carol', 'stocking', 'gifts', 'workshop', 'magi', 'grinch', 'nutcracker', 'polar', 'nice', 'chimney', 'yuletide', 'decorations', 'naughty', 'sleigh', 'jingle', 'ornament', 'beard', 'holly', 'cheer']\n",
      "current_score: 3797.839000980775\n",
      "current_seq: ['carol', 'ornament', 'yuletide', 'polar', 'nice', 'jingle', 'decorations', 'sleigh', 'holiday', 'workshop', 'naughty', 'cheer', 'gifts', 'nutcracker', 'stocking', 'chimney', 'beard', 'magi', 'holly', 'grinch']\n",
      "current_score: 4689.705189111091\n",
      "current_seq: ['yuletide', 'cheer', 'chimney', 'grinch', 'nutcracker', 'nice', 'naughty', 'jingle', 'decorations', 'beard', 'holly', 'sleigh', 'gifts', 'polar', 'carol', 'stocking', 'magi', 'holiday', 'workshop', 'ornament']\n",
      "current_score: 2934.742517105396\n",
      "current_seq: ['beard', 'magi', 'grinch', 'workshop', 'chimney', 'nutcracker', 'polar', 'ornament', 'decorations', 'cheer', 'sleigh', 'holly', 'carol', 'yuletide', 'holiday', 'jingle', 'stocking', 'gifts', 'naughty', 'nice']\n",
      "current_score: 3485.092969906799\n",
      "current_seq: ['gifts', 'decorations', 'nutcracker', 'nice', 'naughty', 'stocking', 'carol', 'holly', 'polar', 'cheer', 'holiday', 'beard', 'sleigh', 'grinch', 'workshop', 'magi', 'chimney', 'yuletide', 'ornament', 'jingle']\n",
      "current_score: 4616.998049285644\n",
      "current_seq: ['magi', 'cheer', 'naughty', 'stocking', 'chimney', 'nice', 'ornament', 'nutcracker', 'holly', 'yuletide', 'decorations', 'sleigh', 'jingle', 'carol', 'gifts', 'polar', 'grinch', 'holiday', 'workshop', 'beard']\n",
      "current_score: 5070.780350360642\n",
      "current_seq: ['holiday', 'stocking', 'carol', 'polar', 'ornament', 'cheer', 'naughty', 'decorations', 'nutcracker', 'jingle', 'workshop', 'yuletide', 'sleigh', 'chimney', 'grinch', 'beard', 'holly', 'nice', 'gifts', 'magi']\n",
      "current_score: 4953.315850060822\n",
      "current_seq: ['workshop', 'decorations', 'carol', 'nice', 'yuletide', 'magi', 'holiday', 'jingle', 'nutcracker', 'stocking', 'ornament', 'polar', 'chimney', 'naughty', 'grinch', 'gifts', 'beard', 'holly', 'sleigh', 'cheer']\n",
      "current_score: 6360.183448360342\n",
      "current_seq: ['decorations', 'nice', 'holly', 'jingle', 'carol', 'yuletide', 'polar', 'naughty', 'gifts', 'workshop', 'grinch', 'sleigh', 'cheer', 'nutcracker', 'ornament', 'holiday', 'stocking', 'chimney', 'beard', 'magi']\n",
      "current_score: 1978.0044264076564\n",
      "current_seq: ['stocking', 'naughty', 'jingle', 'sleigh', 'polar', 'cheer', 'beard', 'chimney', 'carol', 'ornament', 'holiday', 'magi', 'gifts', 'workshop', 'holly', 'nutcracker', 'nice', 'decorations', 'yuletide', 'grinch']\n",
      "current_score: 6511.010852303835\n",
      "current_seq: ['ornament', 'naughty', 'cheer', 'gifts', 'magi', 'polar', 'holiday', 'jingle', 'carol', 'decorations', 'beard', 'chimney', 'stocking', 'sleigh', 'grinch', 'nutcracker', 'workshop', 'nice', 'yuletide', 'holly']\n",
      "current_score: 3004.337930302434\n",
      "current_seq: ['cheer', 'holiday', 'polar', 'nice', 'jingle', 'chimney', 'beard', 'gifts', 'naughty', 'ornament', 'grinch', 'holly', 'carol', 'decorations', 'nutcracker', 'workshop', 'stocking', 'magi', 'yuletide', 'sleigh']\n",
      "current_score: 4138.650303425442\n",
      "current_seq: ['stocking', 'polar', 'decorations', 'yuletide', 'sleigh', 'workshop', 'gifts', 'holly', 'holiday', 'nice', 'nutcracker', 'naughty', 'magi', 'chimney', 'jingle', 'carol', 'grinch', 'ornament', 'cheer', 'beard']\n",
      "current_score: 2330.6587921328046\n",
      "current_seq: ['chimney', 'naughty', 'beard', 'holiday', 'stocking', 'gifts', 'yuletide', 'jingle', 'carol', 'holly', 'nice', 'cheer', 'polar', 'grinch', 'sleigh', 'ornament', 'nutcracker', 'workshop', 'magi', 'decorations']\n",
      "current_score: 3148.519117974224\n",
      "current_seq: ['carol', 'nice', 'stocking', 'yuletide', 'naughty', 'chimney', 'holly', 'workshop', 'magi', 'sleigh', 'cheer', 'holiday', 'gifts', 'ornament', 'beard', 'jingle', 'grinch', 'polar', 'decorations', 'nutcracker']\n",
      "current_score: 6261.577943611528\n",
      "current_seq: ['magi', 'ornament', 'chimney', 'grinch', 'nutcracker', 'cheer', 'yuletide', 'sleigh', 'naughty', 'nice', 'carol', 'holiday', 'decorations', 'workshop', 'gifts', 'jingle', 'beard', 'polar', 'holly', 'stocking']\n",
      "current_score: 1822.223066866023\n",
      "current_seq: ['cheer', 'polar', 'carol', 'naughty', 'decorations', 'holly', 'grinch', 'magi', 'beard', 'chimney', 'workshop', 'jingle', 'ornament', 'nice', 'holiday', 'nutcracker', 'gifts', 'yuletide', 'sleigh', 'stocking']\n",
      "current_score: 6717.692523019596\n",
      "current_seq: ['jingle', 'beard', 'magi', 'chimney', 'stocking', 'decorations', 'sleigh', 'carol', 'grinch', 'workshop', 'ornament', 'holiday', 'polar', 'holly', 'cheer', 'gifts', 'naughty', 'nutcracker', 'nice', 'yuletide']\n",
      "current_score: 1738.7773972863772\n",
      "current_seq: ['magi', 'stocking', 'workshop', 'carol', 'grinch', 'nice', 'polar', 'yuletide', 'holiday', 'chimney', 'cheer', 'ornament', 'jingle', 'holly', 'naughty', 'nutcracker', 'decorations', 'gifts', 'sleigh', 'beard']\n",
      "current_score: 4405.570315395101\n",
      "current_seq: ['gifts', 'grinch', 'jingle', 'sleigh', 'nice', 'stocking', 'workshop', 'cheer', 'beard', 'holiday', 'ornament', 'naughty', 'holly', 'yuletide', 'magi', 'decorations', 'polar', 'nutcracker', 'carol', 'chimney']\n",
      "current_score: 3857.64626282737\n",
      "current_seq: ['stocking', 'naughty', 'magi', 'workshop', 'holly', 'beard', 'cheer', 'gifts', 'sleigh', 'yuletide', 'decorations', 'ornament', 'nice', 'grinch', 'carol', 'holiday', 'nutcracker', 'chimney', 'jingle', 'polar']\n",
      "current_score: 4337.2682784832705\n",
      "current_seq: ['ornament', 'holiday', 'nice', 'jingle', 'sleigh', 'workshop', 'nutcracker', 'grinch', 'chimney', 'polar', 'magi', 'holly', 'stocking', 'decorations', 'carol', 'cheer', 'naughty', 'beard', 'yuletide', 'gifts']\n",
      "current_score: 1413.6160147573594\n",
      "current_seq: ['jingle', 'holly', 'nutcracker', 'polar', 'ornament', 'decorations', 'chimney', 'holiday', 'cheer', 'workshop', 'carol', 'grinch', 'naughty', 'beard', 'magi', 'nice', 'stocking', 'gifts', 'yuletide', 'sleigh']\n",
      "current_score: 2198.020584446467\n",
      "current_seq: ['gifts', 'stocking', 'naughty', 'sleigh', 'ornament', 'magi', 'yuletide', 'cheer', 'holly', 'chimney', 'grinch', 'beard', 'jingle', 'workshop', 'polar', 'nice', 'holiday', 'decorations', 'nutcracker', 'carol']\n",
      "current_score: 4303.515388958226\n",
      "current_seq: ['holly', 'nutcracker', 'polar', 'stocking', 'nice', 'yuletide', 'magi', 'carol', 'sleigh', 'chimney', 'jingle', 'gifts', 'naughty', 'decorations', 'holiday', 'workshop', 'ornament', 'grinch', 'cheer', 'beard']\n",
      "current_score: 4303.515388958226\n",
      "current_seq: ['stocking', 'holiday', 'ornament', 'carol', 'decorations', 'naughty', 'magi', 'jingle', 'cheer', 'nutcracker', 'workshop', 'grinch', 'nice', 'gifts', 'chimney', 'sleigh', 'yuletide', 'holly', 'polar', 'beard']\n",
      "current_score: 2559.7279185272455\n",
      "best_score: 1413.6160147573594\n",
      "best_text: ornament holiday nice jingle sleigh workshop nutcracker grinch chimney polar magi holly stocking decorations carol cheer naughty beard yuletide gifts\n"
     ]
    },
    {
     "data": {
      "application/vnd.jupyter.widget-view+json": {
       "model_id": "cea958e8e607417a97d23651dba28ed0",
       "version_major": 2,
       "version_minor": 0
      },
      "text/plain": [
       "  0%|          | 0/100 [00:00<?, ?it/s]"
      ]
     },
     "metadata": {},
     "output_type": "display_data"
    },
    {
     "name": "stdout",
     "output_type": "stream",
     "text": [
      "iter :0, best_score: 1413.6160147573594, temperature: 99.9\n",
      "近傍操作: swap, 使用回数: 10, 受容回数: 0, 受容確率: 0.0\n",
      "近傍操作: insert, 使用回数: 5, 受容回数: 0, 受容確率: 0.0\n",
      "近傍操作: segment_insert, 使用回数: 8, 受容回数: 16, 受容確率: 2.0\n",
      "近傍操作: scramble, 使用回数: 9, 受容回数: 0, 受容確率: 0.0\n",
      "iter 3: best_score: 1199.7203296635448\n",
      "best_text: ornament holiday nice carol cheer naughty beard polar jingle sleigh workshop nutcracker grinch chimney magi holly stocking decorations yuletide gifts\n",
      "iter 6: best_score: 1171.9288381599856\n",
      "best_text: ornament holiday polar beard nice jingle cheer gifts grinch yuletide naughty nutcracker chimney stocking holly magi sleigh carol decorations workshop\n",
      "iter 7: best_score: 1162.8088155868234\n",
      "best_text: ornament holiday nice carol cheer naughty polar beard jingle sleigh workshop magi nutcracker grinch chimney holly stocking decorations yuletide gifts\n",
      "iter :10, best_score: 1162.8088155868234, temperature: 99.8001\n",
      "近傍操作: swap, 使用回数: 74, 受容回数: 68, 受容確率: 0.918918918918919\n",
      "近傍操作: insert, 使用回数: 84, 受容回数: 18, 受容確率: 0.21428571428571427\n",
      "近傍操作: segment_insert, 使用回数: 76, 受容回数: 78, 受容確率: 1.0263157894736843\n",
      "近傍操作: scramble, 使用回数: 86, 受容回数: 20, 受容確率: 0.23255813953488372\n",
      "iter 12: best_score: 1135.8723783859068\n",
      "best_text: stocking gifts yuletide jingle cheer holly carol nutcracker magi ornament grinch holiday nice sleigh decorations naughty workshop polar beard chimney\n",
      "iter 16: best_score: 1088.0990914837041\n",
      "best_text: ornament holiday carol cheer magi naughty polar beard jingle sleigh workshop nice nutcracker grinch chimney holly stocking decorations yuletide gifts\n",
      "iter 19: best_score: 1075.4223530928143\n",
      "best_text: ornament holiday carol cheer magi naughty polar beard jingle sleigh workshop nice nutcracker grinch chimney yuletide stocking decorations holly gifts\n",
      "iter 20: best_score: 1050.510221115274\n",
      "best_text: stocking gifts yuletide sleigh jingle cheer carol magi holly nutcracker decorations ornament grinch holiday nice naughty workshop polar beard chimney\n",
      "iter :20, best_score: 1050.510221115274, temperature: 99.7002999\n",
      "近傍操作: swap, 使用回数: 78, 受容回数: 29, 受容確率: 0.3717948717948718\n",
      "近傍操作: insert, 使用回数: 92, 受容回数: 83, 受容確率: 0.9021739130434783\n",
      "近傍操作: segment_insert, 使用回数: 85, 受容回数: 38, 受容確率: 0.4470588235294118\n",
      "近傍操作: scramble, 使用回数: 65, 受容回数: 18, 受容確率: 0.27692307692307694\n",
      "iter 24: best_score: 1034.2235697257508\n",
      "best_text: decorations grinch holly jingle carol yuletide polar workshop magi naughty gifts nice sleigh cheer nutcracker ornament holiday stocking chimney beard\n",
      "iter 28: best_score: 1002.4038556569602\n",
      "best_text: jingle magi holly holiday polar nutcracker cheer carol grinch workshop ornament beard yuletide gifts naughty nice decorations stocking chimney sleigh\n",
      "iter 30: best_score: 808.6065842894934\n",
      "best_text: sleigh yuletide stocking magi grinch chimney cheer gifts nutcracker jingle workshop carol decorations holly polar holiday naughty nice ornament beard\n",
      "iter :30, best_score: 808.6065842894934, temperature: 99.60059960010001\n",
      "近傍操作: swap, 使用回数: 74, 受容回数: 61, 受容確率: 0.8243243243243243\n",
      "近傍操作: insert, 使用回数: 82, 受容回数: 36, 受容確率: 0.43902439024390244\n",
      "近傍操作: segment_insert, 使用回数: 84, 受容回数: 18, 受容確率: 0.21428571428571427\n",
      "近傍操作: scramble, 使用回数: 80, 受容回数: 48, 受容確率: 0.6\n",
      "iter 31: best_score: 780.6729077394361\n",
      "best_text: sleigh yuletide stocking grinch cheer gifts chimney magi nutcracker jingle workshop carol decorations holly polar holiday naughty nice ornament beard\n",
      "iter :40, best_score: 780.6729077394361, temperature: 99.50099900049992\n",
      "近傍操作: swap, 使用回数: 82, 受容回数: 65, 受容確率: 0.7926829268292683\n",
      "近傍操作: insert, 使用回数: 78, 受容回数: 0, 受容確率: 0.0\n",
      "近傍操作: segment_insert, 使用回数: 76, 受容回数: 25, 受容確率: 0.32894736842105265\n",
      "近傍操作: scramble, 使用回数: 84, 受容回数: 62, 受容確率: 0.7380952380952381\n",
      "iter :50, best_score: 780.6729077394361, temperature: 99.40149800149942\n",
      "近傍操作: swap, 使用回数: 84, 受容回数: 37, 受容確率: 0.44047619047619047\n",
      "近傍操作: insert, 使用回数: 78, 受容回数: 34, 受容確率: 0.4358974358974359\n",
      "近傍操作: segment_insert, 使用回数: 75, 受容回数: 0, 受容確率: 0.0\n",
      "近傍操作: scramble, 使用回数: 83, 受容回数: 77, 受容確率: 0.927710843373494\n",
      "iter :60, best_score: 780.6729077394361, temperature: 99.30209650349792\n",
      "近傍操作: swap, 使用回数: 86, 受容回数: 14, 受容確率: 0.16279069767441862\n",
      "近傍操作: insert, 使用回数: 82, 受容回数: 86, 受容確率: 1.048780487804878\n",
      "近傍操作: segment_insert, 使用回数: 67, 受容回数: 13, 受容確率: 0.19402985074626866\n",
      "近傍操作: scramble, 使用回数: 85, 受容回数: 30, 受容確率: 0.35294117647058826\n",
      "iter :70, best_score: 780.6729077394361, temperature: 99.20279440699443\n",
      "近傍操作: swap, 使用回数: 81, 受容回数: 12, 受容確率: 0.14814814814814814\n",
      "近傍操作: insert, 使用回数: 83, 受容回数: 33, 受容確率: 0.39759036144578314\n",
      "近傍操作: segment_insert, 使用回数: 76, 受容回数: 54, 受容確率: 0.7105263157894737\n",
      "近傍操作: scramble, 使用回数: 80, 受容回数: 42, 受容確率: 0.525\n",
      "iter 76: best_score: 697.0624464971402\n",
      "best_text: stocking grinch magi holiday jingle carol cheer holly yuletide naughty nice polar sleigh workshop gifts ornament nutcracker chimney decorations beard\n",
      "iter 77: best_score: 622.4067077254782\n",
      "best_text: stocking grinch magi holiday carol cheer holly jingle yuletide naughty nice polar sleigh workshop gifts ornament nutcracker chimney decorations beard\n",
      "iter 78: best_score: 619.980173932736\n",
      "best_text: stocking grinch magi carol cheer holiday holly jingle yuletide naughty nice polar sleigh workshop gifts ornament nutcracker chimney decorations beard\n",
      "iter :80, best_score: 619.980173932736, temperature: 99.10359161258744\n",
      "近傍操作: swap, 使用回数: 63, 受容回数: 29, 受容確率: 0.4603174603174603\n",
      "近傍操作: insert, 使用回数: 81, 受容回数: 25, 受容確率: 0.30864197530864196\n",
      "近傍操作: segment_insert, 使用回数: 93, 受容回数: 0, 受容確率: 0.0\n",
      "近傍操作: scramble, 使用回数: 83, 受容回数: 98, 受容確率: 1.180722891566265\n",
      "iter 86: best_score: 591.5892147353535\n",
      "best_text: stocking grinch magi carol yuletide chimney holly holiday jingle cheer naughty nice polar sleigh workshop ornament nutcracker gifts decorations beard\n",
      "iter :90, best_score: 591.5892147353535, temperature: 99.00448802097485\n",
      "近傍操作: swap, 使用回数: 81, 受容回数: 22, 受容確率: 0.2716049382716049\n",
      "近傍操作: insert, 使用回数: 82, 受容回数: 17, 受容確率: 0.2073170731707317\n",
      "近傍操作: segment_insert, 使用回数: 88, 受容回数: 51, 受容確率: 0.5795454545454546\n",
      "近傍操作: scramble, 使用回数: 69, 受容回数: 52, 受容確率: 0.7536231884057971\n",
      "Current Run Name: crisp-moon-24\n",
      "---------焼きなまし処理終了---------\n",
      "Elapsed time: 165.76 sec\n",
      "best_score: 591.5892147353535\n"
     ]
    },
    {
     "data": {
      "image/png": "[encoded data removed]",
      "text/plain": [
       "<Figure size 800x500 with 2 Axes>"
      ]
     },
     "metadata": {},
     "output_type": "display_data"
    },
    {
     "name": "stdout",
     "output_type": "stream",
     "text": [
      "Best text: stocking grinch magi carol yuletide chimney holly holiday jingle cheer naughty nice polar sleigh workshop ornament nutcracker gifts decorations beard\n",
      "Best score: 591.5892147353535\n"
     ]
    }
   ],
   "source": [
    "print(f\"Processing\")\n",
    "best_sequence, best_score = search_optimal_permutation(\n",
    "    scorer=scorer,\n",
    ")\n",
    "\n",
    "print(\"Best text:\", \" \".join(best_sequence))\n",
    "print(\"Best score:\", best_score)\n"
   ]
  },
  {
   "cell_type": "code",
   "execution_count": 15,
   "id": "461f0e43-0397-4f53-b3e6-90934401ba66",
   "metadata": {},
   "outputs": [
    {
     "data": {
      "text/html": [],
      "text/plain": [
       "<IPython.core.display.HTML object>"
      ]
     },
     "metadata": {},
     "output_type": "display_data"
    },
    {
     "data": {
      "text/html": [
       "<br>    <style><br>        .wandb-row {<br>            display: flex;<br>            flex-direction: row;<br>            flex-wrap: wrap;<br>            justify-content: flex-start;<br>            width: 100%;<br>        }<br>        .wandb-col {<br>            display: flex;<br>            flex-direction: column;<br>            flex-basis: 100%;<br>            flex: 1;<br>            padding: 10px;<br>        }<br>    </style><br><div class=\"wandb-row\"><div class=\"wandb-col\"><h3>Run history:</h3><br/><table class=\"wandb\"><tr><td>best_score</td><td>█▆▅▃▃▃▃▃▁▁</td></tr><tr><td>iteration</td><td>▁▂▃▃▄▅▆▆▇█</td></tr><tr><td>score</td><td>█▇▃▂▃▂▂▁▁▁</td></tr><tr><td>temperature</td><td>█▇▆▆▅▄▃▃▂▁</td></tr></table><br/></div><div class=\"wandb-col\"><h3>Run summary:</h3><br/><table class=\"wandb\"><tr><td>best_score</td><td>591.58921</td></tr><tr><td>best_text</td><td>stocking grinch magi...</td></tr><tr><td>iteration</td><td>90</td></tr><tr><td>score</td><td>1067.05335</td></tr><tr><td>temperature</td><td>99.00449</td></tr></table><br/></div></div>"
      ],
      "text/plain": [
       "<IPython.core.display.HTML object>"
      ]
     },
     "metadata": {},
     "output_type": "display_data"
    },
    {
     "data": {
      "text/html": [
       " View run <strong style=\"color:#cdcd00\">crisp-moon-24</strong> at: <a href='https://wandb.ai/shun2741-ns-solutions/santa2024/runs/am1am1vw' target=\"_blank\">https://wandb.ai/shun2741-ns-solutions/santa2024/runs/am1am1vw</a><br> View project at: <a href='https://wandb.ai/shun2741-ns-solutions/santa2024' target=\"_blank\">https://wandb.ai/shun2741-ns-solutions/santa2024</a><br>Synced 5 W&B file(s), 0 media file(s), 2 artifact file(s) and 0 other file(s)"
      ],
      "text/plain": [
       "<IPython.core.display.HTML object>"
      ]
     },
     "metadata": {},
     "output_type": "display_data"
    },
    {
     "data": {
      "text/html": [
       "Find logs at: <code>./wandb/run-20250103_124921-am1am1vw/logs</code>"
      ],
      "text/plain": [
       "<IPython.core.display.HTML object>"
      ]
     },
     "metadata": {},
     "output_type": "display_data"
    }
   ],
   "source": [
    "wandb.finish()"
   ]
  },
  {
   "cell_type": "code",
   "execution_count": null,
   "id": "d2f41a6a-9b6d-402a-a185-23207766219f",
   "metadata": {},
   "outputs": [],
   "source": []
  }
 ],
 "metadata": {
  "kernelspec": {
   "display_name": "Python 3 (ipykernel)",
   "language": "python",
   "name": "python3"
  },
  "language_info": {
   "codemirror_mode": {
    "name": "ipython",
    "version": 3
   },
   "file_extension": ".py",
   "mimetype": "text/x-python",
   "name": "python",
   "nbconvert_exporter": "python",
   "pygments_lexer": "ipython3",
   "version": "3.12.8"
  }
 },
 "nbformat": 4,
 "nbformat_minor": 5
}
