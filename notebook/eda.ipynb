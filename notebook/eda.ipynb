{
 "cells": [
  {
   "cell_type": "markdown",
   "id": "5b9a260d",
   "metadata": {},
   "source": [
    "### 実装アイディアを出すための実験"
   ]
  },
  {
   "cell_type": "code",
   "execution_count": 1,
   "id": "b32508c5",
   "metadata": {},
   "outputs": [],
   "source": [
    "import os\n",
    "# 環境によって変更\n",
    "os.chdir('/home/jovyan/work/notebook')"
   ]
  },
  {
   "cell_type": "code",
   "execution_count": 2,
   "id": "64c33ef9",
   "metadata": {},
   "outputs": [],
   "source": [
    "class CFG:\n",
    "    path = \"../model\"    \n",
    "    # path = \"../../output\"\n",
    "    base_file_path = \"../input/sub20241221.csv\"\n",
    "    \n",
    "    # 焼きなましのパラメータ\n",
    "    temperature=100\n",
    "    end_temperature=0.01\n",
    "    cooling_rate=0.9999\n",
    "    iteration=int(1e7)\n",
    "    batch_size=32\n",
    "    neighbor_types = [\"swap\", \"insert\", \"inverse\", \"slide\"]"
   ]
  },
  {
   "cell_type": "code",
   "execution_count": 3,
   "id": "6806febe",
   "metadata": {},
   "outputs": [],
   "source": [
    "import numpy as np\n",
    "import pandas as pd\n",
    "import os\n",
    "import time\n",
    "import csv\n",
    "\n",
    "from tqdm.notebook import tqdm\n",
    "\n",
    "import random\n",
    "from typing import List, Callable\n",
    "import itertools, math\n",
    "from typing import List, Tuple\n",
    "\n",
    "from utils import PerplexityCalculator\n",
    "# 可視化用\n",
    "import matplotlib.pyplot as plt"
   ]
  },
  {
   "cell_type": "markdown",
   "id": "8ea9236c",
   "metadata": {},
   "source": [
    "### データ読み込み"
   ]
  },
  {
   "cell_type": "code",
   "execution_count": 68,
   "id": "6f960148",
   "metadata": {},
   "outputs": [],
   "source": [
    "df = pd.read_csv(CFG.base_file_path)"
   ]
  },
  {
   "cell_type": "code",
   "execution_count": 5,
   "id": "ec832545",
   "metadata": {},
   "outputs": [],
   "source": [
    "sub_df = df.copy()\n",
    "sub_df[\"best_value\"] = 0"
   ]
  },
  {
   "cell_type": "code",
   "execution_count": 6,
   "id": "3d9e3929",
   "metadata": {},
   "outputs": [
    {
     "data": {
      "text/html": [
       "<div>\n",
       "<style scoped>\n",
       "    .dataframe tbody tr th:only-of-type {\n",
       "        vertical-align: middle;\n",
       "    }\n",
       "\n",
       "    .dataframe tbody tr th {\n",
       "        vertical-align: top;\n",
       "    }\n",
       "\n",
       "    .dataframe thead th {\n",
       "        text-align: right;\n",
       "    }\n",
       "</style>\n",
       "<table border=\"1\" class=\"dataframe\">\n",
       "  <thead>\n",
       "    <tr style=\"text-align: right;\">\n",
       "      <th></th>\n",
       "      <th>id</th>\n",
       "      <th>text</th>\n",
       "    </tr>\n",
       "  </thead>\n",
       "  <tbody>\n",
       "    <tr>\n",
       "      <th>0</th>\n",
       "      <td>0</td>\n",
       "      <td>reindeer mistletoe elf gingerbread family adve...</td>\n",
       "    </tr>\n",
       "    <tr>\n",
       "      <th>1</th>\n",
       "      <td>1</td>\n",
       "      <td>reindeer sleep walk the night and drive mistle...</td>\n",
       "    </tr>\n",
       "    <tr>\n",
       "      <th>2</th>\n",
       "      <td>2</td>\n",
       "      <td>jingle yuletide carol cheer holly stocking chi...</td>\n",
       "    </tr>\n",
       "    <tr>\n",
       "      <th>3</th>\n",
       "      <td>3</td>\n",
       "      <td>sleigh the holly jingle unwrap gifts of magi r...</td>\n",
       "    </tr>\n",
       "    <tr>\n",
       "      <th>4</th>\n",
       "      <td>4</td>\n",
       "      <td>peppermint candy milk chocolate eggnog fruitca...</td>\n",
       "    </tr>\n",
       "    <tr>\n",
       "      <th>5</th>\n",
       "      <td>5</td>\n",
       "      <td>poinsettia yuletide eggnog fruitcake gingerbre...</td>\n",
       "    </tr>\n",
       "  </tbody>\n",
       "</table>\n",
       "</div>"
      ],
      "text/plain": [
       "   id                                               text\n",
       "0   0  reindeer mistletoe elf gingerbread family adve...\n",
       "1   1  reindeer sleep walk the night and drive mistle...\n",
       "2   2  jingle yuletide carol cheer holly stocking chi...\n",
       "3   3  sleigh the holly jingle unwrap gifts of magi r...\n",
       "4   4  peppermint candy milk chocolate eggnog fruitca...\n",
       "5   5  poinsettia yuletide eggnog fruitcake gingerbre..."
      ]
     },
     "execution_count": 6,
     "metadata": {},
     "output_type": "execute_result"
    }
   ],
   "source": [
    "df"
   ]
  },
  {
   "cell_type": "code",
   "execution_count": 7,
   "id": "253b9eb1",
   "metadata": {},
   "outputs": [
    {
     "name": "stdout",
     "output_type": "stream",
     "text": [
      "cuda\n"
     ]
    },
    {
     "data": {
      "application/vnd.jupyter.widget-view+json": {
       "model_id": "a81401b00a5441cca416060d31e71976",
       "version_major": 2,
       "version_minor": 0
      },
      "text/plain": [
       "Loading checkpoint shards:   0%|          | 0/8 [00:00<?, ?it/s]"
      ]
     },
     "metadata": {},
     "output_type": "display_data"
    },
    {
     "name": "stderr",
     "output_type": "stream",
     "text": [
      "Some parameters are on the meta device because they were offloaded to the cpu.\n"
     ]
    }
   ],
   "source": [
    "# LOAD GEMMA SCORER\n",
    "scorer = PerplexityCalculator(f'{CFG.path}/gemma_2_9b')"
   ]
  },
  {
   "cell_type": "code",
   "execution_count": 71,
   "id": "e51ea389",
   "metadata": {},
   "outputs": [
    {
     "data": {
      "text/plain": [
       "370.20707083592094"
      ]
     },
     "execution_count": 71,
     "metadata": {},
     "output_type": "execute_result"
    }
   ],
   "source": [
    "# text = \"fruitcake and cookie and bake and milk\"\n",
    "# text = \"and and and fruitcake cookie bake milk\"\n",
    "text = \"the season of peace and joy with peppermint candy milk chocolate eggnog fruitcake cookie wrapping paper wreath bow poinsettia angel toy workshop puzzle game kaggle in that it not you as we dream to wish from night star wonder believe hope have doll candle fireplace hohoho greeting card snowglobe merry\"\n",
    "scorer.get_perplexity([text], batch_size=1)[0]"
   ]
  },
  {
   "cell_type": "code",
   "execution_count": 51,
   "id": "9eb11079",
   "metadata": {},
   "outputs": [],
   "source": [
    "text = df.iloc[5][\"text\"]\n",
    "\n",
    "# textを単語に分割\n",
    "words = text.split()\n",
    "\n",
    "# 単語の出現回数をカウント\n",
    "from collections import Counter\n",
    "word_count = Counter(words)"
   ]
  },
  {
   "cell_type": "code",
   "execution_count": 69,
   "id": "c6d07c2b",
   "metadata": {},
   "outputs": [
    {
     "data": {
      "text/plain": [
       "'peppermint candy milk chocolate eggnog fruitcake wrapping paper wreath bow poinsettia angel kaggle toy workshop puzzle game the of and to in as that it with not you from we have doll candle fireplace cookie wish dream night star wonder believe hope peace joy season merry hohoho greeting card snowglobe'"
      ]
     },
     "execution_count": 69,
     "metadata": {},
     "output_type": "execute_result"
    }
   ],
   "source": [
    "df.iloc[4][\"text\"]"
   ]
  },
  {
   "cell_type": "code",
   "execution_count": null,
   "id": "63d07190",
   "metadata": {},
   "outputs": [
    {
     "data": {
      "application/vnd.jupyter.widget-view+json": {
       "model_id": "a5a6313af07542ada0a8bd337ee830f3",
       "version_major": 2,
       "version_minor": 0
      },
      "text/plain": [
       "  0%|          | 0/100 [00:00<?, ?it/s]"
      ]
     },
     "metadata": {},
     "output_type": "display_data"
    }
   ],
   "source": [
    "words_length = len(words)\n",
    "\n",
    "# # word1, word2, text, scoreの列を持つDataFrameを作成\n",
    "# df = pd.DataFrame(columns=[\"word1\", \"word2\", \"text\", \"score\"])\n",
    "\n",
    "data = []\n",
    "for i in tqdm(range(words_length)):\n",
    "    text_list = []\n",
    "    word1_list = []\n",
    "    word2_list = []\n",
    "    for j in range(words_length):\n",
    "        if i == j:\n",
    "            continue\n",
    "        # words[i]とwords[j]をスペースで結合\n",
    "        text = words[i] + \" \" + words[j]\n",
    "        text_list.append(text)\n",
    "        word1_list.append(words[i])\n",
    "        word2_list.append(words[j])\n",
    "        \n",
    "    # textのスコアを計算\n",
    "    score = scorer.get_perplexity(text_list, batch_size=words_length)\n",
    "    \n",
    "    for j in range(words_length-1):\n",
    "        if i == j:\n",
    "            continue\n",
    "            \n",
    "        data.append([word1_list[j], word2_list[j], text_list[j], score[j]])"
   ]
  },
  {
   "cell_type": "code",
   "execution_count": 54,
   "id": "05469553",
   "metadata": {},
   "outputs": [],
   "source": [
    "tdf = pd.DataFrame(data, columns=[\"word1\", \"word2\", \"text\", \"score\"])"
   ]
  },
  {
   "cell_type": "code",
   "execution_count": 55,
   "id": "a6ee58a1",
   "metadata": {},
   "outputs": [],
   "source": [
    "tdf.sort_values(\"score\", inplace=True)"
   ]
  },
  {
   "cell_type": "code",
   "execution_count": 56,
   "id": "3dedcec5",
   "metadata": {},
   "outputs": [
    {
     "data": {
      "text/html": [
       "<div>\n",
       "<style scoped>\n",
       "    .dataframe tbody tr th:only-of-type {\n",
       "        vertical-align: middle;\n",
       "    }\n",
       "\n",
       "    .dataframe tbody tr th {\n",
       "        vertical-align: top;\n",
       "    }\n",
       "\n",
       "    .dataframe thead th {\n",
       "        text-align: right;\n",
       "    }\n",
       "</style>\n",
       "<table border=\"1\" class=\"dataframe\">\n",
       "  <thead>\n",
       "    <tr style=\"text-align: right;\">\n",
       "      <th></th>\n",
       "      <th>word1</th>\n",
       "      <th>word2</th>\n",
       "      <th>text</th>\n",
       "      <th>score</th>\n",
       "    </tr>\n",
       "  </thead>\n",
       "  <tbody>\n",
       "    <tr>\n",
       "      <th>197</th>\n",
       "      <td>eggnog</td>\n",
       "      <td>yuletide</td>\n",
       "      <td>eggnog yuletide</td>\n",
       "      <td>837.539771</td>\n",
       "    </tr>\n",
       "    <tr>\n",
       "      <th>135</th>\n",
       "      <td>yuletide</td>\n",
       "      <td>scrooge</td>\n",
       "      <td>yuletide scrooge</td>\n",
       "      <td>1322.792088</td>\n",
       "    </tr>\n",
       "    <tr>\n",
       "      <th>2745</th>\n",
       "      <td>ornament</td>\n",
       "      <td>yuletide</td>\n",
       "      <td>ornament yuletide</td>\n",
       "      <td>1343.623033</td>\n",
       "    </tr>\n",
       "    <tr>\n",
       "      <th>883</th>\n",
       "      <td>ornament</td>\n",
       "      <td>yuletide</td>\n",
       "      <td>ornament yuletide</td>\n",
       "      <td>1343.623033</td>\n",
       "    </tr>\n",
       "    <tr>\n",
       "      <th>3823</th>\n",
       "      <td>scrooge</td>\n",
       "      <td>yuletide</td>\n",
       "      <td>scrooge yuletide</td>\n",
       "      <td>1380.869635</td>\n",
       "    </tr>\n",
       "    <tr>\n",
       "      <th>98</th>\n",
       "      <td>yuletide</td>\n",
       "      <td>poinsettia</td>\n",
       "      <td>yuletide poinsettia</td>\n",
       "      <td>1510.675982</td>\n",
       "    </tr>\n",
       "    <tr>\n",
       "      <th>118</th>\n",
       "      <td>yuletide</td>\n",
       "      <td>mistletoe</td>\n",
       "      <td>yuletide mistletoe</td>\n",
       "      <td>1627.062059</td>\n",
       "    </tr>\n",
       "    <tr>\n",
       "      <th>233</th>\n",
       "      <td>eggnog</td>\n",
       "      <td>scrooge</td>\n",
       "      <td>eggnog scrooge</td>\n",
       "      <td>1843.702856</td>\n",
       "    </tr>\n",
       "    <tr>\n",
       "      <th>2157</th>\n",
       "      <td>mistletoe</td>\n",
       "      <td>yuletide</td>\n",
       "      <td>mistletoe yuletide</td>\n",
       "      <td>2009.153464</td>\n",
       "    </tr>\n",
       "    <tr>\n",
       "      <th>0</th>\n",
       "      <td>poinsettia</td>\n",
       "      <td>eggnog</td>\n",
       "      <td>poinsettia eggnog</td>\n",
       "      <td>2032.836729</td>\n",
       "    </tr>\n",
       "    <tr>\n",
       "      <th>3889</th>\n",
       "      <td>scrooge</td>\n",
       "      <td>grinch</td>\n",
       "      <td>scrooge grinch</td>\n",
       "      <td>2113.815738</td>\n",
       "    </tr>\n",
       "    <tr>\n",
       "      <th>4117</th>\n",
       "      <td>sleigh</td>\n",
       "      <td>yuletide</td>\n",
       "      <td>sleigh yuletide</td>\n",
       "      <td>2189.451314</td>\n",
       "    </tr>\n",
       "    <tr>\n",
       "      <th>196</th>\n",
       "      <td>eggnog</td>\n",
       "      <td>poinsettia</td>\n",
       "      <td>eggnog poinsettia</td>\n",
       "      <td>2189.451314</td>\n",
       "    </tr>\n",
       "    <tr>\n",
       "      <th>1177</th>\n",
       "      <td>jingle</td>\n",
       "      <td>yuletide</td>\n",
       "      <td>jingle yuletide</td>\n",
       "      <td>2223.930156</td>\n",
       "    </tr>\n",
       "    <tr>\n",
       "      <th>1863</th>\n",
       "      <td>magi</td>\n",
       "      <td>yuletide</td>\n",
       "      <td>magi yuletide</td>\n",
       "      <td>2358.131860</td>\n",
       "    </tr>\n",
       "    <tr>\n",
       "      <th>3824</th>\n",
       "      <td>scrooge</td>\n",
       "      <td>eggnog</td>\n",
       "      <td>scrooge eggnog</td>\n",
       "      <td>2442.509443</td>\n",
       "    </tr>\n",
       "    <tr>\n",
       "      <th>394</th>\n",
       "      <td>gingerbread</td>\n",
       "      <td>eggnog</td>\n",
       "      <td>gingerbread eggnog</td>\n",
       "      <td>2510.218299</td>\n",
       "    </tr>\n",
       "    <tr>\n",
       "      <th>9703</th>\n",
       "      <td>wreath</td>\n",
       "      <td>yuletide</td>\n",
       "      <td>wreath yuletide</td>\n",
       "      <td>2600.037768</td>\n",
       "    </tr>\n",
       "    <tr>\n",
       "      <th>155</th>\n",
       "      <td>yuletide</td>\n",
       "      <td>snowglobe</td>\n",
       "      <td>yuletide snowglobe</td>\n",
       "      <td>2600.037768</td>\n",
       "    </tr>\n",
       "    <tr>\n",
       "      <th>3627</th>\n",
       "      <td>reindeer</td>\n",
       "      <td>yuletide</td>\n",
       "      <td>reindeer yuletide</td>\n",
       "      <td>2640.982405</td>\n",
       "    </tr>\n",
       "    <tr>\n",
       "      <th>3137</th>\n",
       "      <td>peppermint</td>\n",
       "      <td>yuletide</td>\n",
       "      <td>peppermint yuletide</td>\n",
       "      <td>2682.571826</td>\n",
       "    </tr>\n",
       "    <tr>\n",
       "      <th>216</th>\n",
       "      <td>eggnog</td>\n",
       "      <td>mistletoe</td>\n",
       "      <td>eggnog mistletoe</td>\n",
       "      <td>2767.725797</td>\n",
       "    </tr>\n",
       "    <tr>\n",
       "      <th>107</th>\n",
       "      <td>yuletide</td>\n",
       "      <td>hohoho</td>\n",
       "      <td>yuletide hohoho</td>\n",
       "      <td>2767.725797</td>\n",
       "    </tr>\n",
       "    <tr>\n",
       "      <th>234</th>\n",
       "      <td>eggnog</td>\n",
       "      <td>season</td>\n",
       "      <td>eggnog season</td>\n",
       "      <td>2822.314297</td>\n",
       "    </tr>\n",
       "    <tr>\n",
       "      <th>3822</th>\n",
       "      <td>scrooge</td>\n",
       "      <td>poinsettia</td>\n",
       "      <td>scrooge poinsettia</td>\n",
       "      <td>2822.314297</td>\n",
       "    </tr>\n",
       "    <tr>\n",
       "      <th>99</th>\n",
       "      <td>yuletide</td>\n",
       "      <td>fruitcake</td>\n",
       "      <td>yuletide fruitcake</td>\n",
       "      <td>2844.449982</td>\n",
       "    </tr>\n",
       "    <tr>\n",
       "      <th>3833</th>\n",
       "      <td>scrooge</td>\n",
       "      <td>hohoho</td>\n",
       "      <td>scrooge hohoho</td>\n",
       "      <td>2877.979458</td>\n",
       "    </tr>\n",
       "    <tr>\n",
       "      <th>136</th>\n",
       "      <td>yuletide</td>\n",
       "      <td>season</td>\n",
       "      <td>yuletide season</td>\n",
       "      <td>2946.228775</td>\n",
       "    </tr>\n",
       "    <tr>\n",
       "      <th>175</th>\n",
       "      <td>yuletide</td>\n",
       "      <td>gifts</td>\n",
       "      <td>yuletide gifts</td>\n",
       "      <td>2946.228775</td>\n",
       "    </tr>\n",
       "    <tr>\n",
       "      <th>2647</th>\n",
       "      <td>nutcracker</td>\n",
       "      <td>yuletide</td>\n",
       "      <td>nutcracker yuletide</td>\n",
       "      <td>3004.337930</td>\n",
       "    </tr>\n",
       "  </tbody>\n",
       "</table>\n",
       "</div>"
      ],
      "text/plain": [
       "            word1       word2                 text        score\n",
       "197        eggnog    yuletide      eggnog yuletide   837.539771\n",
       "135      yuletide     scrooge     yuletide scrooge  1322.792088\n",
       "2745     ornament    yuletide    ornament yuletide  1343.623033\n",
       "883      ornament    yuletide    ornament yuletide  1343.623033\n",
       "3823      scrooge    yuletide     scrooge yuletide  1380.869635\n",
       "98       yuletide  poinsettia  yuletide poinsettia  1510.675982\n",
       "118      yuletide   mistletoe   yuletide mistletoe  1627.062059\n",
       "233        eggnog     scrooge       eggnog scrooge  1843.702856\n",
       "2157    mistletoe    yuletide   mistletoe yuletide  2009.153464\n",
       "0      poinsettia      eggnog    poinsettia eggnog  2032.836729\n",
       "3889      scrooge      grinch       scrooge grinch  2113.815738\n",
       "4117       sleigh    yuletide      sleigh yuletide  2189.451314\n",
       "196        eggnog  poinsettia    eggnog poinsettia  2189.451314\n",
       "1177       jingle    yuletide      jingle yuletide  2223.930156\n",
       "1863         magi    yuletide        magi yuletide  2358.131860\n",
       "3824      scrooge      eggnog       scrooge eggnog  2442.509443\n",
       "394   gingerbread      eggnog   gingerbread eggnog  2510.218299\n",
       "9703       wreath    yuletide      wreath yuletide  2600.037768\n",
       "155      yuletide   snowglobe   yuletide snowglobe  2600.037768\n",
       "3627     reindeer    yuletide    reindeer yuletide  2640.982405\n",
       "3137   peppermint    yuletide  peppermint yuletide  2682.571826\n",
       "216        eggnog   mistletoe     eggnog mistletoe  2767.725797\n",
       "107      yuletide      hohoho      yuletide hohoho  2767.725797\n",
       "234        eggnog      season        eggnog season  2822.314297\n",
       "3822      scrooge  poinsettia   scrooge poinsettia  2822.314297\n",
       "99       yuletide   fruitcake   yuletide fruitcake  2844.449982\n",
       "3833      scrooge      hohoho       scrooge hohoho  2877.979458\n",
       "136      yuletide      season      yuletide season  2946.228775\n",
       "175      yuletide       gifts       yuletide gifts  2946.228775\n",
       "2647   nutcracker    yuletide  nutcracker yuletide  3004.337930"
      ]
     },
     "execution_count": 56,
     "metadata": {},
     "output_type": "execute_result"
    }
   ],
   "source": [
    "tdf.iloc[:30]"
   ]
  },
  {
   "cell_type": "code",
   "execution_count": null,
   "id": "5ab09447",
   "metadata": {},
   "outputs": [],
   "source": []
  }
 ],
 "metadata": {
  "kernelspec": {
   "display_name": "Python 3 (ipykernel)",
   "language": "python",
   "name": "python3"
  }
 },
 "nbformat": 4,
 "nbformat_minor": 5
}
