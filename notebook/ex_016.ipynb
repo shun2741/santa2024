{
 "cells": [
  {
   "cell_type": "markdown",
   "id": "5b9a260d",
   "metadata": {},
   "source": [
    "### SAでのテンプレートを更新\n",
    "バッチサイズ分だけ並行して実施する"
   ]
  },
  {
   "cell_type": "code",
   "execution_count": 1,
   "id": "b32508c5",
   "metadata": {},
   "outputs": [],
   "source": [
    "import os\n",
    "# 環境によって変更\n",
    "os.chdir('/home/jovyan/work/notebook')"
   ]
  },
  {
   "cell_type": "code",
   "execution_count": 2,
   "id": "fce8450c",
   "metadata": {},
   "outputs": [],
   "source": [
    "CFG = {\n",
    "    \"base_ex_num\": \"015\",  # ベースとしている実験ノートブック\n",
    "    \"qid\": 4,  # 問題番号(0~5)\n",
    "    \"path\": \"../model\",  # モデルのパス(git管理外なので実行環境で変更)\n",
    "    # \"path\": \"../../output\",  \n",
    "    \"restart\": True,  # True: 途中から再開, False: sampleを使って最初から開始\n",
    "    \"restart_file_path\": \"../model/out/id4_best_67_5.csv\",  # 途中から再開する場合のファイルパス\n",
    "    # \"restart_file_path\": \"../../output/out/id4_best_67_5.csv.csv\",  # 途中から再開する場合のファイルパス\n",
    "    \"restart_shuffle\": True,  # 途中から再開する場合に固定部分以外をシャッフルするか\n",
    "    \"prefix_lock\": 16,  # 先頭から何文字固定するか\n",
    "    \"suffix_lock\": 10,  # 末尾から何文字固定するか\n",
    "    \"start_temperature\": 100,  # 初期温度\n",
    "    \"end_temperature\": 0.001,  # 終了温度\n",
    "    \"cooling_rate\": 0.999,  # 温度の下がり具合\n",
    "    \"cooling_span\": 10,  # 何iterationごとに温度を下げるか\n",
    "    \"iteration\": int(1e2),  # iteration数\n",
    "    \"batch_size\": 4,  # バッチサイズ(並行して計算する数)\n",
    "    \"save_interval\": 10,  # 何回のiterationごとにlog保存するか\n",
    "    \"split_rule\": \"default\",  # 文章を単語に分割する方法(default(スペース区切り), compress(連続単語はくっつける))\n",
    "    \"neighbor_types\": [\"swap\", \"insert\", \"segment_insert\", \"scramble\"],  # 近傍操作の種類\n",
    "    \"seed\": 42,  # seed値\n",
    "}"
   ]
  },
  {
   "cell_type": "code",
   "execution_count": 3,
   "id": "cee854eb",
   "metadata": {},
   "outputs": [
    {
     "name": "stderr",
     "output_type": "stream",
     "text": [
      "git root error: Cmd('git') failed due to: exit code(128)\n",
      "  cmdline: git rev-parse --show-toplevel\n",
      "  stderr: 'fatal: detected dubious ownership in repository at '/home/jovyan/work'\n",
      "To add an exception for this directory, call:\n",
      "\n",
      "\tgit config --global --add safe.directory /home/jovyan/work'\n",
      "\u001b[34m\u001b[1mwandb\u001b[0m: Using wandb-core as the SDK backend.  Please refer to https://wandb.me/wandb-core for more information.\n",
      "\u001b[34m\u001b[1mwandb\u001b[0m: Currently logged in as: \u001b[33mshun2741\u001b[0m (\u001b[33mshun2741-ns-solutions\u001b[0m). Use \u001b[1m`wandb login --relogin`\u001b[0m to force relogin\n"
     ]
    },
    {
     "data": {
      "text/html": [
       "Tracking run with wandb version 0.19.1"
      ],
      "text/plain": [
       "<IPython.core.display.HTML object>"
      ]
     },
     "metadata": {},
     "output_type": "display_data"
    },
    {
     "data": {
      "text/html": [
       "Run data is saved locally in <code>/home/jovyan/work/notebook/wandb/run-20250104_023415-nqri6xag</code>"
      ],
      "text/plain": [
       "<IPython.core.display.HTML object>"
      ]
     },
     "metadata": {},
     "output_type": "display_data"
    },
    {
     "data": {
      "text/html": [
       "Syncing run <strong><a href='https://wandb.ai/shun2741-ns-solutions/santa2024/runs/nqri6xag' target=\"_blank\">stellar-cloud-28</a></strong> to <a href='https://wandb.ai/shun2741-ns-solutions/santa2024' target=\"_blank\">Weights & Biases</a> (<a href='https://wandb.me/developer-guide' target=\"_blank\">docs</a>)<br>"
      ],
      "text/plain": [
       "<IPython.core.display.HTML object>"
      ]
     },
     "metadata": {},
     "output_type": "display_data"
    },
    {
     "data": {
      "text/html": [
       " View project at <a href='https://wandb.ai/shun2741-ns-solutions/santa2024' target=\"_blank\">https://wandb.ai/shun2741-ns-solutions/santa2024</a>"
      ],
      "text/plain": [
       "<IPython.core.display.HTML object>"
      ]
     },
     "metadata": {},
     "output_type": "display_data"
    },
    {
     "data": {
      "text/html": [
       " View run at <a href='https://wandb.ai/shun2741-ns-solutions/santa2024/runs/nqri6xag' target=\"_blank\">https://wandb.ai/shun2741-ns-solutions/santa2024/runs/nqri6xag</a>"
      ],
      "text/plain": [
       "<IPython.core.display.HTML object>"
      ]
     },
     "metadata": {},
     "output_type": "display_data"
    },
    {
     "data": {
      "text/html": [
       "<button onClick=\"this.nextSibling.style.display='block';this.style.display='none';\">Display W&B run</button><iframe src='https://wandb.ai/shun2741-ns-solutions/santa2024/runs/nqri6xag?jupyter=true' style='border:none;width:100%;height:420px;display:none;'></iframe>"
      ],
      "text/plain": [
       "<wandb.sdk.wandb_run.Run at 0x7ff1937a1a00>"
      ]
     },
     "execution_count": 3,
     "metadata": {},
     "output_type": "execute_result"
    }
   ],
   "source": [
    "import wandb\n",
    "\n",
    "wandb.login()\n",
    "\n",
    "wandb.init(\n",
    "    # プロジェクト名\n",
    "    project=\"santa2024\",\n",
    "\n",
    "    # 記録する実験条件\n",
    "    config=CFG\n",
    ")"
   ]
  },
  {
   "cell_type": "code",
   "execution_count": 4,
   "id": "6806febe",
   "metadata": {},
   "outputs": [],
   "source": [
    "import numpy as np\n",
    "import pandas as pd\n",
    "import os\n",
    "import time\n",
    "import csv\n",
    "\n",
    "from tqdm.notebook import tqdm\n",
    "\n",
    "import random\n",
    "from typing import List, Callable\n",
    "import itertools, math\n",
    "from typing import List, Tuple\n",
    "\n",
    "from utils import PerplexityCalculator\n",
    "# 可視化用\n",
    "import matplotlib.pyplot as plt"
   ]
  },
  {
   "cell_type": "code",
   "execution_count": 5,
   "id": "7dfd8ea9",
   "metadata": {},
   "outputs": [],
   "source": [
    "# seed値の固定\n",
    "# Pythonの組み込みrandomモジュールのシードを設定\n",
    "random.seed(CFG[\"seed\"])\n",
    "\n",
    "# NumPyのシードを設定\n",
    "np.random.seed(CFG[\"seed\"])"
   ]
  },
  {
   "cell_type": "markdown",
   "id": "8ea9236c",
   "metadata": {},
   "source": [
    "### データ読み込み"
   ]
  },
  {
   "cell_type": "code",
   "execution_count": 6,
   "id": "6f960148",
   "metadata": {},
   "outputs": [
    {
     "data": {
      "text/html": [
       "<div>\n",
       "<style scoped>\n",
       "    .dataframe tbody tr th:only-of-type {\n",
       "        vertical-align: middle;\n",
       "    }\n",
       "\n",
       "    .dataframe tbody tr th {\n",
       "        vertical-align: top;\n",
       "    }\n",
       "\n",
       "    .dataframe thead th {\n",
       "        text-align: right;\n",
       "    }\n",
       "</style>\n",
       "<table border=\"1\" class=\"dataframe\">\n",
       "  <thead>\n",
       "    <tr style=\"text-align: right;\">\n",
       "      <th></th>\n",
       "      <th>index</th>\n",
       "      <th>text</th>\n",
       "      <th>score</th>\n",
       "    </tr>\n",
       "  </thead>\n",
       "  <tbody>\n",
       "    <tr>\n",
       "      <th>0</th>\n",
       "      <td>0</td>\n",
       "      <td>of and to in the as you that it we with from h...</td>\n",
       "      <td>67.683589</td>\n",
       "    </tr>\n",
       "    <tr>\n",
       "      <th>1</th>\n",
       "      <td>1</td>\n",
       "      <td>of and to in the as you that it we with from h...</td>\n",
       "      <td>67.683589</td>\n",
       "    </tr>\n",
       "    <tr>\n",
       "      <th>2</th>\n",
       "      <td>2</td>\n",
       "      <td>of and to in the as you that it we with from h...</td>\n",
       "      <td>67.683589</td>\n",
       "    </tr>\n",
       "    <tr>\n",
       "      <th>3</th>\n",
       "      <td>3</td>\n",
       "      <td>of and to in the as you that it we with from h...</td>\n",
       "      <td>67.683589</td>\n",
       "    </tr>\n",
       "  </tbody>\n",
       "</table>\n",
       "</div>"
      ],
      "text/plain": [
       "   index                                               text      score\n",
       "0      0  of and to in the as you that it we with from h...  67.683589\n",
       "1      1  of and to in the as you that it we with from h...  67.683589\n",
       "2      2  of and to in the as you that it we with from h...  67.683589\n",
       "3      3  of and to in the as you that it we with from h...  67.683589"
      ]
     },
     "metadata": {},
     "output_type": "display_data"
    }
   ],
   "source": [
    "if CFG[\"restart\"]:\n",
    "    df = pd.read_csv(CFG[\"restart_file_path\"])\n",
    "    display(df)\n",
    "    \n",
    "    if len(df) != CFG[\"batch_size\"]:\n",
    "        AssertionError(\"batch_sizeが再開前のサイズと一致しません\")   \n",
    "else:\n",
    "    df = pd.read_csv(\"../input/sample_submission.csv\")\n",
    "    display(df)"
   ]
  },
  {
   "cell_type": "markdown",
   "id": "2b855d16",
   "metadata": {},
   "source": [
    "### 関数"
   ]
  },
  {
   "cell_type": "code",
   "execution_count": 7,
   "id": "2cb84b10",
   "metadata": {},
   "outputs": [],
   "source": [
    "def split_compress(sentence: str) -> list[str]:\n",
    "    \"\"\"\n",
    "    文章をスペースで分割し、連続している単語を結合する\n",
    "    同一の単語が連続している場合は１つの塊として処理する\n",
    "    args:\n",
    "        sentence: str: 分割する文章\n",
    "    return:\n",
    "        list[str]: 分割された単語のリスト\n",
    "    \"\"\"\n",
    "    words = sentence.split()\n",
    "    \n",
    "    if CFG[\"split_rule\"] != \"compress\":\n",
    "        return words\n",
    "    if not words:\n",
    "        return []\n",
    "\n",
    "    result = []\n",
    "    prev_word = None\n",
    "\n",
    "    for w in words:\n",
    "        if w == prev_word:\n",
    "            # 連続している場合は、リストの最後の要素にスペースを挟んで追加\n",
    "            result[-1] += \" \" + w\n",
    "        else:\n",
    "            # 新しい単語の場合はリストに追加\n",
    "            result.append(w)\n",
    "        prev_word = w\n",
    "\n",
    "    return result"
   ]
  },
  {
   "cell_type": "code",
   "execution_count": 8,
   "id": "a5f3bc02",
   "metadata": {},
   "outputs": [],
   "source": [
    "def plot_score_and_temperature(scores_history, temp_history):\n",
    "    \"\"\"\n",
    "    スコアと温度の推移をプロットする\n",
    "\n",
    "    args:\n",
    "        scores_history: List[float]: スコアの推移\n",
    "        temp_history: List[float]: 温度の推移\n",
    "    return:\n",
    "        None\n",
    "    \"\"\"\n",
    "    # x 軸: イテレーション\n",
    "    x = range(len(scores_history))\n",
    "    \n",
    "    # Figure と Axes を作成\n",
    "    fig, ax1 = plt.subplots(figsize=(8,5))\n",
    "    \n",
    "    # スコア用の軸 (左)\n",
    "    color_score = 'tab:blue'\n",
    "    ax1.set_xlabel('Iteration')\n",
    "    ax1.set_ylabel('Score (Perplexity)', color=color_score)\n",
    "    ax1.plot(x, scores_history, label='Score', color=color_score)\n",
    "    ax1.tick_params(axis='y', labelcolor=color_score)\n",
    "    \n",
    "    # 温度用の軸 (右) : twinx で第二のY軸を作成\n",
    "    ax2 = ax1.twinx()\n",
    "    color_temp = 'tab:red'\n",
    "    ax2.set_ylabel('Temperature', color=color_temp)\n",
    "    ax2.plot(x, temp_history, label='Temperature', color=color_temp)\n",
    "    ax2.tick_params(axis='y', labelcolor=color_temp)\n",
    "    \n",
    "    # タイトル等\n",
    "    plt.title('Score & Temperature Transition')\n",
    "    fig.tight_layout()\n",
    "    plt.show()"
   ]
  },
  {
   "cell_type": "code",
   "execution_count": 9,
   "id": "4d0fe093",
   "metadata": {},
   "outputs": [],
   "source": [
    "def generate_neighbor(sequence, neighbor_type='swap',\n",
    "                      prefix_lock=0, suffix_lock=0):\n",
    "    \"\"\"\n",
    "    部分的に固定された範囲を除いて近傍操作を行う。\n",
    "\n",
    "    Args:\n",
    "        sequence (List[str]): 単語のリスト\n",
    "        neighbor_type (str): 近傍操作の種類\n",
    "        prefix_lock (int): 先頭からロックする数\n",
    "        suffix_lock (int): 後方からロックする数\n",
    "\n",
    "    Returns:\n",
    "        List[str]: 近傍操作後の単語のリスト（指定部分は変更なし）\n",
    "    \"\"\"\n",
    "    new_seq = sequence[:]\n",
    "    length = len(new_seq)\n",
    "\n",
    "    # 万が一ロック範囲がリスト全体を覆ってしまう場合は、そのまま返す\n",
    "    if prefix_lock + suffix_lock >= length:\n",
    "        return new_seq\n",
    "\n",
    "    # 変更可能な範囲 [valid_start, valid_end) を定義\n",
    "    valid_start = prefix_lock\n",
    "    valid_end = length - suffix_lock\n",
    "\n",
    "    if neighbor_type == 'swap':\n",
    "        # ランダムに2つの位置を選んで入れ替える\n",
    "        # ただし、選択肢はロックされていない範囲内に限定\n",
    "        a, b = random.sample(range(valid_start, valid_end), 2)\n",
    "        new_seq[a], new_seq[b] = new_seq[b], new_seq[a]\n",
    "\n",
    "    elif neighbor_type == 'insert':\n",
    "        # ある単語を抜き出し、別の位置に挿入する\n",
    "        # 抜き出す場所 (idx) も挿入場所 (new_pos) もロック範囲外に限定する\n",
    "        idx = random.randint(valid_start, valid_end - 1)\n",
    "        word = new_seq.pop(idx)\n",
    "\n",
    "        # pop した後は要素数が1つ減るので注意\n",
    "        # 挿入先の範囲は [valid_start..(valid_end-1)] ただしリストサイズが1減っている\n",
    "        new_pos = random.randint(valid_start, max(valid_start, len(new_seq) - suffix_lock))\n",
    "        # 挿入先は suffix_lock を考慮した (len(new_seq) - suffix_lock) までにする\n",
    "\n",
    "        new_seq.insert(new_pos, word)\n",
    "\n",
    "    elif neighbor_type == 'segment_insert':\n",
    "        # 長さ2~5のランダムな部分区間を切り出し、別の位置に挿入する\n",
    "        # ただしこの部分区間がロック範囲にかからないようにする\n",
    "        sub_len = random.randint(2, min(5, valid_end - valid_start))\n",
    "\n",
    "        # 部分区間の開始位置をロック範囲内からランダムに選択\n",
    "        start_idx = random.randint(valid_start, valid_end - sub_len)\n",
    "        sublist = new_seq[start_idx : start_idx + sub_len]\n",
    "\n",
    "        # 部分区間を削除\n",
    "        new_seq = new_seq[:start_idx] + new_seq[start_idx + sub_len:]\n",
    "\n",
    "        # 挿入位置をロック範囲内で決定 (新しい長さに注意)\n",
    "        #   (挿入先の上限は \"valid_end - sub_len + 1\" が理想だが、\n",
    "        #    ロック範囲を厳密に守るにはもう少し計算が必要)\n",
    "        #   シンプルな実装例としては以下のようにしてみる\n",
    "        #   → 新しいサイズは len(new_seq) = length - sub_len\n",
    "        #      挿入できる範囲は prefix_lock..(length - sub_len - suffix_lock)\n",
    "        max_insert = length - sub_len - suffix_lock\n",
    "        insert_idx = random.randint(prefix_lock, max_insert)\n",
    "\n",
    "        # 切り出した部分区間を挿入\n",
    "        new_seq = new_seq[:insert_idx] + sublist + new_seq[insert_idx:]\n",
    "\n",
    "    elif neighbor_type == 'scramble':\n",
    "        # ロック範囲内の区間 (長さ2~5) をシャッフル\n",
    "        sub_len = random.randint(2, min(5, valid_end - valid_start))\n",
    "\n",
    "        start_idx = random.randint(valid_start, valid_end - sub_len)\n",
    "        sublist = new_seq[start_idx : start_idx + sub_len]\n",
    "\n",
    "        random.shuffle(sublist)\n",
    "        new_seq[start_idx : start_idx + sub_len] = sublist\n",
    "\n",
    "    # 他の近傍操作を追加してもOK\n",
    "\n",
    "    return new_seq"
   ]
  },
  {
   "cell_type": "code",
   "execution_count": 10,
   "id": "7cddb70f",
   "metadata": {},
   "outputs": [],
   "source": [
    "def search_annealing(\n",
    "    scorer,\n",
    "    initial_sequences,\n",
    "):\n",
    "    \"\"\"\n",
    "    焼きなまし法による探索\n",
    "\n",
    "    args:\n",
    "        scorer: PerplexityCalculator: 評価器\n",
    "        initial_sequences: List[List[str]]: 初期解のリスト\n",
    "    \"\"\"\n",
    "    if CFG[\"neighbor_types\"] is None:\n",
    "        neighbor_types = ['swap']\n",
    "\n",
    "    texts = [\" \".join(seq) for seq in initial_sequences]\n",
    "    scores = scorer.get_perplexity(texts, batch_size=CFG[\"batch_size\"])\n",
    "\n",
    "    # スコア推移を記録するリスト\n",
    "    scores_history = []\n",
    "    temp_history = []\n",
    "    \n",
    "    # 現在の状態を持つリスト\n",
    "    current_seqs = []\n",
    "    current_scores = []\n",
    "    \n",
    "    # 初期解の生成\n",
    "    for i in range(CFG[\"batch_size\"]):\n",
    "        print(\"current_seq:\", initial_sequences[i])\n",
    "        print(\"current_score:\", scores[i])\n",
    "        current_seqs.append(initial_sequences[i])\n",
    "        current_scores.append(scores[i])\n",
    "    \n",
    "    idx = np.argmin(current_scores)\n",
    "    best_score = current_scores[idx]\n",
    "    best_seq = current_seqs[idx]\n",
    "    print(\"best_score:\", best_score)\n",
    "    print(\"best_text:\", \" \".join(best_seq))\n",
    "    \n",
    "    # neigbor_typesをキーとしたdictを作成\n",
    "    neighbor_dict = {}\n",
    "    counter_dict = {\n",
    "        \"used\": 0,\n",
    "        \"accept\": 0,\n",
    "    }\n",
    "    for neighbor_type in CFG[\"neighbor_types\"]:\n",
    "        neighbor_dict[neighbor_type] = counter_dict.copy()\n",
    "        \n",
    "    # 初期温度        \n",
    "    temperature = CFG[\"start_temperature\"]\n",
    "    \n",
    "    for itr in tqdm(range(CFG[\"iteration\"])):\n",
    "        # 可視化用の記録\n",
    "        scores_history.append(current_scores[0])\n",
    "        temp_history.append(temperature)\n",
    "        \n",
    "        # 近傍候補をまとめて生成\n",
    "        neighbor_candidates = []\n",
    "        neighbor_type_list = []\n",
    "        for i in range(CFG[\"batch_size\"]):\n",
    "            # 近傍操作の種類をランダムに選ぶ\n",
    "            n_type = random.choice(CFG[\"neighbor_types\"])\n",
    "            neighbor_seq = generate_neighbor(current_seqs[i], n_type, prefix_lock=CFG[\"prefix_lock\"], suffix_lock=CFG[\"suffix_lock\"])\n",
    "            neighbor_dict[n_type][\"used\"] += 1\n",
    "            neighbor_candidates.append(neighbor_seq)\n",
    "            neighbor_type_list.append(n_type)\n",
    "\n",
    "        \n",
    "        # まとめてスコアを計算（GPUを活用）\n",
    "        texts = [\" \".join(seq) for seq in neighbor_candidates]\n",
    "        # print(\"texts:\", texts)\n",
    "        \n",
    "        scores = scorer.get_perplexity(texts, batch_size=CFG[\"batch_size\"])\n",
    "        # print(\"scores:\", scores)\n",
    "        \n",
    "        # 候補の中から1つを焼きなまし法の確率的受容ルールで選ぶ\n",
    "        for i, (cand_seq, cand_score) in enumerate(zip(neighbor_candidates, scores)):\n",
    "            delta = cand_score - current_scores[i]\n",
    "            accept_prob = math.exp(-delta / temperature) if delta > 0 else 1.0\n",
    "                \n",
    "            # スコアが良ければ必ず受容\n",
    "            if random.random() < accept_prob:\n",
    "                current_scores[i] = cand_score\n",
    "                current_seqs[i] = cand_seq\n",
    "                neighbor_dict[neighbor_type_list[i]][\"accept\"] += 1\n",
    "\n",
    "        # ベストの更新\n",
    "        if np.min(current_scores) < best_score:\n",
    "            # current_scoresの最小値のインデックスを取得\n",
    "            idx = np.argmin(current_scores)\n",
    "            \n",
    "            best_score = current_scores[idx]\n",
    "            best_seq = current_seqs[idx]\n",
    "            print(f\"iter {itr}: best_score: {best_score}\")\n",
    "            print(\"best_text:\", \" \".join(best_seq))\n",
    "            \n",
    "\n",
    "        # 温度を下げる\n",
    "        if itr % CFG[\"cooling_span\"] == 0:\n",
    "            temperature *= CFG[\"cooling_rate\"]\n",
    "            wandb.log({\"temperature\": temperature, \"score\":current_scores[0]})\n",
    "        \n",
    "        if itr % CFG[\"save_interval\"] == 0:\n",
    "            print(f\"iter :{itr}, best_score: {best_score}, temperature: {temperature}\")\n",
    "            wandb.log({\"iteration\": itr, \"best_score\": best_score, \"best_text\": \" \".join(best_seq)})\n",
    "\n",
    "            # 受容確率を表示\n",
    "            for key, value in neighbor_dict.items():\n",
    "                if value[\"used\"] == 0:\n",
    "                    print(f\"近傍操作: {key}, 使用回数: 0, 受容回数: 0, 受容確率: 0\")\n",
    "                    continue\n",
    "                print(f\"近傍操作: {key}, 使用回数: {value['used']}, 受容回数: {value['accept']}, 受容確率: {value['accept']/value['used']}\")\n",
    "            \n",
    "            for neighbor_type in CFG[\"neighbor_types\"]:\n",
    "                neighbor_dict[neighbor_type][\"used\"] = 0\n",
    "                neighbor_dict[neighbor_type][\"accept\"] = 0\n",
    "\n",
    "            # current_seqsを結合して文字列保存\n",
    "            current_seqs_text = [\" \".join(seq) for seq in current_seqs]\n",
    "            # current_seqsとcurrent_scoresのリストをdfとして保存\n",
    "            df = pd.DataFrame(current_seqs_text)\n",
    "            df[\"score\"] = current_scores\n",
    "            \n",
    "            # indexとなっていたものをsequencre列に変更\n",
    "            df = df.reset_index()\n",
    "            df = df.rename(columns={0: \"text\"})\n",
    "            \n",
    "            path = CFG[\"path\"]\n",
    "            ex_num = CFG[\"base_ex_num\"]\n",
    "            qid = CFG[\"qid\"]\n",
    "            df.to_csv(f\"{path}/out/current_texts_{ex_num}_{qid}.csv\", index=False)\n",
    "            \n",
    "        if temperature < CFG[\"end_temperature\"]:\n",
    "            break\n",
    "    \n",
    "    # 現在のラン名を取得\n",
    "    current_run_name = wandb.run.name\n",
    "    print(f\"Current Run Name: {current_run_name}\")\n",
    "    \n",
    "    # artifactに保存\n",
    "    artifact = wandb.Artifact(name=current_run_name, type=\"texts\")\n",
    "    path = CFG[\"path\"]\n",
    "    ex_num = CFG[\"base_ex_num\"]\n",
    "    qid = CFG[\"qid\"]\n",
    "    artifact.add_file(local_path =f\"{path}/out/current_texts_{ex_num}_{qid}.csv\", name =f\"current_texts_{ex_num}_{qid}.csv\")\n",
    "    artifact.save()\n",
    "        \n",
    "    return best_seq, best_score, scores_history, temp_history"
   ]
  },
  {
   "cell_type": "code",
   "execution_count": 11,
   "id": "22fbd618",
   "metadata": {},
   "outputs": [],
   "source": [
    "def search_optimal_permutation(\n",
    "    scorer\n",
    "):\n",
    "\n",
    "    if CFG[\"restart\"]:\n",
    "        df = pd.read_csv(CFG[\"restart_file_path\"])\n",
    "        \n",
    "        # dfのsequence列をリストに変換\n",
    "        initial_texts = df[\"text\"].tolist()\n",
    "        # initial_sequencesをスペースで区切ってリストに変換\n",
    "        initial_sequences = [split_compress(text) for text in initial_texts]\n",
    "    \n",
    "        if CFG[\"restart_shuffle\"]:\n",
    "            # 固定部分以外(prefix_lock, suffix_lockで指定されたいない部分)をシャッフル\n",
    "            for i in range(CFG[\"batch_size\"]):\n",
    "                # 固定部分を取得\n",
    "                prefix = initial_sequences[i][:CFG[\"prefix_lock\"]]\n",
    "                suffix = initial_sequences[i][-CFG[\"suffix_lock\"]:]\n",
    "                # 固定部分以外をシャッフル\n",
    "                middle = initial_sequences[i][CFG[\"prefix_lock\"]:-CFG[\"suffix_lock\"]]\n",
    "                random.shuffle(middle)\n",
    "                # 固定部分をつけて初期解を作成\n",
    "                initial_sequences[i] = prefix + middle + suffix\n",
    "    else:\n",
    "        df = pd.read_csv(\"../input/sample_submission.csv\")    \n",
    "        qid = CFG[\"qid\"]\n",
    "        original_text = df.iloc[qid][\"text\"]\n",
    "        original_seq = split_compress(original_text)\n",
    "        initial_sequences = [random.sample(original_seq, len(original_seq)) for _ in range(CFG[\"batch_size\"])]\n",
    "    \n",
    "    start = time.time()\n",
    "    print(\"---------焼きなまし処理開始---------\")\n",
    "    best_sequence, best_score, scores_history, temp_history = search_annealing(\n",
    "        scorer=scorer,\n",
    "        initial_sequences=initial_sequences,\n",
    "    )\n",
    "    print(\"---------焼きなまし処理終了---------\")\n",
    "\n",
    "    print(f\"Elapsed time: {time.time() - start:.2f} sec\")\n",
    "    print(f\"best_score: {best_score}\")\n",
    "    \n",
    "    plot_score_and_temperature(scores_history, temp_history)\n",
    "    \n",
    "    return best_sequence, best_score\n"
   ]
  },
  {
   "cell_type": "code",
   "execution_count": 12,
   "id": "9f775900-1acf-4870-bd4c-37c08b14fcc9",
   "metadata": {},
   "outputs": [
    {
     "name": "stdout",
     "output_type": "stream",
     "text": [
      "cuda\n"
     ]
    },
    {
     "data": {
      "application/vnd.jupyter.widget-view+json": {
       "model_id": "9ad9e1a52ded4f15b9fca7ca52b0e711",
       "version_major": 2,
       "version_minor": 0
      },
      "text/plain": [
       "Loading checkpoint shards:   0%|          | 0/8 [00:00<?, ?it/s]"
      ]
     },
     "metadata": {},
     "output_type": "display_data"
    },
    {
     "name": "stderr",
     "output_type": "stream",
     "text": [
      "Some parameters are on the meta device because they were offloaded to the cpu.\n"
     ]
    }
   ],
   "source": [
    "# LOAD GEMMA SCORER\n",
    "scorer = PerplexityCalculator(f'{CFG[\"path\"]}/gemma_2_9b')"
   ]
  },
  {
   "cell_type": "code",
   "execution_count": 13,
   "id": "e253c6da-f86c-48ba-87e1-022ea5aa2329",
   "metadata": {},
   "outputs": [],
   "source": [
    "# scorer.clear_gpu_memory()"
   ]
  },
  {
   "cell_type": "code",
   "execution_count": 14,
   "id": "8d05bef9",
   "metadata": {},
   "outputs": [
    {
     "name": "stdout",
     "output_type": "stream",
     "text": [
      "Processing\n",
      "---------焼きなまし処理開始---------\n",
      "current_seq: ['of', 'and', 'to', 'in', 'the', 'as', 'you', 'that', 'it', 'we', 'with', 'from', 'have', 'not', 'night', 'season', 'bow', 'cookie', 'star', 'wish', 'wrapping', 'puzzle', 'poinsettia', 'greeting', 'paper', 'wreath', 'milk', 'card', 'candle', 'fruitcake', 'game', 'chocolate', 'fireplace', 'peppermint', 'angel', 'toy', 'doll', 'eggnog', 'candy', 'snowglobe', 'dream', 'believe', 'wonder', 'hope', 'joy', 'peace', 'merry', 'hohoho', 'kaggle', 'workshop']\n",
      "current_score: 349.1385203839046\n",
      "current_seq: ['of', 'and', 'to', 'in', 'the', 'as', 'you', 'that', 'it', 'we', 'with', 'from', 'have', 'not', 'night', 'season', 'game', 'wish', 'toy', 'candy', 'candle', 'chocolate', 'wreath', 'poinsettia', 'angel', 'greeting', 'bow', 'paper', 'milk', 'snowglobe', 'card', 'fruitcake', 'peppermint', 'fireplace', 'puzzle', 'wrapping', 'cookie', 'eggnog', 'doll', 'star', 'dream', 'believe', 'wonder', 'hope', 'joy', 'peace', 'merry', 'hohoho', 'kaggle', 'workshop']\n",
      "current_score: 284.95855538715824\n",
      "current_seq: ['of', 'and', 'to', 'in', 'the', 'as', 'you', 'that', 'it', 'we', 'with', 'from', 'have', 'not', 'night', 'season', 'eggnog', 'star', 'cookie', 'doll', 'toy', 'snowglobe', 'wreath', 'candle', 'paper', 'wrapping', 'bow', 'peppermint', 'wish', 'candy', 'puzzle', 'milk', 'fireplace', 'fruitcake', 'greeting', 'angel', 'game', 'poinsettia', 'chocolate', 'card', 'dream', 'believe', 'wonder', 'hope', 'joy', 'peace', 'merry', 'hohoho', 'kaggle', 'workshop']\n",
      "current_score: 271.90935307537654\n",
      "current_seq: ['of', 'and', 'to', 'in', 'the', 'as', 'you', 'that', 'it', 'we', 'with', 'from', 'have', 'not', 'night', 'season', 'card', 'greeting', 'wrapping', 'game', 'angel', 'paper', 'milk', 'eggnog', 'bow', 'candy', 'fireplace', 'puzzle', 'peppermint', 'wish', 'wreath', 'star', 'toy', 'poinsettia', 'cookie', 'chocolate', 'snowglobe', 'doll', 'candle', 'fruitcake', 'dream', 'believe', 'wonder', 'hope', 'joy', 'peace', 'merry', 'hohoho', 'kaggle', 'workshop']\n",
      "current_score: 251.47504249414803\n",
      "best_score: 251.47504249414803\n",
      "best_text: of and to in the as you that it we with from have not night season card greeting wrapping game angel paper milk eggnog bow candy fireplace puzzle peppermint wish wreath star toy poinsettia cookie chocolate snowglobe doll candle fruitcake dream believe wonder hope joy peace merry hohoho kaggle workshop\n"
     ]
    },
    {
     "data": {
      "application/vnd.jupyter.widget-view+json": {
       "model_id": "0e37c9c8251842d79c7e1ac273ff427a",
       "version_major": 2,
       "version_minor": 0
      },
      "text/plain": [
       "  0%|          | 0/100 [00:00<?, ?it/s]"
      ]
     },
     "metadata": {},
     "output_type": "display_data"
    },
    {
     "name": "stdout",
     "output_type": "stream",
     "text": [
      "iter :0, best_score: 251.47504249414803, temperature: 99.9\n",
      "近傍操作: swap, 使用回数: 0, 受容回数: 0, 受容確率: 0\n",
      "近傍操作: insert, 使用回数: 1, 受容回数: 1, 受容確率: 1.0\n",
      "近傍操作: segment_insert, 使用回数: 1, 受容回数: 1, 受容確率: 1.0\n",
      "近傍操作: scramble, 使用回数: 2, 受容回数: 2, 受容確率: 1.0\n",
      "iter 1: best_score: 248.54526950703038\n",
      "best_text: of and to in the as you that it we with from have not night season game wish toy candy candle chocolate wreath poinsettia angel greeting bow paper milk snowglobe card cookie eggnog fruitcake fireplace peppermint doll puzzle wrapping star dream believe wonder hope joy peace merry hohoho kaggle workshop\n",
      "iter 7: best_score: 236.23893989057657\n",
      "best_text: of and to in the as you that it we with from have not night season game doll toy candy candle chocolate wreath card fireplace poinsettia angel greeting bow snowglobe paper milk cookie fruitcake eggnog peppermint wish puzzle wrapping star dream believe wonder hope joy peace merry hohoho kaggle workshop\n",
      "iter 8: best_score: 229.86679753407884\n",
      "best_text: of and to in the as you that it we with from have not night season game doll toy candy candle chocolate wreath card fireplace poinsettia angel greeting bow paper milk snowglobe cookie fruitcake eggnog peppermint wish puzzle wrapping star dream believe wonder hope joy peace merry hohoho kaggle workshop\n",
      "iter :10, best_score: 229.86679753407884, temperature: 99.8001\n",
      "近傍操作: swap, 使用回数: 11, 受容回数: 10, 受容確率: 0.9090909090909091\n",
      "近傍操作: insert, 使用回数: 12, 受容回数: 12, 受容確率: 1.0\n",
      "近傍操作: segment_insert, 使用回数: 8, 受容回数: 8, 受容確率: 1.0\n",
      "近傍操作: scramble, 使用回数: 9, 受容回数: 9, 受容確率: 1.0\n",
      "iter 14: best_score: 228.07795992374852\n",
      "best_text: of and to in the as you that it we with from have not night season eggnog wrapping bow card game peppermint wish snowglobe candy puzzle cookie milk star fruitcake greeting paper doll angel fireplace toy poinsettia wreath chocolate candle dream believe wonder hope joy peace merry hohoho kaggle workshop\n",
      "iter 15: best_score: 221.92594607841514\n",
      "best_text: of and to in the as you that it we with from have not night season eggnog wrapping bow card game peppermint wish candy puzzle snowglobe cookie milk star fruitcake greeting paper doll angel fireplace toy poinsettia wreath chocolate candle dream believe wonder hope joy peace merry hohoho kaggle workshop\n",
      "iter :20, best_score: 221.92594607841514, temperature: 99.7002999\n",
      "近傍操作: swap, 使用回数: 10, 受容回数: 10, 受容確率: 1.0\n",
      "近傍操作: insert, 使用回数: 12, 受容回数: 11, 受容確率: 0.9166666666666666\n",
      "近傍操作: segment_insert, 使用回数: 10, 受容回数: 9, 受容確率: 0.9\n",
      "近傍操作: scramble, 使用回数: 8, 受容回数: 7, 受容確率: 0.875\n",
      "iter 26: best_score: 214.2594148922178\n",
      "best_text: of and to in the as you that it we with from have not night season eggnog bow greeting game chocolate toy candle doll candy wreath fruitcake fireplace cookie angel snowglobe puzzle wish wrapping card poinsettia star milk peppermint paper dream believe wonder hope joy peace merry hohoho kaggle workshop\n",
      "iter :30, best_score: 214.2594148922178, temperature: 99.60059960010001\n",
      "近傍操作: swap, 使用回数: 8, 受容回数: 6, 受容確率: 0.75\n",
      "近傍操作: insert, 使用回数: 7, 受容回数: 6, 受容確率: 0.8571428571428571\n",
      "近傍操作: segment_insert, 使用回数: 14, 受容回数: 12, 受容確率: 0.8571428571428571\n",
      "近傍操作: scramble, 使用回数: 11, 受容回数: 10, 受容確率: 0.9090909090909091\n",
      "iter :40, best_score: 214.2594148922178, temperature: 99.50099900049992\n",
      "近傍操作: swap, 使用回数: 6, 受容回数: 6, 受容確率: 1.0\n",
      "近傍操作: insert, 使用回数: 8, 受容回数: 8, 受容確率: 1.0\n",
      "近傍操作: segment_insert, 使用回数: 10, 受容回数: 10, 受容確率: 1.0\n",
      "近傍操作: scramble, 使用回数: 16, 受容回数: 15, 受容確率: 0.9375\n",
      "iter 41: best_score: 210.93763055625195\n",
      "best_text: of and to in the as you that it we with from have not night season eggnog wrapping fruitcake greeting milk cookie candle fireplace puzzle angel card toy paper star wish chocolate bow peppermint poinsettia wreath doll candy game snowglobe dream believe wonder hope joy peace merry hohoho kaggle workshop\n",
      "iter 46: best_score: 204.44776193681219\n",
      "best_text: of and to in the as you that it we with from have not night season eggnog wish milk cookie candle fireplace toy wrapping fruitcake paper star puzzle angel card greeting bow peppermint poinsettia chocolate wreath candy doll game snowglobe dream believe wonder hope joy peace merry hohoho kaggle workshop\n",
      "iter 50: best_score: 175.55787313507827\n",
      "best_text: of and to in the as you that it we with from have not night season eggnog fruitcake milk cookie candle fireplace candy toy wrapping wish paper angel star puzzle peppermint card greeting bow poinsettia chocolate wreath doll game snowglobe dream believe wonder hope joy peace merry hohoho kaggle workshop\n",
      "iter :50, best_score: 175.55787313507827, temperature: 99.40149800149942\n",
      "近傍操作: swap, 使用回数: 10, 受容回数: 10, 受容確率: 1.0\n",
      "近傍操作: insert, 使用回数: 5, 受容回数: 4, 受容確率: 0.8\n",
      "近傍操作: segment_insert, 使用回数: 13, 受容回数: 9, 受容確率: 0.6923076923076923\n",
      "近傍操作: scramble, 使用回数: 12, 受容回数: 12, 受容確率: 1.0\n",
      "iter 51: best_score: 174.8734378511126\n",
      "best_text: of and to in the as you that it we with from have not night season eggnog fruitcake milk cookie candle fireplace candy toy wrapping wish paper puzzle star angel peppermint card greeting bow poinsettia chocolate wreath doll game snowglobe dream believe wonder hope joy peace merry hohoho kaggle workshop\n",
      "iter 54: best_score: 174.19167092744075\n",
      "best_text: of and to in the as you that it we with from have not night season eggnog fruitcake milk toy wrapping wish paper puzzle star angel peppermint bow poinsettia greeting card candle chocolate wreath doll game snowglobe cookie fireplace candy dream believe wonder hope joy peace merry hohoho kaggle workshop\n",
      "iter :60, best_score: 174.19167092744075, temperature: 99.30209650349792\n",
      "近傍操作: swap, 使用回数: 12, 受容回数: 10, 受容確率: 0.8333333333333334\n",
      "近傍操作: insert, 使用回数: 11, 受容回数: 10, 受容確率: 0.9090909090909091\n",
      "近傍操作: segment_insert, 使用回数: 9, 受容回数: 7, 受容確率: 0.7777777777777778\n",
      "近傍操作: scramble, 使用回数: 8, 受容回数: 7, 受容確率: 0.875\n",
      "iter :70, best_score: 174.19167092744075, temperature: 99.20279440699443\n",
      "近傍操作: swap, 使用回数: 11, 受容回数: 11, 受容確率: 1.0\n",
      "近傍操作: insert, 使用回数: 10, 受容回数: 9, 受容確率: 0.9\n",
      "近傍操作: segment_insert, 使用回数: 9, 受容回数: 8, 受容確率: 0.8888888888888888\n",
      "近傍操作: scramble, 使用回数: 10, 受容回数: 10, 受容確率: 1.0\n",
      "iter :80, best_score: 174.19167092744075, temperature: 99.10359161258744\n",
      "近傍操作: swap, 使用回数: 9, 受容回数: 8, 受容確率: 0.8888888888888888\n",
      "近傍操作: insert, 使用回数: 8, 受容回数: 8, 受容確率: 1.0\n",
      "近傍操作: segment_insert, 使用回数: 11, 受容回数: 11, 受容確率: 1.0\n",
      "近傍操作: scramble, 使用回数: 12, 受容回数: 11, 受容確率: 0.9166666666666666\n",
      "iter :90, best_score: 174.19167092744075, temperature: 99.00448802097485\n",
      "近傍操作: swap, 使用回数: 12, 受容回数: 11, 受容確率: 0.9166666666666666\n",
      "近傍操作: insert, 使用回数: 11, 受容回数: 10, 受容確率: 0.9090909090909091\n",
      "近傍操作: segment_insert, 使用回数: 8, 受容回数: 8, 受容確率: 1.0\n",
      "近傍操作: scramble, 使用回数: 9, 受容回数: 9, 受容確率: 1.0\n",
      "Current Run Name: stellar-cloud-28\n",
      "---------焼きなまし処理終了---------\n",
      "Elapsed time: 101.60 sec\n",
      "best_score: 174.19167092744075\n"
     ]
    },
    {
     "data": {
      "image/png": "[encoded data removed]",
      "text/plain": [
       "<Figure size 800x500 with 2 Axes>"
      ]
     },
     "metadata": {},
     "output_type": "display_data"
    },
    {
     "name": "stdout",
     "output_type": "stream",
     "text": [
      "Best text: of and to in the as you that it we with from have not night season eggnog fruitcake milk toy wrapping wish paper puzzle star angel peppermint bow poinsettia greeting card candle chocolate wreath doll game snowglobe cookie fireplace candy dream believe wonder hope joy peace merry hohoho kaggle workshop\n",
      "Best score: 174.19167092744075\n"
     ]
    }
   ],
   "source": [
    "print(f\"Processing\")\n",
    "best_sequence, best_score = search_optimal_permutation(\n",
    "    scorer=scorer,\n",
    ")\n",
    "\n",
    "print(\"Best text:\", \" \".join(best_sequence))\n",
    "print(\"Best score:\", best_score)\n"
   ]
  },
  {
   "cell_type": "code",
   "execution_count": 15,
   "id": "461f0e43-0397-4f53-b3e6-90934401ba66",
   "metadata": {},
   "outputs": [
    {
     "data": {
      "text/html": [],
      "text/plain": [
       "<IPython.core.display.HTML object>"
      ]
     },
     "metadata": {},
     "output_type": "display_data"
    },
    {
     "data": {
      "text/html": [
       "<br>    <style><br>        .wandb-row {<br>            display: flex;<br>            flex-direction: row;<br>            flex-wrap: wrap;<br>            justify-content: flex-start;<br>            width: 100%;<br>        }<br>        .wandb-col {<br>            display: flex;<br>            flex-direction: column;<br>            flex-basis: 100%;<br>            flex: 1;<br>            padding: 10px;<br>        }<br>    </style><br><div class=\"wandb-row\"><div class=\"wandb-col\"><h3>Run history:</h3><br/><table class=\"wandb\"><tr><td>best_score</td><td>█▆▅▅▅▁▁▁▁▁</td></tr><tr><td>iteration</td><td>▁▂▃▃▄▅▆▆▇█</td></tr><tr><td>score</td><td>█▅▇▇▃▁▄▄▂▃</td></tr><tr><td>temperature</td><td>█▇▆▆▅▄▃▃▂▁</td></tr></table><br/></div><div class=\"wandb-col\"><h3>Run summary:</h3><br/><table class=\"wandb\"><tr><td>best_score</td><td>174.19167</td></tr><tr><td>best_text</td><td>of and to in the as ...</td></tr><tr><td>iteration</td><td>90</td></tr><tr><td>score</td><td>248.54527</td></tr><tr><td>temperature</td><td>99.00449</td></tr></table><br/></div></div>"
      ],
      "text/plain": [
       "<IPython.core.display.HTML object>"
      ]
     },
     "metadata": {},
     "output_type": "display_data"
    },
    {
     "data": {
      "text/html": [
       " View run <strong style=\"color:#cdcd00\">stellar-cloud-28</strong> at: <a href='https://wandb.ai/shun2741-ns-solutions/santa2024/runs/nqri6xag' target=\"_blank\">https://wandb.ai/shun2741-ns-solutions/santa2024/runs/nqri6xag</a><br> View project at: <a href='https://wandb.ai/shun2741-ns-solutions/santa2024' target=\"_blank\">https://wandb.ai/shun2741-ns-solutions/santa2024</a><br>Synced 5 W&B file(s), 0 media file(s), 2 artifact file(s) and 0 other file(s)"
      ],
      "text/plain": [
       "<IPython.core.display.HTML object>"
      ]
     },
     "metadata": {},
     "output_type": "display_data"
    },
    {
     "data": {
      "text/html": [
       "Find logs at: <code>./wandb/run-20250104_023415-nqri6xag/logs</code>"
      ],
      "text/plain": [
       "<IPython.core.display.HTML object>"
      ]
     },
     "metadata": {},
     "output_type": "display_data"
    }
   ],
   "source": [
    "wandb.finish()"
   ]
  },
  {
   "cell_type": "code",
   "execution_count": null,
   "id": "d2f41a6a-9b6d-402a-a185-23207766219f",
   "metadata": {},
   "outputs": [],
   "source": []
  }
 ],
 "metadata": {
  "kernelspec": {
   "display_name": "Python 3 (ipykernel)",
   "language": "python",
   "name": "python3"
  },
  "language_info": {
   "codemirror_mode": {
    "name": "ipython",
    "version": 3
   },
   "file_extension": ".py",
   "mimetype": "text/x-python",
   "name": "python",
   "nbconvert_exporter": "python",
   "pygments_lexer": "ipython3",
   "version": "3.12.8"
  }
 },
 "nbformat": 4,
 "nbformat_minor": 5
}
