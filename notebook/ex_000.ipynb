{
 "cells": [
  {
   "cell_type": "markdown",
   "id": "fe88e1c1",
   "metadata": {},
   "source": [
    "# とりあえず練習用で山登り法のNotebook"
   ]
  },
  {
   "cell_type": "markdown",
   "id": "5b9a260d",
   "metadata": {},
   "source": [
    "### パッケージ"
   ]
  },
  {
   "cell_type": "code",
   "execution_count": 1,
   "id": "bf539a6a",
   "metadata": {},
   "outputs": [],
   "source": [
    "ex_num = \"000\""
   ]
  },
  {
   "cell_type": "code",
   "execution_count": 2,
   "id": "b32508c5",
   "metadata": {},
   "outputs": [],
   "source": [
    "import os\n",
    "# 環境によって変更\n",
    "os.chdir('/home/jovyan/work/notebook')"
   ]
  },
  {
   "cell_type": "code",
   "execution_count": 3,
   "id": "6806febe",
   "metadata": {},
   "outputs": [],
   "source": [
    "import numpy as np\n",
    "import pandas as pd\n",
    "import os\n",
    "import time\n",
    "\n",
    "from tqdm.notebook import tqdm\n",
    "\n",
    "import random\n",
    "from typing import List, Callable\n",
    "import itertools, math\n",
    "\n",
    "from utils import PerplexityCalculator"
   ]
  },
  {
   "cell_type": "markdown",
   "id": "8ea9236c",
   "metadata": {},
   "source": [
    "### データ読み込み"
   ]
  },
  {
   "cell_type": "code",
   "execution_count": 4,
   "id": "6f960148",
   "metadata": {},
   "outputs": [],
   "source": [
    "df = pd.read_csv(\"../input/sample_submission.csv\")"
   ]
  },
  {
   "cell_type": "code",
   "execution_count": 5,
   "id": "ec832545",
   "metadata": {},
   "outputs": [],
   "source": [
    "sub_df = df.copy()\n",
    "sub_df[\"best_value\"] = 0"
   ]
  },
  {
   "cell_type": "code",
   "execution_count": 6,
   "id": "3d9e3929",
   "metadata": {},
   "outputs": [
    {
     "data": {
      "text/html": [
       "<div>\n",
       "<style scoped>\n",
       "    .dataframe tbody tr th:only-of-type {\n",
       "        vertical-align: middle;\n",
       "    }\n",
       "\n",
       "    .dataframe tbody tr th {\n",
       "        vertical-align: top;\n",
       "    }\n",
       "\n",
       "    .dataframe thead th {\n",
       "        text-align: right;\n",
       "    }\n",
       "</style>\n",
       "<table border=\"1\" class=\"dataframe\">\n",
       "  <thead>\n",
       "    <tr style=\"text-align: right;\">\n",
       "      <th></th>\n",
       "      <th>id</th>\n",
       "      <th>text</th>\n",
       "    </tr>\n",
       "  </thead>\n",
       "  <tbody>\n",
       "    <tr>\n",
       "      <th>0</th>\n",
       "      <td>0</td>\n",
       "      <td>advent chimney elf family fireplace gingerbrea...</td>\n",
       "    </tr>\n",
       "    <tr>\n",
       "      <th>1</th>\n",
       "      <td>1</td>\n",
       "      <td>advent chimney elf family fireplace gingerbrea...</td>\n",
       "    </tr>\n",
       "    <tr>\n",
       "      <th>2</th>\n",
       "      <td>2</td>\n",
       "      <td>yuletide decorations gifts cheer holiday carol...</td>\n",
       "    </tr>\n",
       "    <tr>\n",
       "      <th>3</th>\n",
       "      <td>3</td>\n",
       "      <td>yuletide decorations gifts cheer holiday carol...</td>\n",
       "    </tr>\n",
       "    <tr>\n",
       "      <th>4</th>\n",
       "      <td>4</td>\n",
       "      <td>hohoho candle poinsettia snowglobe peppermint ...</td>\n",
       "    </tr>\n",
       "    <tr>\n",
       "      <th>5</th>\n",
       "      <td>5</td>\n",
       "      <td>advent chimney elf family fireplace gingerbrea...</td>\n",
       "    </tr>\n",
       "  </tbody>\n",
       "</table>\n",
       "</div>"
      ],
      "text/plain": [
       "   id                                               text\n",
       "0   0  advent chimney elf family fireplace gingerbrea...\n",
       "1   1  advent chimney elf family fireplace gingerbrea...\n",
       "2   2  yuletide decorations gifts cheer holiday carol...\n",
       "3   3  yuletide decorations gifts cheer holiday carol...\n",
       "4   4  hohoho candle poinsettia snowglobe peppermint ...\n",
       "5   5  advent chimney elf family fireplace gingerbrea..."
      ]
     },
     "execution_count": 6,
     "metadata": {},
     "output_type": "execute_result"
    }
   ],
   "source": [
    "df"
   ]
  },
  {
   "cell_type": "markdown",
   "id": "2b855d16",
   "metadata": {},
   "source": [
    "### 関数"
   ]
  },
  {
   "cell_type": "code",
   "execution_count": 7,
   "id": "c0af6476",
   "metadata": {},
   "outputs": [],
   "source": [
    "# 山登り法の実装\n",
    "def hill_climbing(\n",
    "    scorer,\n",
    "    initial_sequence: List[str],\n",
    "    max_iterations: int = 1000,\n",
    "    BATCH_SIZE: int = 32\n",
    ") -> List[str]:\n",
    "    \n",
    "    \"\"\"山登り法で最適な順序を探索する。\"\"\"\n",
    "    current_sequence = initial_sequence\n",
    "    current_value = scorer.get_perplexity(\" \".join(current_sequence), batch_size=1)\n",
    "    \n",
    "    best_sequence = current_sequence\n",
    "    best_value = current_value\n",
    "    \n",
    "    # バッチ計算用のリスト\n",
    "    perms = []\n",
    "        \n",
    "    for iteration in tqdm(range(max_iterations)):\n",
    "        \n",
    "        # listの要素をランダムに1つ入れ替える\n",
    "        neighbor_sequence = best_sequence[:]\n",
    "        i, j = random.sample(range(len(best_sequence)), 2)\n",
    "        neighbor_sequence[i], neighbor_sequence[j] = neighbor_sequence[j], neighbor_sequence[i]\n",
    "        \n",
    "        # スペース区切りの文字列に変換\n",
    "        perms.append(\" \".join(neighbor_sequence))\n",
    "        \n",
    "        if len(perms) == BATCH_SIZE:\n",
    "            \n",
    "            # 評価値を計算\n",
    "            neighbor_values = scorer.get_perplexity(perms, batch_size=BATCH_SIZE)\n",
    "            \n",
    "            # 改善があれば更新\n",
    "            for value, sequence in zip(neighbor_values, perms):\n",
    "                if value < best_value:\n",
    "                    best_value = value\n",
    "                    best_sequence = sequence.split(\" \")\n",
    "                    print( f\"New best = {best_value} with '{best_sequence}'\" )\n",
    "    \n",
    "            perms = []\n",
    "\n",
    "    return best_sequence, best_value\n",
    "        \n"
   ]
  },
  {
   "cell_type": "code",
   "execution_count": 8,
   "id": "22fbd618",
   "metadata": {},
   "outputs": [],
   "source": [
    "def search_optimal_permutation(id: int, scorer, max_iterations: int = 1000, BATCH_SIZE=64):\n",
    "    \n",
    "    df = pd.read_csv(\"../input/sample_submission.csv\")\n",
    "    \n",
    "    # 文字列を単語に分割\n",
    "    words = df.loc[id,\"text\"].split()\n",
    "    \n",
    "    # 初期順序をシャッフル\n",
    "    initial_sequence = words\n",
    "    random.shuffle(initial_sequence)\n",
    "    \n",
    "    start = time.time()\n",
    "    \n",
    "    # 山登り法で最適な順序を探索\n",
    "    best_sequence, best_value = hill_climbing(\n",
    "        scorer=scorer,\n",
    "        initial_sequence=initial_sequence,\n",
    "        max_iterations=max_iterations,\n",
    "        BATCH_SIZE=BATCH_SIZE\n",
    "    )\n",
    "    \n",
    "    print(f\"{id}th sample: {best_sequence}\")\n",
    "    print(f\"Elapsed time: {time.time() - start:.2f} sec\")\n",
    "    print(f\"Best value: {best_value}\")\n",
    "    \n",
    "    return best_sequence, best_value\n"
   ]
  },
  {
   "cell_type": "code",
   "execution_count": 9,
   "id": "8d05bef9",
   "metadata": {},
   "outputs": [
    {
     "name": "stdout",
     "output_type": "stream",
     "text": [
      "cuda\n"
     ]
    },
    {
     "data": {
      "application/vnd.jupyter.widget-view+json": {
       "model_id": "113b38ebcea24f028ded03a9dc7e20de",
       "version_major": 2,
       "version_minor": 0
      },
      "text/plain": [
       "Loading checkpoint shards:   0%|          | 0/8 [00:00<?, ?it/s]"
      ]
     },
     "metadata": {},
     "output_type": "display_data"
    },
    {
     "name": "stderr",
     "output_type": "stream",
     "text": [
      "Some parameters are on the meta device because they were offloaded to the cpu.\n"
     ]
    },
    {
     "name": "stdout",
     "output_type": "stream",
     "text": [
      "Processing 0th sample\n"
     ]
    },
    {
     "data": {
      "application/vnd.jupyter.widget-view+json": {
       "model_id": "7765bd55f39d40aeb507bfd170763b00",
       "version_major": 2,
       "version_minor": 0
      },
      "text/plain": [
       "  0%|          | 0/512 [00:00<?, ?it/s]"
      ]
     },
     "metadata": {},
     "output_type": "display_data"
    },
    {
     "name": "stdout",
     "output_type": "stream",
     "text": [
      "New best = 1902.2282668101732 with '['doll', 'night', 'workshop', 'angel', 'it', 'to', 'with', 'candle', 'fireplace', 'have', 'season', 'bow', 'hope', 'as', 'candy', 'in', 'wish', 'star', 'eggnog', 'wonder', 'we', 'dream', 'joy', 'card', 'of', 'fruitcake', 'believe', 'the', 'peppermint', 'and', 'from', 'wreath', 'cookie', 'wrapping', 'hohoho', 'merry', 'milk', 'snowglobe', 'poinsettia', 'chocolate', 'paper', 'toy', 'game', 'kaggle', 'not', 'puzzle', 'you', 'peace', 'greeting', 'that']'\n",
      "New best = 1822.223066866023 with '['doll', 'night', 'workshop', 'angel', 'it', 'to', 'with', 'candle', 'fireplace', 'have', 'season', 'wish', 'hope', 'as', 'candy', 'in', 'bow', 'star', 'eggnog', 'wonder', 'toy', 'dream', 'joy', 'card', 'of', 'fruitcake', 'believe', 'the', 'peppermint', 'and', 'from', 'wreath', 'cookie', 'wrapping', 'hohoho', 'merry', 'milk', 'snowglobe', 'poinsettia', 'chocolate', 'paper', 'we', 'game', 'kaggle', 'not', 'puzzle', 'you', 'peace', 'greeting', 'that']'\n",
      "New best = 1759.2735550257069 with '['doll', 'night', 'workshop', 'bow', 'it', 'to', 'with', 'candle', 'fireplace', 'have', 'season', 'angel', 'hope', 'as', 'candy', 'in', 'wish', 'star', 'eggnog', 'wonder', 'toy', 'dream', 'joy', 'card', 'of', 'fruitcake', 'believe', 'the', 'peppermint', 'and', 'from', 'wreath', 'cookie', 'wrapping', 'hohoho', 'merry', 'milk', 'snowglobe', 'poinsettia', 'chocolate', 'paper', 'we', 'game', 'kaggle', 'not', 'puzzle', 'you', 'peace', 'greeting', 'that']'\n",
      "New best = 1731.9985466406467 with '['doll', 'night', 'workshop', 'angel', 'it', 'to', 'with', 'candle', 'the', 'have', 'season', 'bow', 'hope', 'as', 'candy', 'in', 'wish', 'star', 'eggnog', 'wonder', 'toy', 'dream', 'joy', 'card', 'of', 'fruitcake', 'believe', 'fireplace', 'peppermint', 'and', 'from', 'wreath', 'cookie', 'wrapping', 'hohoho', 'merry', 'milk', 'snowglobe', 'poinsettia', 'chocolate', 'paper', 'we', 'game', 'kaggle', 'not', 'puzzle', 'you', 'peace', 'greeting', 'that']'\n",
      "New best = 1665.646724298566 with '['doll', 'night', 'workshop', 'angel', 'it', 'to', 'with', 'candle', 'the', 'have', 'season', 'and', 'hope', 'as', 'candy', 'in', 'wish', 'star', 'eggnog', 'wonder', 'toy', 'dream', 'joy', 'card', 'of', 'fruitcake', 'believe', 'fireplace', 'peppermint', 'bow', 'from', 'wreath', 'cookie', 'wrapping', 'hohoho', 'merry', 'milk', 'snowglobe', 'poinsettia', 'chocolate', 'paper', 'we', 'game', 'kaggle', 'not', 'puzzle', 'you', 'peace', 'greeting', 'that']'\n",
      "New best = 1528.4833526913917 with '['doll', 'night', 'workshop', 'angel', 'it', 'to', 'with', 'candle', 'the', 'have', 'not', 'bow', 'hope', 'as', 'candy', 'in', 'wish', 'star', 'eggnog', 'wonder', 'toy', 'dream', 'joy', 'card', 'of', 'fruitcake', 'believe', 'fireplace', 'peppermint', 'and', 'from', 'wreath', 'cookie', 'wrapping', 'hohoho', 'merry', 'milk', 'snowglobe', 'poinsettia', 'chocolate', 'paper', 'we', 'game', 'kaggle', 'season', 'puzzle', 'you', 'peace', 'greeting', 'that']'\n",
      "New best = 1348.881824402271 with '['doll', 'night', 'workshop', 'angel', 'it', 'to', 'with', 'candle', 'the', 'have', 'not', 'bow', 'hope', 'as', 'candy', 'in', 'wish', 'star', 'of', 'wonder', 'toy', 'dream', 'joy', 'card', 'eggnog', 'fruitcake', 'believe', 'fireplace', 'peppermint', 'and', 'from', 'wreath', 'cookie', 'wrapping', 'hohoho', 'merry', 'milk', 'snowglobe', 'poinsettia', 'chocolate', 'paper', 'we', 'game', 'kaggle', 'season', 'puzzle', 'you', 'peace', 'greeting', 'that']'\n",
      "New best = 1100.9252592553103 with '['doll', 'the', 'workshop', 'angel', 'it', 'to', 'with', 'candle', 'night', 'have', 'not', 'bow', 'hope', 'as', 'candy', 'in', 'wish', 'star', 'eggnog', 'wonder', 'toy', 'dream', 'joy', 'card', 'of', 'fruitcake', 'believe', 'fireplace', 'peppermint', 'and', 'from', 'wreath', 'cookie', 'wrapping', 'hohoho', 'merry', 'milk', 'snowglobe', 'poinsettia', 'chocolate', 'paper', 'we', 'game', 'kaggle', 'season', 'puzzle', 'you', 'peace', 'greeting', 'that']'\n",
      "New best = 1079.6314371748051 with '['doll', 'the', 'workshop', 'angel', 'it', 'to', 'with', 'candle', 'night', 'have', 'not', 'bow', 'hope', 'as', 'candy', 'in', 'puzzle', 'star', 'eggnog', 'wonder', 'toy', 'dream', 'joy', 'card', 'of', 'fruitcake', 'believe', 'fireplace', 'peppermint', 'and', 'from', 'wreath', 'cookie', 'wrapping', 'hohoho', 'merry', 'milk', 'snowglobe', 'poinsettia', 'chocolate', 'paper', 'we', 'game', 'kaggle', 'season', 'wish', 'you', 'peace', 'greeting', 'that']'\n",
      "New best = 1067.053349944732 with '['doll', 'the', 'workshop', 'angel', 'it', 'to', 'with', 'candle', 'night', 'have', 'not', 'bow', 'hope', 'as', 'candy', 'in', 'dream', 'star', 'eggnog', 'wonder', 'toy', 'wish', 'joy', 'card', 'of', 'fruitcake', 'believe', 'fireplace', 'peppermint', 'and', 'from', 'wreath', 'cookie', 'wrapping', 'hohoho', 'merry', 'milk', 'snowglobe', 'poinsettia', 'chocolate', 'paper', 'we', 'game', 'kaggle', 'season', 'puzzle', 'you', 'peace', 'greeting', 'that']'\n",
      "New best = 949.0568955746459 with '['doll', 'the', 'season', 'angel', 'it', 'to', 'with', 'candle', 'night', 'have', 'not', 'bow', 'hope', 'as', 'candy', 'in', 'dream', 'star', 'eggnog', 'wonder', 'toy', 'wish', 'joy', 'card', 'of', 'fruitcake', 'believe', 'fireplace', 'peppermint', 'and', 'from', 'wreath', 'cookie', 'wrapping', 'hohoho', 'merry', 'milk', 'snowglobe', 'poinsettia', 'chocolate', 'paper', 'we', 'game', 'kaggle', 'workshop', 'puzzle', 'you', 'peace', 'greeting', 'that']'\n",
      "New best = 930.7004735480381 with '['doll', 'the', 'season', 'angel', 'it', 'to', 'with', 'candle', 'night', 'have', 'not', 'bow', 'hope', 'as', 'candy', 'in', 'dream', 'star', 'eggnog', 'wonder', 'toy', 'wish', 'joy', 'card', 'of', 'fruitcake', 'believe', 'fireplace', 'peppermint', 'and', 'from', 'wreath', 'cookie', 'wrapping', 'hohoho', 'merry', 'we', 'snowglobe', 'poinsettia', 'chocolate', 'paper', 'milk', 'game', 'kaggle', 'workshop', 'puzzle', 'you', 'peace', 'greeting', 'that']'\n",
      "New best = 905.5964161413509 with '['doll', 'the', 'season', 'angel', 'it', 'to', 'with', 'candle', 'night', 'have', 'not', 'bow', 'hope', 'as', 'candy', 'in', 'dream', 'star', 'eggnog', 'wonder', 'toy', 'wish', 'joy', 'card', 'of', 'fruitcake', 'believe', 'fireplace', 'peppermint', 'and', 'from', 'wreath', 'that', 'wrapping', 'hohoho', 'merry', 'we', 'snowglobe', 'poinsettia', 'chocolate', 'paper', 'milk', 'game', 'kaggle', 'workshop', 'puzzle', 'you', 'peace', 'greeting', 'cookie']'\n",
      "New best = 902.06583030563 with '['doll', 'the', 'season', 'angel', 'you', 'to', 'with', 'candle', 'night', 'have', 'not', 'bow', 'hope', 'as', 'candy', 'in', 'dream', 'star', 'eggnog', 'wonder', 'toy', 'wish', 'joy', 'card', 'of', 'fruitcake', 'believe', 'fireplace', 'peppermint', 'and', 'from', 'wreath', 'that', 'wrapping', 'hohoho', 'merry', 'we', 'snowglobe', 'poinsettia', 'chocolate', 'paper', 'milk', 'game', 'kaggle', 'workshop', 'puzzle', 'it', 'peace', 'greeting', 'cookie']'\n",
      "New best = 867.5082310343188 with '['doll', 'the', 'season', 'angel', 'it', 'to', 'with', 'candle', 'night', 'have', 'not', 'bow', 'hope', 'as', 'candy', 'in', 'dream', 'star', 'eggnog', 'wonder', 'toy', 'wish', 'joy', 'card', 'of', 'fruitcake', 'believe', 'fireplace', 'peppermint', 'and', 'from', 'wreath', 'that', 'wrapping', 'hohoho', 'merry', 'we', 'snowglobe', 'poinsettia', 'paper', 'chocolate', 'milk', 'game', 'kaggle', 'workshop', 'puzzle', 'you', 'peace', 'greeting', 'cookie']'\n",
      "New best = 831.021984515923 with '['doll', 'the', 'season', 'angel', 'it', 'to', 'with', 'candle', 'night', 'have', 'not', 'bow', 'hope', 'as', 'candy', 'in', 'dream', 'star', 'eggnog', 'card', 'toy', 'wish', 'joy', 'wonder', 'of', 'fruitcake', 'believe', 'fireplace', 'peppermint', 'and', 'from', 'wreath', 'that', 'wrapping', 'hohoho', 'merry', 'we', 'snowglobe', 'poinsettia', 'paper', 'chocolate', 'milk', 'game', 'kaggle', 'workshop', 'puzzle', 'you', 'peace', 'greeting', 'cookie']'\n",
      "New best = 827.7821368360857 with '['doll', 'the', 'season', 'angel', 'it', 'to', 'with', 'wish', 'night', 'have', 'not', 'bow', 'hope', 'as', 'candy', 'in', 'dream', 'star', 'eggnog', 'card', 'toy', 'candle', 'joy', 'wonder', 'of', 'fruitcake', 'believe', 'fireplace', 'peppermint', 'and', 'from', 'wreath', 'that', 'wrapping', 'hohoho', 'merry', 'we', 'snowglobe', 'poinsettia', 'paper', 'chocolate', 'milk', 'game', 'kaggle', 'workshop', 'puzzle', 'you', 'peace', 'greeting', 'cookie']'\n",
      "New best = 774.5976629728526 with '['doll', 'the', 'season', 'angel', 'it', 'to', 'with', 'candle', 'night', 'have', 'not', 'bow', 'hope', 'as', 'candy', 'in', 'dream', 'star', 'eggnog', 'card', 'we', 'wish', 'joy', 'wonder', 'of', 'fruitcake', 'believe', 'fireplace', 'peppermint', 'and', 'from', 'wreath', 'that', 'wrapping', 'hohoho', 'merry', 'toy', 'snowglobe', 'poinsettia', 'paper', 'chocolate', 'milk', 'game', 'kaggle', 'workshop', 'puzzle', 'you', 'peace', 'greeting', 'cookie']'\n",
      "New best = 739.1262534528506 with '['doll', 'the', 'season', 'angel', 'it', 'to', 'with', 'candle', 'night', 'have', 'not', 'from', 'hope', 'as', 'candy', 'in', 'dream', 'star', 'eggnog', 'card', 'we', 'wish', 'joy', 'wonder', 'of', 'fruitcake', 'believe', 'fireplace', 'peppermint', 'and', 'bow', 'wreath', 'that', 'wrapping', 'hohoho', 'merry', 'toy', 'snowglobe', 'poinsettia', 'paper', 'chocolate', 'milk', 'game', 'kaggle', 'workshop', 'puzzle', 'you', 'peace', 'greeting', 'cookie']'\n",
      "New best = 736.2446732757018 with '['doll', 'the', 'season', 'angel', 'it', 'to', 'with', 'candle', 'night', 'have', 'not', 'from', 'hope', 'as', 'candy', 'in', 'dream', 'star', 'eggnog', 'card', 'we', 'wish', 'joy', 'wonder', 'of', 'fruitcake', 'believe', 'fireplace', 'hohoho', 'and', 'bow', 'wreath', 'that', 'wrapping', 'peppermint', 'merry', 'toy', 'snowglobe', 'poinsettia', 'paper', 'chocolate', 'milk', 'game', 'kaggle', 'workshop', 'puzzle', 'you', 'peace', 'greeting', 'cookie']'\n",
      "New best = 722.0044122328612 with '['doll', 'the', 'season', 'angel', 'it', 'to', 'with', 'candle', 'night', 'have', 'not', 'from', 'hope', 'as', 'candy', 'in', 'dream', 'toy', 'eggnog', 'card', 'we', 'wish', 'joy', 'wonder', 'of', 'fruitcake', 'believe', 'fireplace', 'peppermint', 'and', 'bow', 'wreath', 'that', 'wrapping', 'hohoho', 'merry', 'star', 'snowglobe', 'poinsettia', 'paper', 'chocolate', 'milk', 'game', 'kaggle', 'workshop', 'puzzle', 'you', 'peace', 'greeting', 'cookie']'\n",
      "New best = 683.5800383228087 with '['doll', 'the', 'season', 'angel', 'it', 'to', 'with', 'star', 'night', 'have', 'not', 'from', 'hope', 'as', 'candy', 'in', 'dream', 'toy', 'eggnog', 'card', 'we', 'wish', 'joy', 'wonder', 'of', 'fruitcake', 'believe', 'fireplace', 'peppermint', 'and', 'bow', 'wreath', 'that', 'wrapping', 'hohoho', 'merry', 'candle', 'snowglobe', 'poinsettia', 'paper', 'chocolate', 'milk', 'game', 'kaggle', 'workshop', 'puzzle', 'you', 'peace', 'greeting', 'cookie']'\n",
      "New best = 642.1640174789829 with '['doll', 'the', 'season', 'angel', 'it', 'to', 'with', 'star', 'night', 'have', 'not', 'from', 'hope', 'as', 'of', 'in', 'dream', 'toy', 'eggnog', 'card', 'we', 'wish', 'joy', 'wonder', 'candy', 'fruitcake', 'believe', 'fireplace', 'peppermint', 'and', 'bow', 'wreath', 'that', 'wrapping', 'hohoho', 'merry', 'candle', 'snowglobe', 'poinsettia', 'paper', 'chocolate', 'milk', 'game', 'kaggle', 'workshop', 'puzzle', 'you', 'peace', 'greeting', 'cookie']'\n",
      "New best = 615.1554499417665 with '['doll', 'the', 'season', 'angel', 'it', 'to', 'with', 'star', 'night', 'have', 'not', 'from', 'hope', 'as', 'of', 'in', 'dream', 'toy', 'eggnog', 'card', 'we', 'wish', 'joy', 'wonder', 'candy', 'fruitcake', 'believe', 'fireplace', 'peppermint', 'and', 'cookie', 'wreath', 'that', 'wrapping', 'hohoho', 'merry', 'candle', 'snowglobe', 'poinsettia', 'paper', 'chocolate', 'milk', 'game', 'kaggle', 'workshop', 'puzzle', 'you', 'peace', 'greeting', 'bow']'\n",
      "New best = 610.368272250772 with '['doll', 'the', 'season', 'angel', 'it', 'to', 'with', 'not', 'night', 'have', 'star', 'from', 'hope', 'as', 'of', 'in', 'dream', 'toy', 'eggnog', 'card', 'we', 'wish', 'joy', 'wonder', 'candy', 'fruitcake', 'believe', 'fireplace', 'peppermint', 'and', 'cookie', 'wreath', 'that', 'wrapping', 'hohoho', 'merry', 'candle', 'snowglobe', 'poinsettia', 'paper', 'chocolate', 'milk', 'game', 'kaggle', 'workshop', 'puzzle', 'you', 'peace', 'greeting', 'bow']'\n",
      "New best = 596.2291064528091 with '['doll', 'the', 'season', 'angel', 'it', 'to', 'in', 'not', 'night', 'have', 'star', 'from', 'hope', 'as', 'of', 'with', 'dream', 'toy', 'eggnog', 'card', 'we', 'wish', 'joy', 'wonder', 'candy', 'fruitcake', 'believe', 'fireplace', 'peppermint', 'and', 'cookie', 'wreath', 'that', 'wrapping', 'hohoho', 'merry', 'candle', 'snowglobe', 'poinsettia', 'paper', 'chocolate', 'milk', 'game', 'kaggle', 'workshop', 'puzzle', 'you', 'peace', 'greeting', 'bow']'\n",
      "New best = 593.9046294555876 with '['doll', 'the', 'season', 'angel', 'it', 'to', 'in', 'not', 'night', 'have', 'star', 'from', 'hope', 'as', 'of', 'with', 'dream', 'toy', 'eggnog', 'card', 'we', 'wish', 'joy', 'wonder', 'candy', 'fruitcake', 'believe', 'fireplace', 'wreath', 'and', 'cookie', 'peppermint', 'that', 'wrapping', 'hohoho', 'merry', 'candle', 'snowglobe', 'poinsettia', 'paper', 'chocolate', 'milk', 'game', 'kaggle', 'workshop', 'puzzle', 'you', 'peace', 'greeting', 'bow']'\n",
      "New best = 568.9257878221232 with '['doll', 'the', 'season', 'angel', 'it', 'to', 'in', 'not', 'night', 'have', 'star', 'from', 'hope', 'as', 'of', 'with', 'dream', 'toy', 'eggnog', 'card', 'we', 'wish', 'joy', 'wonder', 'candy', 'fruitcake', 'believe', 'fireplace', 'peppermint', 'and', 'cookie', 'wreath', 'that', 'wrapping', 'hohoho', 'merry', 'paper', 'snowglobe', 'poinsettia', 'candle', 'chocolate', 'milk', 'game', 'kaggle', 'workshop', 'puzzle', 'you', 'peace', 'greeting', 'bow']'\n",
      "New best = 555.7466361419574 with '['doll', 'the', 'season', 'angel', 'it', 'to', 'in', 'not', 'night', 'have', 'star', 'from', 'hope', 'as', 'of', 'with', 'dream', 'toy', 'eggnog', 'card', 'we', 'wish', 'joy', 'wonder', 'candy', 'fruitcake', 'believe', 'fireplace', 'peppermint', 'and', 'cookie', 'wreath', 'that', 'wrapping', 'bow', 'merry', 'paper', 'snowglobe', 'poinsettia', 'candle', 'chocolate', 'milk', 'game', 'kaggle', 'workshop', 'puzzle', 'you', 'peace', 'greeting', 'hohoho']'\n",
      "New best = 547.1305831594982 with '['doll', 'the', 'season', 'angel', 'it', 'to', 'in', 'not', 'night', 'have', 'star', 'from', 'hope', 'as', 'of', 'with', 'dream', 'toy', 'eggnog', 'card', 'we', 'wish', 'joy', 'wonder', 'candy', 'fruitcake', 'believe', 'milk', 'peppermint', 'and', 'cookie', 'wreath', 'that', 'wrapping', 'hohoho', 'merry', 'paper', 'snowglobe', 'poinsettia', 'candle', 'chocolate', 'fireplace', 'game', 'kaggle', 'workshop', 'puzzle', 'you', 'peace', 'greeting', 'bow']'\n",
      "New best = 522.0756496064025 with '['doll', 'the', 'season', 'angel', 'it', 'to', 'in', 'not', 'night', 'have', 'star', 'from', 'hope', 'as', 'of', 'with', 'dream', 'toy', 'eggnog', 'card', 'we', 'wish', 'joy', 'wonder', 'candy', 'fruitcake', 'believe', 'milk', 'peppermint', 'and', 'cookie', 'wreath', 'that', 'wrapping', 'hohoho', 'merry', 'paper', 'chocolate', 'poinsettia', 'candle', 'snowglobe', 'fireplace', 'game', 'kaggle', 'workshop', 'puzzle', 'you', 'peace', 'greeting', 'bow']'\n",
      "New best = 518.012824668342 with '['doll', 'the', 'season', 'angel', 'it', 'to', 'in', 'not', 'night', 'have', 'star', 'from', 'hope', 'as', 'of', 'with', 'dream', 'toy', 'eggnog', 'card', 'we', 'wish', 'joy', 'wonder', 'candy', 'fruitcake', 'believe', 'milk', 'peppermint', 'and', 'cookie', 'wreath', 'that', 'wrapping', 'bow', 'merry', 'paper', 'chocolate', 'poinsettia', 'candle', 'snowglobe', 'fireplace', 'game', 'kaggle', 'workshop', 'puzzle', 'you', 'peace', 'greeting', 'hohoho']'\n",
      "4th sample: ['doll', 'the', 'season', 'angel', 'it', 'to', 'in', 'not', 'night', 'have', 'star', 'from', 'hope', 'as', 'of', 'with', 'dream', 'toy', 'eggnog', 'card', 'we', 'wish', 'joy', 'wonder', 'candy', 'fruitcake', 'believe', 'milk', 'peppermint', 'and', 'cookie', 'wreath', 'that', 'wrapping', 'bow', 'merry', 'paper', 'chocolate', 'poinsettia', 'candle', 'snowglobe', 'fireplace', 'game', 'kaggle', 'workshop', 'puzzle', 'you', 'peace', 'greeting', 'hohoho']\n",
      "Elapsed time: 51.48 sec\n",
      "Best value: 518.012824668342\n",
      "Processing 1th sample\n"
     ]
    },
    {
     "name": "stderr",
     "output_type": "stream",
     "text": [
      "/tmp/ipykernel_191/1986772688.py:14: FutureWarning: Setting an item of incompatible dtype is deprecated and will raise an error in a future version of pandas. Value '518.012824668342' has dtype incompatible with int64, please explicitly cast to a compatible dtype first.\n",
      "  sub_df.loc[i, \"best_value\"] = best_value\n"
     ]
    },
    {
     "data": {
      "application/vnd.jupyter.widget-view+json": {
       "model_id": "7dd15ad3fbd84968b4e7ac00c92fd0aa",
       "version_major": 2,
       "version_minor": 0
      },
      "text/plain": [
       "  0%|          | 0/512 [00:00<?, ?it/s]"
      ]
     },
     "metadata": {},
     "output_type": "display_data"
    },
    {
     "name": "stdout",
     "output_type": "stream",
     "text": [
      "New best = 1652.6845586534514 with '['bow', 'of', 'candy', 'poinsettia', 'from', 'fireplace', 'you', 'greeting', 'and', 'that', 'hope', 'hohoho', 'wonder', 'with', 'paper', 'not', 'doll', 'wreath', 'eggnog', 'kaggle', 'night', 'fruitcake', 'the', 'game', 'star', 'peppermint', 'angel', 'snowglobe', 'chocolate', 'workshop', 'in', 'joy', 'dream', 'have', 'to', 'card', 'it', 'we', 'candle', 'wrapping', 'wish', 'milk', 'as', 'puzzle', 'toy', 'season', 'cookie', 'believe', 'peace', 'merry']'\n",
      "New best = 1633.4302003356393 with '['bow', 'of', 'candy', 'poinsettia', 'from', 'fireplace', 'you', 'greeting', 'and', 'that', 'hope', 'hohoho', 'wonder', 'with', 'paper', 'not', 'doll', 'wreath', 'eggnog', 'kaggle', 'night', 'fruitcake', 'milk', 'game', 'star', 'peppermint', 'angel', 'snowglobe', 'chocolate', 'workshop', 'in', 'joy', 'dream', 'have', 'to', 'card', 'it', 'we', 'candle', 'wrapping', 'wish', 'the', 'as', 'puzzle', 'toy', 'season', 'cookie', 'believe', 'peace', 'merry']'\n",
      "New best = 1608.1062123274673 with '['bow', 'of', 'candy', 'poinsettia', 'from', 'fireplace', 'you', 'greeting', 'and', 'that', 'hope', 'hohoho', 'wonder', 'with', 'paper', 'not', 'doll', 'wreath', 'eggnog', 'kaggle', 'night', 'fruitcake', 'the', 'game', 'star', 'peppermint', 'angel', 'snowglobe', 'chocolate', 'workshop', 'in', 'joy', 'merry', 'have', 'to', 'card', 'it', 'we', 'candle', 'wrapping', 'wish', 'milk', 'as', 'puzzle', 'toy', 'season', 'cookie', 'believe', 'peace', 'dream']'\n",
      "New best = 1577.0026226114692 with '['bow', 'of', 'candy', 'poinsettia', 'from', 'fireplace', 'you', 'greeting', 'and', 'that', 'hope', 'hohoho', 'wonder', 'with', 'paper', 'not', 'doll', 'wreath', 'eggnog', 'kaggle', 'night', 'fruitcake', 'the', 'puzzle', 'star', 'peppermint', 'angel', 'snowglobe', 'chocolate', 'workshop', 'in', 'joy', 'merry', 'have', 'to', 'card', 'it', 'we', 'candle', 'wrapping', 'wish', 'milk', 'as', 'game', 'toy', 'season', 'cookie', 'believe', 'peace', 'dream']'\n",
      "New best = 1504.7864147467562 with '['bow', 'of', 'candy', 'poinsettia', 'fruitcake', 'fireplace', 'you', 'greeting', 'and', 'that', 'hope', 'hohoho', 'wonder', 'with', 'paper', 'not', 'doll', 'wreath', 'eggnog', 'kaggle', 'night', 'from', 'the', 'game', 'star', 'peppermint', 'angel', 'snowglobe', 'chocolate', 'workshop', 'in', 'joy', 'merry', 'have', 'to', 'card', 'it', 'we', 'candle', 'wrapping', 'wish', 'milk', 'as', 'puzzle', 'toy', 'season', 'cookie', 'believe', 'peace', 'dream']'\n",
      "New best = 1430.2792730137226 with '['bow', 'of', 'candy', 'poinsettia', 'fruitcake', 'fireplace', 'you', 'greeting', 'and', 'that', 'hope', 'hohoho', 'cookie', 'with', 'paper', 'not', 'doll', 'wreath', 'eggnog', 'kaggle', 'night', 'from', 'the', 'game', 'star', 'peppermint', 'angel', 'snowglobe', 'chocolate', 'workshop', 'in', 'joy', 'merry', 'have', 'to', 'card', 'it', 'we', 'candle', 'wrapping', 'wish', 'milk', 'as', 'puzzle', 'toy', 'season', 'wonder', 'believe', 'peace', 'dream']'\n",
      "New best = 1408.1048482046956 with '['bow', 'of', 'candy', 'poinsettia', 'fruitcake', 'fireplace', 'you', 'greeting', 'and', 'that', 'season', 'hohoho', 'cookie', 'with', 'paper', 'not', 'doll', 'wreath', 'eggnog', 'kaggle', 'night', 'from', 'the', 'game', 'star', 'peppermint', 'angel', 'snowglobe', 'chocolate', 'workshop', 'in', 'joy', 'merry', 'have', 'to', 'card', 'it', 'we', 'candle', 'wrapping', 'wish', 'milk', 'as', 'puzzle', 'toy', 'hope', 'wonder', 'believe', 'peace', 'dream']'\n",
      "New best = 1370.1236222908349 with '['bow', 'of', 'candy', 'poinsettia', 'fruitcake', 'fireplace', 'you', 'the', 'and', 'that', 'hope', 'hohoho', 'cookie', 'with', 'paper', 'not', 'doll', 'wreath', 'eggnog', 'kaggle', 'night', 'from', 'greeting', 'game', 'star', 'peppermint', 'angel', 'snowglobe', 'chocolate', 'workshop', 'in', 'joy', 'merry', 'have', 'to', 'card', 'it', 'we', 'candle', 'wrapping', 'wish', 'milk', 'as', 'puzzle', 'toy', 'season', 'wonder', 'believe', 'peace', 'dream']'\n",
      "New best = 1354.1611985934896 with '['bow', 'of', 'candy', 'poinsettia', 'fruitcake', 'fireplace', 'you', 'the', 'and', 'that', 'hope', 'hohoho', 'cookie', 'with', 'paper', 'not', 'doll', 'wreath', 'eggnog', 'kaggle', 'night', 'puzzle', 'greeting', 'game', 'star', 'peppermint', 'angel', 'snowglobe', 'chocolate', 'workshop', 'in', 'joy', 'merry', 'have', 'to', 'card', 'it', 'we', 'candle', 'wrapping', 'wish', 'milk', 'as', 'from', 'toy', 'season', 'wonder', 'believe', 'peace', 'dream']'\n",
      "New best = 1292.1496424947338 with '['bow', 'of', 'candy', 'poinsettia', 'fruitcake', 'fireplace', 'you', 'the', 'and', 'that', 'hope', 'hohoho', 'cookie', 'with', 'paper', 'not', 'doll', 'peace', 'eggnog', 'kaggle', 'night', 'puzzle', 'greeting', 'game', 'star', 'peppermint', 'angel', 'snowglobe', 'chocolate', 'workshop', 'in', 'joy', 'merry', 'have', 'to', 'card', 'it', 'we', 'candle', 'wrapping', 'wish', 'milk', 'as', 'from', 'toy', 'season', 'wonder', 'believe', 'wreath', 'dream']'\n",
      "New best = 1218.613175800609 with '['bow', 'of', 'candy', 'poinsettia', 'fruitcake', 'fireplace', 'you', 'the', 'and', 'that', 'hope', 'as', 'cookie', 'with', 'paper', 'not', 'doll', 'wreath', 'eggnog', 'kaggle', 'night', 'puzzle', 'greeting', 'game', 'star', 'peppermint', 'angel', 'snowglobe', 'chocolate', 'workshop', 'in', 'joy', 'merry', 'have', 'to', 'card', 'it', 'we', 'candle', 'wrapping', 'wish', 'milk', 'hohoho', 'from', 'toy', 'season', 'wonder', 'believe', 'peace', 'dream']'\n",
      "New best = 1171.9288381599856 with '['bow', 'of', 'candy', 'poinsettia', 'fruitcake', 'fireplace', 'you', 'the', 'and', 'that', 'hope', 'as', 'cookie', 'puzzle', 'paper', 'not', 'doll', 'wreath', 'eggnog', 'kaggle', 'night', 'with', 'greeting', 'game', 'star', 'peppermint', 'angel', 'snowglobe', 'chocolate', 'workshop', 'in', 'joy', 'merry', 'have', 'to', 'card', 'it', 'we', 'candle', 'wrapping', 'wish', 'milk', 'hohoho', 'from', 'toy', 'season', 'wonder', 'believe', 'peace', 'dream']'\n",
      "New best = 1162.8088155868234 with '['bow', 'of', 'candy', 'poinsettia', 'fruitcake', 'fireplace', 'you', 'the', 'and', 'that', 'hope', 'as', 'cookie', 'with', 'paper', 'not', 'doll', 'game', 'eggnog', 'kaggle', 'night', 'puzzle', 'greeting', 'wreath', 'star', 'peppermint', 'angel', 'snowglobe', 'chocolate', 'workshop', 'in', 'joy', 'merry', 'have', 'to', 'card', 'it', 'we', 'candle', 'wrapping', 'wish', 'milk', 'hohoho', 'from', 'toy', 'season', 'wonder', 'believe', 'peace', 'dream']'\n",
      "New best = 1083.8569951461084 with '['bow', 'of', 'candy', 'poinsettia', 'fruitcake', 'fireplace', 'you', 'the', 'and', 'that', 'hope', 'as', 'cookie', 'with', 'paper', 'not', 'doll', 'wreath', 'eggnog', 'milk', 'night', 'puzzle', 'greeting', 'game', 'star', 'peppermint', 'angel', 'snowglobe', 'chocolate', 'workshop', 'in', 'joy', 'merry', 'have', 'to', 'card', 'it', 'we', 'candle', 'wrapping', 'wish', 'kaggle', 'hohoho', 'from', 'toy', 'season', 'wonder', 'believe', 'peace', 'dream']'\n",
      "New best = 1050.510221115274 with '['bow', 'of', 'candle', 'poinsettia', 'fruitcake', 'fireplace', 'you', 'the', 'and', 'that', 'hope', 'as', 'cookie', 'with', 'paper', 'not', 'doll', 'wreath', 'eggnog', 'milk', 'night', 'puzzle', 'greeting', 'game', 'star', 'peppermint', 'angel', 'snowglobe', 'chocolate', 'workshop', 'in', 'joy', 'merry', 'have', 'to', 'card', 'it', 'we', 'candy', 'wrapping', 'wish', 'kaggle', 'hohoho', 'from', 'toy', 'season', 'wonder', 'believe', 'peace', 'dream']'\n",
      "New best = 990.7254970041143 with '['bow', 'of', 'candle', 'poinsettia', 'fruitcake', 'fireplace', 'you', 'the', 'and', 'that', 'hope', 'as', 'cookie', 'we', 'paper', 'not', 'doll', 'wreath', 'eggnog', 'milk', 'night', 'puzzle', 'greeting', 'game', 'star', 'peppermint', 'angel', 'snowglobe', 'chocolate', 'workshop', 'in', 'joy', 'merry', 'have', 'to', 'card', 'it', 'with', 'candy', 'wrapping', 'wish', 'kaggle', 'hohoho', 'from', 'toy', 'season', 'wonder', 'believe', 'peace', 'dream']'\n",
      "New best = 983.0156100192773 with '['bow', 'of', 'candle', 'poinsettia', 'fruitcake', 'fireplace', 'you', 'the', 'and', 'that', 'hope', 'as', 'in', 'we', 'paper', 'not', 'doll', 'wreath', 'eggnog', 'milk', 'night', 'puzzle', 'greeting', 'game', 'star', 'peppermint', 'angel', 'snowglobe', 'chocolate', 'workshop', 'cookie', 'joy', 'merry', 'have', 'to', 'card', 'it', 'with', 'candy', 'wrapping', 'wish', 'kaggle', 'hohoho', 'from', 'toy', 'season', 'wonder', 'believe', 'peace', 'dream']'\n",
      "New best = 979.1831953507051 with '['bow', 'of', 'candle', 'poinsettia', 'fruitcake', 'fireplace', 'you', 'the', 'and', 'that', 'hope', 'as', 'cookie', 'we', 'paper', 'not', 'doll', 'wreath', 'eggnog', 'milk', 'night', 'puzzle', 'greeting', 'game', 'star', 'in', 'angel', 'snowglobe', 'chocolate', 'workshop', 'peppermint', 'joy', 'merry', 'have', 'to', 'card', 'it', 'with', 'candy', 'wrapping', 'wish', 'kaggle', 'hohoho', 'from', 'toy', 'season', 'wonder', 'believe', 'peace', 'dream']'\n",
      "New best = 949.0568955746459 with '['bow', 'of', 'candle', 'poinsettia', 'fruitcake', 'fireplace', 'you', 'the', 'and', 'that', 'hope', 'as', 'cookie', 'we', 'paper', 'not', 'doll', 'wreath', 'eggnog', 'milk', 'night', 'puzzle', 'greeting', 'angel', 'star', 'in', 'game', 'snowglobe', 'chocolate', 'workshop', 'peppermint', 'joy', 'merry', 'have', 'to', 'card', 'it', 'with', 'candy', 'wrapping', 'wish', 'kaggle', 'hohoho', 'from', 'toy', 'season', 'wonder', 'believe', 'peace', 'dream']'\n",
      "New best = 941.6712762187423 with '['bow', 'of', 'candle', 'poinsettia', 'fruitcake', 'fireplace', 'you', 'the', 'and', 'that', 'hope', 'as', 'cookie', 'we', 'paper', 'not', 'doll', 'wreath', 'angel', 'milk', 'night', 'puzzle', 'greeting', 'game', 'star', 'in', 'eggnog', 'snowglobe', 'chocolate', 'workshop', 'peppermint', 'joy', 'merry', 'have', 'to', 'card', 'it', 'with', 'candy', 'wrapping', 'wish', 'kaggle', 'hohoho', 'from', 'toy', 'season', 'wonder', 'believe', 'peace', 'dream']'\n",
      "New best = 934.3431322086527 with '['bow', 'of', 'candle', 'poinsettia', 'fruitcake', 'fireplace', 'you', 'the', 'and', 'that', 'hope', 'as', 'cookie', 'we', 'paper', 'not', 'doll', 'wreath', 'angel', 'milk', 'night', 'puzzle', 'greeting', 'game', 'star', 'in', 'eggnog', 'snowglobe', 'chocolate', 'from', 'peppermint', 'joy', 'merry', 'have', 'to', 'card', 'it', 'with', 'candy', 'wrapping', 'wish', 'kaggle', 'hohoho', 'workshop', 'toy', 'season', 'wonder', 'believe', 'peace', 'dream']'\n",
      "New best = 923.4577050016666 with '['bow', 'of', 'candle', 'poinsettia', 'fruitcake', 'fireplace', 'you', 'the', 'and', 'that', 'hope', 'as', 'cookie', 'we', 'paper', 'not', 'doll', 'wreath', 'angel', 'milk', 'night', 'puzzle', 'greeting', 'game', 'star', 'in', 'eggnog', 'snowglobe', 'chocolate', 'workshop', 'peppermint', 'joy', 'merry', 'have', 'to', 'it', 'card', 'with', 'candy', 'wrapping', 'wish', 'kaggle', 'hohoho', 'from', 'toy', 'season', 'wonder', 'believe', 'peace', 'dream']'\n",
      "New best = 867.5082310343188 with '['bow', 'of', 'candle', 'poinsettia', 'fruitcake', 'fireplace', 'you', 'the', 'and', 'that', 'kaggle', 'as', 'cookie', 'we', 'paper', 'not', 'doll', 'wreath', 'angel', 'milk', 'night', 'puzzle', 'greeting', 'game', 'star', 'in', 'eggnog', 'snowglobe', 'chocolate', 'workshop', 'peppermint', 'joy', 'merry', 'have', 'to', 'it', 'card', 'with', 'candy', 'wrapping', 'wish', 'hope', 'hohoho', 'from', 'toy', 'season', 'wonder', 'believe', 'peace', 'dream']'\n",
      "New best = 768.5696961361268 with '['bow', 'of', 'candle', 'poinsettia', 'fruitcake', 'fireplace', 'you', 'the', 'and', 'that', 'from', 'as', 'cookie', 'we', 'paper', 'not', 'doll', 'wreath', 'angel', 'milk', 'night', 'puzzle', 'greeting', 'game', 'star', 'in', 'eggnog', 'snowglobe', 'chocolate', 'workshop', 'peppermint', 'joy', 'merry', 'have', 'to', 'it', 'card', 'with', 'candy', 'wrapping', 'wish', 'hope', 'hohoho', 'kaggle', 'toy', 'season', 'wonder', 'believe', 'peace', 'dream']'\n",
      "New best = 765.5733268544279 with '['bow', 'of', 'candle', 'poinsettia', 'fruitcake', 'fireplace', 'you', 'the', 'and', 'that', 'from', 'as', 'cookie', 'we', 'paper', 'not', 'doll', 'wreath', 'in', 'milk', 'night', 'puzzle', 'greeting', 'game', 'star', 'angel', 'eggnog', 'snowglobe', 'chocolate', 'workshop', 'peppermint', 'joy', 'merry', 'have', 'to', 'it', 'card', 'with', 'candy', 'wrapping', 'wish', 'hope', 'hohoho', 'kaggle', 'toy', 'season', 'wonder', 'believe', 'peace', 'dream']'\n",
      "New best = 667.7449237904252 with '['wreath', 'of', 'candle', 'poinsettia', 'fruitcake', 'fireplace', 'you', 'the', 'and', 'that', 'from', 'as', 'cookie', 'we', 'paper', 'not', 'doll', 'bow', 'angel', 'milk', 'night', 'puzzle', 'greeting', 'game', 'star', 'in', 'eggnog', 'snowglobe', 'chocolate', 'workshop', 'peppermint', 'joy', 'merry', 'have', 'to', 'it', 'card', 'with', 'candy', 'wrapping', 'wish', 'hope', 'hohoho', 'kaggle', 'toy', 'season', 'wonder', 'believe', 'peace', 'dream']'\n",
      "New best = 654.829567836133 with '['wreath', 'of', 'candle', 'poinsettia', 'fruitcake', 'fireplace', 'kaggle', 'the', 'and', 'that', 'from', 'as', 'cookie', 'we', 'paper', 'not', 'doll', 'bow', 'angel', 'milk', 'night', 'puzzle', 'greeting', 'game', 'star', 'in', 'eggnog', 'snowglobe', 'chocolate', 'workshop', 'peppermint', 'joy', 'merry', 'have', 'to', 'it', 'card', 'with', 'candy', 'wrapping', 'wish', 'hope', 'hohoho', 'you', 'toy', 'season', 'wonder', 'believe', 'peace', 'dream']'\n",
      "New best = 649.7336437102142 with '['wreath', 'of', 'candle', 'poinsettia', 'fruitcake', 'fireplace', 'kaggle', 'the', 'and', 'that', 'from', 'as', 'cookie', 'we', 'paper', 'not', 'doll', 'bow', 'angel', 'milk', 'night', 'puzzle', 'greeting', 'game', 'star', 'in', 'eggnog', 'snowglobe', 'chocolate', 'workshop', 'peppermint', 'joy', 'merry', 'have', 'to', 'it', 'card', 'with', 'candy', 'wrapping', 'wish', 'hope', 'hohoho', 'you', 'toy', 'season', 'believe', 'wonder', 'peace', 'dream']'\n",
      "New best = 647.2005722905537 with '['wreath', 'of', 'candle', 'poinsettia', 'fruitcake', 'fireplace', 'kaggle', 'the', 'and', 'that', 'from', 'as', 'cookie', 'we', 'paper', 'not', 'doll', 'star', 'angel', 'milk', 'night', 'puzzle', 'greeting', 'game', 'bow', 'in', 'eggnog', 'snowglobe', 'chocolate', 'workshop', 'peppermint', 'joy', 'merry', 'have', 'to', 'it', 'card', 'with', 'candy', 'wrapping', 'wish', 'hope', 'hohoho', 'you', 'toy', 'season', 'wonder', 'believe', 'peace', 'dream']'\n",
      "New best = 634.6825800645618 with '['wreath', 'we', 'candle', 'poinsettia', 'fruitcake', 'fireplace', 'kaggle', 'the', 'and', 'that', 'from', 'as', 'cookie', 'of', 'paper', 'not', 'doll', 'star', 'angel', 'milk', 'night', 'puzzle', 'greeting', 'game', 'bow', 'in', 'eggnog', 'snowglobe', 'chocolate', 'workshop', 'peppermint', 'joy', 'merry', 'have', 'to', 'it', 'card', 'with', 'candy', 'wrapping', 'wish', 'hope', 'hohoho', 'you', 'toy', 'season', 'wonder', 'believe', 'peace', 'dream']'\n",
      "New best = 629.7434410413515 with '['wreath', 'we', 'candle', 'poinsettia', 'fruitcake', 'fireplace', 'kaggle', 'the', 'and', 'that', 'from', 'as', 'cookie', 'of', 'paper', 'not', 'doll', 'star', 'angel', 'milk', 'night', 'puzzle', 'greeting', 'game', 'bow', 'in', 'eggnog', 'snowglobe', 'chocolate', 'workshop', 'peppermint', 'candy', 'merry', 'have', 'to', 'it', 'card', 'with', 'joy', 'wrapping', 'wish', 'hope', 'hohoho', 'you', 'toy', 'season', 'wonder', 'believe', 'peace', 'dream']'\n",
      "New best = 624.8427387029609 with '['wreath', 'we', 'candle', 'poinsettia', 'fruitcake', 'fireplace', 'kaggle', 'the', 'and', 'that', 'from', 'as', 'cookie', 'of', 'paper', 'not', 'doll', 'star', 'angel', 'milk', 'night', 'puzzle', 'greeting', 'game', 'bow', 'in', 'eggnog', 'snowglobe', 'chocolate', 'workshop', 'peppermint', 'joy', 'merry', 'have', 'to', 'it', 'card', 'with', 'candy', 'wrapping', 'wish', 'hope', 'hohoho', 'you', 'toy', 'season', 'wonder', 'believe', 'dream', 'peace']'\n",
      "New best = 610.368272250772 with '['wreath', 'we', 'candle', 'poinsettia', 'fruitcake', 'fireplace', 'kaggle', 'the', 'and', 'that', 'from', 'as', 'cookie', 'of', 'paper', 'not', 'doll', 'star', 'angel', 'milk', 'night', 'puzzle', 'greeting', 'game', 'bow', 'in', 'eggnog', 'snowglobe', 'chocolate', 'workshop', 'peppermint', 'joy', 'toy', 'have', 'to', 'it', 'card', 'with', 'candy', 'wrapping', 'wish', 'hope', 'hohoho', 'you', 'merry', 'season', 'wonder', 'believe', 'dream', 'peace']'\n",
      "New best = 600.905389292032 with '['wreath', 'we', 'candle', 'poinsettia', 'fruitcake', 'fireplace', 'kaggle', 'the', 'and', 'that', 'from', 'as', 'cookie', 'of', 'paper', 'not', 'doll', 'star', 'angel', 'milk', 'night', 'puzzle', 'greeting', 'game', 'toy', 'in', 'eggnog', 'snowglobe', 'chocolate', 'workshop', 'peppermint', 'joy', 'merry', 'have', 'to', 'it', 'card', 'with', 'candy', 'wrapping', 'wish', 'hope', 'hohoho', 'you', 'bow', 'season', 'wonder', 'believe', 'dream', 'peace']'\n",
      "New best = 593.9046294555876 with '['wreath', 'we', 'bow', 'poinsettia', 'fruitcake', 'fireplace', 'kaggle', 'the', 'and', 'that', 'from', 'as', 'cookie', 'of', 'paper', 'not', 'doll', 'star', 'angel', 'milk', 'night', 'puzzle', 'greeting', 'game', 'toy', 'in', 'eggnog', 'snowglobe', 'chocolate', 'workshop', 'peppermint', 'joy', 'merry', 'have', 'to', 'it', 'card', 'with', 'candy', 'wrapping', 'wish', 'hope', 'hohoho', 'you', 'candle', 'season', 'wonder', 'believe', 'dream', 'peace']'\n",
      "New best = 577.8850653361966 with '['wreath', 'we', 'bow', 'poinsettia', 'fruitcake', 'fireplace', 'kaggle', 'the', 'and', 'that', 'from', 'as', 'cookie', 'of', 'paper', 'not', 'doll', 'star', 'angel', 'snowglobe', 'night', 'puzzle', 'greeting', 'game', 'toy', 'in', 'eggnog', 'milk', 'chocolate', 'workshop', 'peppermint', 'joy', 'merry', 'have', 'to', 'it', 'card', 'with', 'candy', 'wrapping', 'wish', 'hope', 'hohoho', 'you', 'candle', 'season', 'wonder', 'believe', 'dream', 'peace']'\n",
      "New best = 528.2297121579952 with '['wreath', 'we', 'bow', 'poinsettia', 'fruitcake', 'fireplace', 'kaggle', 'the', 'and', 'that', 'from', 'as', 'cookie', 'of', 'paper', 'not', 'doll', 'star', 'angel', 'snowglobe', 'toy', 'puzzle', 'greeting', 'game', 'night', 'in', 'eggnog', 'milk', 'chocolate', 'workshop', 'peppermint', 'joy', 'merry', 'have', 'to', 'it', 'card', 'with', 'candy', 'wrapping', 'wish', 'hope', 'hohoho', 'you', 'candle', 'season', 'wonder', 'believe', 'dream', 'peace']'\n",
      "New best = 498.16806499462353 with '['wreath', 'we', 'bow', 'poinsettia', 'fruitcake', 'fireplace', 'kaggle', 'the', 'and', 'that', 'from', 'as', 'cookie', 'of', 'paper', 'not', 'doll', 'star', 'angel', 'snowglobe', 'toy', 'in', 'greeting', 'game', 'night', 'puzzle', 'eggnog', 'milk', 'chocolate', 'workshop', 'peppermint', 'joy', 'merry', 'have', 'to', 'it', 'card', 'with', 'candy', 'wrapping', 'wish', 'hope', 'hohoho', 'you', 'candle', 'season', 'wonder', 'believe', 'dream', 'peace']'\n",
      "New best = 486.6280141983472 with '['wreath', 'we', 'bow', 'poinsettia', 'fruitcake', 'fireplace', 'kaggle', 'the', 'to', 'that', 'from', 'as', 'cookie', 'of', 'paper', 'not', 'doll', 'star', 'angel', 'snowglobe', 'toy', 'in', 'greeting', 'game', 'night', 'puzzle', 'eggnog', 'milk', 'chocolate', 'workshop', 'peppermint', 'joy', 'merry', 'have', 'and', 'it', 'card', 'with', 'candy', 'wrapping', 'wish', 'hope', 'hohoho', 'you', 'candle', 'season', 'wonder', 'believe', 'dream', 'peace']'\n",
      "New best = 484.7308313654974 with '['wreath', 'candy', 'bow', 'poinsettia', 'fruitcake', 'fireplace', 'kaggle', 'the', 'and', 'that', 'from', 'as', 'cookie', 'of', 'paper', 'not', 'doll', 'star', 'angel', 'snowglobe', 'toy', 'in', 'greeting', 'game', 'night', 'puzzle', 'eggnog', 'milk', 'chocolate', 'workshop', 'peppermint', 'joy', 'merry', 'have', 'to', 'it', 'card', 'with', 'we', 'wrapping', 'wish', 'hope', 'hohoho', 'you', 'candle', 'season', 'wonder', 'believe', 'dream', 'peace']'\n",
      "New best = 482.8410449475606 with '['wreath', 'candy', 'bow', 'poinsettia', 'fruitcake', 'fireplace', 'kaggle', 'the', 'and', 'that', 'from', 'as', 'cookie', 'of', 'paper', 'not', 'doll', 'star', 'angel', 'snowglobe', 'toy', 'in', 'greeting', 'game', 'night', 'puzzle', 'eggnog', 'milk', 'chocolate', 'workshop', 'peppermint', 'joy', 'merry', 'have', 'to', 'it', 'card', 'with', 'we', 'wrapping', 'wish', 'hope', 'believe', 'you', 'candle', 'season', 'wonder', 'hohoho', 'dream', 'peace']'\n",
      "New best = 480.95862610864765 with '['wreath', 'candy', 'bow', 'poinsettia', 'fruitcake', 'fireplace', 'kaggle', 'the', 'and', 'that', 'from', 'as', 'cookie', 'of', 'paper', 'not', 'doll', 'star', 'angel', 'snowglobe', 'toy', 'in', 'greeting', 'game', 'night', 'puzzle', 'eggnog', 'milk', 'chocolate', 'wrapping', 'peppermint', 'joy', 'merry', 'have', 'to', 'it', 'card', 'with', 'we', 'workshop', 'wish', 'hope', 'hohoho', 'you', 'candle', 'season', 'wonder', 'believe', 'dream', 'peace']'\n",
      "New best = 462.53339048974414 with '['wreath', 'toy', 'bow', 'poinsettia', 'fruitcake', 'fireplace', 'kaggle', 'the', 'and', 'that', 'from', 'as', 'cookie', 'of', 'paper', 'not', 'doll', 'star', 'angel', 'snowglobe', 'candy', 'in', 'greeting', 'game', 'night', 'puzzle', 'eggnog', 'milk', 'chocolate', 'wrapping', 'peppermint', 'joy', 'merry', 'have', 'to', 'it', 'card', 'with', 'we', 'workshop', 'wish', 'hope', 'hohoho', 'you', 'candle', 'season', 'wonder', 'believe', 'dream', 'peace']'\n",
      "New best = 458.93392708825405 with '['wreath', 'toy', 'bow', 'poinsettia', 'fruitcake', 'fireplace', 'kaggle', 'the', 'and', 'that', 'from', 'as', 'cookie', 'of', 'paper', 'not', 'doll', 'star', 'angel', 'snowglobe', 'candy', 'in', 'greeting', 'game', 'night', 'puzzle', 'eggnog', 'milk', 'chocolate', 'wrapping', 'peppermint', 'joy', 'merry', 'have', 'to', 'it', 'card', 'with', 'we', 'workshop', 'wish', 'hope', 'hohoho', 'you', 'candle', 'peace', 'wonder', 'believe', 'dream', 'season']'\n",
      "4th sample: ['wreath', 'toy', 'bow', 'poinsettia', 'fruitcake', 'fireplace', 'kaggle', 'the', 'and', 'that', 'from', 'as', 'cookie', 'of', 'paper', 'not', 'doll', 'star', 'angel', 'snowglobe', 'candy', 'in', 'greeting', 'game', 'night', 'puzzle', 'eggnog', 'milk', 'chocolate', 'wrapping', 'peppermint', 'joy', 'merry', 'have', 'to', 'it', 'card', 'with', 'we', 'workshop', 'wish', 'hope', 'hohoho', 'you', 'candle', 'peace', 'wonder', 'believe', 'dream', 'season']\n",
      "Elapsed time: 52.63 sec\n",
      "Best value: 458.93392708825405\n",
      "Processing 2th sample\n"
     ]
    },
    {
     "data": {
      "application/vnd.jupyter.widget-view+json": {
       "model_id": "e6a1c12cf29c40788a7e58a68fadae09",
       "version_major": 2,
       "version_minor": 0
      },
      "text/plain": [
       "  0%|          | 0/512 [00:00<?, ?it/s]"
      ]
     },
     "metadata": {},
     "output_type": "display_data"
    },
    {
     "name": "stdout",
     "output_type": "stream",
     "text": [
      "New best = 1343.6230325404526 with '['merry', 'game', 'workshop', 'from', 'wrapping', 'paper', 'kaggle', 'wreath', 'peace', 'cookie', 'snowglobe', 'candy', 'wish', 'wonder', 'it', 'that', 'bow', 'with', 'of', 'candle', 'doll', 'milk', 'puzzle', 'hope', 'we', 'to', 'poinsettia', 'and', 'card', 'chocolate', 'hohoho', 'fruitcake', 'star', 'toy', 'the', 'night', 'not', 'greeting', 'season', 'eggnog', 'as', 'dream', 'peppermint', 'believe', 'angel', 'in', 'have', 'joy', 'fireplace', 'you']'\n",
      "New best = 1327.9693500653907 with '['merry', 'game', 'workshop', 'from', 'wrapping', 'paper', 'kaggle', 'wreath', 'peace', 'cookie', 'snowglobe', 'candy', 'wish', 'wonder', 'it', 'that', 'bow', 'chocolate', 'of', 'candle', 'doll', 'milk', 'puzzle', 'hope', 'we', 'to', 'poinsettia', 'and', 'card', 'with', 'hohoho', 'fruitcake', 'star', 'toy', 'the', 'night', 'not', 'greeting', 'season', 'eggnog', 'as', 'dream', 'peppermint', 'believe', 'angel', 'in', 'have', 'joy', 'fireplace', 'you']'\n",
      "New best = 1287.112028449327 with '['merry', 'game', 'workshop', 'from', 'wrapping', 'paper', 'kaggle', 'wreath', 'peace', 'cookie', 'fruitcake', 'candy', 'wish', 'wonder', 'it', 'that', 'bow', 'with', 'of', 'candle', 'doll', 'milk', 'puzzle', 'hope', 'we', 'to', 'poinsettia', 'and', 'card', 'chocolate', 'hohoho', 'snowglobe', 'star', 'toy', 'the', 'night', 'not', 'greeting', 'season', 'eggnog', 'as', 'dream', 'peppermint', 'believe', 'angel', 'in', 'have', 'joy', 'fireplace', 'you']'\n",
      "New best = 1282.0940541998355 with '['merry', 'game', 'workshop', 'from', 'wrapping', 'paper', 'kaggle', 'wreath', 'peace', 'cookie', 'snowglobe', 'toy', 'wish', 'wonder', 'it', 'that', 'bow', 'with', 'of', 'candle', 'doll', 'milk', 'puzzle', 'hope', 'we', 'to', 'poinsettia', 'and', 'card', 'chocolate', 'hohoho', 'fruitcake', 'star', 'candy', 'the', 'night', 'not', 'greeting', 'season', 'eggnog', 'as', 'dream', 'peppermint', 'believe', 'angel', 'in', 'have', 'joy', 'fireplace', 'you']'\n",
      "New best = 1267.1572060351664 with '['merry', 'game', 'workshop', 'from', 'wrapping', 'paper', 'kaggle', 'wreath', 'peace', 'cookie', 'snowglobe', 'toy', 'wish', 'wonder', 'it', 'that', 'bow', 'with', 'of', 'candle', 'doll', 'milk', 'puzzle', 'hope', 'as', 'to', 'poinsettia', 'and', 'card', 'chocolate', 'hohoho', 'fruitcake', 'star', 'candy', 'the', 'night', 'not', 'greeting', 'season', 'eggnog', 'we', 'dream', 'peppermint', 'believe', 'angel', 'in', 'have', 'joy', 'fireplace', 'you']'\n",
      "New best = 1262.217028265557 with '['merry', 'game', 'workshop', 'from', 'wrapping', 'paper', 'kaggle', 'wreath', 'peace', 'cookie', 'snowglobe', 'toy', 'wish', 'wonder', 'it', 'that', 'bow', 'with', 'of', 'candle', 'joy', 'milk', 'puzzle', 'hope', 'we', 'to', 'poinsettia', 'and', 'card', 'chocolate', 'hohoho', 'fruitcake', 'star', 'candy', 'the', 'night', 'not', 'greeting', 'season', 'eggnog', 'as', 'dream', 'peppermint', 'believe', 'angel', 'in', 'have', 'doll', 'fireplace', 'you']'\n",
      "New best = 1252.3943774226225 with '['merry', 'game', 'workshop', 'from', 'wrapping', 'paper', 'kaggle', 'wreath', 'peace', 'cookie', 'snowglobe', 'toy', 'wish', 'wonder', 'it', 'that', 'bow', 'with', 'of', 'chocolate', 'doll', 'milk', 'puzzle', 'hope', 'we', 'to', 'poinsettia', 'and', 'card', 'candle', 'hohoho', 'fruitcake', 'star', 'candy', 'the', 'night', 'not', 'greeting', 'season', 'eggnog', 'as', 'dream', 'peppermint', 'believe', 'angel', 'in', 'have', 'joy', 'fireplace', 'you']'\n",
      "New best = 1232.9778022981784 with '['merry', 'game', 'workshop', 'from', 'wrapping', 'paper', 'kaggle', 'wreath', 'peace', 'cookie', 'snowglobe', 'toy', 'wish', 'wonder', 'it', 'that', 'bow', 'with', 'of', 'chocolate', 'doll', 'milk', 'puzzle', 'hope', 'we', 'to', 'poinsettia', 'and', 'card', 'candle', 'hohoho', 'fruitcake', 'star', 'angel', 'the', 'night', 'not', 'greeting', 'season', 'eggnog', 'as', 'dream', 'peppermint', 'believe', 'candy', 'in', 'have', 'joy', 'fireplace', 'you']'\n",
      "New best = 1149.261682546105 with '['merry', 'game', 'workshop', 'from', 'wrapping', 'paper', 'kaggle', 'wreath', 'peace', 'cookie', 'snowglobe', 'toy', 'wish', 'wonder', 'it', 'that', 'bow', 'with', 'of', 'chocolate', 'doll', 'milk', 'puzzle', 'hope', 'we', 'to', 'as', 'and', 'card', 'candle', 'hohoho', 'fruitcake', 'star', 'candy', 'the', 'night', 'not', 'greeting', 'season', 'eggnog', 'poinsettia', 'dream', 'peppermint', 'believe', 'angel', 'in', 'have', 'joy', 'fireplace', 'you']'\n"
     ]
    },
    {
     "ename": "KeyboardInterrupt",
     "evalue": "",
     "output_type": "error",
     "traceback": [
      "\u001b[0;31m---------------------------------------------------------------------------\u001b[0m",
      "\u001b[0;31mKeyboardInterrupt\u001b[0m                         Traceback (most recent call last)",
      "Cell \u001b[0;32mIn[9], line 7\u001b[0m\n\u001b[1;32m      4\u001b[0m \u001b[38;5;28;01mfor\u001b[39;00m i \u001b[38;5;129;01min\u001b[39;00m [\u001b[38;5;241m0\u001b[39m,\u001b[38;5;241m1\u001b[39m,\u001b[38;5;241m2\u001b[39m,\u001b[38;5;241m3\u001b[39m,\u001b[38;5;241m4\u001b[39m,\u001b[38;5;241m5\u001b[39m]:\n\u001b[1;32m      6\u001b[0m     \u001b[38;5;28mprint\u001b[39m(\u001b[38;5;124mf\u001b[39m\u001b[38;5;124m\"\u001b[39m\u001b[38;5;124mProcessing \u001b[39m\u001b[38;5;132;01m{\u001b[39;00mi\u001b[38;5;132;01m}\u001b[39;00m\u001b[38;5;124mth sample\u001b[39m\u001b[38;5;124m\"\u001b[39m)\n\u001b[0;32m----> 7\u001b[0m     best_sequence, best_value \u001b[38;5;241m=\u001b[39m \u001b[43msearch_optimal_permutation\u001b[49m\u001b[43m(\u001b[49m\n\u001b[1;32m      8\u001b[0m \u001b[43m        \u001b[49m\u001b[38;5;28;43mid\u001b[39;49m\u001b[38;5;241;43m=\u001b[39;49m\u001b[38;5;241;43m4\u001b[39;49m\u001b[43m,\u001b[49m\n\u001b[1;32m      9\u001b[0m \u001b[43m        \u001b[49m\u001b[43mscorer\u001b[49m\u001b[38;5;241;43m=\u001b[39;49m\u001b[43mscorer\u001b[49m\u001b[43m,\u001b[49m\n\u001b[1;32m     10\u001b[0m \u001b[43m        \u001b[49m\u001b[43mmax_iterations\u001b[49m\u001b[38;5;241;43m=\u001b[39;49m\u001b[38;5;241;43m2\u001b[39;49m\u001b[38;5;241;43m*\u001b[39;49m\u001b[38;5;241;43m*\u001b[39;49m\u001b[38;5;241;43m9\u001b[39;49m\u001b[43m,\u001b[49m\n\u001b[1;32m     11\u001b[0m \u001b[43m        \u001b[49m\u001b[43mBATCH_SIZE\u001b[49m\u001b[38;5;241;43m=\u001b[39;49m\u001b[38;5;241;43m16\u001b[39;49m\n\u001b[1;32m     12\u001b[0m \u001b[43m    \u001b[49m\u001b[43m)\u001b[49m\n\u001b[1;32m     14\u001b[0m     sub_df\u001b[38;5;241m.\u001b[39mloc[i, \u001b[38;5;124m\"\u001b[39m\u001b[38;5;124mbest_value\u001b[39m\u001b[38;5;124m\"\u001b[39m] \u001b[38;5;241m=\u001b[39m best_value\n\u001b[1;32m     15\u001b[0m     sub_df\u001b[38;5;241m.\u001b[39mloc[i, \u001b[38;5;124m\"\u001b[39m\u001b[38;5;124mselected_text\u001b[39m\u001b[38;5;124m\"\u001b[39m] \u001b[38;5;241m=\u001b[39m \u001b[38;5;124m\"\u001b[39m\u001b[38;5;124m \u001b[39m\u001b[38;5;124m\"\u001b[39m\u001b[38;5;241m.\u001b[39mjoin(best_sequence)\n",
      "Cell \u001b[0;32mIn[8], line 15\u001b[0m, in \u001b[0;36msearch_optimal_permutation\u001b[0;34m(id, scorer, max_iterations, BATCH_SIZE)\u001b[0m\n\u001b[1;32m     12\u001b[0m start \u001b[38;5;241m=\u001b[39m time\u001b[38;5;241m.\u001b[39mtime()\n\u001b[1;32m     14\u001b[0m \u001b[38;5;66;03m# 山登り法で最適な順序を探索\u001b[39;00m\n\u001b[0;32m---> 15\u001b[0m best_sequence, best_value \u001b[38;5;241m=\u001b[39m \u001b[43mhill_climbing\u001b[49m\u001b[43m(\u001b[49m\n\u001b[1;32m     16\u001b[0m \u001b[43m    \u001b[49m\u001b[43mscorer\u001b[49m\u001b[38;5;241;43m=\u001b[39;49m\u001b[43mscorer\u001b[49m\u001b[43m,\u001b[49m\n\u001b[1;32m     17\u001b[0m \u001b[43m    \u001b[49m\u001b[43minitial_sequence\u001b[49m\u001b[38;5;241;43m=\u001b[39;49m\u001b[43minitial_sequence\u001b[49m\u001b[43m,\u001b[49m\n\u001b[1;32m     18\u001b[0m \u001b[43m    \u001b[49m\u001b[43mmax_iterations\u001b[49m\u001b[38;5;241;43m=\u001b[39;49m\u001b[43mmax_iterations\u001b[49m\u001b[43m,\u001b[49m\n\u001b[1;32m     19\u001b[0m \u001b[43m    \u001b[49m\u001b[43mBATCH_SIZE\u001b[49m\u001b[38;5;241;43m=\u001b[39;49m\u001b[43mBATCH_SIZE\u001b[49m\n\u001b[1;32m     20\u001b[0m \u001b[43m\u001b[49m\u001b[43m)\u001b[49m\n\u001b[1;32m     22\u001b[0m \u001b[38;5;28mprint\u001b[39m(\u001b[38;5;124mf\u001b[39m\u001b[38;5;124m\"\u001b[39m\u001b[38;5;132;01m{\u001b[39;00m\u001b[38;5;28mid\u001b[39m\u001b[38;5;132;01m}\u001b[39;00m\u001b[38;5;124mth sample: \u001b[39m\u001b[38;5;132;01m{\u001b[39;00mbest_sequence\u001b[38;5;132;01m}\u001b[39;00m\u001b[38;5;124m\"\u001b[39m)\n\u001b[1;32m     23\u001b[0m \u001b[38;5;28mprint\u001b[39m(\u001b[38;5;124mf\u001b[39m\u001b[38;5;124m\"\u001b[39m\u001b[38;5;124mElapsed time: \u001b[39m\u001b[38;5;132;01m{\u001b[39;00mtime\u001b[38;5;241m.\u001b[39mtime()\u001b[38;5;250m \u001b[39m\u001b[38;5;241m-\u001b[39m\u001b[38;5;250m \u001b[39mstart\u001b[38;5;132;01m:\u001b[39;00m\u001b[38;5;124m.2f\u001b[39m\u001b[38;5;132;01m}\u001b[39;00m\u001b[38;5;124m sec\u001b[39m\u001b[38;5;124m\"\u001b[39m)\n",
      "Cell \u001b[0;32mIn[7], line 32\u001b[0m, in \u001b[0;36mhill_climbing\u001b[0;34m(scorer, initial_sequence, max_iterations, BATCH_SIZE)\u001b[0m\n\u001b[1;32m     27\u001b[0m perms\u001b[38;5;241m.\u001b[39mappend(\u001b[38;5;124m\"\u001b[39m\u001b[38;5;124m \u001b[39m\u001b[38;5;124m\"\u001b[39m\u001b[38;5;241m.\u001b[39mjoin(neighbor_sequence))\n\u001b[1;32m     29\u001b[0m \u001b[38;5;28;01mif\u001b[39;00m \u001b[38;5;28mlen\u001b[39m(perms) \u001b[38;5;241m==\u001b[39m BATCH_SIZE:\n\u001b[1;32m     30\u001b[0m     \n\u001b[1;32m     31\u001b[0m     \u001b[38;5;66;03m# 評価値を計算\u001b[39;00m\n\u001b[0;32m---> 32\u001b[0m     neighbor_values \u001b[38;5;241m=\u001b[39m \u001b[43mscorer\u001b[49m\u001b[38;5;241;43m.\u001b[39;49m\u001b[43mget_perplexity\u001b[49m\u001b[43m(\u001b[49m\u001b[43mperms\u001b[49m\u001b[43m,\u001b[49m\u001b[43m \u001b[49m\u001b[43mbatch_size\u001b[49m\u001b[38;5;241;43m=\u001b[39;49m\u001b[43mBATCH_SIZE\u001b[49m\u001b[43m)\u001b[49m\n\u001b[1;32m     34\u001b[0m     \u001b[38;5;66;03m# 改善があれば更新\u001b[39;00m\n\u001b[1;32m     35\u001b[0m     \u001b[38;5;28;01mfor\u001b[39;00m value, sequence \u001b[38;5;129;01min\u001b[39;00m \u001b[38;5;28mzip\u001b[39m(neighbor_values, perms):\n",
      "File \u001b[0;32m/home/jovyan/work/notebook/utils.py:249\u001b[0m, in \u001b[0;36mPerplexityCalculator.get_perplexity\u001b[0;34m(self, input_texts, batch_size)\u001b[0m\n\u001b[1;32m    246\u001b[0m model_inputs \u001b[38;5;241m=\u001b[39m {k: v\u001b[38;5;241m.\u001b[39mto(DEVICE) \u001b[38;5;28;01mfor\u001b[39;00m k, v \u001b[38;5;129;01min\u001b[39;00m model_inputs\u001b[38;5;241m.\u001b[39mitems()}\n\u001b[1;32m    248\u001b[0m \u001b[38;5;66;03m# Get model output\u001b[39;00m\n\u001b[0;32m--> 249\u001b[0m output \u001b[38;5;241m=\u001b[39m \u001b[38;5;28;43mself\u001b[39;49m\u001b[38;5;241;43m.\u001b[39;49m\u001b[43mmodel\u001b[49m\u001b[43m(\u001b[49m\u001b[38;5;241;43m*\u001b[39;49m\u001b[38;5;241;43m*\u001b[39;49m\u001b[43mmodel_inputs\u001b[49m\u001b[43m,\u001b[49m\u001b[43m \u001b[49m\u001b[43muse_cache\u001b[49m\u001b[38;5;241;43m=\u001b[39;49m\u001b[38;5;28;43;01mFalse\u001b[39;49;00m\u001b[43m)\u001b[49m\n\u001b[1;32m    250\u001b[0m logits \u001b[38;5;241m=\u001b[39m output[\u001b[38;5;124m'\u001b[39m\u001b[38;5;124mlogits\u001b[39m\u001b[38;5;124m'\u001b[39m]\n\u001b[1;32m    252\u001b[0m label \u001b[38;5;241m=\u001b[39m model_inputs[\u001b[38;5;124m'\u001b[39m\u001b[38;5;124minput_ids\u001b[39m\u001b[38;5;124m'\u001b[39m]\n",
      "File \u001b[0;32m/usr/local/lib/python3.12/site-packages/torch/nn/modules/module.py:1736\u001b[0m, in \u001b[0;36mModule._wrapped_call_impl\u001b[0;34m(self, *args, **kwargs)\u001b[0m\n\u001b[1;32m   1734\u001b[0m     \u001b[38;5;28;01mreturn\u001b[39;00m \u001b[38;5;28mself\u001b[39m\u001b[38;5;241m.\u001b[39m_compiled_call_impl(\u001b[38;5;241m*\u001b[39margs, \u001b[38;5;241m*\u001b[39m\u001b[38;5;241m*\u001b[39mkwargs)  \u001b[38;5;66;03m# type: ignore[misc]\u001b[39;00m\n\u001b[1;32m   1735\u001b[0m \u001b[38;5;28;01melse\u001b[39;00m:\n\u001b[0;32m-> 1736\u001b[0m     \u001b[38;5;28;01mreturn\u001b[39;00m \u001b[38;5;28;43mself\u001b[39;49m\u001b[38;5;241;43m.\u001b[39;49m\u001b[43m_call_impl\u001b[49m\u001b[43m(\u001b[49m\u001b[38;5;241;43m*\u001b[39;49m\u001b[43margs\u001b[49m\u001b[43m,\u001b[49m\u001b[43m \u001b[49m\u001b[38;5;241;43m*\u001b[39;49m\u001b[38;5;241;43m*\u001b[39;49m\u001b[43mkwargs\u001b[49m\u001b[43m)\u001b[49m\n",
      "File \u001b[0;32m/usr/local/lib/python3.12/site-packages/torch/nn/modules/module.py:1747\u001b[0m, in \u001b[0;36mModule._call_impl\u001b[0;34m(self, *args, **kwargs)\u001b[0m\n\u001b[1;32m   1742\u001b[0m \u001b[38;5;66;03m# If we don't have any hooks, we want to skip the rest of the logic in\u001b[39;00m\n\u001b[1;32m   1743\u001b[0m \u001b[38;5;66;03m# this function, and just call forward.\u001b[39;00m\n\u001b[1;32m   1744\u001b[0m \u001b[38;5;28;01mif\u001b[39;00m \u001b[38;5;129;01mnot\u001b[39;00m (\u001b[38;5;28mself\u001b[39m\u001b[38;5;241m.\u001b[39m_backward_hooks \u001b[38;5;129;01mor\u001b[39;00m \u001b[38;5;28mself\u001b[39m\u001b[38;5;241m.\u001b[39m_backward_pre_hooks \u001b[38;5;129;01mor\u001b[39;00m \u001b[38;5;28mself\u001b[39m\u001b[38;5;241m.\u001b[39m_forward_hooks \u001b[38;5;129;01mor\u001b[39;00m \u001b[38;5;28mself\u001b[39m\u001b[38;5;241m.\u001b[39m_forward_pre_hooks\n\u001b[1;32m   1745\u001b[0m         \u001b[38;5;129;01mor\u001b[39;00m _global_backward_pre_hooks \u001b[38;5;129;01mor\u001b[39;00m _global_backward_hooks\n\u001b[1;32m   1746\u001b[0m         \u001b[38;5;129;01mor\u001b[39;00m _global_forward_hooks \u001b[38;5;129;01mor\u001b[39;00m _global_forward_pre_hooks):\n\u001b[0;32m-> 1747\u001b[0m     \u001b[38;5;28;01mreturn\u001b[39;00m \u001b[43mforward_call\u001b[49m\u001b[43m(\u001b[49m\u001b[38;5;241;43m*\u001b[39;49m\u001b[43margs\u001b[49m\u001b[43m,\u001b[49m\u001b[43m \u001b[49m\u001b[38;5;241;43m*\u001b[39;49m\u001b[38;5;241;43m*\u001b[39;49m\u001b[43mkwargs\u001b[49m\u001b[43m)\u001b[49m\n\u001b[1;32m   1749\u001b[0m result \u001b[38;5;241m=\u001b[39m \u001b[38;5;28;01mNone\u001b[39;00m\n\u001b[1;32m   1750\u001b[0m called_always_called_hooks \u001b[38;5;241m=\u001b[39m \u001b[38;5;28mset\u001b[39m()\n",
      "File \u001b[0;32m/usr/local/lib/python3.12/site-packages/accelerate/hooks.py:170\u001b[0m, in \u001b[0;36madd_hook_to_module.<locals>.new_forward\u001b[0;34m(module, *args, **kwargs)\u001b[0m\n\u001b[1;32m    168\u001b[0m         output \u001b[38;5;241m=\u001b[39m module\u001b[38;5;241m.\u001b[39m_old_forward(\u001b[38;5;241m*\u001b[39margs, \u001b[38;5;241m*\u001b[39m\u001b[38;5;241m*\u001b[39mkwargs)\n\u001b[1;32m    169\u001b[0m \u001b[38;5;28;01melse\u001b[39;00m:\n\u001b[0;32m--> 170\u001b[0m     output \u001b[38;5;241m=\u001b[39m \u001b[43mmodule\u001b[49m\u001b[38;5;241;43m.\u001b[39;49m\u001b[43m_old_forward\u001b[49m\u001b[43m(\u001b[49m\u001b[38;5;241;43m*\u001b[39;49m\u001b[43margs\u001b[49m\u001b[43m,\u001b[49m\u001b[43m \u001b[49m\u001b[38;5;241;43m*\u001b[39;49m\u001b[38;5;241;43m*\u001b[39;49m\u001b[43mkwargs\u001b[49m\u001b[43m)\u001b[49m\n\u001b[1;32m    171\u001b[0m \u001b[38;5;28;01mreturn\u001b[39;00m module\u001b[38;5;241m.\u001b[39m_hf_hook\u001b[38;5;241m.\u001b[39mpost_forward(module, output)\n",
      "File \u001b[0;32m/usr/local/lib/python3.12/site-packages/transformers/models/gemma2/modeling_gemma2.py:977\u001b[0m, in \u001b[0;36mGemma2ForCausalLM.forward\u001b[0;34m(self, input_ids, attention_mask, position_ids, past_key_values, inputs_embeds, labels, use_cache, output_attentions, output_hidden_states, return_dict, cache_position, num_logits_to_keep, **loss_kwargs)\u001b[0m\n\u001b[1;32m    975\u001b[0m return_dict \u001b[38;5;241m=\u001b[39m return_dict \u001b[38;5;28;01mif\u001b[39;00m return_dict \u001b[38;5;129;01mis\u001b[39;00m \u001b[38;5;129;01mnot\u001b[39;00m \u001b[38;5;28;01mNone\u001b[39;00m \u001b[38;5;28;01melse\u001b[39;00m \u001b[38;5;28mself\u001b[39m\u001b[38;5;241m.\u001b[39mconfig\u001b[38;5;241m.\u001b[39muse_return_dict\n\u001b[1;32m    976\u001b[0m \u001b[38;5;66;03m# decoder outputs consists of (dec_features, layer_state, dec_hidden, dec_attn)\u001b[39;00m\n\u001b[0;32m--> 977\u001b[0m outputs \u001b[38;5;241m=\u001b[39m \u001b[38;5;28;43mself\u001b[39;49m\u001b[38;5;241;43m.\u001b[39;49m\u001b[43mmodel\u001b[49m\u001b[43m(\u001b[49m\n\u001b[1;32m    978\u001b[0m \u001b[43m    \u001b[49m\u001b[43minput_ids\u001b[49m\u001b[38;5;241;43m=\u001b[39;49m\u001b[43minput_ids\u001b[49m\u001b[43m,\u001b[49m\n\u001b[1;32m    979\u001b[0m \u001b[43m    \u001b[49m\u001b[43mattention_mask\u001b[49m\u001b[38;5;241;43m=\u001b[39;49m\u001b[43mattention_mask\u001b[49m\u001b[43m,\u001b[49m\n\u001b[1;32m    980\u001b[0m \u001b[43m    \u001b[49m\u001b[43mposition_ids\u001b[49m\u001b[38;5;241;43m=\u001b[39;49m\u001b[43mposition_ids\u001b[49m\u001b[43m,\u001b[49m\n\u001b[1;32m    981\u001b[0m \u001b[43m    \u001b[49m\u001b[43mpast_key_values\u001b[49m\u001b[38;5;241;43m=\u001b[39;49m\u001b[43mpast_key_values\u001b[49m\u001b[43m,\u001b[49m\n\u001b[1;32m    982\u001b[0m \u001b[43m    \u001b[49m\u001b[43minputs_embeds\u001b[49m\u001b[38;5;241;43m=\u001b[39;49m\u001b[43minputs_embeds\u001b[49m\u001b[43m,\u001b[49m\n\u001b[1;32m    983\u001b[0m \u001b[43m    \u001b[49m\u001b[43muse_cache\u001b[49m\u001b[38;5;241;43m=\u001b[39;49m\u001b[43muse_cache\u001b[49m\u001b[43m,\u001b[49m\n\u001b[1;32m    984\u001b[0m \u001b[43m    \u001b[49m\u001b[43moutput_attentions\u001b[49m\u001b[38;5;241;43m=\u001b[39;49m\u001b[43moutput_attentions\u001b[49m\u001b[43m,\u001b[49m\n\u001b[1;32m    985\u001b[0m \u001b[43m    \u001b[49m\u001b[43moutput_hidden_states\u001b[49m\u001b[38;5;241;43m=\u001b[39;49m\u001b[43moutput_hidden_states\u001b[49m\u001b[43m,\u001b[49m\n\u001b[1;32m    986\u001b[0m \u001b[43m    \u001b[49m\u001b[43mreturn_dict\u001b[49m\u001b[38;5;241;43m=\u001b[39;49m\u001b[43mreturn_dict\u001b[49m\u001b[43m,\u001b[49m\n\u001b[1;32m    987\u001b[0m \u001b[43m    \u001b[49m\u001b[43mcache_position\u001b[49m\u001b[38;5;241;43m=\u001b[39;49m\u001b[43mcache_position\u001b[49m\u001b[43m,\u001b[49m\n\u001b[1;32m    988\u001b[0m \u001b[43m\u001b[49m\u001b[43m)\u001b[49m\n\u001b[1;32m    990\u001b[0m hidden_states \u001b[38;5;241m=\u001b[39m outputs[\u001b[38;5;241m0\u001b[39m]\n\u001b[1;32m    991\u001b[0m \u001b[38;5;66;03m# Only compute necessary logits, and do not upcast them to float if we are not computing the loss\u001b[39;00m\n",
      "File \u001b[0;32m/usr/local/lib/python3.12/site-packages/torch/nn/modules/module.py:1736\u001b[0m, in \u001b[0;36mModule._wrapped_call_impl\u001b[0;34m(self, *args, **kwargs)\u001b[0m\n\u001b[1;32m   1734\u001b[0m     \u001b[38;5;28;01mreturn\u001b[39;00m \u001b[38;5;28mself\u001b[39m\u001b[38;5;241m.\u001b[39m_compiled_call_impl(\u001b[38;5;241m*\u001b[39margs, \u001b[38;5;241m*\u001b[39m\u001b[38;5;241m*\u001b[39mkwargs)  \u001b[38;5;66;03m# type: ignore[misc]\u001b[39;00m\n\u001b[1;32m   1735\u001b[0m \u001b[38;5;28;01melse\u001b[39;00m:\n\u001b[0;32m-> 1736\u001b[0m     \u001b[38;5;28;01mreturn\u001b[39;00m \u001b[38;5;28;43mself\u001b[39;49m\u001b[38;5;241;43m.\u001b[39;49m\u001b[43m_call_impl\u001b[49m\u001b[43m(\u001b[49m\u001b[38;5;241;43m*\u001b[39;49m\u001b[43margs\u001b[49m\u001b[43m,\u001b[49m\u001b[43m \u001b[49m\u001b[38;5;241;43m*\u001b[39;49m\u001b[38;5;241;43m*\u001b[39;49m\u001b[43mkwargs\u001b[49m\u001b[43m)\u001b[49m\n",
      "File \u001b[0;32m/usr/local/lib/python3.12/site-packages/torch/nn/modules/module.py:1747\u001b[0m, in \u001b[0;36mModule._call_impl\u001b[0;34m(self, *args, **kwargs)\u001b[0m\n\u001b[1;32m   1742\u001b[0m \u001b[38;5;66;03m# If we don't have any hooks, we want to skip the rest of the logic in\u001b[39;00m\n\u001b[1;32m   1743\u001b[0m \u001b[38;5;66;03m# this function, and just call forward.\u001b[39;00m\n\u001b[1;32m   1744\u001b[0m \u001b[38;5;28;01mif\u001b[39;00m \u001b[38;5;129;01mnot\u001b[39;00m (\u001b[38;5;28mself\u001b[39m\u001b[38;5;241m.\u001b[39m_backward_hooks \u001b[38;5;129;01mor\u001b[39;00m \u001b[38;5;28mself\u001b[39m\u001b[38;5;241m.\u001b[39m_backward_pre_hooks \u001b[38;5;129;01mor\u001b[39;00m \u001b[38;5;28mself\u001b[39m\u001b[38;5;241m.\u001b[39m_forward_hooks \u001b[38;5;129;01mor\u001b[39;00m \u001b[38;5;28mself\u001b[39m\u001b[38;5;241m.\u001b[39m_forward_pre_hooks\n\u001b[1;32m   1745\u001b[0m         \u001b[38;5;129;01mor\u001b[39;00m _global_backward_pre_hooks \u001b[38;5;129;01mor\u001b[39;00m _global_backward_hooks\n\u001b[1;32m   1746\u001b[0m         \u001b[38;5;129;01mor\u001b[39;00m _global_forward_hooks \u001b[38;5;129;01mor\u001b[39;00m _global_forward_pre_hooks):\n\u001b[0;32m-> 1747\u001b[0m     \u001b[38;5;28;01mreturn\u001b[39;00m \u001b[43mforward_call\u001b[49m\u001b[43m(\u001b[49m\u001b[38;5;241;43m*\u001b[39;49m\u001b[43margs\u001b[49m\u001b[43m,\u001b[49m\u001b[43m \u001b[49m\u001b[38;5;241;43m*\u001b[39;49m\u001b[38;5;241;43m*\u001b[39;49m\u001b[43mkwargs\u001b[49m\u001b[43m)\u001b[49m\n\u001b[1;32m   1749\u001b[0m result \u001b[38;5;241m=\u001b[39m \u001b[38;5;28;01mNone\u001b[39;00m\n\u001b[1;32m   1750\u001b[0m called_always_called_hooks \u001b[38;5;241m=\u001b[39m \u001b[38;5;28mset\u001b[39m()\n",
      "File \u001b[0;32m/usr/local/lib/python3.12/site-packages/transformers/models/gemma2/modeling_gemma2.py:763\u001b[0m, in \u001b[0;36mGemma2Model.forward\u001b[0;34m(self, input_ids, attention_mask, position_ids, past_key_values, inputs_embeds, use_cache, output_attentions, output_hidden_states, return_dict, cache_position)\u001b[0m\n\u001b[1;32m    752\u001b[0m     layer_outputs \u001b[38;5;241m=\u001b[39m \u001b[38;5;28mself\u001b[39m\u001b[38;5;241m.\u001b[39m_gradient_checkpointing_func(\n\u001b[1;32m    753\u001b[0m         decoder_layer\u001b[38;5;241m.\u001b[39m\u001b[38;5;21m__call__\u001b[39m,\n\u001b[1;32m    754\u001b[0m         hidden_states,\n\u001b[0;32m   (...)\u001b[0m\n\u001b[1;32m    760\u001b[0m         cache_position,\n\u001b[1;32m    761\u001b[0m     )\n\u001b[1;32m    762\u001b[0m \u001b[38;5;28;01melse\u001b[39;00m:\n\u001b[0;32m--> 763\u001b[0m     layer_outputs \u001b[38;5;241m=\u001b[39m \u001b[43mdecoder_layer\u001b[49m\u001b[43m(\u001b[49m\n\u001b[1;32m    764\u001b[0m \u001b[43m        \u001b[49m\u001b[43mhidden_states\u001b[49m\u001b[43m,\u001b[49m\n\u001b[1;32m    765\u001b[0m \u001b[43m        \u001b[49m\u001b[43mattention_mask\u001b[49m\u001b[38;5;241;43m=\u001b[39;49m\u001b[43mcausal_mask\u001b[49m\u001b[43m,\u001b[49m\n\u001b[1;32m    766\u001b[0m \u001b[43m        \u001b[49m\u001b[43mposition_ids\u001b[49m\u001b[38;5;241;43m=\u001b[39;49m\u001b[43mposition_ids\u001b[49m\u001b[43m,\u001b[49m\n\u001b[1;32m    767\u001b[0m \u001b[43m        \u001b[49m\u001b[43mpast_key_value\u001b[49m\u001b[38;5;241;43m=\u001b[39;49m\u001b[43mpast_key_values\u001b[49m\u001b[43m,\u001b[49m\n\u001b[1;32m    768\u001b[0m \u001b[43m        \u001b[49m\u001b[43moutput_attentions\u001b[49m\u001b[38;5;241;43m=\u001b[39;49m\u001b[43moutput_attentions\u001b[49m\u001b[43m,\u001b[49m\n\u001b[1;32m    769\u001b[0m \u001b[43m        \u001b[49m\u001b[43muse_cache\u001b[49m\u001b[38;5;241;43m=\u001b[39;49m\u001b[43muse_cache\u001b[49m\u001b[43m,\u001b[49m\n\u001b[1;32m    770\u001b[0m \u001b[43m        \u001b[49m\u001b[43mcache_position\u001b[49m\u001b[38;5;241;43m=\u001b[39;49m\u001b[43mcache_position\u001b[49m\u001b[43m,\u001b[49m\n\u001b[1;32m    771\u001b[0m \u001b[43m    \u001b[49m\u001b[43m)\u001b[49m\n\u001b[1;32m    773\u001b[0m hidden_states \u001b[38;5;241m=\u001b[39m layer_outputs[\u001b[38;5;241m0\u001b[39m]\n\u001b[1;32m    775\u001b[0m \u001b[38;5;28;01mif\u001b[39;00m output_attentions:\n",
      "File \u001b[0;32m/usr/local/lib/python3.12/site-packages/torch/nn/modules/module.py:1736\u001b[0m, in \u001b[0;36mModule._wrapped_call_impl\u001b[0;34m(self, *args, **kwargs)\u001b[0m\n\u001b[1;32m   1734\u001b[0m     \u001b[38;5;28;01mreturn\u001b[39;00m \u001b[38;5;28mself\u001b[39m\u001b[38;5;241m.\u001b[39m_compiled_call_impl(\u001b[38;5;241m*\u001b[39margs, \u001b[38;5;241m*\u001b[39m\u001b[38;5;241m*\u001b[39mkwargs)  \u001b[38;5;66;03m# type: ignore[misc]\u001b[39;00m\n\u001b[1;32m   1735\u001b[0m \u001b[38;5;28;01melse\u001b[39;00m:\n\u001b[0;32m-> 1736\u001b[0m     \u001b[38;5;28;01mreturn\u001b[39;00m \u001b[38;5;28;43mself\u001b[39;49m\u001b[38;5;241;43m.\u001b[39;49m\u001b[43m_call_impl\u001b[49m\u001b[43m(\u001b[49m\u001b[38;5;241;43m*\u001b[39;49m\u001b[43margs\u001b[49m\u001b[43m,\u001b[49m\u001b[43m \u001b[49m\u001b[38;5;241;43m*\u001b[39;49m\u001b[38;5;241;43m*\u001b[39;49m\u001b[43mkwargs\u001b[49m\u001b[43m)\u001b[49m\n",
      "File \u001b[0;32m/usr/local/lib/python3.12/site-packages/torch/nn/modules/module.py:1747\u001b[0m, in \u001b[0;36mModule._call_impl\u001b[0;34m(self, *args, **kwargs)\u001b[0m\n\u001b[1;32m   1742\u001b[0m \u001b[38;5;66;03m# If we don't have any hooks, we want to skip the rest of the logic in\u001b[39;00m\n\u001b[1;32m   1743\u001b[0m \u001b[38;5;66;03m# this function, and just call forward.\u001b[39;00m\n\u001b[1;32m   1744\u001b[0m \u001b[38;5;28;01mif\u001b[39;00m \u001b[38;5;129;01mnot\u001b[39;00m (\u001b[38;5;28mself\u001b[39m\u001b[38;5;241m.\u001b[39m_backward_hooks \u001b[38;5;129;01mor\u001b[39;00m \u001b[38;5;28mself\u001b[39m\u001b[38;5;241m.\u001b[39m_backward_pre_hooks \u001b[38;5;129;01mor\u001b[39;00m \u001b[38;5;28mself\u001b[39m\u001b[38;5;241m.\u001b[39m_forward_hooks \u001b[38;5;129;01mor\u001b[39;00m \u001b[38;5;28mself\u001b[39m\u001b[38;5;241m.\u001b[39m_forward_pre_hooks\n\u001b[1;32m   1745\u001b[0m         \u001b[38;5;129;01mor\u001b[39;00m _global_backward_pre_hooks \u001b[38;5;129;01mor\u001b[39;00m _global_backward_hooks\n\u001b[1;32m   1746\u001b[0m         \u001b[38;5;129;01mor\u001b[39;00m _global_forward_hooks \u001b[38;5;129;01mor\u001b[39;00m _global_forward_pre_hooks):\n\u001b[0;32m-> 1747\u001b[0m     \u001b[38;5;28;01mreturn\u001b[39;00m \u001b[43mforward_call\u001b[49m\u001b[43m(\u001b[49m\u001b[38;5;241;43m*\u001b[39;49m\u001b[43margs\u001b[49m\u001b[43m,\u001b[49m\u001b[43m \u001b[49m\u001b[38;5;241;43m*\u001b[39;49m\u001b[38;5;241;43m*\u001b[39;49m\u001b[43mkwargs\u001b[49m\u001b[43m)\u001b[49m\n\u001b[1;32m   1749\u001b[0m result \u001b[38;5;241m=\u001b[39m \u001b[38;5;28;01mNone\u001b[39;00m\n\u001b[1;32m   1750\u001b[0m called_always_called_hooks \u001b[38;5;241m=\u001b[39m \u001b[38;5;28mset\u001b[39m()\n",
      "File \u001b[0;32m/usr/local/lib/python3.12/site-packages/accelerate/hooks.py:170\u001b[0m, in \u001b[0;36madd_hook_to_module.<locals>.new_forward\u001b[0;34m(module, *args, **kwargs)\u001b[0m\n\u001b[1;32m    168\u001b[0m         output \u001b[38;5;241m=\u001b[39m module\u001b[38;5;241m.\u001b[39m_old_forward(\u001b[38;5;241m*\u001b[39margs, \u001b[38;5;241m*\u001b[39m\u001b[38;5;241m*\u001b[39mkwargs)\n\u001b[1;32m    169\u001b[0m \u001b[38;5;28;01melse\u001b[39;00m:\n\u001b[0;32m--> 170\u001b[0m     output \u001b[38;5;241m=\u001b[39m \u001b[43mmodule\u001b[49m\u001b[38;5;241;43m.\u001b[39;49m\u001b[43m_old_forward\u001b[49m\u001b[43m(\u001b[49m\u001b[38;5;241;43m*\u001b[39;49m\u001b[43margs\u001b[49m\u001b[43m,\u001b[49m\u001b[43m \u001b[49m\u001b[38;5;241;43m*\u001b[39;49m\u001b[38;5;241;43m*\u001b[39;49m\u001b[43mkwargs\u001b[49m\u001b[43m)\u001b[49m\n\u001b[1;32m    171\u001b[0m \u001b[38;5;28;01mreturn\u001b[39;00m module\u001b[38;5;241m.\u001b[39m_hf_hook\u001b[38;5;241m.\u001b[39mpost_forward(module, output)\n",
      "File \u001b[0;32m/usr/local/lib/python3.12/site-packages/transformers/models/gemma2/modeling_gemma2.py:494\u001b[0m, in \u001b[0;36mGemma2DecoderLayer.forward\u001b[0;34m(self, hidden_states, attention_mask, position_ids, past_key_value, output_attentions, use_cache, cache_position)\u001b[0m\n\u001b[1;32m    492\u001b[0m hidden_states \u001b[38;5;241m=\u001b[39m \u001b[38;5;28mself\u001b[39m\u001b[38;5;241m.\u001b[39mpre_feedforward_layernorm(hidden_states)\n\u001b[1;32m    493\u001b[0m hidden_states \u001b[38;5;241m=\u001b[39m \u001b[38;5;28mself\u001b[39m\u001b[38;5;241m.\u001b[39mmlp(hidden_states)\n\u001b[0;32m--> 494\u001b[0m hidden_states \u001b[38;5;241m=\u001b[39m \u001b[38;5;28;43mself\u001b[39;49m\u001b[38;5;241;43m.\u001b[39;49m\u001b[43mpost_feedforward_layernorm\u001b[49m\u001b[43m(\u001b[49m\u001b[43mhidden_states\u001b[49m\u001b[43m)\u001b[49m\n\u001b[1;32m    495\u001b[0m hidden_states \u001b[38;5;241m=\u001b[39m residual \u001b[38;5;241m+\u001b[39m hidden_states\n\u001b[1;32m    497\u001b[0m outputs \u001b[38;5;241m=\u001b[39m (hidden_states,)\n",
      "File \u001b[0;32m/usr/local/lib/python3.12/site-packages/torch/nn/modules/module.py:1736\u001b[0m, in \u001b[0;36mModule._wrapped_call_impl\u001b[0;34m(self, *args, **kwargs)\u001b[0m\n\u001b[1;32m   1734\u001b[0m     \u001b[38;5;28;01mreturn\u001b[39;00m \u001b[38;5;28mself\u001b[39m\u001b[38;5;241m.\u001b[39m_compiled_call_impl(\u001b[38;5;241m*\u001b[39margs, \u001b[38;5;241m*\u001b[39m\u001b[38;5;241m*\u001b[39mkwargs)  \u001b[38;5;66;03m# type: ignore[misc]\u001b[39;00m\n\u001b[1;32m   1735\u001b[0m \u001b[38;5;28;01melse\u001b[39;00m:\n\u001b[0;32m-> 1736\u001b[0m     \u001b[38;5;28;01mreturn\u001b[39;00m \u001b[38;5;28;43mself\u001b[39;49m\u001b[38;5;241;43m.\u001b[39;49m\u001b[43m_call_impl\u001b[49m\u001b[43m(\u001b[49m\u001b[38;5;241;43m*\u001b[39;49m\u001b[43margs\u001b[49m\u001b[43m,\u001b[49m\u001b[43m \u001b[49m\u001b[38;5;241;43m*\u001b[39;49m\u001b[38;5;241;43m*\u001b[39;49m\u001b[43mkwargs\u001b[49m\u001b[43m)\u001b[49m\n",
      "File \u001b[0;32m/usr/local/lib/python3.12/site-packages/torch/nn/modules/module.py:1747\u001b[0m, in \u001b[0;36mModule._call_impl\u001b[0;34m(self, *args, **kwargs)\u001b[0m\n\u001b[1;32m   1742\u001b[0m \u001b[38;5;66;03m# If we don't have any hooks, we want to skip the rest of the logic in\u001b[39;00m\n\u001b[1;32m   1743\u001b[0m \u001b[38;5;66;03m# this function, and just call forward.\u001b[39;00m\n\u001b[1;32m   1744\u001b[0m \u001b[38;5;28;01mif\u001b[39;00m \u001b[38;5;129;01mnot\u001b[39;00m (\u001b[38;5;28mself\u001b[39m\u001b[38;5;241m.\u001b[39m_backward_hooks \u001b[38;5;129;01mor\u001b[39;00m \u001b[38;5;28mself\u001b[39m\u001b[38;5;241m.\u001b[39m_backward_pre_hooks \u001b[38;5;129;01mor\u001b[39;00m \u001b[38;5;28mself\u001b[39m\u001b[38;5;241m.\u001b[39m_forward_hooks \u001b[38;5;129;01mor\u001b[39;00m \u001b[38;5;28mself\u001b[39m\u001b[38;5;241m.\u001b[39m_forward_pre_hooks\n\u001b[1;32m   1745\u001b[0m         \u001b[38;5;129;01mor\u001b[39;00m _global_backward_pre_hooks \u001b[38;5;129;01mor\u001b[39;00m _global_backward_hooks\n\u001b[1;32m   1746\u001b[0m         \u001b[38;5;129;01mor\u001b[39;00m _global_forward_hooks \u001b[38;5;129;01mor\u001b[39;00m _global_forward_pre_hooks):\n\u001b[0;32m-> 1747\u001b[0m     \u001b[38;5;28;01mreturn\u001b[39;00m \u001b[43mforward_call\u001b[49m\u001b[43m(\u001b[49m\u001b[38;5;241;43m*\u001b[39;49m\u001b[43margs\u001b[49m\u001b[43m,\u001b[49m\u001b[43m \u001b[49m\u001b[38;5;241;43m*\u001b[39;49m\u001b[38;5;241;43m*\u001b[39;49m\u001b[43mkwargs\u001b[49m\u001b[43m)\u001b[49m\n\u001b[1;32m   1749\u001b[0m result \u001b[38;5;241m=\u001b[39m \u001b[38;5;28;01mNone\u001b[39;00m\n\u001b[1;32m   1750\u001b[0m called_always_called_hooks \u001b[38;5;241m=\u001b[39m \u001b[38;5;28mset\u001b[39m()\n",
      "File \u001b[0;32m/usr/local/lib/python3.12/site-packages/accelerate/hooks.py:165\u001b[0m, in \u001b[0;36madd_hook_to_module.<locals>.new_forward\u001b[0;34m(module, *args, **kwargs)\u001b[0m\n\u001b[1;32m    164\u001b[0m \u001b[38;5;28;01mdef\u001b[39;00m \u001b[38;5;21mnew_forward\u001b[39m(module, \u001b[38;5;241m*\u001b[39margs, \u001b[38;5;241m*\u001b[39m\u001b[38;5;241m*\u001b[39mkwargs):\n\u001b[0;32m--> 165\u001b[0m     args, kwargs \u001b[38;5;241m=\u001b[39m \u001b[43mmodule\u001b[49m\u001b[38;5;241;43m.\u001b[39;49m\u001b[43m_hf_hook\u001b[49m\u001b[38;5;241;43m.\u001b[39;49m\u001b[43mpre_forward\u001b[49m\u001b[43m(\u001b[49m\u001b[43mmodule\u001b[49m\u001b[43m,\u001b[49m\u001b[43m \u001b[49m\u001b[38;5;241;43m*\u001b[39;49m\u001b[43margs\u001b[49m\u001b[43m,\u001b[49m\u001b[43m \u001b[49m\u001b[38;5;241;43m*\u001b[39;49m\u001b[38;5;241;43m*\u001b[39;49m\u001b[43mkwargs\u001b[49m\u001b[43m)\u001b[49m\n\u001b[1;32m    166\u001b[0m     \u001b[38;5;28;01mif\u001b[39;00m module\u001b[38;5;241m.\u001b[39m_hf_hook\u001b[38;5;241m.\u001b[39mno_grad:\n\u001b[1;32m    167\u001b[0m         \u001b[38;5;28;01mwith\u001b[39;00m torch\u001b[38;5;241m.\u001b[39mno_grad():\n",
      "File \u001b[0;32m/usr/local/lib/python3.12/site-packages/accelerate/hooks.py:355\u001b[0m, in \u001b[0;36mAlignDevicesHook.pre_forward\u001b[0;34m(self, module, *args, **kwargs)\u001b[0m\n\u001b[1;32m    347\u001b[0m         \u001b[38;5;28;01mif\u001b[39;00m (\n\u001b[1;32m    348\u001b[0m             value \u001b[38;5;129;01mis\u001b[39;00m \u001b[38;5;129;01mnot\u001b[39;00m \u001b[38;5;28;01mNone\u001b[39;00m\n\u001b[1;32m    349\u001b[0m             \u001b[38;5;129;01mand\u001b[39;00m \u001b[38;5;28mself\u001b[39m\u001b[38;5;241m.\u001b[39mtied_params_map \u001b[38;5;129;01mis\u001b[39;00m \u001b[38;5;129;01mnot\u001b[39;00m \u001b[38;5;28;01mNone\u001b[39;00m\n\u001b[1;32m    350\u001b[0m             \u001b[38;5;129;01mand\u001b[39;00m value\u001b[38;5;241m.\u001b[39mdata_ptr() \u001b[38;5;129;01min\u001b[39;00m \u001b[38;5;28mself\u001b[39m\u001b[38;5;241m.\u001b[39mtied_params_map\n\u001b[1;32m    351\u001b[0m             \u001b[38;5;129;01mand\u001b[39;00m \u001b[38;5;28mself\u001b[39m\u001b[38;5;241m.\u001b[39mexecution_device \u001b[38;5;129;01mnot\u001b[39;00m \u001b[38;5;129;01min\u001b[39;00m \u001b[38;5;28mself\u001b[39m\u001b[38;5;241m.\u001b[39mtied_params_map[value\u001b[38;5;241m.\u001b[39mdata_ptr()]\n\u001b[1;32m    352\u001b[0m         ):\n\u001b[1;32m    353\u001b[0m             \u001b[38;5;28mself\u001b[39m\u001b[38;5;241m.\u001b[39mtied_pointers_to_remove\u001b[38;5;241m.\u001b[39madd((value\u001b[38;5;241m.\u001b[39mdata_ptr(), \u001b[38;5;28mself\u001b[39m\u001b[38;5;241m.\u001b[39mexecution_device))\n\u001b[0;32m--> 355\u001b[0m         \u001b[43mset_module_tensor_to_device\u001b[49m\u001b[43m(\u001b[49m\n\u001b[1;32m    356\u001b[0m \u001b[43m            \u001b[49m\u001b[43mmodule\u001b[49m\u001b[43m,\u001b[49m\n\u001b[1;32m    357\u001b[0m \u001b[43m            \u001b[49m\u001b[43mname\u001b[49m\u001b[43m,\u001b[49m\n\u001b[1;32m    358\u001b[0m \u001b[43m            \u001b[49m\u001b[38;5;28;43mself\u001b[39;49m\u001b[38;5;241;43m.\u001b[39;49m\u001b[43mexecution_device\u001b[49m\u001b[43m,\u001b[49m\n\u001b[1;32m    359\u001b[0m \u001b[43m            \u001b[49m\u001b[43mvalue\u001b[49m\u001b[38;5;241;43m=\u001b[39;49m\u001b[43mvalue\u001b[49m\u001b[43m,\u001b[49m\n\u001b[1;32m    360\u001b[0m \u001b[43m            \u001b[49m\u001b[43mfp16_statistics\u001b[49m\u001b[38;5;241;43m=\u001b[39;49m\u001b[43mfp16_statistics\u001b[49m\u001b[43m,\u001b[49m\n\u001b[1;32m    361\u001b[0m \u001b[43m            \u001b[49m\u001b[43mtied_params_map\u001b[49m\u001b[38;5;241;43m=\u001b[39;49m\u001b[38;5;28;43mself\u001b[39;49m\u001b[38;5;241;43m.\u001b[39;49m\u001b[43mtied_params_map\u001b[49m\u001b[43m,\u001b[49m\n\u001b[1;32m    362\u001b[0m \u001b[43m        \u001b[49m\u001b[43m)\u001b[49m\n\u001b[1;32m    364\u001b[0m \u001b[38;5;28;01mreturn\u001b[39;00m send_to_device(args, \u001b[38;5;28mself\u001b[39m\u001b[38;5;241m.\u001b[39mexecution_device), send_to_device(\n\u001b[1;32m    365\u001b[0m     kwargs, \u001b[38;5;28mself\u001b[39m\u001b[38;5;241m.\u001b[39mexecution_device, skip_keys\u001b[38;5;241m=\u001b[39m\u001b[38;5;28mself\u001b[39m\u001b[38;5;241m.\u001b[39mskip_keys\n\u001b[1;32m    366\u001b[0m )\n",
      "File \u001b[0;32m/usr/local/lib/python3.12/site-packages/accelerate/utils/modeling.py:329\u001b[0m, in \u001b[0;36mset_module_tensor_to_device\u001b[0;34m(module, tensor_name, device, value, dtype, fp16_statistics, tied_params_map)\u001b[0m\n\u001b[1;32m    327\u001b[0m             module\u001b[38;5;241m.\u001b[39m_parameters[tensor_name] \u001b[38;5;241m=\u001b[39m param_cls(new_value, requires_grad\u001b[38;5;241m=\u001b[39mold_value\u001b[38;5;241m.\u001b[39mrequires_grad)\n\u001b[1;32m    328\u001b[0m \u001b[38;5;28;01melif\u001b[39;00m \u001b[38;5;28misinstance\u001b[39m(value, torch\u001b[38;5;241m.\u001b[39mTensor):\n\u001b[0;32m--> 329\u001b[0m     new_value \u001b[38;5;241m=\u001b[39m \u001b[43mvalue\u001b[49m\u001b[38;5;241;43m.\u001b[39;49m\u001b[43mto\u001b[49m\u001b[43m(\u001b[49m\u001b[43mdevice\u001b[49m\u001b[43m)\u001b[49m\n\u001b[1;32m    330\u001b[0m \u001b[38;5;28;01melse\u001b[39;00m:\n\u001b[1;32m    331\u001b[0m     new_value \u001b[38;5;241m=\u001b[39m torch\u001b[38;5;241m.\u001b[39mtensor(value, device\u001b[38;5;241m=\u001b[39mdevice)\n",
      "\u001b[0;31mKeyboardInterrupt\u001b[0m: "
     ]
    }
   ],
   "source": [
    "# LOAD GEMMA SCORER\n",
    "scorer = PerplexityCalculator('../model/gemma-2-9b')\n",
    "\n",
    "for i in [0,1,2,3,4,5]:\n",
    "    \n",
    "    print(f\"Processing {i}th sample\")\n",
    "    best_sequence, best_value = search_optimal_permutation(\n",
    "        id=4,\n",
    "        scorer=scorer,\n",
    "        max_iterations=2**9,\n",
    "        BATCH_SIZE=16\n",
    "    )\n",
    "    \n",
    "    sub_df.loc[i, \"best_value\"] = best_value\n",
    "    sub_df.loc[i, \"selected_text\"] = \" \".join(best_sequence)\n",
    "\n",
    "scorer.clear_gpu_memory()"
   ]
  },
  {
   "cell_type": "code",
   "execution_count": null,
   "id": "1aaa3965",
   "metadata": {},
   "outputs": [
    {
     "name": "stderr",
     "output_type": "stream",
     "text": [
      "/tmp/ipykernel_711/293651247.py:1: FutureWarning: Setting an item of incompatible dtype is deprecated and will raise an error in a future version of pandas. Value '1022.1745001752669' has dtype incompatible with int64, please explicitly cast to a compatible dtype first.\n",
      "  sol_df.loc[0, \"best_value\"] = best_value\n"
     ]
    }
   ],
   "source": [
    "sub_df.loc[0, \"best_value\"] = best_value\n",
    "sub_df.loc[0, \"text\"] = \" \".join(best_sequence)"
   ]
  },
  {
   "cell_type": "code",
   "execution_count": null,
   "id": "8957eb19",
   "metadata": {},
   "outputs": [
    {
     "data": {
      "text/html": [
       "<div>\n",
       "<style scoped>\n",
       "    .dataframe tbody tr th:only-of-type {\n",
       "        vertical-align: middle;\n",
       "    }\n",
       "\n",
       "    .dataframe tbody tr th {\n",
       "        vertical-align: top;\n",
       "    }\n",
       "\n",
       "    .dataframe thead th {\n",
       "        text-align: right;\n",
       "    }\n",
       "</style>\n",
       "<table border=\"1\" class=\"dataframe\">\n",
       "  <thead>\n",
       "    <tr style=\"text-align: right;\">\n",
       "      <th></th>\n",
       "      <th>id</th>\n",
       "      <th>text</th>\n",
       "      <th>best_value</th>\n",
       "    </tr>\n",
       "  </thead>\n",
       "  <tbody>\n",
       "    <tr>\n",
       "      <th>0</th>\n",
       "      <td>0</td>\n",
       "      <td>ornament reindeer mistletoe family advent scro...</td>\n",
       "      <td>1022.1745</td>\n",
       "    </tr>\n",
       "    <tr>\n",
       "      <th>1</th>\n",
       "      <td>1</td>\n",
       "      <td>advent chimney elf family fireplace gingerbrea...</td>\n",
       "      <td>0.0000</td>\n",
       "    </tr>\n",
       "    <tr>\n",
       "      <th>2</th>\n",
       "      <td>2</td>\n",
       "      <td>yuletide decorations gifts cheer holiday carol...</td>\n",
       "      <td>0.0000</td>\n",
       "    </tr>\n",
       "    <tr>\n",
       "      <th>3</th>\n",
       "      <td>3</td>\n",
       "      <td>yuletide decorations gifts cheer holiday carol...</td>\n",
       "      <td>0.0000</td>\n",
       "    </tr>\n",
       "    <tr>\n",
       "      <th>4</th>\n",
       "      <td>4</td>\n",
       "      <td>hohoho candle poinsettia snowglobe peppermint ...</td>\n",
       "      <td>0.0000</td>\n",
       "    </tr>\n",
       "    <tr>\n",
       "      <th>5</th>\n",
       "      <td>5</td>\n",
       "      <td>advent chimney elf family fireplace gingerbrea...</td>\n",
       "      <td>0.0000</td>\n",
       "    </tr>\n",
       "  </tbody>\n",
       "</table>\n",
       "</div>"
      ],
      "text/plain": [
       "   id                                               text  best_value\n",
       "0   0  ornament reindeer mistletoe family advent scro...   1022.1745\n",
       "1   1  advent chimney elf family fireplace gingerbrea...      0.0000\n",
       "2   2  yuletide decorations gifts cheer holiday carol...      0.0000\n",
       "3   3  yuletide decorations gifts cheer holiday carol...      0.0000\n",
       "4   4  hohoho candle poinsettia snowglobe peppermint ...      0.0000\n",
       "5   5  advent chimney elf family fireplace gingerbrea...      0.0000"
      ]
     },
     "execution_count": 15,
     "metadata": {},
     "output_type": "execute_result"
    }
   ],
   "source": [
    "sub_df"
   ]
  },
  {
   "cell_type": "code",
   "execution_count": null,
   "id": "4ee1cb10",
   "metadata": {},
   "outputs": [],
   "source": [
    "sub_df.to_csv(f\"../submission{ex_num}.csv\", index=False)"
   ]
  }
 ],
 "metadata": {
  "kernelspec": {
   "display_name": "Python 3 (ipykernel)",
   "language": "python",
   "name": "python3"
  },
  "language_info": {
   "codemirror_mode": {
    "name": "ipython",
    "version": 3
   },
   "file_extension": ".py",
   "mimetype": "text/x-python",
   "name": "python",
   "nbconvert_exporter": "python",
   "pygments_lexer": "ipython3",
   "version": "3.12.8"
  }
 },
 "nbformat": 4,
 "nbformat_minor": 5
}
