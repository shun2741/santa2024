{
 "cells": [
  {
   "cell_type": "markdown",
   "id": "5b9a260d",
   "metadata": {},
   "source": [
    "### SAでのテンプレートを更新\n",
    "バッチサイズ分だけ並行して実施する"
   ]
  },
  {
   "cell_type": "code",
   "execution_count": 1,
   "id": "b32508c5",
   "metadata": {},
   "outputs": [],
   "source": [
    "import os\n",
    "# 環境によって変更\n",
    "# os.chdir('/home/jovyan/work/notebook')"
   ]
  },
  {
   "cell_type": "code",
   "execution_count": 2,
   "id": "fce8450c",
   "metadata": {},
   "outputs": [],
   "source": [
    "CFG = {\n",
    "    \"base_ex_num\": \"014\",  # ベースとしている実験ノートブック\n",
    "    \"qid\": 4,  # 問題番号(0~5)\n",
    "    # \"path\": \"../model\",  # モデルのパス(git管理外なので実行環境で変更)\n",
    "    \"path\": \"../../output\",  \n",
    "    \"restart\": False,  # True: 途中から再開, False: sampleを使って最初から開始\n",
    "    \"restart_file_path\": \"../model/out/current_texts_014_0.csv\",  # 途中から再開する場合のファイルパス\n",
    "    \"start_temperature\": 300,  # 初期温度\n",
    "    \"end_temperature\": 0.001,  # 終了温度\n",
    "    \"cooling_rate\": 0.9999,  # 温度の下がり具合\n",
    "    \"cooling_span\": 10,  # 何iterationごとに温度を下げるか\n",
    "    \"iteration\": int(1e2),  # iteration数\n",
    "    \"batch_size\": 32,  # バッチサイズ(並行して計算する数)\n",
    "    \"save_interval\": 10,  # 何回のiterationごとにlog保存するか\n",
    "    \"split_rule\": \"default\",  # 文章を単語に分割する方法(default(スペース区切り), compress(連続単語はくっつける))\n",
    "    \"neighbor_types\": [\"swap\", \"insert\", \"segment_insert\"],  # 近傍操作の種類\n",
    "    \"seed\": 42,  # seed値\n",
    "}"
   ]
  },
  {
   "cell_type": "code",
   "execution_count": 3,
   "id": "cee854eb",
   "metadata": {},
   "outputs": [
    {
     "name": "stderr",
     "output_type": "stream",
     "text": [
      "\u001b[34m\u001b[1mwandb\u001b[0m: Using wandb-core as the SDK backend.  Please refer to https://wandb.me/wandb-core for more information.\n",
      "\u001b[34m\u001b[1mwandb\u001b[0m: Currently logged in as: \u001b[33mshun2741\u001b[0m (\u001b[33mshun2741-ns-solutions\u001b[0m). Use \u001b[1m`wandb login --relogin`\u001b[0m to force relogin\n"
     ]
    },
    {
     "data": {
      "text/html": [
       "Tracking run with wandb version 0.19.1"
      ],
      "text/plain": [
       "<IPython.core.display.HTML object>"
      ]
     },
     "metadata": {},
     "output_type": "display_data"
    },
    {
     "data": {
      "text/html": [
       "Run data is saved locally in <code>/kqi/git/notebook/wandb/run-20250101_225158-k4ymja9w</code>"
      ],
      "text/plain": [
       "<IPython.core.display.HTML object>"
      ]
     },
     "metadata": {},
     "output_type": "display_data"
    },
    {
     "data": {
      "text/html": [
       "Syncing run <strong><a href='https://wandb.ai/shun2741-ns-solutions/santa2024/runs/k4ymja9w' target=\"_blank\">smooth-surf-15</a></strong> to <a href='https://wandb.ai/shun2741-ns-solutions/santa2024' target=\"_blank\">Weights & Biases</a> (<a href='https://wandb.me/developer-guide' target=\"_blank\">docs</a>)<br>"
      ],
      "text/plain": [
       "<IPython.core.display.HTML object>"
      ]
     },
     "metadata": {},
     "output_type": "display_data"
    },
    {
     "data": {
      "text/html": [
       " View project at <a href='https://wandb.ai/shun2741-ns-solutions/santa2024' target=\"_blank\">https://wandb.ai/shun2741-ns-solutions/santa2024</a>"
      ],
      "text/plain": [
       "<IPython.core.display.HTML object>"
      ]
     },
     "metadata": {},
     "output_type": "display_data"
    },
    {
     "data": {
      "text/html": [
       " View run at <a href='https://wandb.ai/shun2741-ns-solutions/santa2024/runs/k4ymja9w' target=\"_blank\">https://wandb.ai/shun2741-ns-solutions/santa2024/runs/k4ymja9w</a>"
      ],
      "text/plain": [
       "<IPython.core.display.HTML object>"
      ]
     },
     "metadata": {},
     "output_type": "display_data"
    },
    {
     "data": {
      "text/html": [
       "<button onClick=\"this.nextSibling.style.display='block';this.style.display='none';\">Display W&B run</button><iframe src='https://wandb.ai/shun2741-ns-solutions/santa2024/runs/k4ymja9w?jupyter=true' style='border:none;width:100%;height:420px;display:none;'></iframe>"
      ],
      "text/plain": [
       "<wandb.sdk.wandb_run.Run at 0x7f2e01ca7650>"
      ]
     },
     "execution_count": 3,
     "metadata": {},
     "output_type": "execute_result"
    }
   ],
   "source": [
    "import wandb\n",
    "\n",
    "wandb.login()\n",
    "\n",
    "wandb.init(\n",
    "    # プロジェクト名\n",
    "    project=\"santa2024\",\n",
    "\n",
    "    # 記録する実験条件\n",
    "    config=CFG\n",
    ")"
   ]
  },
  {
   "cell_type": "code",
   "execution_count": 4,
   "id": "6806febe",
   "metadata": {},
   "outputs": [],
   "source": [
    "import numpy as np\n",
    "import pandas as pd\n",
    "import os\n",
    "import time\n",
    "import csv\n",
    "\n",
    "from tqdm.notebook import tqdm\n",
    "\n",
    "import random\n",
    "from typing import List, Callable\n",
    "import itertools, math\n",
    "from typing import List, Tuple\n",
    "\n",
    "from utils import PerplexityCalculator\n",
    "# 可視化用\n",
    "import matplotlib.pyplot as plt"
   ]
  },
  {
   "cell_type": "code",
   "execution_count": 5,
   "id": "7dfd8ea9",
   "metadata": {},
   "outputs": [],
   "source": [
    "# seed値の固定\n",
    "# Pythonの組み込みrandomモジュールのシードを設定\n",
    "random.seed(CFG[\"seed\"])\n",
    "\n",
    "# NumPyのシードを設定\n",
    "np.random.seed(CFG[\"seed\"])"
   ]
  },
  {
   "cell_type": "markdown",
   "id": "8ea9236c",
   "metadata": {},
   "source": [
    "### データ読み込み"
   ]
  },
  {
   "cell_type": "code",
   "execution_count": 6,
   "id": "6f960148",
   "metadata": {},
   "outputs": [
    {
     "data": {
      "text/html": [
       "<div>\n",
       "<style scoped>\n",
       "    .dataframe tbody tr th:only-of-type {\n",
       "        vertical-align: middle;\n",
       "    }\n",
       "\n",
       "    .dataframe tbody tr th {\n",
       "        vertical-align: top;\n",
       "    }\n",
       "\n",
       "    .dataframe thead th {\n",
       "        text-align: right;\n",
       "    }\n",
       "</style>\n",
       "<table border=\"1\" class=\"dataframe\">\n",
       "  <thead>\n",
       "    <tr style=\"text-align: right;\">\n",
       "      <th></th>\n",
       "      <th>id</th>\n",
       "      <th>text</th>\n",
       "    </tr>\n",
       "  </thead>\n",
       "  <tbody>\n",
       "    <tr>\n",
       "      <th>0</th>\n",
       "      <td>0</td>\n",
       "      <td>advent chimney elf family fireplace gingerbrea...</td>\n",
       "    </tr>\n",
       "    <tr>\n",
       "      <th>1</th>\n",
       "      <td>1</td>\n",
       "      <td>advent chimney elf family fireplace gingerbrea...</td>\n",
       "    </tr>\n",
       "    <tr>\n",
       "      <th>2</th>\n",
       "      <td>2</td>\n",
       "      <td>yuletide decorations gifts cheer holiday carol...</td>\n",
       "    </tr>\n",
       "    <tr>\n",
       "      <th>3</th>\n",
       "      <td>3</td>\n",
       "      <td>yuletide decorations gifts cheer holiday carol...</td>\n",
       "    </tr>\n",
       "    <tr>\n",
       "      <th>4</th>\n",
       "      <td>4</td>\n",
       "      <td>hohoho candle poinsettia snowglobe peppermint ...</td>\n",
       "    </tr>\n",
       "    <tr>\n",
       "      <th>5</th>\n",
       "      <td>5</td>\n",
       "      <td>advent chimney elf family fireplace gingerbrea...</td>\n",
       "    </tr>\n",
       "  </tbody>\n",
       "</table>\n",
       "</div>"
      ],
      "text/plain": [
       "   id                                               text\n",
       "0   0  advent chimney elf family fireplace gingerbrea...\n",
       "1   1  advent chimney elf family fireplace gingerbrea...\n",
       "2   2  yuletide decorations gifts cheer holiday carol...\n",
       "3   3  yuletide decorations gifts cheer holiday carol...\n",
       "4   4  hohoho candle poinsettia snowglobe peppermint ...\n",
       "5   5  advent chimney elf family fireplace gingerbrea..."
      ]
     },
     "metadata": {},
     "output_type": "display_data"
    }
   ],
   "source": [
    "if CFG[\"restart\"]:\n",
    "    df = pd.read_csv(CFG[\"restart_file_path\"])\n",
    "    display(df)\n",
    "    \n",
    "    if len(df) != CFG[\"batch_size\"]:\n",
    "        AssertionError(\"batch_sizeが再開前のサイズと一致しません\")   \n",
    "else:\n",
    "    df = pd.read_csv(\"../input/sample_submission.csv\")\n",
    "    display(df)"
   ]
  },
  {
   "cell_type": "markdown",
   "id": "2b855d16",
   "metadata": {},
   "source": [
    "### 関数"
   ]
  },
  {
   "cell_type": "code",
   "execution_count": 7,
   "id": "2cb84b10",
   "metadata": {},
   "outputs": [],
   "source": [
    "def split_compress(sentence: str) -> list[str]:\n",
    "    \"\"\"\n",
    "    文章をスペースで分割し、連続している単語を結合する\n",
    "    同一の単語が連続している場合は１つの塊として処理する\n",
    "    args:\n",
    "        sentence: str: 分割する文章\n",
    "    return:\n",
    "        list[str]: 分割された単語のリスト\n",
    "    \"\"\"\n",
    "    words = sentence.split()\n",
    "    \n",
    "    if CFG[\"split_rule\"] != \"compress\":\n",
    "        return words\n",
    "    if not words:\n",
    "        return []\n",
    "\n",
    "    result = []\n",
    "    prev_word = None\n",
    "\n",
    "    for w in words:\n",
    "        if w == prev_word:\n",
    "            # 連続している場合は、リストの最後の要素にスペースを挟んで追加\n",
    "            result[-1] += \" \" + w\n",
    "        else:\n",
    "            # 新しい単語の場合はリストに追加\n",
    "            result.append(w)\n",
    "        prev_word = w\n",
    "\n",
    "    return result"
   ]
  },
  {
   "cell_type": "code",
   "execution_count": 8,
   "id": "a5f3bc02",
   "metadata": {},
   "outputs": [],
   "source": [
    "def plot_score_and_temperature(scores_history, temp_history):\n",
    "    \"\"\"\n",
    "    スコアと温度の推移をプロットする\n",
    "\n",
    "    args:\n",
    "        scores_history: List[float]: スコアの推移\n",
    "        temp_history: List[float]: 温度の推移\n",
    "    return:\n",
    "        None\n",
    "    \"\"\"\n",
    "    # x 軸: イテレーション\n",
    "    x = range(len(scores_history))\n",
    "    \n",
    "    # Figure と Axes を作成\n",
    "    fig, ax1 = plt.subplots(figsize=(8,5))\n",
    "    \n",
    "    # スコア用の軸 (左)\n",
    "    color_score = 'tab:blue'\n",
    "    ax1.set_xlabel('Iteration')\n",
    "    ax1.set_ylabel('Score (Perplexity)', color=color_score)\n",
    "    ax1.plot(x, scores_history, label='Score', color=color_score)\n",
    "    ax1.tick_params(axis='y', labelcolor=color_score)\n",
    "    \n",
    "    # 温度用の軸 (右) : twinx で第二のY軸を作成\n",
    "    ax2 = ax1.twinx()\n",
    "    color_temp = 'tab:red'\n",
    "    ax2.set_ylabel('Temperature', color=color_temp)\n",
    "    ax2.plot(x, temp_history, label='Temperature', color=color_temp)\n",
    "    ax2.tick_params(axis='y', labelcolor=color_temp)\n",
    "    \n",
    "    # タイトル等\n",
    "    plt.title('Score & Temperature Transition')\n",
    "    fig.tight_layout()\n",
    "    plt.show()"
   ]
  },
  {
   "cell_type": "code",
   "execution_count": 9,
   "id": "4d0fe093",
   "metadata": {},
   "outputs": [],
   "source": [
    "def generate_neighbor(sequence, neighbor_type='swap'):\n",
    "    \"\"\"\n",
    "    近傍操作を行う\n",
    "    \n",
    "    args:\n",
    "        sequence: List[str]: 単語のリスト\n",
    "        neighbor_type: str: 近傍操作の種類\n",
    "    return:\n",
    "        List[str]: 近傍操作後の単語のリスト\n",
    "    \"\"\"\n",
    "    new_seq = sequence[:]\n",
    "    length = len(new_seq)\n",
    "\n",
    "    if neighbor_type == 'swap':\n",
    "        # ランダムに2つの位置を選んで入れ替える\n",
    "        a, b = random.sample(range(length), 2)\n",
    "        new_seq[a], new_seq[b] = new_seq[b], new_seq[a]\n",
    "\n",
    "    elif neighbor_type == 'insert':\n",
    "        # ある単語を抜き出し、別の位置に挿入する\n",
    "        idx = random.randint(0, length - 1)\n",
    "        word = new_seq.pop(idx)\n",
    "        new_pos = random.randint(0, length - 1)\n",
    "        new_seq.insert(new_pos, word)\n",
    "\n",
    "    elif neighbor_type == 'segment_insert':\n",
    "        # 長さ2~5のランダムな部分区間を切り出して、別の位置に挿入\n",
    "        # 部分区間の長さをランダムに選択（2～5）\n",
    "        sublist_length = random.randint(2, 5)\n",
    "\n",
    "        # 部分区間の開始位置をランダムに選択\n",
    "        start_idx = random.randint(0, length - sublist_length)\n",
    "\n",
    "        # 部分区間を切り出し\n",
    "        sublist = new_seq[start_idx:start_idx + sublist_length]\n",
    "\n",
    "        # 部分区間を元のリストから削除\n",
    "        new_seq = new_seq[:start_idx] +new_seq[start_idx + sublist_length:]\n",
    "\n",
    "        # 挿入位置をランダムに選択（元の部分区間の位置は除く）\n",
    "        insert_idx = random.randint(0, len(new_seq))\n",
    "\n",
    "        # 切り出した部分区間を挿入\n",
    "        new_seq = new_seq[:insert_idx] + sublist + new_seq[insert_idx:]\n",
    "\n",
    "    # 他にも様々な近傍操作を追加可能\n",
    "\n",
    "    return new_seq"
   ]
  },
  {
   "cell_type": "code",
   "execution_count": 10,
   "id": "7cddb70f",
   "metadata": {},
   "outputs": [],
   "source": [
    "def search_annealing(\n",
    "    scorer,\n",
    "    initial_sequences,\n",
    "):\n",
    "    \"\"\"\n",
    "    焼きなまし法による探索\n",
    "\n",
    "    args:\n",
    "        scorer: PerplexityCalculator: 評価器\n",
    "        initial_sequences: List[List[str]]: 初期解のリスト\n",
    "    \"\"\"\n",
    "    if CFG[\"neighbor_types\"] is None:\n",
    "        neighbor_types = ['swap']\n",
    "\n",
    "    texts = [\" \".join(seq) for seq in initial_sequences]\n",
    "    scores = scorer.get_perplexity(texts, batch_size=CFG[\"batch_size\"])\n",
    "\n",
    "    # スコア推移を記録するリスト\n",
    "    scores_history = []\n",
    "    temp_history = []\n",
    "    \n",
    "    # 現在の状態を持つリスト\n",
    "    current_seqs = []\n",
    "    current_scores = []\n",
    "    \n",
    "    # 初期解の生成\n",
    "    for i in range(CFG[\"batch_size\"]):\n",
    "        print(\"current_seq:\", initial_sequences[i])\n",
    "        print(\"current_score:\", scores[i])\n",
    "        current_seqs.append(initial_sequences[i])\n",
    "        current_scores.append(scores[i])\n",
    "    \n",
    "    idx = np.argmin(current_scores)\n",
    "    best_score = current_scores[idx]\n",
    "    best_seq = current_seqs[idx]\n",
    "    print(\"best_score:\", best_score)\n",
    "    print(\"best_text:\", \" \".join(best_seq))\n",
    "    \n",
    "    # 初期温度        \n",
    "    temperature = CFG[\"start_temperature\"]\n",
    "    \n",
    "    for itr in tqdm(range(CFG[\"iteration\"])):\n",
    "        # 可視化用の記録\n",
    "        scores_history.append(current_scores[0])\n",
    "        temp_history.append(temperature)\n",
    "        \n",
    "        # 近傍候補をまとめて生成\n",
    "        neighbor_candidates = []\n",
    "        for i in range(CFG[\"batch_size\"]):\n",
    "            # 近傍操作の種類をランダムに選ぶ\n",
    "            n_type = random.choice(CFG[\"neighbor_types\"])\n",
    "            neighbor_seq = generate_neighbor(current_seqs[i], n_type)\n",
    "            neighbor_candidates.append(neighbor_seq)\n",
    "\n",
    "        \n",
    "        # まとめてスコアを計算（GPUを活用）\n",
    "        texts = [\" \".join(seq) for seq in neighbor_candidates]\n",
    "        # print(\"texts:\", texts)\n",
    "        \n",
    "        scores = scorer.get_perplexity(texts, batch_size=CFG[\"batch_size\"])\n",
    "        # print(\"scores:\", scores)\n",
    "        \n",
    "        # 候補の中から1つを焼きなまし法の確率的受容ルールで選ぶ\n",
    "        for i, (cand_seq, cand_score) in enumerate(zip(neighbor_candidates, scores)):\n",
    "            delta = cand_score - current_scores[i]\n",
    "            accept_prob = math.exp(-delta / temperature) if delta > 0 else 1.0\n",
    "                \n",
    "            # スコアが良ければ必ず受容\n",
    "            if random.random() < accept_prob:\n",
    "                current_scores[i] = cand_score\n",
    "                current_seqs[i] = cand_seq\n",
    "\n",
    "        # ベストの更新\n",
    "        if np.min(current_scores) < best_score:\n",
    "            # current_scoresの最小値のインデックスを取得\n",
    "            idx = np.argmin(current_scores)\n",
    "            \n",
    "            best_score = current_scores[idx]\n",
    "            best_seq = current_seqs[idx]\n",
    "            print(f\"iter {itr}: best_score: {best_score}\")\n",
    "            print(\"best_text:\", \" \".join(best_seq))\n",
    "            \n",
    "\n",
    "        # 温度を下げる\n",
    "        if itr % CFG[\"cooling_span\"] == 0:\n",
    "            temperature *= CFG[\"cooling_rate\"]\n",
    "            wandb.log({\"temperature\": temperature, \"score\":current_scores[0]})\n",
    "        \n",
    "        if itr % CFG[\"save_interval\"] == 0:\n",
    "            print(f\"iter :{itr}, best_score: {best_score}, temperature: {temperature}\")\n",
    "            wandb.log({\"iteration\": itr, \"best_score\": best_score, \"best_text\": \" \".join(best_seq)})\n",
    "\n",
    "            # current_seqsを結合して文字列保存\n",
    "            current_seqs_text = [\" \".join(seq) for seq in current_seqs]\n",
    "            # current_seqsとcurrent_scoresのリストをdfとして保存\n",
    "            df = pd.DataFrame(current_seqs_text)\n",
    "            df[\"score\"] = current_scores\n",
    "            \n",
    "            # indexとなっていたものをsequencre列に変更\n",
    "            df = df.reset_index()\n",
    "            df = df.rename(columns={0: \"text\"})\n",
    "            \n",
    "            path = CFG[\"path\"]\n",
    "            ex_num = CFG[\"base_ex_num\"]\n",
    "            qid = CFG[\"qid\"]\n",
    "            df.to_csv(f\"{path}/out/current_texts_{ex_num}_{qid}.csv\", index=False)\n",
    "            \n",
    "        if temperature < CFG[\"end_temperature\"]:\n",
    "            break\n",
    "    \n",
    "    # 現在のラン名を取得\n",
    "    current_run_name = wandb.run.name\n",
    "    print(f\"Current Run Name: {current_run_name}\")\n",
    "    \n",
    "    # artifactに保存\n",
    "    artifact = wandb.Artifact(name=current_run_name, type=\"texts\")\n",
    "    path = CFG[\"path\"]\n",
    "    ex_num = CFG[\"base_ex_num\"]\n",
    "    qid = CFG[\"qid\"]\n",
    "    artifact.add_file(local_path =f\"{path}/out/current_texts_{ex_num}_{qid}.csv\", name =f\"current_texts_{ex_num}_{qid}.csv\")\n",
    "    artifact.save()\n",
    "        \n",
    "    return best_seq, best_score, scores_history, temp_history"
   ]
  },
  {
   "cell_type": "code",
   "execution_count": 11,
   "id": "22fbd618",
   "metadata": {},
   "outputs": [],
   "source": [
    "def search_optimal_permutation(\n",
    "    scorer\n",
    "):\n",
    "\n",
    "    if CFG[\"restart\"]:\n",
    "        df = pd.read_csv(CFG[\"restart_file_path\"])\n",
    "        \n",
    "        # dfのsequence列をリストに変換\n",
    "        initial_texts = df[\"text\"].tolist()\n",
    "        # initial_sequencesをスペースで区切ってリストに変換\n",
    "        initial_sequences = [split_compress(text) for text in initial_texts]\n",
    "    \n",
    "    else:\n",
    "        df = pd.read_csv(\"../input/sample_submission.csv\")    \n",
    "        qid = CFG[\"qid\"]\n",
    "        original_text = df.iloc[qid][\"text\"]\n",
    "        original_seq = split_compress(original_text)\n",
    "        initial_sequences = [random.sample(original_seq, len(original_seq)) for _ in range(CFG[\"batch_size\"])]\n",
    "    \n",
    "    start = time.time()\n",
    "    print(\"---------焼きなまし処理開始---------\")\n",
    "    best_sequence, best_score, scores_history, temp_history = search_annealing(\n",
    "        scorer=scorer,\n",
    "        initial_sequences=initial_sequences,\n",
    "    )\n",
    "    print(\"---------焼きなまし処理終了---------\")\n",
    "\n",
    "    print(f\"Elapsed time: {time.time() - start:.2f} sec\")\n",
    "    print(f\"best_score: {best_score}\")\n",
    "    \n",
    "    plot_score_and_temperature(scores_history, temp_history)\n",
    "    \n",
    "    return best_sequence, best_score\n"
   ]
  },
  {
   "cell_type": "code",
   "execution_count": 12,
   "id": "9f775900-1acf-4870-bd4c-37c08b14fcc9",
   "metadata": {},
   "outputs": [
    {
     "name": "stdout",
     "output_type": "stream",
     "text": [
      "cuda\n"
     ]
    },
    {
     "data": {
      "application/vnd.jupyter.widget-view+json": {
       "model_id": "62cdb830f1464cf49fd754151b0037d7",
       "version_major": 2,
       "version_minor": 0
      },
      "text/plain": [
       "Loading checkpoint shards:   0%|          | 0/8 [00:00<?, ?it/s]"
      ]
     },
     "metadata": {},
     "output_type": "display_data"
    }
   ],
   "source": [
    "# LOAD GEMMA SCORER\n",
    "scorer = PerplexityCalculator(f'{CFG[\"path\"]}/gemma_2_9b')"
   ]
  },
  {
   "cell_type": "code",
   "execution_count": 13,
   "id": "e253c6da-f86c-48ba-87e1-022ea5aa2329",
   "metadata": {},
   "outputs": [],
   "source": [
    "# scorer.clear_gpu_memory()"
   ]
  },
  {
   "cell_type": "code",
   "execution_count": 14,
   "id": "8d05bef9",
   "metadata": {},
   "outputs": [
    {
     "name": "stdout",
     "output_type": "stream",
     "text": [
      "Processing\n",
      "---------焼きなまし処理開始---------\n",
      "current_seq: ['that', 'chocolate', 'candle', 'hope', 'believe', 'wonder', 'candy', 'fruitcake', 'angel', 'eggnog', 'of', 'fireplace', 'poinsettia', 'from', 'kaggle', 'workshop', 'with', 'wish', 'to', 'you', 'it', 'greeting', 'merry', 'night', 'milk', 'have', 'we', 'wreath', 'peace', 'not', 'hohoho', 'the', 'wrapping', 'game', 'and', 'in', 'snowglobe', 'toy', 'season', 'star', 'dream', 'cookie', 'puzzle', 'bow', 'as', 'peppermint', 'doll', 'joy', 'card', 'paper']\n",
      "current_score: 1447.138952485479\n",
      "current_seq: ['wrapping', 'eggnog', 'the', 'peace', 'that', 'in', 'card', 'to', 'toy', 'peppermint', 'poinsettia', 'wonder', 'you', 'we', 'and', 'fruitcake', 'kaggle', 'hope', 'cookie', 'merry', 'bow', 'doll', 'it', 'night', 'star', 'angel', 'season', 'candy', 'not', 'milk', 'with', 'fireplace', 'wish', 'chocolate', 'of', 'dream', 'wreath', 'as', 'game', 'greeting', 'snowglobe', 'believe', 'hohoho', 'candle', 'from', 'joy', 'puzzle', 'workshop', 'paper', 'have']\n",
      "current_score: 1773.0717085305068\n",
      "current_seq: ['to', 'as', 'merry', 'workshop', 'have', 'star', 'paper', 'we', 'cookie', 'puzzle', 'dream', 'candy', 'believe', 'the', 'angel', 'in', 'fireplace', 'not', 'card', 'chocolate', 'peppermint', 'kaggle', 'of', 'poinsettia', 'wrapping', 'candle', 'snowglobe', 'it', 'from', 'eggnog', 'you', 'bow', 'toy', 'hope', 'wonder', 'and', 'greeting', 'wreath', 'hohoho', 'game', 'wish', 'night', 'joy', 'fruitcake', 'season', 'peace', 'doll', 'that', 'milk', 'with']\n",
      "current_score: 2147.1034924485148\n",
      "current_seq: ['cookie', 'hohoho', 'you', 'from', 'dream', 'wish', 'doll', 'with', 'fruitcake', 'that', 'joy', 'it', 'toy', 'puzzle', 'card', 'game', 'wreath', 'we', 'merry', 'believe', 'and', 'snowglobe', 'not', 'bow', 'paper', 'to', 'chocolate', 'candle', 'the', 'peace', 'poinsettia', 'in', 'milk', 'star', 'peppermint', 'as', 'angel', 'season', 'candy', 'wonder', 'hope', 'fireplace', 'have', 'greeting', 'wrapping', 'of', 'workshop', 'eggnog', 'night', 'kaggle']\n",
      "current_score: 1652.6845586534514\n",
      "current_seq: ['wreath', 'night', 'chocolate', 'believe', 'wonder', 'peppermint', 'season', 'candle', 'of', 'the', 'as', 'have', 'in', 'hohoho', 'with', 'snowglobe', 'and', 'that', 'poinsettia', 'fireplace', 'game', 'star', 'dream', 'from', 'candy', 'not', 'you', 'fruitcake', 'hope', 'wish', 'peace', 'joy', 'card', 'bow', 'wrapping', 'toy', 'greeting', 'angel', 'it', 'doll', 'workshop', 'eggnog', 'puzzle', 'kaggle', 'milk', 'to', 'merry', 'paper', 'cookie', 'we']\n",
      "current_score: 1153.7597655923937\n",
      "current_seq: ['fruitcake', 'believe', 'toy', 'from', 'angel', 'night', 'candy', 'fireplace', 'doll', 'hope', 'cookie', 'we', 'peppermint', 'with', 'the', 'kaggle', 'snowglobe', 'hohoho', 'eggnog', 'in', 'wrapping', 'it', 'chocolate', 'star', 'workshop', 'and', 'milk', 'as', 'you', 'candle', 'bow', 'season', 'wish', 'peace', 'not', 'wonder', 'dream', 'paper', 'to', 'of', 'greeting', 'card', 'have', 'merry', 'puzzle', 'poinsettia', 'joy', 'that', 'game', 'wreath']\n",
      "current_score: 1773.0717085305068\n",
      "current_seq: ['snowglobe', 'kaggle', 'of', 'milk', 'wish', 'wreath', 'game', 'we', 'as', 'eggnog', 'doll', 'peppermint', 'and', 'believe', 'paper', 'chocolate', 'to', 'poinsettia', 'that', 'workshop', 'season', 'peace', 'night', 'dream', 'not', 'candy', 'fruitcake', 'cookie', 'the', 'angel', 'wrapping', 'toy', 'from', 'puzzle', 'wonder', 'star', 'fireplace', 'candle', 'hohoho', 'merry', 'bow', 'you', 'joy', 'hope', 'greeting', 'card', 'have', 'in', 'with', 'it']\n",
      "current_score: 1354.1611985934896\n",
      "current_seq: ['believe', 'card', 'peace', 'game', 'night', 'angel', 'joy', 'in', 'have', 'wreath', 'hohoho', 'the', 'not', 'fruitcake', 'candy', 'dream', 'chocolate', 'to', 'puzzle', 'and', 'star', 'of', 'wish', 'greeting', 'you', 'fireplace', 'season', 'merry', 'milk', 'with', 'kaggle', 'we', 'candle', 'poinsettia', 'workshop', 'as', 'peppermint', 'it', 'toy', 'eggnog', 'bow', 'wonder', 'cookie', 'paper', 'snowglobe', 'from', 'wrapping', 'that', 'doll', 'hope']\n",
      "current_score: 1880.066636231816\n",
      "current_seq: ['peppermint', 'with', 'puzzle', 'angel', 'poinsettia', 'card', 'of', 'the', 'from', 'fireplace', 'candy', 'as', 'joy', 'we', 'and', 'greeting', 'workshop', 'believe', 'fruitcake', 'doll', 'wrapping', 'hope', 'that', 'wreath', 'not', 'to', 'kaggle', 'chocolate', 'eggnog', 'season', 'bow', 'hohoho', 'merry', 'game', 'paper', 'toy', 'dream', 'milk', 'snowglobe', 'cookie', 'it', 'candle', 'star', 'you', 'peace', 'wonder', 'in', 'night', 'wish', 'have']\n",
      "current_score: 1601.8368003527937\n",
      "current_seq: ['joy', 'wonder', 'we', 'candle', 'it', 'toy', 'paper', 'season', 'hope', 'peppermint', 'have', 'greeting', 'wish', 'not', 'angel', 'as', 'you', 'chocolate', 'dream', 'eggnog', 'peace', 'candy', 'wreath', 'snowglobe', 'kaggle', 'workshop', 'doll', 'game', 'wrapping', 'to', 'star', 'bow', 'with', 'fruitcake', 'night', 'hohoho', 'card', 'merry', 'from', 'believe', 'and', 'cookie', 'milk', 'puzzle', 'the', 'poinsettia', 'that', 'in', 'of', 'fireplace']\n",
      "current_score: 1608.1062123274673\n",
      "current_seq: ['wish', 'joy', 'it', 'bow', 'merry', 'paper', 'peace', 'the', 'candy', 'toy', 'you', 'wrapping', 'doll', 'to', 'we', 'with', 'hohoho', 'from', 'not', 'fruitcake', 'workshop', 'angel', 'star', 'kaggle', 'as', 'game', 'wonder', 'card', 'greeting', 'milk', 'dream', 'believe', 'eggnog', 'poinsettia', 'puzzle', 'have', 'and', 'cookie', 'fireplace', 'hope', 'candle', 'snowglobe', 'peppermint', 'of', 'night', 'that', 'wreath', 'season', 'in', 'chocolate']\n",
      "current_score: 1887.4250089947466\n",
      "current_seq: ['in', 'peppermint', 'cookie', 'bow', 'that', 'to', 'toy', 'wrapping', 'star', 'paper', 'believe', 'puzzle', 'hohoho', 'fruitcake', 'fireplace', 'wonder', 'doll', 'from', 'snowglobe', 'hope', 'chocolate', 'the', 'have', 'angel', 'we', 'you', 'season', 'dream', 'milk', 'joy', 'game', 'it', 'greeting', 'workshop', 'peace', 'kaggle', 'poinsettia', 'wreath', 'wish', 'not', 'as', 'night', 'and', 'with', 'merry', 'candy', 'candle', 'eggnog', 'card', 'of']\n",
      "current_score: 2285.5797704346282\n",
      "current_seq: ['as', 'peace', 'believe', 'hope', 'season', 'merry', 'angel', 'eggnog', 'candy', 'puzzle', 'wonder', 'wrapping', 'that', 'workshop', 'peppermint', 'bow', 'not', 'kaggle', 'cookie', 'to', 'candle', 'fruitcake', 'wreath', 'milk', 'toy', 'and', 'we', 'greeting', 'hohoho', 'card', 'paper', 'from', 'wish', 'doll', 'of', 'joy', 'night', 'fireplace', 'have', 'dream', 'with', 'snowglobe', 'chocolate', 'star', 'poinsettia', 'game', 'the', 'you', 'in', 'it']\n",
      "current_score: 1887.4250089947466\n",
      "current_seq: ['it', 'not', 'paper', 'you', 'game', 'cookie', 'candy', 'in', 'angel', 'candle', 'from', 'of', 'to', 'that', 'eggnog', 'fireplace', 'we', 'with', 'doll', 'and', 'wreath', 'toy', 'as', 'fruitcake', 'wonder', 'have', 'wrapping', 'night', 'wish', 'workshop', 'season', 'poinsettia', 'believe', 'hohoho', 'milk', 'the', 'snowglobe', 'card', 'hope', 'greeting', 'dream', 'puzzle', 'merry', 'star', 'joy', 'peppermint', 'bow', 'kaggle', 'peace', 'chocolate']\n",
      "current_score: 1985.7461168433776\n",
      "current_seq: ['it', 'chocolate', 'to', 'workshop', 'cookie', 'with', 'dream', 'card', 'game', 'and', 'that', 'we', 'have', 'joy', 'fruitcake', 'candle', 'from', 'wrapping', 'paper', 'milk', 'greeting', 'the', 'poinsettia', 'peace', 'as', 'merry', 'in', 'snowglobe', 'puzzle', 'wreath', 'star', 'bow', 'angel', 'doll', 'you', 'of', 'eggnog', 'hope', 'candy', 'wonder', 'believe', 'hohoho', 'night', 'kaggle', 'wish', 'not', 'season', 'toy', 'fireplace', 'peppermint']\n",
      "current_score: 2303.505794747238\n",
      "current_seq: ['fireplace', 'doll', 'you', 'wreath', 'have', 'hope', 'in', 'angel', 'milk', 'cookie', 'kaggle', 'of', 'with', 'merry', 'believe', 'eggnog', 'and', 'night', 'the', 'wrapping', 'wonder', 'peace', 'joy', 'season', 'toy', 'game', 'hohoho', 'star', 'as', 'it', 'greeting', 'fruitcake', 'we', 'candy', 'bow', 'peppermint', 'puzzle', 'from', 'that', 'dream', 'card', 'not', 'snowglobe', 'workshop', 'candle', 'chocolate', 'paper', 'poinsettia', 'wish', 'to']\n",
      "current_score: 2241.3726559431707\n",
      "current_seq: ['have', 'as', 'star', 'night', 'candle', 'eggnog', 'peace', 'wonder', 'paper', 'believe', 'joy', 'of', 'card', 'milk', 'the', 'wreath', 'greeting', 'fireplace', 'season', 'doll', 'angel', 'it', 'candy', 'puzzle', 'wish', 'chocolate', 'snowglobe', 'fruitcake', 'game', 'and', 'hope', 'with', 'cookie', 'in', 'that', 'peppermint', 'to', 'bow', 'kaggle', 'toy', 'you', 'we', 'merry', 'poinsettia', 'workshop', 'dream', 'not', 'wrapping', 'hohoho', 'from']\n",
      "current_score: 1815.118892385283\n",
      "current_seq: ['hope', 'poinsettia', 'snowglobe', 'the', 'peace', 'with', 'candy', 'that', 'star', 'fruitcake', 'hohoho', 'to', 'as', 'milk', 'and', 'night', 'season', 'doll', 'from', 'not', 'fireplace', 'believe', 'have', 'bow', 'we', 'toy', 'angel', 'paper', 'of', 'merry', 'candle', 'peppermint', 'wreath', 'puzzle', 'greeting', 'cookie', 'joy', 'you', 'it', 'dream', 'game', 'wonder', 'wish', 'wrapping', 'chocolate', 'card', 'eggnog', 'workshop', 'in', 'kaggle']\n",
      "current_score: 1932.184003221256\n",
      "current_seq: ['we', 'workshop', 'that', 'kaggle', 'dream', 'it', 'eggnog', 'game', 'believe', 'doll', 'the', 'peppermint', 'with', 'hohoho', 'bow', 'night', 'milk', 'peace', 'poinsettia', 'chocolate', 'puzzle', 'greeting', 'cookie', 'angel', 'wonder', 'star', 'season', 'wreath', 'candy', 'merry', 'wish', 'fruitcake', 'you', 'snowglobe', 'in', 'of', 'wrapping', 'and', 'hope', 'candle', 'to', 'from', 'toy', 'have', 'not', 'joy', 'card', 'paper', 'fireplace', 'as']\n",
      "current_score: 2358.13186045924\n",
      "current_seq: ['with', 'joy', 'kaggle', 'paper', 'hope', 'wish', 'angel', 'star', 'night', 'eggnog', 'and', 'poinsettia', 'fireplace', 'merry', 'dream', 'candle', 'that', 'wonder', 'not', 'wrapping', 'season', 'bow', 'candy', 'peace', 'it', 'milk', 'wreath', 'believe', 'the', 'to', 'from', 'of', 'card', 'workshop', 'greeting', 'you', 'chocolate', 'as', 'fruitcake', 'toy', 'game', 'we', 'in', 'cookie', 'snowglobe', 'puzzle', 'doll', 'peppermint', 'have', 'hohoho']\n",
      "current_score: 1752.4147974336688\n",
      "current_seq: ['cookie', 'eggnog', 'merry', 'dream', 'from', 'chocolate', 'paper', 'wish', 'hohoho', 'angel', 'kaggle', 'bow', 'snowglobe', 'toy', 'wreath', 'card', 'star', 'night', 'of', 'fruitcake', 'candy', 'hope', 'peppermint', 'puzzle', 'wonder', 'greeting', 'believe', 'the', 'have', 'as', 'joy', 'with', 'we', 'and', 'season', 'in', 'milk', 'candle', 'wrapping', 'to', 'peace', 'game', 'poinsettia', 'doll', 'it', 'you', 'fireplace', 'not', 'workshop', 'that']\n",
      "current_score: 2122.088979078394\n",
      "current_seq: ['believe', 'cookie', 'the', 'puzzle', 'wrapping', 'toy', 'and', 'wish', 'candy', 'peppermint', 'hope', 'bow', 'season', 'it', 'in', 'hohoho', 'peace', 'joy', 'star', 'fireplace', 'that', 'wonder', 'from', 'kaggle', 'doll', 'game', 'milk', 'card', 'with', 'night', 'as', 'fruitcake', 'chocolate', 'of', 'greeting', 'workshop', 'dream', 'wreath', 'angel', 'eggnog', 'not', 'merry', 'have', 'to', 'you', 'candle', 'snowglobe', 'paper', 'poinsettia', 'we']\n",
      "current_score: 1917.1476280156185\n",
      "current_seq: ['fruitcake', 'night', 'kaggle', 'wreath', 'cookie', 'hohoho', 'puzzle', 'bow', 'have', 'not', 'peppermint', 'milk', 'dream', 'season', 'paper', 'eggnog', 'to', 'wrapping', 'merry', 'star', 'greeting', 'we', 'wish', 'believe', 'hope', 'candle', 'joy', 'poinsettia', 'chocolate', 'and', 'that', 'you', 'as', 'workshop', 'snowglobe', 'toy', 'game', 'doll', 'fireplace', 'peace', 'the', 'in', 'with', 'of', 'card', 'from', 'angel', 'wonder', 'it', 'candy']\n",
      "current_score: 1800.9935250997423\n",
      "current_seq: ['puzzle', 'believe', 'wreath', 'bow', 'to', 'not', 'doll', 'game', 'with', 'eggnog', 'in', 'wrapping', 'we', 'star', 'kaggle', 'wonder', 'cookie', 'dream', 'from', 'candy', 'season', 'hohoho', 'paper', 'angel', 'the', 'as', 'hope', 'that', 'poinsettia', 'you', 'have', 'peace', 'fireplace', 'workshop', 'milk', 'chocolate', 'wish', 'peppermint', 'snowglobe', 'fruitcake', 'merry', 'candle', 'joy', 'card', 'toy', 'and', 'greeting', 'it', 'of', 'night']\n",
      "current_score: 1232.9778022981784\n",
      "current_seq: ['it', 'paper', 'hope', 'hohoho', 'to', 'not', 'snowglobe', 'and', 'star', 'peace', 'wonder', 'kaggle', 'greeting', 'in', 'toy', 'dream', 'candy', 'fruitcake', 'poinsettia', 'puzzle', 'we', 'as', 'candle', 'that', 'doll', 'card', 'peppermint', 'have', 'milk', 'game', 'workshop', 'eggnog', 'wish', 'wrapping', 'cookie', 'wreath', 'night', 'angel', 'of', 'the', 'chocolate', 'merry', 'bow', 'from', 'you', 'with', 'season', 'joy', 'believe', 'fireplace']\n",
      "current_score: 1718.5200270175208\n",
      "current_seq: ['the', 'card', 'eggnog', 'paper', 'hohoho', 'dream', 'angel', 'chocolate', 'cookie', 'we', 'with', 'of', 'wrapping', 'that', 'fruitcake', 'wonder', 'milk', 'candle', 'merry', 'have', 'joy', 'it', 'star', 'poinsettia', 'fireplace', 'not', 'greeting', 'puzzle', 'you', 'workshop', 'snowglobe', 'peppermint', 'wish', 'hope', 'to', 'night', 'in', 'season', 'wreath', 'candy', 'bow', 'kaggle', 'and', 'believe', 'from', 'peace', 'doll', 'game', 'as', 'toy']\n",
      "current_score: 1698.4986622608421\n",
      "current_seq: ['have', 'fruitcake', 'star', 'in', 'bow', 'hope', 'poinsettia', 'card', 'workshop', 'night', 'that', 'believe', 'it', 'we', 'of', 'angel', 'greeting', 'snowglobe', 'paper', 'candy', 'to', 'wish', 'fireplace', 'as', 'wonder', 'not', 'season', 'cookie', 'merry', 'the', 'joy', 'hohoho', 'candle', 'game', 'chocolate', 'wrapping', 'toy', 'puzzle', 'you', 'with', 'milk', 'doll', 'kaggle', 'wreath', 'dream', 'from', 'eggnog', 'peppermint', 'peace', 'and']\n",
      "current_score: 2113.8157381974315\n",
      "current_seq: ['puzzle', 'candy', 'angel', 'dream', 'doll', 'chocolate', 'it', 'candle', 'we', 'hohoho', 'greeting', 'believe', 'of', 'merry', 'not', 'as', 'you', 'snowglobe', 'have', 'card', 'workshop', 'wreath', 'wish', 'milk', 'poinsettia', 'and', 'wonder', 'from', 'night', 'peace', 'fireplace', 'bow', 'season', 'with', 'the', 'in', 'toy', 'game', 'star', 'peppermint', 'hope', 'that', 'to', 'joy', 'fruitcake', 'eggnog', 'kaggle', 'wrapping', 'paper', 'cookie']\n",
      "current_score: 1297.2069732040436\n",
      "current_seq: ['eggnog', 'merry', 'and', 'puzzle', 'peppermint', 'candy', 'hope', 'in', 'that', 'of', 'the', 'we', 'wrapping', 'wreath', 'peace', 'cookie', 'wish', 'fireplace', 'fruitcake', 'paper', 'greeting', 'snowglobe', 'to', 'from', 'bow', 'have', 'not', 'star', 'workshop', 'wonder', 'chocolate', 'season', 'game', 'milk', 'toy', 'angel', 'doll', 'candle', 'kaggle', 'dream', 'it', 'as', 'you', 'believe', 'joy', 'night', 'hohoho', 'with', 'poinsettia', 'card']\n",
      "current_score: 1364.7820165072585\n",
      "current_seq: ['fireplace', 'fruitcake', 'from', 'card', 'candy', 'the', 'snowglobe', 'of', 'with', 'have', 'season', 'chocolate', 'bow', 'greeting', 'kaggle', 'not', 'peace', 'joy', 'to', 'angel', 'wreath', 'dream', 'we', 'peppermint', 'in', 'believe', 'and', 'milk', 'doll', 'hope', 'paper', 'star', 'as', 'you', 'workshop', 'wrapping', 'merry', 'toy', 'puzzle', 'wish', 'wonder', 'hohoho', 'it', 'game', 'candle', 'poinsettia', 'night', 'eggnog', 'cookie', 'that']\n",
      "current_score: 1731.9985466406467\n",
      "current_seq: ['doll', 'puzzle', 'to', 'it', 'paper', 'peppermint', 'we', 'that', 'candle', 'eggnog', 'wreath', 'workshop', 'wrapping', 'bow', 'cookie', 'season', 'game', 'card', 'joy', 'wish', 'in', 'of', 'peace', 'star', 'poinsettia', 'have', 'with', 'you', 'from', 'night', 'as', 'candy', 'wonder', 'and', 'believe', 'not', 'chocolate', 'fruitcake', 'milk', 'snowglobe', 'fireplace', 'merry', 'greeting', 'the', 'hohoho', 'angel', 'toy', 'kaggle', 'hope', 'dream']\n",
      "current_score: 1546.5006307786239\n",
      "current_seq: ['wonder', 'paper', 'and', 'snowglobe', 'hohoho', 'workshop', 'joy', 'with', 'candy', 'dream', 'peace', 'merry', 'chocolate', 'as', 'star', 'fireplace', 'doll', 'have', 'wrapping', 'hope', 'greeting', 'of', 'that', 'milk', 'season', 'wreath', 'poinsettia', 'toy', 'candle', 'it', 'to', 'kaggle', 'card', 'game', 'from', 'puzzle', 'fruitcake', 'the', 'angel', 'believe', 'peppermint', 'we', 'cookie', 'not', 'bow', 'wish', 'you', 'eggnog', 'in', 'night']\n",
      "current_score: 2105.574751625949\n",
      "best_score: 1153.7597655923937\n",
      "best_text: wreath night chocolate believe wonder peppermint season candle of the as have in hohoho with snowglobe and that poinsettia fireplace game star dream from candy not you fruitcake hope wish peace joy card bow wrapping toy greeting angel it doll workshop eggnog puzzle kaggle milk to merry paper cookie we\n"
     ]
    },
    {
     "data": {
      "application/vnd.jupyter.widget-view+json": {
       "model_id": "646740d3507c491cbb418e16af49f393",
       "version_major": 2,
       "version_minor": 0
      },
      "text/plain": [
       "  0%|          | 0/100 [00:00<?, ?it/s]"
      ]
     },
     "metadata": {},
     "output_type": "display_data"
    },
    {
     "name": "stdout",
     "output_type": "stream",
     "text": [
      "iter :0, best_score: 1153.7597655923937, temperature: 299.97\n",
      "iter 3: best_score: 1096.6331584284585\n",
      "best_text: puzzle candy angel dream doll night candle we hohoho greeting workshop of merry not as you snowglobe have card believe wreath wish milk poinsettia and wonder from chocolate it peace fireplace bow season with the in toy game star peppermint hope that to joy fruitcake eggnog kaggle wrapping paper cookie\n",
      "iter 4: best_score: 1092.357790916928\n",
      "best_text: puzzle candy angel dream doll night candle we hohoho greeting workshop of merry not as you snowglobe in toy game star peppermint have card believe wreath wish milk poinsettia and wonder from chocolate it peace fireplace bow season with the hope that to joy fruitcake eggnog kaggle wrapping paper cookie\n",
      "iter 5: best_score: 1083.8569951461084\n",
      "best_text: puzzle candy angel dream doll night candle we hohoho greeting workshop of merry not as you snowglobe in toy game star peppermint have card believe wreath wish milk poinsettia and wonder from chocolate it peace bow season with the hope that to joy fruitcake fireplace eggnog kaggle wrapping paper cookie\n",
      "iter :10, best_score: 1083.8569951461084, temperature: 299.94000300000005\n",
      "iter :20, best_score: 1083.8569951461084, temperature: 299.91000899970004\n",
      "iter :30, best_score: 1083.8569951461084, temperature: 299.8800179988001\n",
      "iter 33: best_score: 1042.3350857163095\n",
      "best_text: paper game puzzle night candle eggnog toy wonder the that candy have season greeting milk star wish chocolate cookie from poinsettia we merry snowglobe hope and angel to fruitcake you as believe joy bow in peppermint kaggle of with workshop doll wrapping hohoho not card fireplace it dream wreath peace\n",
      "iter :40, best_score: 1042.3350857163095, temperature: 299.8500299970002\n",
      "iter :50, best_score: 1042.3350857163095, temperature: 299.8200449940005\n",
      "iter :60, best_score: 1042.3350857163095, temperature: 299.7900629895011\n",
      "iter 66: best_score: 1038.271406328768\n",
      "best_text: wreath not wrapping poinsettia snowglobe we with doll card bow wish fruitcake of star joy milk it paper you that greeting believe night as and chocolate dream candy have peace from the angel hope hohoho candle wonder game puzzle toy cookie season fireplace merry kaggle workshop in to peppermint eggnog\n",
      "iter 69: best_score: 1026.1751780534337\n",
      "best_text: wreath not wrapping poinsettia snowglobe we with doll card that wish fruitcake of star joy milk it paper you bow greeting believe night as and chocolate dream merry have peace from the angel hope hohoho candle wonder game puzzle toy cookie season fireplace eggnog kaggle workshop in to peppermint candy\n",
      "iter 70: best_score: 983.0156100192773\n",
      "best_text: wreath not wrapping poinsettia merry have snowglobe we with doll card that wish fruitcake of star joy milk it paper you bow greeting believe night as and chocolate dream peace from the angel hope hohoho candle wonder game puzzle toy cookie season fireplace eggnog kaggle workshop in to peppermint candy\n",
      "iter :70, best_score: 983.0156100192773, temperature: 299.76008398320215\n",
      "iter :80, best_score: 983.0156100192773, temperature: 299.73010797480384\n",
      "iter :90, best_score: 983.0156100192773, temperature: 299.70013496400634\n",
      "Current Run Name: smooth-surf-15\n",
      "---------焼きなまし処理終了---------\n",
      "Elapsed time: 26.03 sec\n",
      "best_score: 983.0156100192773\n"
     ]
    },
    {
     "data": {
      "image/png": "[encoded data removed]",
      "text/plain": [
       "<Figure size 800x500 with 2 Axes>"
      ]
     },
     "metadata": {},
     "output_type": "display_data"
    },
    {
     "name": "stdout",
     "output_type": "stream",
     "text": [
      "Best text: wreath not wrapping poinsettia merry have snowglobe we with doll card that wish fruitcake of star joy milk it paper you bow greeting believe night as and chocolate dream peace from the angel hope hohoho candle wonder game puzzle toy cookie season fireplace eggnog kaggle workshop in to peppermint candy\n",
      "Best score: 983.0156100192773\n"
     ]
    }
   ],
   "source": [
    "print(f\"Processing\")\n",
    "best_sequence, best_score = search_optimal_permutation(\n",
    "    scorer=scorer,\n",
    ")\n",
    "\n",
    "print(\"Best text:\", \" \".join(best_sequence))\n",
    "print(\"Best score:\", best_score)\n"
   ]
  },
  {
   "cell_type": "code",
   "execution_count": 15,
   "id": "461f0e43-0397-4f53-b3e6-90934401ba66",
   "metadata": {},
   "outputs": [
    {
     "data": {
      "text/html": [],
      "text/plain": [
       "<IPython.core.display.HTML object>"
      ]
     },
     "metadata": {},
     "output_type": "display_data"
    },
    {
     "data": {
      "text/html": [
       "<br>    <style><br>        .wandb-row {<br>            display: flex;<br>            flex-direction: row;<br>            flex-wrap: wrap;<br>            justify-content: flex-start;<br>            width: 100%;<br>        }<br>        .wandb-col {<br>            display: flex;<br>            flex-direction: column;<br>            flex-basis: 100%;<br>            flex: 1;<br>            padding: 10px;<br>        }<br>    </style><br><div class=\"wandb-row\"><div class=\"wandb-col\"><h3>Run history:</h3><br/><table class=\"wandb\"><tr><td>best_score</td><td>█▅▅▅▃▃▃▁▁▁</td></tr><tr><td>iteration</td><td>▁▂▃▃▄▅▆▆▇█</td></tr><tr><td>score</td><td>▁▁▃▅█▄▂▃▁▅</td></tr><tr><td>temperature</td><td>█▇▆▆▅▄▃▃▂▁</td></tr></table><br/></div><div class=\"wandb-col\"><h3>Run summary:</h3><br/><table class=\"wandb\"><tr><td>best_score</td><td>983.01561</td></tr><tr><td>best_text</td><td>wreath not wrapping ...</td></tr><tr><td>iteration</td><td>90</td></tr><tr><td>score</td><td>1698.49866</td></tr><tr><td>temperature</td><td>299.70013</td></tr></table><br/></div></div>"
      ],
      "text/plain": [
       "<IPython.core.display.HTML object>"
      ]
     },
     "metadata": {},
     "output_type": "display_data"
    },
    {
     "data": {
      "text/html": [
       " View run <strong style=\"color:#cdcd00\">smooth-surf-15</strong> at: <a href='https://wandb.ai/shun2741-ns-solutions/santa2024/runs/k4ymja9w' target=\"_blank\">https://wandb.ai/shun2741-ns-solutions/santa2024/runs/k4ymja9w</a><br> View project at: <a href='https://wandb.ai/shun2741-ns-solutions/santa2024' target=\"_blank\">https://wandb.ai/shun2741-ns-solutions/santa2024</a><br>Synced 5 W&B file(s), 0 media file(s), 2 artifact file(s) and 0 other file(s)"
      ],
      "text/plain": [
       "<IPython.core.display.HTML object>"
      ]
     },
     "metadata": {},
     "output_type": "display_data"
    },
    {
     "data": {
      "text/html": [
       "Find logs at: <code>./wandb/run-20250101_225158-k4ymja9w/logs</code>"
      ],
      "text/plain": [
       "<IPython.core.display.HTML object>"
      ]
     },
     "metadata": {},
     "output_type": "display_data"
    }
   ],
   "source": [
    "wandb.finish()"
   ]
  },
  {
   "cell_type": "code",
   "execution_count": null,
   "id": "d2f41a6a-9b6d-402a-a185-23207766219f",
   "metadata": {},
   "outputs": [],
   "source": []
  }
 ],
 "metadata": {
  "kernelspec": {
   "display_name": "Python 3 (ipykernel)",
   "language": "python",
   "name": "python3"
  },
  "language_info": {
   "codemirror_mode": {
    "name": "ipython",
    "version": 3
   },
   "file_extension": ".py",
   "mimetype": "text/x-python",
   "name": "python",
   "nbconvert_exporter": "python",
   "pygments_lexer": "ipython3",
   "version": "3.11.10"
  }
 },
 "nbformat": 4,
 "nbformat_minor": 5
}
