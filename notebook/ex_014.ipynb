{
 "cells": [
  {
   "cell_type": "markdown",
   "id": "5b9a260d",
   "metadata": {},
   "source": [
    "### SAでのテンプレートを更新\n",
    "バッチサイズ分だけ並行して実施する"
   ]
  },
  {
   "cell_type": "code",
   "execution_count": 1,
   "id": "b32508c5",
   "metadata": {},
   "outputs": [],
   "source": [
    "import os\n",
    "# 環境によって変更\n",
    "os.chdir('/home/jovyan/work/notebook')"
   ]
  },
  {
   "cell_type": "code",
   "execution_count": 2,
   "id": "fce8450c",
   "metadata": {},
   "outputs": [],
   "source": [
    "CFG = {\n",
    "    \"base_ex_num\": \"014\",  # ベースとしている実験ノートブック\n",
    "    \"qid\": 0,  # 問題番号(0~5)\n",
    "    \"path\": \"../model\",  # モデルのパス(git管理外なので実行環境で変更)\n",
    "    # path = \"../../output\"    \n",
    "    \"restart\": True,  # True: 途中から再開, False: sampleを使って最初から開始\n",
    "    \"restart_file_path\": \"../model/out/current_texts_014_0.csv\",  # 途中から再開する場合のファイルパス\n",
    "    \"start_temperature\": 40,  # 初期温度\n",
    "    \"end_temperature\": 10,  # 終了温度\n",
    "    \"cooling_rate\": 0.9,  # 温度の下がり具合\n",
    "    \"cooling_span\": 10,  # 何iterationごとに温度を下げるか\n",
    "    \"iteration\": int(1e3),  # iteration数\n",
    "    \"batch_size\": 8,  # バッチサイズ(並行して計算する数)\n",
    "    \"save_interval\": 10,  # 何回のiterationごとにlog保存するか\n",
    "    \"split_rule\": \"default\",  # 文章を単語に分割する方法(default(スペース区切り), compress(連続単語はくっつける))\n",
    "    \"neighbor_types\": [\"swap\", \"insert\", \"segment_insert\"],  # 近傍操作の種類\n",
    "    \"seed\": 42,  # seed値\n",
    "}"
   ]
  },
  {
   "cell_type": "code",
   "execution_count": 3,
   "id": "cee854eb",
   "metadata": {},
   "outputs": [
    {
     "name": "stderr",
     "output_type": "stream",
     "text": [
      "git root error: Cmd('git') failed due to: exit code(128)\n",
      "  cmdline: git rev-parse --show-toplevel\n",
      "  stderr: 'fatal: detected dubious ownership in repository at '/home/jovyan/work'\n",
      "To add an exception for this directory, call:\n",
      "\n",
      "\tgit config --global --add safe.directory /home/jovyan/work'\n",
      "\u001b[34m\u001b[1mwandb\u001b[0m: Using wandb-core as the SDK backend.  Please refer to https://wandb.me/wandb-core for more information.\n",
      "\u001b[34m\u001b[1mwandb\u001b[0m: Currently logged in as: \u001b[33mshun2741\u001b[0m (\u001b[33mshun2741-ns-solutions\u001b[0m). Use \u001b[1m`wandb login --relogin`\u001b[0m to force relogin\n"
     ]
    },
    {
     "data": {
      "text/html": [
       "Tracking run with wandb version 0.19.1"
      ],
      "text/plain": [
       "<IPython.core.display.HTML object>"
      ]
     },
     "metadata": {},
     "output_type": "display_data"
    },
    {
     "data": {
      "text/html": [
       "Run data is saved locally in <code>/home/jovyan/work/notebook/wandb/run-20241231_144950-jus7ct8t</code>"
      ],
      "text/plain": [
       "<IPython.core.display.HTML object>"
      ]
     },
     "metadata": {},
     "output_type": "display_data"
    },
    {
     "data": {
      "text/html": [
       "Syncing run <strong><a href='https://wandb.ai/shun2741-ns-solutions/santa2024/runs/jus7ct8t' target=\"_blank\">atomic-snowflake-13</a></strong> to <a href='https://wandb.ai/shun2741-ns-solutions/santa2024' target=\"_blank\">Weights & Biases</a> (<a href='https://wandb.me/developer-guide' target=\"_blank\">docs</a>)<br>"
      ],
      "text/plain": [
       "<IPython.core.display.HTML object>"
      ]
     },
     "metadata": {},
     "output_type": "display_data"
    },
    {
     "data": {
      "text/html": [
       " View project at <a href='https://wandb.ai/shun2741-ns-solutions/santa2024' target=\"_blank\">https://wandb.ai/shun2741-ns-solutions/santa2024</a>"
      ],
      "text/plain": [
       "<IPython.core.display.HTML object>"
      ]
     },
     "metadata": {},
     "output_type": "display_data"
    },
    {
     "data": {
      "text/html": [
       " View run at <a href='https://wandb.ai/shun2741-ns-solutions/santa2024/runs/jus7ct8t' target=\"_blank\">https://wandb.ai/shun2741-ns-solutions/santa2024/runs/jus7ct8t</a>"
      ],
      "text/plain": [
       "<IPython.core.display.HTML object>"
      ]
     },
     "metadata": {},
     "output_type": "display_data"
    },
    {
     "data": {
      "text/html": [
       "<button onClick=\"this.nextSibling.style.display='block';this.style.display='none';\">Display W&B run</button><iframe src='https://wandb.ai/shun2741-ns-solutions/santa2024/runs/jus7ct8t?jupyter=true' style='border:none;width:100%;height:420px;display:none;'></iframe>"
      ],
      "text/plain": [
       "<wandb.sdk.wandb_run.Run at 0x7fdb9c869880>"
      ]
     },
     "execution_count": 3,
     "metadata": {},
     "output_type": "execute_result"
    }
   ],
   "source": [
    "import wandb\n",
    "\n",
    "wandb.login()\n",
    "\n",
    "wandb.init(\n",
    "    # プロジェクト名\n",
    "    project=\"santa2024\",\n",
    "\n",
    "    # 記録する実験条件\n",
    "    config=CFG\n",
    ")"
   ]
  },
  {
   "cell_type": "code",
   "execution_count": 4,
   "id": "6806febe",
   "metadata": {},
   "outputs": [],
   "source": [
    "import numpy as np\n",
    "import pandas as pd\n",
    "import os\n",
    "import time\n",
    "import csv\n",
    "\n",
    "from tqdm.notebook import tqdm\n",
    "\n",
    "import random\n",
    "from typing import List, Callable\n",
    "import itertools, math\n",
    "from typing import List, Tuple\n",
    "\n",
    "from utils import PerplexityCalculator\n",
    "# 可視化用\n",
    "import matplotlib.pyplot as plt"
   ]
  },
  {
   "cell_type": "code",
   "execution_count": 5,
   "id": "7dfd8ea9",
   "metadata": {},
   "outputs": [],
   "source": [
    "# seed値の固定\n",
    "# Pythonの組み込みrandomモジュールのシードを設定\n",
    "random.seed(CFG[\"seed\"])\n",
    "\n",
    "# NumPyのシードを設定\n",
    "np.random.seed(CFG[\"seed\"])"
   ]
  },
  {
   "cell_type": "markdown",
   "id": "8ea9236c",
   "metadata": {},
   "source": [
    "### データ読み込み"
   ]
  },
  {
   "cell_type": "code",
   "execution_count": 6,
   "id": "6f960148",
   "metadata": {},
   "outputs": [
    {
     "data": {
      "text/html": [
       "<div>\n",
       "<style scoped>\n",
       "    .dataframe tbody tr th:only-of-type {\n",
       "        vertical-align: middle;\n",
       "    }\n",
       "\n",
       "    .dataframe tbody tr th {\n",
       "        vertical-align: top;\n",
       "    }\n",
       "\n",
       "    .dataframe thead th {\n",
       "        text-align: right;\n",
       "    }\n",
       "</style>\n",
       "<table border=\"1\" class=\"dataframe\">\n",
       "  <thead>\n",
       "    <tr style=\"text-align: right;\">\n",
       "      <th></th>\n",
       "      <th>index</th>\n",
       "      <th>text</th>\n",
       "      <th>score</th>\n",
       "    </tr>\n",
       "  </thead>\n",
       "  <tbody>\n",
       "    <tr>\n",
       "      <th>0</th>\n",
       "      <td>0</td>\n",
       "      <td>gingerbread ornament elf family advent scrooge...</td>\n",
       "      <td>1067.053350</td>\n",
       "    </tr>\n",
       "    <tr>\n",
       "      <th>1</th>\n",
       "      <td>1</td>\n",
       "      <td>scrooge mistletoe family gingerbread elf adven...</td>\n",
       "      <td>1026.175178</td>\n",
       "    </tr>\n",
       "    <tr>\n",
       "      <th>2</th>\n",
       "      <td>2</td>\n",
       "      <td>reindeer mistletoe elf gingerbread scrooge orn...</td>\n",
       "      <td>600.905389</td>\n",
       "    </tr>\n",
       "    <tr>\n",
       "      <th>3</th>\n",
       "      <td>3</td>\n",
       "      <td>ornament scrooge mistletoe gingerbread chimney...</td>\n",
       "      <td>1223.382693</td>\n",
       "    </tr>\n",
       "    <tr>\n",
       "      <th>4</th>\n",
       "      <td>4</td>\n",
       "      <td>ornament scrooge reindeer mistletoe family adv...</td>\n",
       "      <td>1181.120390</td>\n",
       "    </tr>\n",
       "    <tr>\n",
       "      <th>5</th>\n",
       "      <td>5</td>\n",
       "      <td>reindeer mistletoe gingerbread chimney elf adv...</td>\n",
       "      <td>619.980174</td>\n",
       "    </tr>\n",
       "    <tr>\n",
       "      <th>6</th>\n",
       "      <td>6</td>\n",
       "      <td>scrooge mistletoe reindeer elf family advent o...</td>\n",
       "      <td>1153.759766</td>\n",
       "    </tr>\n",
       "    <tr>\n",
       "      <th>7</th>\n",
       "      <td>7</td>\n",
       "      <td>reindeer mistletoe elf gingerbread family fire...</td>\n",
       "      <td>612.757186</td>\n",
       "    </tr>\n",
       "  </tbody>\n",
       "</table>\n",
       "</div>"
      ],
      "text/plain": [
       "   index                                               text        score\n",
       "0      0  gingerbread ornament elf family advent scrooge...  1067.053350\n",
       "1      1  scrooge mistletoe family gingerbread elf adven...  1026.175178\n",
       "2      2  reindeer mistletoe elf gingerbread scrooge orn...   600.905389\n",
       "3      3  ornament scrooge mistletoe gingerbread chimney...  1223.382693\n",
       "4      4  ornament scrooge reindeer mistletoe family adv...  1181.120390\n",
       "5      5  reindeer mistletoe gingerbread chimney elf adv...   619.980174\n",
       "6      6  scrooge mistletoe reindeer elf family advent o...  1153.759766\n",
       "7      7  reindeer mistletoe elf gingerbread family fire...   612.757186"
      ]
     },
     "metadata": {},
     "output_type": "display_data"
    }
   ],
   "source": [
    "if CFG[\"restart\"]:\n",
    "    df = pd.read_csv(CFG[\"restart_file_path\"])\n",
    "    display(df)\n",
    "    \n",
    "    if len(df) != CFG[\"batch_size\"]:\n",
    "        AssertionError(\"batch_sizeが再開前のサイズと一致しません\")   \n",
    "else:\n",
    "    df = pd.read_csv(\"../input/sample_submission.csv\")\n",
    "    display(df)"
   ]
  },
  {
   "cell_type": "markdown",
   "id": "2b855d16",
   "metadata": {},
   "source": [
    "### 関数"
   ]
  },
  {
   "cell_type": "code",
   "execution_count": 7,
   "id": "2cb84b10",
   "metadata": {},
   "outputs": [],
   "source": [
    "def split_compress(sentence: str) -> list[str]:\n",
    "    \"\"\"\n",
    "    文章をスペースで分割し、連続している単語を結合する\n",
    "    同一の単語が連続している場合は１つの塊として処理する\n",
    "    args:\n",
    "        sentence: str: 分割する文章\n",
    "    return:\n",
    "        list[str]: 分割された単語のリスト\n",
    "    \"\"\"\n",
    "    words = sentence.split()\n",
    "    \n",
    "    if CFG[\"split_rule\"] != \"compress\":\n",
    "        return words\n",
    "    if not words:\n",
    "        return []\n",
    "\n",
    "    result = []\n",
    "    prev_word = None\n",
    "\n",
    "    for w in words:\n",
    "        if w == prev_word:\n",
    "            # 連続している場合は、リストの最後の要素にスペースを挟んで追加\n",
    "            result[-1] += \" \" + w\n",
    "        else:\n",
    "            # 新しい単語の場合はリストに追加\n",
    "            result.append(w)\n",
    "        prev_word = w\n",
    "\n",
    "    return result"
   ]
  },
  {
   "cell_type": "code",
   "execution_count": 8,
   "id": "a5f3bc02",
   "metadata": {},
   "outputs": [],
   "source": [
    "def plot_score_and_temperature(scores_history, temp_history):\n",
    "    \"\"\"\n",
    "    スコアと温度の推移をプロットする\n",
    "\n",
    "    args:\n",
    "        scores_history: List[float]: スコアの推移\n",
    "        temp_history: List[float]: 温度の推移\n",
    "    return:\n",
    "        None\n",
    "    \"\"\"\n",
    "    # x 軸: イテレーション\n",
    "    x = range(len(scores_history))\n",
    "    \n",
    "    # Figure と Axes を作成\n",
    "    fig, ax1 = plt.subplots(figsize=(8,5))\n",
    "    \n",
    "    # スコア用の軸 (左)\n",
    "    color_score = 'tab:blue'\n",
    "    ax1.set_xlabel('Iteration')\n",
    "    ax1.set_ylabel('Score (Perplexity)', color=color_score)\n",
    "    ax1.plot(x, scores_history, label='Score', color=color_score)\n",
    "    ax1.tick_params(axis='y', labelcolor=color_score)\n",
    "    \n",
    "    # 温度用の軸 (右) : twinx で第二のY軸を作成\n",
    "    ax2 = ax1.twinx()\n",
    "    color_temp = 'tab:red'\n",
    "    ax2.set_ylabel('Temperature', color=color_temp)\n",
    "    ax2.plot(x, temp_history, label='Temperature', color=color_temp)\n",
    "    ax2.tick_params(axis='y', labelcolor=color_temp)\n",
    "    \n",
    "    # タイトル等\n",
    "    plt.title('Score & Temperature Transition')\n",
    "    fig.tight_layout()\n",
    "    plt.show()"
   ]
  },
  {
   "cell_type": "code",
   "execution_count": 9,
   "id": "4d0fe093",
   "metadata": {},
   "outputs": [],
   "source": [
    "def generate_neighbor(sequence, neighbor_type='swap'):\n",
    "    \"\"\"\n",
    "    近傍操作を行う\n",
    "    \n",
    "    args:\n",
    "        sequence: List[str]: 単語のリスト\n",
    "        neighbor_type: str: 近傍操作の種類\n",
    "    return:\n",
    "        List[str]: 近傍操作後の単語のリスト\n",
    "    \"\"\"\n",
    "    new_seq = sequence[:]\n",
    "    length = len(new_seq)\n",
    "\n",
    "    if neighbor_type == 'swap':\n",
    "        # ランダムに2つの位置を選んで入れ替える\n",
    "        a, b = random.sample(range(length), 2)\n",
    "        new_seq[a], new_seq[b] = new_seq[b], new_seq[a]\n",
    "\n",
    "    elif neighbor_type == 'insert':\n",
    "        # ある単語を抜き出し、別の位置に挿入する\n",
    "        idx = random.randint(0, length - 1)\n",
    "        word = new_seq.pop(idx)\n",
    "        new_pos = random.randint(0, length - 1)\n",
    "        new_seq.insert(new_pos, word)\n",
    "\n",
    "    elif neighbor_type == 'segment_insert':\n",
    "        # 長さ2~5のランダムな部分区間を切り出して、別の位置に挿入\n",
    "        # 部分区間の長さをランダムに選択（2～5）\n",
    "        sublist_length = random.randint(2, 5)\n",
    "\n",
    "        # 部分区間の開始位置をランダムに選択\n",
    "        start_idx = random.randint(0, length - sublist_length)\n",
    "\n",
    "        # 部分区間を切り出し\n",
    "        sublist = new_seq[start_idx:start_idx + sublist_length]\n",
    "\n",
    "        # 部分区間を元のリストから削除\n",
    "        new_seq = new_seq[:start_idx] +new_seq[start_idx + sublist_length:]\n",
    "\n",
    "        # 挿入位置をランダムに選択（元の部分区間の位置は除く）\n",
    "        insert_idx = random.randint(0, len(new_seq))\n",
    "\n",
    "        # 切り出した部分区間を挿入\n",
    "        new_seq = new_seq[:insert_idx] + sublist + new_seq[insert_idx:]\n",
    "\n",
    "    # 他にも様々な近傍操作を追加可能\n",
    "\n",
    "    return new_seq"
   ]
  },
  {
   "cell_type": "code",
   "execution_count": 10,
   "id": "7cddb70f",
   "metadata": {},
   "outputs": [],
   "source": [
    "def search_annealing(\n",
    "    scorer,\n",
    "    initial_sequences,\n",
    "):\n",
    "    \"\"\"\n",
    "    焼きなまし法による探索\n",
    "\n",
    "    args:\n",
    "        scorer: PerplexityCalculator: 評価器\n",
    "        initial_sequences: List[List[str]]: 初期解のリスト\n",
    "    \"\"\"\n",
    "    if CFG[\"neighbor_types\"] is None:\n",
    "        neighbor_types = ['swap']\n",
    "\n",
    "    texts = [\" \".join(seq) for seq in initial_sequences]\n",
    "    scores = scorer.get_perplexity(texts, batch_size=CFG[\"batch_size\"])\n",
    "\n",
    "    # スコア推移を記録するリスト\n",
    "    scores_history = []\n",
    "    temp_history = []\n",
    "    \n",
    "    # 現在の状態を持つリスト\n",
    "    current_seqs = []\n",
    "    current_scores = []\n",
    "    \n",
    "    # 初期解の生成\n",
    "    for i in range(CFG[\"batch_size\"]):\n",
    "        print(\"current_seq:\", initial_sequences[i])\n",
    "        print(\"current_score:\", scores[i])\n",
    "        current_seqs.append(initial_sequences[i])\n",
    "        current_scores.append(scores[i])\n",
    "    \n",
    "    idx = np.argmin(current_scores)\n",
    "    best_score = current_scores[idx]\n",
    "    best_seq = current_seqs[idx]\n",
    "    print(\"best_score:\", best_score)\n",
    "    print(\"best_text:\", \" \".join(best_seq))\n",
    "    \n",
    "    # 初期温度        \n",
    "    temperature = CFG[\"start_temperature\"]\n",
    "    \n",
    "    for itr in tqdm(range(CFG[\"iteration\"])):\n",
    "        # 可視化用の記録\n",
    "        scores_history.append(current_scores[0])\n",
    "        temp_history.append(temperature)\n",
    "        \n",
    "        # 近傍候補をまとめて生成\n",
    "        neighbor_candidates = []\n",
    "        for i in range(CFG[\"batch_size\"]):\n",
    "            # 近傍操作の種類をランダムに選ぶ\n",
    "            n_type = random.choice(CFG[\"neighbor_types\"])\n",
    "            neighbor_seq = generate_neighbor(current_seqs[i], n_type)\n",
    "            neighbor_candidates.append(neighbor_seq)\n",
    "\n",
    "        \n",
    "        # まとめてスコアを計算（GPUを活用）\n",
    "        texts = [\" \".join(seq) for seq in neighbor_candidates]\n",
    "        # print(\"texts:\", texts)\n",
    "        \n",
    "        scores = scorer.get_perplexity(texts, batch_size=CFG[\"batch_size\"])\n",
    "        # print(\"scores:\", scores)\n",
    "        \n",
    "        # 候補の中から1つを焼きなまし法の確率的受容ルールで選ぶ\n",
    "        for i, (cand_seq, cand_score) in enumerate(zip(neighbor_candidates, scores)):\n",
    "            delta = cand_score - current_scores[i]\n",
    "            accept_prob = math.exp(-delta / temperature) if delta > 0 else 1.0\n",
    "                \n",
    "            # スコアが良ければ必ず受容\n",
    "            if random.random() < accept_prob:\n",
    "                current_scores[i] = cand_score\n",
    "                current_seqs[i] = cand_seq\n",
    "\n",
    "        # ベストの更新\n",
    "        if np.min(current_scores) < best_score:\n",
    "            # current_scoresの最小値のインデックスを取得\n",
    "            idx = np.argmin(current_scores)\n",
    "            \n",
    "            best_score = current_scores[idx]\n",
    "            best_seq = current_seqs[idx]\n",
    "            print(f\"iter {itr}: best_score: {best_score}\")\n",
    "            print(\"best_text:\", \" \".join(best_seq))\n",
    "            \n",
    "\n",
    "        # 温度を下げる\n",
    "        if itr % CFG[\"cooling_span\"] == 0:\n",
    "            temperature *= CFG[\"cooling_rate\"]\n",
    "            wandb.log({\"temperature\": temperature, \"score\":current_scores[0]})\n",
    "        \n",
    "        if itr % CFG[\"save_interval\"] == 0:\n",
    "            print(f\"iter :{itr}, best_score: {best_score}, temperature: {temperature}\")\n",
    "            wandb.log({\"iteration\": itr, \"best_score\": best_score, \"best_text\": \" \".join(best_seq)})\n",
    "\n",
    "            # current_seqsを結合して文字列保存\n",
    "            current_seqs_text = [\" \".join(seq) for seq in current_seqs]\n",
    "            # current_seqsとcurrent_scoresのリストをdfとして保存\n",
    "            df = pd.DataFrame(current_seqs_text)\n",
    "            df[\"score\"] = current_scores\n",
    "            \n",
    "            # indexとなっていたものをsequencre列に変更\n",
    "            df = df.reset_index()\n",
    "            df = df.rename(columns={0: \"text\"})\n",
    "            \n",
    "            path = CFG[\"path\"]\n",
    "            ex_num = CFG[\"base_ex_num\"]\n",
    "            qid = CFG[\"qid\"]\n",
    "            df.to_csv(f\"{path}/out/current_texts_{ex_num}_{qid}.csv\", index=False)\n",
    "            \n",
    "        if temperature < CFG[\"end_temperature\"]:\n",
    "            break\n",
    "    \n",
    "    # 現在のラン名を取得\n",
    "    current_run_name = wandb.run.name\n",
    "    print(f\"Current Run Name: {current_run_name}\")\n",
    "    \n",
    "    # artifactに保存\n",
    "    artifact = wandb.Artifact(name=current_run_name, type=\"texts\")\n",
    "    path = CFG[\"path\"]\n",
    "    ex_num = CFG[\"base_ex_num\"]\n",
    "    qid = CFG[\"qid\"]\n",
    "    artifact.add_file(local_path =f\"{path}/out/current_texts_{ex_num}_{qid}.csv\", name =f\"current_texts_{ex_num}_{qid}.csv\")\n",
    "    artifact.save()\n",
    "        \n",
    "    return best_seq, best_score, scores_history, temp_history"
   ]
  },
  {
   "cell_type": "code",
   "execution_count": 11,
   "id": "22fbd618",
   "metadata": {},
   "outputs": [],
   "source": [
    "def search_optimal_permutation(\n",
    "    scorer\n",
    "):\n",
    "\n",
    "    if CFG[\"restart\"]:\n",
    "        df = pd.read_csv(CFG[\"restart_file_path\"])\n",
    "        \n",
    "        # dfのsequence列をリストに変換\n",
    "        initial_texts = df[\"text\"].tolist()\n",
    "        # initial_sequencesをスペースで区切ってリストに変換\n",
    "        initial_sequences = [split_compress(text) for text in initial_texts]\n",
    "    \n",
    "    else:\n",
    "        df = pd.read_csv(\"../input/sample_submission.csv\")    \n",
    "        qid = CFG[\"qid\"]\n",
    "        original_text = df.iloc[qid][\"text\"]\n",
    "        original_seq = split_compress(original_text)\n",
    "        initial_sequences = [random.sample(original_seq, len(original_seq)) for _ in range(CFG[\"batch_size\"])]\n",
    "    \n",
    "    start = time.time()\n",
    "    print(\"---------焼きなまし処理開始---------\")\n",
    "    best_sequence, best_score, scores_history, temp_history = search_annealing(\n",
    "        scorer=scorer,\n",
    "        initial_sequences=initial_sequences,\n",
    "    )\n",
    "    print(\"---------焼きなまし処理終了---------\")\n",
    "    \n",
    "    print(f\"{id}th sample: {\" \".join(best_sequence)}\")\n",
    "    print(f\"Elapsed time: {time.time() - start:.2f} sec\")\n",
    "    print(f\"best_score: {best_score}\")\n",
    "    \n",
    "    plot_score_and_temperature(scores_history, temp_history)\n",
    "    \n",
    "    return best_sequence, best_score\n"
   ]
  },
  {
   "cell_type": "code",
   "execution_count": 12,
   "id": "9f775900-1acf-4870-bd4c-37c08b14fcc9",
   "metadata": {},
   "outputs": [
    {
     "name": "stdout",
     "output_type": "stream",
     "text": [
      "cuda\n"
     ]
    },
    {
     "data": {
      "application/vnd.jupyter.widget-view+json": {
       "model_id": "fa2bcce1c7944eefae2211b2db7e56bf",
       "version_major": 2,
       "version_minor": 0
      },
      "text/plain": [
       "Loading checkpoint shards:   0%|          | 0/8 [00:00<?, ?it/s]"
      ]
     },
     "metadata": {},
     "output_type": "display_data"
    },
    {
     "name": "stderr",
     "output_type": "stream",
     "text": [
      "Some parameters are on the meta device because they were offloaded to the cpu.\n"
     ]
    }
   ],
   "source": [
    "# LOAD GEMMA SCORER\n",
    "scorer = PerplexityCalculator(f'{CFG[\"path\"]}/gemma_2_9b')"
   ]
  },
  {
   "cell_type": "code",
   "execution_count": 13,
   "id": "e253c6da-f86c-48ba-87e1-022ea5aa2329",
   "metadata": {},
   "outputs": [],
   "source": [
    "# scorer.clear_gpu_memory()"
   ]
  },
  {
   "cell_type": "code",
   "execution_count": 14,
   "id": "8d05bef9",
   "metadata": {},
   "outputs": [
    {
     "name": "stdout",
     "output_type": "stream",
     "text": [
      "Processing\n",
      "---------焼きなまし処理開始---------\n",
      "current_seq: ['gingerbread', 'ornament', 'elf', 'family', 'advent', 'scrooge', 'reindeer', 'mistletoe', 'fireplace', 'chimney']\n",
      "current_score: 1067.053349944732\n",
      "current_seq: ['scrooge', 'mistletoe', 'family', 'gingerbread', 'elf', 'advent', 'chimney', 'reindeer', 'ornament', 'fireplace']\n",
      "current_score: 1026.1751780534337\n",
      "current_seq: ['reindeer', 'mistletoe', 'elf', 'gingerbread', 'scrooge', 'ornament', 'family', 'advent', 'fireplace', 'chimney']\n",
      "current_score: 600.905389292032\n",
      "current_seq: ['ornament', 'scrooge', 'mistletoe', 'gingerbread', 'chimney', 'family', 'advent', 'fireplace', 'elf', 'reindeer']\n",
      "current_score: 1223.3826929169447\n",
      "current_seq: ['ornament', 'scrooge', 'reindeer', 'mistletoe', 'family', 'advent', 'elf', 'gingerbread', 'chimney', 'fireplace']\n",
      "current_score: 1181.120389956714\n",
      "current_seq: ['reindeer', 'mistletoe', 'gingerbread', 'chimney', 'elf', 'advent', 'scrooge', 'family', 'ornament', 'fireplace']\n",
      "current_score: 619.980173932736\n",
      "current_seq: ['scrooge', 'mistletoe', 'reindeer', 'elf', 'family', 'advent', 'ornament', 'gingerbread', 'chimney', 'fireplace']\n",
      "current_score: 1153.7597655923937\n",
      "current_seq: ['reindeer', 'mistletoe', 'elf', 'gingerbread', 'family', 'fireplace', 'chimney', 'advent', 'scrooge', 'ornament']\n",
      "current_score: 612.7571861239999\n",
      "best_score: 600.905389292032\n",
      "best_text: reindeer mistletoe elf gingerbread scrooge ornament family advent fireplace chimney\n"
     ]
    },
    {
     "data": {
      "application/vnd.jupyter.widget-view+json": {
       "model_id": "bf534ca6edca4a4eb43f9f7a60beef46",
       "version_major": 2,
       "version_minor": 0
      },
      "text/plain": [
       "  0%|          | 0/1000 [00:00<?, ?it/s]"
      ]
     },
     "metadata": {},
     "output_type": "display_data"
    },
    {
     "name": "stdout",
     "output_type": "stream",
     "text": [
      "iter :0, best_score: 600.905389292032, temperature: 36.0\n",
      "iter 5: best_score: 598.5626811957673\n",
      "best_text: reindeer mistletoe gingerbread chimney elf advent scrooge family fireplace ornament\n",
      "iter :10, best_score: 598.5626811957673, temperature: 32.4\n",
      "iter 14: best_score: 532.3726691377844\n",
      "best_text: reindeer mistletoe elf scrooge gingerbread ornament family advent chimney fireplace\n",
      "iter :20, best_score: 532.3726691377844, temperature: 29.16\n",
      "iter :30, best_score: 532.3726691377844, temperature: 26.244\n",
      "iter :40, best_score: 532.3726691377844, temperature: 23.619600000000002\n",
      "iter :50, best_score: 532.3726691377844, temperature: 21.257640000000002\n",
      "iter :60, best_score: 532.3726691377844, temperature: 19.131876000000002\n",
      "iter 63: best_score: 530.2971447966088\n",
      "best_text: reindeer mistletoe elf scrooge gingerbread family ornament advent chimney fireplace\n",
      "iter :70, best_score: 530.2971447966088, temperature: 17.2186884\n",
      "iter 73: best_score: 513.9816168847873\n",
      "best_text: reindeer mistletoe gingerbread elf family advent scrooge chimney fireplace ornament\n",
      "iter :80, best_score: 513.9816168847873, temperature: 15.496819560000002\n",
      "iter :90, best_score: 513.9816168847873, temperature: 13.947137604000002\n",
      "iter :100, best_score: 513.9816168847873, temperature: 12.552423843600002\n",
      "iter :110, best_score: 513.9816168847873, temperature: 11.29718145924\n",
      "iter :120, best_score: 513.9816168847873, temperature: 10.167463313316\n",
      "iter :130, best_score: 513.9816168847873, temperature: 9.1507169819844\n",
      "Current Run Name: atomic-snowflake-13\n",
      "---------焼きなまし処理終了---------\n",
      "<built-in function id>th sample: reindeer mistletoe gingerbread elf family advent scrooge chimney fireplace ornament\n",
      "Elapsed time: 113.76 sec\n",
      "best_score: 513.9816168847873\n"
     ]
    },
    {
     "data": {
      "image/png": "[encoded data removed]",
      "text/plain": [
       "<Figure size 800x500 with 2 Axes>"
      ]
     },
     "metadata": {},
     "output_type": "display_data"
    },
    {
     "name": "stdout",
     "output_type": "stream",
     "text": [
      "Best text: reindeer mistletoe gingerbread elf family advent scrooge chimney fireplace ornament\n",
      "Best score: 513.9816168847873\n"
     ]
    }
   ],
   "source": [
    "print(f\"Processing\")\n",
    "best_sequence, best_score = search_optimal_permutation(\n",
    "    scorer=scorer,\n",
    ")\n",
    "\n",
    "print(\"Best text:\", \" \".join(best_sequence))\n",
    "print(\"Best score:\", best_score)\n"
   ]
  },
  {
   "cell_type": "code",
   "execution_count": null,
   "id": "461f0e43-0397-4f53-b3e6-90934401ba66",
   "metadata": {},
   "outputs": [],
   "source": []
  }
 ],
 "metadata": {
  "kernelspec": {
   "display_name": "Python 3 (ipykernel)",
   "language": "python",
   "name": "python3"
  },
  "language_info": {
   "codemirror_mode": {
    "name": "ipython",
    "version": 3
   },
   "file_extension": ".py",
   "mimetype": "text/x-python",
   "name": "python",
   "nbconvert_exporter": "python",
   "pygments_lexer": "ipython3",
   "version": "3.12.8"
  }
 },
 "nbformat": 4,
 "nbformat_minor": 5
}
