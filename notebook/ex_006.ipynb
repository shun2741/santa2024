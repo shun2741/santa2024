{
 "cells": [
  {
   "cell_type": "markdown",
   "id": "5b9a260d",
   "metadata": {},
   "source": [
    "### SAのテンプレート"
   ]
  },
  {
   "cell_type": "code",
   "execution_count": 1,
   "id": "bf539a6a",
   "metadata": {},
   "outputs": [],
   "source": [
    "ex_num = \"006\""
   ]
  },
  {
   "cell_type": "code",
   "execution_count": 2,
   "id": "b32508c5",
   "metadata": {},
   "outputs": [],
   "source": [
    "import os\n",
    "# 環境によって変更\n",
    "os.chdir('/home/jovyan/work/notebook')\n",
    "\n",
    "# path = \"../../output\"\n",
    "path = \"../model\"\n",
    "\n",
    "# 基準にするベースファイル\n",
    "base_file_path = \"../input/sub20241219.csv\""
   ]
  },
  {
   "cell_type": "code",
   "execution_count": 3,
   "id": "64c33ef9",
   "metadata": {},
   "outputs": [],
   "source": [
    "class CFG:\n",
    "    path = \"../model\"\n",
    "    base_file_path = \"../input/sub20241219.csv\"\n",
    "    BATCH_SIZE = 32"
   ]
  },
  {
   "cell_type": "code",
   "execution_count": 4,
   "id": "6806febe",
   "metadata": {},
   "outputs": [],
   "source": [
    "import numpy as np\n",
    "import pandas as pd\n",
    "import os\n",
    "import time\n",
    "import csv\n",
    "\n",
    "from tqdm.notebook import tqdm\n",
    "\n",
    "import random\n",
    "from typing import List, Callable\n",
    "import itertools, math\n",
    "from typing import List, Tuple\n",
    "\n",
    "from utils import PerplexityCalculator"
   ]
  },
  {
   "cell_type": "markdown",
   "id": "8ea9236c",
   "metadata": {},
   "source": [
    "### データ読み込み"
   ]
  },
  {
   "cell_type": "code",
   "execution_count": 5,
   "id": "6f960148",
   "metadata": {},
   "outputs": [],
   "source": [
    "df = pd.read_csv(CFG.base_file_path)"
   ]
  },
  {
   "cell_type": "code",
   "execution_count": 6,
   "id": "ec832545",
   "metadata": {},
   "outputs": [],
   "source": [
    "sub_df = df.copy()\n",
    "sub_df[\"best_value\"] = 0"
   ]
  },
  {
   "cell_type": "code",
   "execution_count": 7,
   "id": "3d9e3929",
   "metadata": {},
   "outputs": [
    {
     "data": {
      "text/html": [
       "<div>\n",
       "<style scoped>\n",
       "    .dataframe tbody tr th:only-of-type {\n",
       "        vertical-align: middle;\n",
       "    }\n",
       "\n",
       "    .dataframe tbody tr th {\n",
       "        vertical-align: top;\n",
       "    }\n",
       "\n",
       "    .dataframe thead th {\n",
       "        text-align: right;\n",
       "    }\n",
       "</style>\n",
       "<table border=\"1\" class=\"dataframe\">\n",
       "  <thead>\n",
       "    <tr style=\"text-align: right;\">\n",
       "      <th></th>\n",
       "      <th>id</th>\n",
       "      <th>text</th>\n",
       "    </tr>\n",
       "  </thead>\n",
       "  <tbody>\n",
       "    <tr>\n",
       "      <th>0</th>\n",
       "      <td>0</td>\n",
       "      <td>reindeer mistletoe elf gingerbread family adve...</td>\n",
       "    </tr>\n",
       "    <tr>\n",
       "      <th>1</th>\n",
       "      <td>1</td>\n",
       "      <td>reindeer sleep walk the night and drive mistle...</td>\n",
       "    </tr>\n",
       "    <tr>\n",
       "      <th>2</th>\n",
       "      <td>2</td>\n",
       "      <td>jingle yuletide carol cheer grinch holiday hol...</td>\n",
       "    </tr>\n",
       "    <tr>\n",
       "      <th>3</th>\n",
       "      <td>3</td>\n",
       "      <td>sleigh the holly jingle unwrap gifts of magi r...</td>\n",
       "    </tr>\n",
       "    <tr>\n",
       "      <th>4</th>\n",
       "      <td>4</td>\n",
       "      <td>peppermint candy milk chocolate eggnog fruitca...</td>\n",
       "    </tr>\n",
       "    <tr>\n",
       "      <th>5</th>\n",
       "      <td>5</td>\n",
       "      <td>sleigh of naughty nice the of not the to and t...</td>\n",
       "    </tr>\n",
       "  </tbody>\n",
       "</table>\n",
       "</div>"
      ],
      "text/plain": [
       "   id                                               text\n",
       "0   0  reindeer mistletoe elf gingerbread family adve...\n",
       "1   1  reindeer sleep walk the night and drive mistle...\n",
       "2   2  jingle yuletide carol cheer grinch holiday hol...\n",
       "3   3  sleigh the holly jingle unwrap gifts of magi r...\n",
       "4   4  peppermint candy milk chocolate eggnog fruitca...\n",
       "5   5  sleigh of naughty nice the of not the to and t..."
      ]
     },
     "execution_count": 7,
     "metadata": {},
     "output_type": "execute_result"
    }
   ],
   "source": [
    "df"
   ]
  },
  {
   "cell_type": "markdown",
   "id": "2b855d16",
   "metadata": {},
   "source": [
    "### 関数"
   ]
  },
  {
   "cell_type": "code",
   "execution_count": 8,
   "id": "3090ba50",
   "metadata": {},
   "outputs": [],
   "source": [
    "# 2単語組み合わせ全てから最低スコアとなるペアを探す\n",
    "def find_initial_pair(\n",
    "    CFG,\n",
    "    scorer,\n",
    "    words\n",
    "):\n",
    "    best_score = float('inf')\n",
    "    best_pair = None\n",
    "    for i in range(len(words)):\n",
    "        perms = []\n",
    "        for j in range(i+1, len(words)):\n",
    "            pair = [words[i], words[j]]\n",
    "            perms.append(\" \".join(pair))\n",
    "        \n",
    "        scores = scorer.get_perplexity(perms, batch_size=CFG.BATCH_SIZE)\n",
    "        for j, perm in enumerate(perms):\n",
    "            if scores[j] < best_score:\n",
    "                best_score = scores[j]\n",
    "                best_pair = perm.split(\" \")\n",
    "                \n",
    "                # print(f\"best_score: {best_score}, best_pair: {best_pair}\")\n",
    "     \n",
    "    return best_pair, best_score"
   ]
  },
  {
   "cell_type": "code",
   "execution_count": 16,
   "id": "d86f54d9",
   "metadata": {},
   "outputs": [],
   "source": [
    "# 文字列のファイルからコストを最小化する文字列を生成する\n",
    "def greedy_add_initialize(\n",
    "    CFG,\n",
    "    scorer,\n",
    "    initial_words: list\n",
    "):\n",
    "    \n",
    "    # 全単語\n",
    "    candidates = initial_words[:]\n",
    "\n",
    "    print(\"candidates:\", candidates)\n",
    "    print(\"-----初期配置の組み合わせ計算開始-----\")\n",
    "    # 初期配置を求める\n",
    "    initial, initial_score = find_initial_pair(\n",
    "        CFG,\n",
    "        scorer,\n",
    "        candidates\n",
    "    )\n",
    "    print(\"-----初期配置の組み合わせ計算終了-----\")\n",
    "    for w in initial:\n",
    "        candidates.remove(w)\n",
    "\n",
    "    print(\"initial:\", initial, initial_score)\n",
    "    current_order = initial[:]\n",
    "\n",
    "    print(\"-----貪欲法での挿入開始-----\")\n",
    "    # 貪欲に残りを挿入\n",
    "    while candidates:\n",
    "        best_score = float('inf')\n",
    "        best_word = None\n",
    "        best_pos = None\n",
    "\n",
    "        # 残っている単語それぞれについて\n",
    "        for w in candidates:\n",
    "            # current_orderのあらゆる挿入位置を試す\n",
    "            # 挿入位置は0からlen(current_order)まで\n",
    "            \n",
    "            perms = []\n",
    "            for pos in range(len(current_order) + 1):\n",
    "                new_order = current_order[:pos] + [w] + current_order[pos:]\n",
    "                perms.append(\" \".join(new_order))\n",
    "                \n",
    "            scores = scorer.get_perplexity(perms, batch_size=CFG.BATCH_SIZE)\n",
    "                \n",
    "            for pos in range(len(current_order) + 1):\n",
    "                if scores[pos] < best_score:\n",
    "                    best_score = scores[pos]\n",
    "                    best_word = w\n",
    "                    best_pos = pos\n",
    "                    \n",
    "                    # print(\"best_word:\", best_word, best_score)\n",
    "        \n",
    "        # best_wordをbest_posに挿入\n",
    "        current_order.insert(best_pos, best_word)\n",
    "        candidates.remove(best_word)\n",
    "        print(\"current_order:\", current_order, best_score)\n",
    "    print(\"-----貪欲法での挿入終了-----\")\n",
    "    \n",
    "    best_score = scorer.get_perplexity([\" \".join(current_order)], batch_size=1)[0]\n",
    "    \n",
    "    return current_order, best_score"
   ]
  },
  {
   "cell_type": "code",
   "execution_count": 17,
   "id": "22fbd618",
   "metadata": {},
   "outputs": [],
   "source": [
    "def search_optimal_permutation(\n",
    "    CFG,\n",
    "    id: int, \n",
    "    scorer, \n",
    "    max_iterations: int = 1000, \n",
    "    BATCH_SIZE=64\n",
    "):\n",
    "    \n",
    "    df = pd.read_csv(CFG.base_file_path)\n",
    "    \n",
    "    start = time.time()\n",
    "    # 文字列を単語に分割\n",
    "    words = df.loc[id,\"text\"].split()\n",
    "    \n",
    "    initial_sequence, initial_score = greedy_add_initialize(\n",
    "        CFG,\n",
    "        scorer=scorer,\n",
    "        initial_words=words\n",
    "    )\n",
    "    \n",
    "    print(f\"{id}th sample: {initial_sequence}\")\n",
    "    print(f\"Elapsed time: {time.time() - start:.2f} sec\")\n",
    "    print(f\"initial_score: {initial_score}\")\n",
    "    \n",
    "    \n",
    "    best_sequence = initial_sequence\n",
    "    best_score = initial_score\n",
    "    \n",
    "    return best_sequence, best_score\n"
   ]
  },
  {
   "cell_type": "code",
   "execution_count": 11,
   "id": "11fb63ab-7127-46fd-97e4-91ffb89bb1b0",
   "metadata": {},
   "outputs": [],
   "source": [
    "# 文字列型にのみダブルクォーテーションを付ける関数\n",
    "def add_quotes_to_strings(value):\n",
    "    if isinstance(value, str):  # 文字列型の場合\n",
    "        return f'\"{value}\"'\n",
    "    return value  # それ以外はそのまま"
   ]
  },
  {
   "cell_type": "code",
   "execution_count": 12,
   "id": "9f775900-1acf-4870-bd4c-37c08b14fcc9",
   "metadata": {},
   "outputs": [
    {
     "name": "stdout",
     "output_type": "stream",
     "text": [
      "cuda\n"
     ]
    },
    {
     "data": {
      "application/vnd.jupyter.widget-view+json": {
       "model_id": "a2b34f0750bc450f88be298eb1ff3ec0",
       "version_major": 2,
       "version_minor": 0
      },
      "text/plain": [
       "Loading checkpoint shards:   0%|          | 0/8 [00:00<?, ?it/s]"
      ]
     },
     "metadata": {},
     "output_type": "display_data"
    },
    {
     "name": "stderr",
     "output_type": "stream",
     "text": [
      "Some parameters are on the meta device because they were offloaded to the cpu.\n"
     ]
    }
   ],
   "source": [
    "# LOAD GEMMA SCORER\n",
    "scorer = PerplexityCalculator(f'{path}/gemma_2_9b')"
   ]
  },
  {
   "cell_type": "code",
   "execution_count": 13,
   "id": "e253c6da-f86c-48ba-87e1-022ea5aa2329",
   "metadata": {},
   "outputs": [],
   "source": [
    "# scorer.clear_gpu_memory()"
   ]
  },
  {
   "cell_type": "code",
   "execution_count": 22,
   "id": "8d05bef9",
   "metadata": {},
   "outputs": [
    {
     "name": "stdout",
     "output_type": "stream",
     "text": [
      "Processing 0th sample\n",
      "candidates: ['reindeer', 'mistletoe', 'elf', 'gingerbread', 'family', 'advent', 'scrooge', 'chimney', 'fireplace', 'ornament']\n",
      "-----初期配置の組み合わせ計算開始-----\n",
      "-----初期配置の組み合わせ計算終了-----\n",
      "initial: ['reindeer', 'scrooge'] 7732.016698600223\n",
      "-----貪欲法での挿入開始-----\n",
      "current_order: ['reindeer', 'mistletoe', 'scrooge'] 1665.646724298566\n",
      "current_order: ['reindeer', 'mistletoe', 'scrooge', 'elf'] 1026.1751780534337\n",
      "current_order: ['reindeer', 'mistletoe', 'scrooge', 'gingerbread', 'elf'] 874.3121824177148\n",
      "current_order: ['reindeer', 'mistletoe', 'scrooge', 'gingerbread', 'elf', 'ornament'] 750.765798300995\n",
      "current_order: ['reindeer', 'mistletoe', 'scrooge', 'gingerbread', 'chimney', 'elf', 'ornament'] 686.2554949467076\n",
      "current_order: ['reindeer', 'mistletoe', 'scrooge', 'gingerbread', 'chimney', 'fireplace', 'elf', 'ornament'] 560.1054110313753\n",
      "current_order: ['reindeer', 'mistletoe', 'scrooge', 'gingerbread', 'chimney', 'fireplace', 'elf', 'ornament', 'advent'] 547.1305831594982\n",
      "current_order: ['reindeer', 'mistletoe', 'scrooge', 'gingerbread', 'chimney', 'fireplace', 'elf', 'ornament', 'family', 'advent'] 553.5799853394149\n",
      "-----貪欲法での挿入終了-----\n",
      "0th sample: ['reindeer', 'mistletoe', 'scrooge', 'gingerbread', 'chimney', 'fireplace', 'elf', 'ornament', 'family', 'advent']\n",
      "Elapsed time: 39.32 sec\n",
      "initial_score: 553.5799853394149\n",
      "Best sequence: ['reindeer', 'mistletoe', 'scrooge', 'gingerbread', 'chimney', 'fireplace', 'elf', 'ornament', 'family', 'advent']\n",
      "Best score: 553.5799853394149\n"
     ]
    }
   ],
   "source": [
    "for i in [0]:\n",
    "    \n",
    "    print(f\"Processing {i}th sample\")\n",
    "    best_sequence, best_score = search_optimal_permutation(\n",
    "        CFG,\n",
    "        id=i,\n",
    "        scorer=scorer,\n",
    "        max_iterations=2**10,\n",
    "    )\n",
    "    \n",
    "    print(\"Best sequence:\", best_sequence)\n",
    "    print(\"Best score:\", best_score)\n",
    "    sub_df.loc[i, \"best_value\"] = best_score\n",
    "    sub_df.loc[i, \"text\"] = \" \".join(best_sequence)\n",
    "\n"
   ]
  },
  {
   "cell_type": "code",
   "execution_count": 23,
   "id": "8957eb19",
   "metadata": {},
   "outputs": [
    {
     "data": {
      "text/html": [
       "<div>\n",
       "<style scoped>\n",
       "    .dataframe tbody tr th:only-of-type {\n",
       "        vertical-align: middle;\n",
       "    }\n",
       "\n",
       "    .dataframe tbody tr th {\n",
       "        vertical-align: top;\n",
       "    }\n",
       "\n",
       "    .dataframe thead th {\n",
       "        text-align: right;\n",
       "    }\n",
       "</style>\n",
       "<table border=\"1\" class=\"dataframe\">\n",
       "  <thead>\n",
       "    <tr style=\"text-align: right;\">\n",
       "      <th></th>\n",
       "      <th>id</th>\n",
       "      <th>text</th>\n",
       "      <th>best_value</th>\n",
       "    </tr>\n",
       "  </thead>\n",
       "  <tbody>\n",
       "    <tr>\n",
       "      <th>0</th>\n",
       "      <td>0</td>\n",
       "      <td>reindeer mistletoe scrooge gingerbread chimney...</td>\n",
       "      <td>553.579985</td>\n",
       "    </tr>\n",
       "    <tr>\n",
       "      <th>1</th>\n",
       "      <td>1</td>\n",
       "      <td>reindeer sleep walk the night and drive mistle...</td>\n",
       "      <td>0.000000</td>\n",
       "    </tr>\n",
       "    <tr>\n",
       "      <th>2</th>\n",
       "      <td>2</td>\n",
       "      <td>jingle yuletide carol cheer grinch holiday hol...</td>\n",
       "      <td>0.000000</td>\n",
       "    </tr>\n",
       "    <tr>\n",
       "      <th>3</th>\n",
       "      <td>3</td>\n",
       "      <td>sleigh the holly jingle unwrap gifts of magi r...</td>\n",
       "      <td>0.000000</td>\n",
       "    </tr>\n",
       "    <tr>\n",
       "      <th>4</th>\n",
       "      <td>4</td>\n",
       "      <td>peppermint candy milk chocolate eggnog fruitca...</td>\n",
       "      <td>0.000000</td>\n",
       "    </tr>\n",
       "    <tr>\n",
       "      <th>5</th>\n",
       "      <td>5</td>\n",
       "      <td>sleigh of naughty nice the of not the to and t...</td>\n",
       "      <td>0.000000</td>\n",
       "    </tr>\n",
       "  </tbody>\n",
       "</table>\n",
       "</div>"
      ],
      "text/plain": [
       "   id                                               text  best_value\n",
       "0   0  reindeer mistletoe scrooge gingerbread chimney...  553.579985\n",
       "1   1  reindeer sleep walk the night and drive mistle...    0.000000\n",
       "2   2  jingle yuletide carol cheer grinch holiday hol...    0.000000\n",
       "3   3  sleigh the holly jingle unwrap gifts of magi r...    0.000000\n",
       "4   4  peppermint candy milk chocolate eggnog fruitca...    0.000000\n",
       "5   5  sleigh of naughty nice the of not the to and t...    0.000000"
      ]
     },
     "execution_count": 23,
     "metadata": {},
     "output_type": "execute_result"
    }
   ],
   "source": [
    "sub_df"
   ]
  },
  {
   "cell_type": "code",
   "execution_count": 24,
   "id": "a86cf297-51e3-44ee-b06d-069e0b8d8ad7",
   "metadata": {},
   "outputs": [
    {
     "name": "stderr",
     "output_type": "stream",
     "text": [
      "/tmp/ipykernel_297/428122046.py:3: FutureWarning: DataFrame.applymap has been deprecated. Use DataFrame.map instead.\n",
      "  sub_df = sub_df.applymap(add_quotes_to_strings)\n"
     ]
    }
   ],
   "source": [
    "# 各セルに関数を適用\n",
    "sub_df[\"text\"] = sub_df[\"text\"].astype(str)\n",
    "sub_df = sub_df.applymap(add_quotes_to_strings)"
   ]
  },
  {
   "cell_type": "code",
   "execution_count": 25,
   "id": "4ee1cb10",
   "metadata": {},
   "outputs": [],
   "source": [
    "sub_df[[\"id\", \"text\"]].to_csv(f\"{path}/out/submission_{ex_num}.csv\", index=False, header=True, quoting=csv.QUOTE_NONE)\n",
    "sub_df.to_csv(f\"{path}/out/score_{ex_num}.csv\", index=False, header=True, quoting=csv.QUOTE_NONE)"
   ]
  },
  {
   "cell_type": "code",
   "execution_count": 26,
   "id": "7a35d3d2-72c9-4488-8e04-a73b68118fdf",
   "metadata": {},
   "outputs": [
    {
     "data": {
      "text/plain": [
       "np.float64(92.26333088990248)"
      ]
     },
     "execution_count": 26,
     "metadata": {},
     "output_type": "execute_result"
    }
   ],
   "source": [
    "np.mean(sub_df[\"best_value\"])"
   ]
  },
  {
   "cell_type": "code",
   "execution_count": null,
   "id": "461f0e43-0397-4f53-b3e6-90934401ba66",
   "metadata": {},
   "outputs": [],
   "source": []
  }
 ],
 "metadata": {
  "kernelspec": {
   "display_name": "Python 3 (ipykernel)",
   "language": "python",
   "name": "python3"
  },
  "language_info": {
   "codemirror_mode": {
    "name": "ipython",
    "version": 3
   },
   "file_extension": ".py",
   "mimetype": "text/x-python",
   "name": "python",
   "nbconvert_exporter": "python",
   "pygments_lexer": "ipython3",
   "version": "3.12.8"
  }
 },
 "nbformat": 4,
 "nbformat_minor": 5
}
